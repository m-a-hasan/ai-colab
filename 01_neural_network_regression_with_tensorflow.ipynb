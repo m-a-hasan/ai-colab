{
  "nbformat": 4,
  "nbformat_minor": 0,
  "metadata": {
    "colab": {
      "provenance": [],
      "authorship_tag": "ABX9TyN6FcL5LMKf/1Bj5+mXxvPh",
      "include_colab_link": true
    },
    "kernelspec": {
      "name": "python3",
      "display_name": "Python 3"
    },
    "language_info": {
      "name": "python"
    }
  },
  "cells": [
    {
      "cell_type": "markdown",
      "metadata": {
        "id": "view-in-github",
        "colab_type": "text"
      },
      "source": [
        "<a href=\"https://colab.research.google.com/github/m-a-hasan/ai-colab/blob/main/01_neural_network_regression_with_tensorflow.ipynb\" target=\"_parent\"><img src=\"https://colab.research.google.com/assets/colab-badge.svg\" alt=\"Open In Colab\"/></a>"
      ]
    },
    {
      "cell_type": "markdown",
      "source": [
        "Introduction to regression with neural networks in TensorFlow"
      ],
      "metadata": {
        "id": "QN6_EVrCes5C"
      }
    },
    {
      "cell_type": "code",
      "execution_count": null,
      "metadata": {
        "id": "u9YvS84eeRqO",
        "colab": {
          "base_uri": "https://localhost:8080/",
          "height": 36
        },
        "outputId": "5afdaac7-bd61-4f53-bd88-885b455d7729"
      },
      "outputs": [
        {
          "output_type": "execute_result",
          "data": {
            "text/plain": [
              "'2.8.2'"
            ],
            "application/vnd.google.colaboratory.intrinsic+json": {
              "type": "string"
            }
          },
          "metadata": {},
          "execution_count": 1
        }
      ],
      "source": [
        "# Import TensorFlow\n",
        "import tensorflow as tf\n",
        "tf.__version__"
      ]
    },
    {
      "cell_type": "markdown",
      "source": [
        "Creating data to view and fit\n",
        "\n",
        "X is input variable and y is the output variable"
      ],
      "metadata": {
        "id": "WTVBmJGMf1GE"
      }
    },
    {
      "cell_type": "code",
      "source": [
        "import numpy as np\n",
        "import matplotlib.pyplot as plt\n",
        "\n",
        "# Create features (usually annotated as cap X)\n",
        "X = np.array([-7.0, -4.0, -1.0, 2.0, 5.0, 8.0, 11.0, 14.0])\n",
        "\n",
        "# Create label (usually annotated as small y)\n",
        "y = np.array([3.0, 6.0, 9.0, 12.0, 15.0, 18.0, 21.0, 24.0])\n",
        "\n",
        "# Visualization\n",
        "plt.scatter(X, y)"
      ],
      "metadata": {
        "colab": {
          "base_uri": "https://localhost:8080/",
          "height": 286
        },
        "id": "i4svO1DOfgnm",
        "outputId": "98a03f7a-6f56-4444-c53e-72112a2de5a8"
      },
      "execution_count": null,
      "outputs": [
        {
          "output_type": "execute_result",
          "data": {
            "text/plain": [
              "<matplotlib.collections.PathCollection at 0x7fa8c8f88190>"
            ]
          },
          "metadata": {},
          "execution_count": 2
        },
        {
          "output_type": "display_data",
          "data": {
            "text/plain": [
              "<Figure size 432x288 with 1 Axes>"
            ],
            "image/png": "[encoded data removed]"
          },
          "metadata": {
            "needs_background": "light"
          }
        }
      ]
    },
    {
      "cell_type": "code",
      "source": [
        "# Relation between X and y\n",
        "y == X + 10"
      ],
      "metadata": {
        "colab": {
          "base_uri": "https://localhost:8080/"
        },
        "id": "GqwotXrSg97F",
        "outputId": "5ebf63a6-48a8-415d-f034-e8c5eef3aa61"
      },
      "execution_count": null,
      "outputs": [
        {
          "output_type": "execute_result",
          "data": {
            "text/plain": [
              "array([ True,  True,  True,  True,  True,  True,  True,  True])"
            ]
          },
          "metadata": {},
          "execution_count": 3
        }
      ]
    },
    {
      "cell_type": "markdown",
      "source": [
        "Input and output shapes"
      ],
      "metadata": {
        "id": "RF2sV6pEjV2a"
      }
    },
    {
      "cell_type": "code",
      "source": [
        "# Create demo tensor for housing price predictor problem\n",
        "house_info = tf.constant([\"bedroom\", \"bathroom\", \"garage\"])\n",
        "house_price = tf.constant([939700])\n",
        "house_info, house_price"
      ],
      "metadata": {
        "colab": {
          "base_uri": "https://localhost:8080/"
        },
        "id": "dByDuF82iQU4",
        "outputId": "45831203-0bec-40ee-8238-9a27f224d632"
      },
      "execution_count": null,
      "outputs": [
        {
          "output_type": "execute_result",
          "data": {
            "text/plain": [
              "(<tf.Tensor: shape=(3,), dtype=string, numpy=array([b'bedroom', b'bathroom', b'garage'], dtype=object)>,\n",
              " <tf.Tensor: shape=(1,), dtype=int32, numpy=array([939700], dtype=int32)>)"
            ]
          },
          "metadata": {},
          "execution_count": 4
        }
      ]
    },
    {
      "cell_type": "code",
      "source": [
        "input_shape = X.shape\n",
        "output_shape = y.shape\n",
        "input_shape, output_shape"
      ],
      "metadata": {
        "colab": {
          "base_uri": "https://localhost:8080/"
        },
        "id": "h0lOQhIPkYbU",
        "outputId": "f3be7b61-7fd0-4dce-d6e1-414cd2b83f8f"
      },
      "execution_count": null,
      "outputs": [
        {
          "output_type": "execute_result",
          "data": {
            "text/plain": [
              "((8,), (8,))"
            ]
          },
          "metadata": {},
          "execution_count": 5
        }
      ]
    },
    {
      "cell_type": "code",
      "source": [
        "X.ndim, y.ndim"
      ],
      "metadata": {
        "colab": {
          "base_uri": "https://localhost:8080/"
        },
        "id": "S_Ea5b_ZkxUu",
        "outputId": "00fdaee0-5f0f-4c72-e677-3aebd247fa8e"
      },
      "execution_count": null,
      "outputs": [
        {
          "output_type": "execute_result",
          "data": {
            "text/plain": [
              "(1, 1)"
            ]
          },
          "metadata": {},
          "execution_count": 6
        }
      ]
    },
    {
      "cell_type": "code",
      "source": [
        "# Turn X and y from NumPy to tensors\n",
        "X = tf.constant(X)\n",
        "y = tf.constant(y)\n",
        "X, y"
      ],
      "metadata": {
        "colab": {
          "base_uri": "https://localhost:8080/"
        },
        "id": "5kQpXlL-lNt8",
        "outputId": "674dc43c-2a4d-4fe7-e4cc-ae3466b774e3"
      },
      "execution_count": null,
      "outputs": [
        {
          "output_type": "execute_result",
          "data": {
            "text/plain": [
              "(<tf.Tensor: shape=(8,), dtype=float64, numpy=array([-7., -4., -1.,  2.,  5.,  8., 11., 14.])>,\n",
              " <tf.Tensor: shape=(8,), dtype=float64, numpy=array([ 3.,  6.,  9., 12., 15., 18., 21., 24.])>)"
            ]
          },
          "metadata": {},
          "execution_count": 7
        }
      ]
    },
    {
      "cell_type": "markdown",
      "source": [
        "**Steps in modelling with tensorflow**\n",
        "\n",
        "1. Creating a model - define the input and output layers - and hidden layer\n",
        "2. Compiling a model by defining below,\n",
        "> - The loss function (the function that tells our model how wrong it is)\n",
        "> - The optimizer (tells our model how to improve the patterns)\n",
        "> - Evaluation metrics (to interpret the performance of our model)\n",
        "3. Fitting a model - Try to find patterns between X and y (features and labels)"
      ],
      "metadata": {
        "id": "uJ8KqJP9mZuK"
      }
    },
    {
      "cell_type": "code",
      "source": [
        "# Got error while fitting the model \"Input 0 of layer \"dense_4\" is incompatible with the layer: expected min_ndim=2, found ndim=1. Full shape received: (None,)\"\n",
        "X.ndim, y.ndim\n"
      ],
      "metadata": {
        "colab": {
          "base_uri": "https://localhost:8080/"
        },
        "id": "kb5KxAhueogL",
        "outputId": "aee79e5d-81e2-4968-d3e4-290c4e4a4e05"
      },
      "execution_count": null,
      "outputs": [
        {
          "output_type": "execute_result",
          "data": {
            "text/plain": [
              "(1, 1)"
            ]
          },
          "metadata": {},
          "execution_count": 8
        }
      ]
    },
    {
      "cell_type": "code",
      "source": [
        "X = tf.expand_dims(X, axis=0)\n",
        "y = tf.expand_dims(y, axis=0)\n",
        "X, y, X.ndim, y.ndim"
      ],
      "metadata": {
        "colab": {
          "base_uri": "https://localhost:8080/"
        },
        "id": "79E_4OddfA-B",
        "outputId": "4ef46784-ddff-44b4-f91c-70324312e6bc"
      },
      "execution_count": null,
      "outputs": [
        {
          "output_type": "execute_result",
          "data": {
            "text/plain": [
              "(<tf.Tensor: shape=(1, 8), dtype=float64, numpy=array([[-7., -4., -1.,  2.,  5.,  8., 11., 14.]])>,\n",
              " <tf.Tensor: shape=(1, 8), dtype=float64, numpy=array([[ 3.,  6.,  9., 12., 15., 18., 21., 24.]])>,\n",
              " 2,\n",
              " 2)"
            ]
          },
          "metadata": {},
          "execution_count": 9
        }
      ]
    },
    {
      "cell_type": "code",
      "source": [
        "# Set random seed\n",
        "tf.random.set_seed(42)\n",
        "\n",
        "# 1. Create a model using sequential API\n",
        "model = tf.keras.Sequential([\n",
        "  tf.keras.layers.Dense(1) # Dense is 1 as we are taking 1 value of X and predicting 1 value of y\n",
        "])\n",
        "\n",
        "# 2. Compile the model\n",
        "model.compile(loss=tf.keras.losses.mae, # mae = mean absolute error\n",
        "              optimizer=tf.keras.optimizers.SGD(), # SGD = stochastic gradient descent\n",
        "              metrics=[\"mae\"])\n",
        "\n",
        "# 3. Fit the model\n",
        "model.fit(X, y, epochs=5) # epoch is how many times model will go through each element of X and y to figure out the pattern"
      ],
      "metadata": {
        "id": "w2MKUtDLl7ef",
        "colab": {
          "base_uri": "https://localhost:8080/"
        },
        "outputId": "a9d33f16-aa5e-407f-c240-2c5f78450cd1"
      },
      "execution_count": null,
      "outputs": [
        {
          "output_type": "stream",
          "name": "stdout",
          "text": [
            "Epoch 1/5\n",
            "1/1 [==============================] - 0s 470ms/step - loss: 6.4847 - mae: 6.4847\n",
            "Epoch 2/5\n",
            "1/1 [==============================] - 0s 10ms/step - loss: 6.1865 - mae: 6.1865\n",
            "Epoch 3/5\n",
            "1/1 [==============================] - 0s 5ms/step - loss: 6.0000 - mae: 6.0000\n",
            "Epoch 4/5\n",
            "1/1 [==============================] - 0s 6ms/step - loss: 6.0000 - mae: 6.0000\n",
            "Epoch 5/5\n",
            "1/1 [==============================] - 0s 6ms/step - loss: 6.0000 - mae: 6.0000\n"
          ]
        },
        {
          "output_type": "execute_result",
          "data": {
            "text/plain": [
              "<keras.callbacks.History at 0x7fa8cc298590>"
            ]
          },
          "metadata": {},
          "execution_count": 10
        }
      ]
    },
    {
      "cell_type": "code",
      "source": [
        "# Checking X and y value\n",
        "X, y"
      ],
      "metadata": {
        "colab": {
          "base_uri": "https://localhost:8080/"
        },
        "id": "QavAcuDma0v9",
        "outputId": "23a663f3-1ab9-4a1a-d341-241c603bd326"
      },
      "execution_count": null,
      "outputs": [
        {
          "output_type": "execute_result",
          "data": {
            "text/plain": [
              "(<tf.Tensor: shape=(1, 8), dtype=float64, numpy=array([[-7., -4., -1.,  2.,  5.,  8., 11., 14.]])>,\n",
              " <tf.Tensor: shape=(1, 8), dtype=float64, numpy=array([[ 3.,  6.,  9., 12., 15., 18., 21., 24.]])>)"
            ]
          },
          "metadata": {},
          "execution_count": 11
        }
      ]
    },
    {
      "cell_type": "markdown",
      "source": [
        "**First prediction using the model**\n",
        "\n",
        "**Getting error <Input 0 of layer \"dense\" is incompatible with the layer: expected axis -1 of input shape to have value 8, but received input with shape (None, 1)>**\n",
        "\n",
        "y_pred = model.predict([[17.0]])\n",
        "\n",
        "y_pred"
      ],
      "metadata": {
        "id": "DjetKv-MmAa_"
      }
    },
    {
      "cell_type": "markdown",
      "source": [
        "Time to create X and y with ndim = 2"
      ],
      "metadata": {
        "id": "p7nzt7D8lokb"
      }
    },
    {
      "cell_type": "code",
      "source": [
        "X = tf.constant([[-7., -4., -1.,  2.],\n",
        "                 [5.,  8., 11., 14.]])\n",
        "y = tf.constant([[3.,  6.,  9., 12.],\n",
        "                 [15., 18., 21., 24.]])\n",
        "X, y"
      ],
      "metadata": {
        "colab": {
          "base_uri": "https://localhost:8080/"
        },
        "id": "mpDTuvtgi65x",
        "outputId": "0ed6268a-f0ed-4014-94fb-2706c52fc09e"
      },
      "execution_count": null,
      "outputs": [
        {
          "output_type": "execute_result",
          "data": {
            "text/plain": [
              "(<tf.Tensor: shape=(2, 4), dtype=float32, numpy=\n",
              " array([[-7., -4., -1.,  2.],\n",
              "        [ 5.,  8., 11., 14.]], dtype=float32)>,\n",
              " <tf.Tensor: shape=(2, 4), dtype=float32, numpy=\n",
              " array([[ 3.,  6.,  9., 12.],\n",
              "        [15., 18., 21., 24.]], dtype=float32)>)"
            ]
          },
          "metadata": {},
          "execution_count": 12
        }
      ]
    },
    {
      "cell_type": "code",
      "source": [
        "tf.random.set_seed(42)\n",
        "\n",
        "model = tf.keras.Sequential([\n",
        "  tf.keras.layers.Dense(1)\n",
        "])\n",
        "\n",
        "model.compile(loss=tf.keras.losses.mae,\n",
        "              optimizer=tf.keras.optimizers.SGD(),\n",
        "              metrics=[\"mae\"])\n",
        "\n",
        "\n",
        "model.fit(X, y, epochs=5)"
      ],
      "metadata": {
        "colab": {
          "base_uri": "https://localhost:8080/"
        },
        "id": "asRcj07gnDWO",
        "outputId": "734b080d-a46d-4691-f99e-f65a9485caba"
      },
      "execution_count": null,
      "outputs": [
        {
          "output_type": "stream",
          "name": "stdout",
          "text": [
            "Epoch 1/5\n",
            "1/1 [==============================] - 0s 331ms/step - loss: 16.3531 - mae: 16.3531\n",
            "Epoch 2/5\n",
            "1/1 [==============================] - 0s 6ms/step - loss: 15.4031 - mae: 15.4031\n",
            "Epoch 3/5\n",
            "1/1 [==============================] - 0s 6ms/step - loss: 14.4531 - mae: 14.4531\n",
            "Epoch 4/5\n",
            "1/1 [==============================] - 0s 6ms/step - loss: 13.5031 - mae: 13.5031\n",
            "Epoch 5/5\n",
            "1/1 [==============================] - 0s 5ms/step - loss: 12.5531 - mae: 12.5531\n"
          ]
        },
        {
          "output_type": "execute_result",
          "data": {
            "text/plain": [
              "<keras.callbacks.History at 0x7fa8c4bd9bd0>"
            ]
          },
          "metadata": {},
          "execution_count": 13
        }
      ]
    },
    {
      "cell_type": "code",
      "source": [
        "# Checking X and y value\n",
        "X, y"
      ],
      "metadata": {
        "colab": {
          "base_uri": "https://localhost:8080/"
        },
        "id": "HYQXJ4dOnWVY",
        "outputId": "6e77cfa1-4194-4333-b77e-a477cc956842"
      },
      "execution_count": null,
      "outputs": [
        {
          "output_type": "execute_result",
          "data": {
            "text/plain": [
              "(<tf.Tensor: shape=(2, 4), dtype=float32, numpy=\n",
              " array([[-7., -4., -1.,  2.],\n",
              "        [ 5.,  8., 11., 14.]], dtype=float32)>,\n",
              " <tf.Tensor: shape=(2, 4), dtype=float32, numpy=\n",
              " array([[ 3.,  6.,  9., 12.],\n",
              "        [15., 18., 21., 24.]], dtype=float32)>)"
            ]
          },
          "metadata": {},
          "execution_count": 14
        }
      ]
    },
    {
      "cell_type": "code",
      "source": [
        "# Second try of prediction using the model\n",
        "\n",
        "input_pred = tf.constant([[17., 20., 23.,  26.],\n",
        "                          [29.,  32., 35., 38.]])\n",
        "y_pred = model.predict(input_pred)\n",
        "y_pred\n",
        "\n",
        "# Expected [[29.], [41.]]"
      ],
      "metadata": {
        "colab": {
          "base_uri": "https://localhost:8080/"
        },
        "id": "TSOOEfVkndPk",
        "outputId": "bcb19351-4a34-4304-8218-bdabd1cf8d9c"
      },
      "execution_count": null,
      "outputs": [
        {
          "output_type": "execute_result",
          "data": {
            "text/plain": [
              "array([[11.457678],\n",
              "       [17.831558]], dtype=float32)"
            ]
          },
          "metadata": {},
          "execution_count": 15
        }
      ]
    },
    {
      "cell_type": "markdown",
      "source": [
        "**Improving our model**\n",
        "\n",
        "1. Creating a model\n",
        ">- Add more layers\n",
        ">- Increase the number of hidden units (neurons)\n",
        ">- Change the activation function of each hidden layer\n",
        "2. Compiling a model\n",
        ">- Change the optimization function\n",
        ">- Change the ***learning rate*** of the optimization function\n",
        "3. Fitting a model\n",
        ">- More epochs (train for longer)\n",
        ">- Give more examples to learn from"
      ],
      "metadata": {
        "id": "CLb23wdScMpJ"
      }
    },
    {
      "cell_type": "code",
      "source": [
        "# Recreating and improving the model step by step\n",
        "tf.random.set_seed(42)\n",
        "\n",
        "model = tf.keras.Sequential([\n",
        "  tf.keras.layers.Dense(1)\n",
        "])\n",
        "\n",
        "model.compile(loss=tf.keras.losses.mae,\n",
        "              optimizer=tf.keras.optimizers.SGD(),\n",
        "              metrics=[\"mae\"])\n",
        "\n",
        "# This time train for longer\n",
        "model.fit(X, y, epochs=44)"
      ],
      "metadata": {
        "colab": {
          "base_uri": "https://localhost:8080/"
        },
        "id": "t-WbMFIboJjX",
        "outputId": "b42f29e8-227f-4542-a3fd-5b93d2f05688"
      },
      "execution_count": null,
      "outputs": [
        {
          "output_type": "stream",
          "name": "stdout",
          "text": [
            "Epoch 1/44\n",
            "1/1 [==============================] - 0s 275ms/step - loss: 16.3531 - mae: 16.3531\n",
            "Epoch 2/44\n",
            "1/1 [==============================] - 0s 7ms/step - loss: 15.4031 - mae: 15.4031\n",
            "Epoch 3/44\n",
            "1/1 [==============================] - 0s 7ms/step - loss: 14.4531 - mae: 14.4531\n",
            "Epoch 4/44\n",
            "1/1 [==============================] - 0s 6ms/step - loss: 13.5031 - mae: 13.5031\n",
            "Epoch 5/44\n",
            "1/1 [==============================] - 0s 6ms/step - loss: 12.5531 - mae: 12.5531\n",
            "Epoch 6/44\n",
            "1/1 [==============================] - 0s 6ms/step - loss: 11.6031 - mae: 11.6031\n",
            "Epoch 7/44\n",
            "1/1 [==============================] - 0s 6ms/step - loss: 10.6531 - mae: 10.6531\n",
            "Epoch 8/44\n",
            "1/1 [==============================] - 0s 6ms/step - loss: 9.7031 - mae: 9.7031\n",
            "Epoch 9/44\n",
            "1/1 [==============================] - 0s 6ms/step - loss: 8.7531 - mae: 8.7531\n",
            "Epoch 10/44\n",
            "1/1 [==============================] - 0s 6ms/step - loss: 7.8031 - mae: 7.8031\n",
            "Epoch 11/44\n",
            "1/1 [==============================] - 0s 6ms/step - loss: 6.8531 - mae: 6.8531\n",
            "Epoch 12/44\n",
            "1/1 [==============================] - 0s 6ms/step - loss: 6.1091 - mae: 6.1091\n",
            "Epoch 13/44\n",
            "1/1 [==============================] - 0s 6ms/step - loss: 5.7997 - mae: 5.7997\n",
            "Epoch 14/44\n",
            "1/1 [==============================] - 0s 7ms/step - loss: 5.4903 - mae: 5.4903\n",
            "Epoch 15/44\n",
            "1/1 [==============================] - 0s 7ms/step - loss: 5.2163 - mae: 5.2163\n",
            "Epoch 16/44\n",
            "1/1 [==============================] - 0s 7ms/step - loss: 5.0647 - mae: 5.0647\n",
            "Epoch 17/44\n",
            "1/1 [==============================] - 0s 7ms/step - loss: 4.9225 - mae: 4.9225\n",
            "Epoch 18/44\n",
            "1/1 [==============================] - 0s 9ms/step - loss: 4.7450 - mae: 4.7450\n",
            "Epoch 19/44\n",
            "1/1 [==============================] - 0s 7ms/step - loss: 4.5675 - mae: 4.5675\n",
            "Epoch 20/44\n",
            "1/1 [==============================] - 0s 7ms/step - loss: 4.4066 - mae: 4.4066\n",
            "Epoch 21/44\n",
            "1/1 [==============================] - 0s 8ms/step - loss: 4.2738 - mae: 4.2738\n",
            "Epoch 22/44\n",
            "1/1 [==============================] - 0s 10ms/step - loss: 4.0963 - mae: 4.0963\n",
            "Epoch 23/44\n",
            "1/1 [==============================] - 0s 7ms/step - loss: 3.9188 - mae: 3.9188\n",
            "Epoch 24/44\n",
            "1/1 [==============================] - 0s 17ms/step - loss: 3.7528 - mae: 3.7528\n",
            "Epoch 25/44\n",
            "1/1 [==============================] - 0s 11ms/step - loss: 3.7319 - mae: 3.7319\n",
            "Epoch 26/44\n",
            "1/1 [==============================] - 0s 11ms/step - loss: 3.6875 - mae: 3.6875\n",
            "Epoch 27/44\n",
            "1/1 [==============================] - 0s 11ms/step - loss: 3.6431 - mae: 3.6431\n",
            "Epoch 28/44\n",
            "1/1 [==============================] - 0s 10ms/step - loss: 3.5988 - mae: 3.5988\n",
            "Epoch 29/44\n",
            "1/1 [==============================] - 0s 9ms/step - loss: 3.5544 - mae: 3.5544\n",
            "Epoch 30/44\n",
            "1/1 [==============================] - 0s 6ms/step - loss: 3.5100 - mae: 3.5100\n",
            "Epoch 31/44\n",
            "1/1 [==============================] - 0s 6ms/step - loss: 3.4656 - mae: 3.4656\n",
            "Epoch 32/44\n",
            "1/1 [==============================] - 0s 6ms/step - loss: 3.4213 - mae: 3.4213\n",
            "Epoch 33/44\n",
            "1/1 [==============================] - 0s 6ms/step - loss: 3.4053 - mae: 3.4053\n",
            "Epoch 34/44\n",
            "1/1 [==============================] - 0s 6ms/step - loss: 3.3631 - mae: 3.3631\n",
            "Epoch 35/44\n",
            "1/1 [==============================] - 0s 7ms/step - loss: 3.3188 - mae: 3.3188\n",
            "Epoch 36/44\n",
            "1/1 [==============================] - 0s 12ms/step - loss: 3.2744 - mae: 3.2744\n",
            "Epoch 37/44\n",
            "1/1 [==============================] - 0s 10ms/step - loss: 3.2300 - mae: 3.2300\n",
            "Epoch 38/44\n",
            "1/1 [==============================] - 0s 11ms/step - loss: 3.1856 - mae: 3.1856\n",
            "Epoch 39/44\n",
            "1/1 [==============================] - 0s 9ms/step - loss: 3.1413 - mae: 3.1413\n",
            "Epoch 40/44\n",
            "1/1 [==============================] - 0s 9ms/step - loss: 3.0969 - mae: 3.0969\n",
            "Epoch 41/44\n",
            "1/1 [==============================] - 0s 6ms/step - loss: 3.0716 - mae: 3.0716\n",
            "Epoch 42/44\n",
            "1/1 [==============================] - 0s 6ms/step - loss: 3.0388 - mae: 3.0388\n",
            "Epoch 43/44\n",
            "1/1 [==============================] - 0s 5ms/step - loss: 3.0000 - mae: 3.0000\n",
            "Epoch 44/44\n",
            "1/1 [==============================] - 0s 6ms/step - loss: 3.0000 - mae: 3.0000\n"
          ]
        },
        {
          "output_type": "execute_result",
          "data": {
            "text/plain": [
              "<keras.callbacks.History at 0x7fa8c4bcaf50>"
            ]
          },
          "metadata": {},
          "execution_count": 16
        }
      ]
    },
    {
      "cell_type": "code",
      "source": [
        "# Let's predict again\n",
        "y_pred = model.predict(input_pred)\n",
        "y_pred\n",
        "# Expected [[29.], [41.]]"
      ],
      "metadata": {
        "colab": {
          "base_uri": "https://localhost:8080/"
        },
        "id": "-SVajPFr8F12",
        "outputId": "d432c517-69ed-4cbf-b86e-c8758eff5c1e"
      },
      "execution_count": null,
      "outputs": [
        {
          "output_type": "execute_result",
          "data": {
            "text/plain": [
              "array([[31.37017],\n",
              "       [44.04405]], dtype=float32)"
            ]
          },
          "metadata": {},
          "execution_count": 17
        }
      ]
    },
    {
      "cell_type": "code",
      "source": [
        "# Improving model\n",
        "# This actually started to overfit and become worse. To make it better play with neuron numbers and activation function to none instead of \"relu\".\n",
        "tf.random.set_seed(42)\n",
        "\n",
        "# This time train for longer\n",
        "model = tf.keras.Sequential([\n",
        "  tf.keras.layers.Dense(10, activation=None),\n",
        "  tf.keras.layers.Dense(1)\n",
        "])\n",
        "\n",
        "model.compile(loss=tf.keras.losses.mae,\n",
        "              optimizer=tf.keras.optimizers.SGD(),\n",
        "              metrics=[\"mae\"])\n",
        "\n",
        "# Change epochs to 10 as it remains same afterwards\n",
        "model.fit(X, y, epochs=10)\n"
      ],
      "metadata": {
        "colab": {
          "base_uri": "https://localhost:8080/"
        },
        "id": "y4L8DA6L8NCS",
        "outputId": "e7bf0aec-7582-42ca-9e3e-801f1d5a95ed"
      },
      "execution_count": null,
      "outputs": [
        {
          "output_type": "stream",
          "name": "stdout",
          "text": [
            "Epoch 1/10\n",
            "1/1 [==============================] - 0s 317ms/step - loss: 11.6275 - mae: 11.6275\n",
            "Epoch 2/10\n",
            "1/1 [==============================] - 0s 9ms/step - loss: 9.3732 - mae: 9.3732\n",
            "Epoch 3/10\n",
            "1/1 [==============================] - 0s 7ms/step - loss: 7.0052 - mae: 7.0052\n",
            "Epoch 4/10\n",
            "1/1 [==============================] - 0s 8ms/step - loss: 4.5707 - mae: 4.5707\n",
            "Epoch 5/10\n",
            "1/1 [==============================] - 0s 7ms/step - loss: 3.6039 - mae: 3.6039\n",
            "Epoch 6/10\n",
            "1/1 [==============================] - 0s 7ms/step - loss: 3.4549 - mae: 3.4549\n",
            "Epoch 7/10\n",
            "1/1 [==============================] - 0s 7ms/step - loss: 3.3043 - mae: 3.3043\n",
            "Epoch 8/10\n",
            "1/1 [==============================] - 0s 8ms/step - loss: 3.1517 - mae: 3.1517\n",
            "Epoch 9/10\n",
            "1/1 [==============================] - 0s 6ms/step - loss: 3.0000 - mae: 3.0000\n",
            "Epoch 10/10\n",
            "1/1 [==============================] - 0s 6ms/step - loss: 3.0000 - mae: 3.0000\n"
          ]
        },
        {
          "output_type": "execute_result",
          "data": {
            "text/plain": [
              "<keras.callbacks.History at 0x7fa8c4b06310>"
            ]
          },
          "metadata": {},
          "execution_count": 18
        }
      ]
    },
    {
      "cell_type": "code",
      "source": [
        "# Let's predict again\n",
        "y_pred = model.predict(input_pred)\n",
        "y_pred\n",
        "# Expected [[29.], [41.]]"
      ],
      "metadata": {
        "colab": {
          "base_uri": "https://localhost:8080/"
        },
        "id": "jPzjvf3e-Zyi",
        "outputId": "75375605-b73d-4145-e63a-99bd06a5bf62"
      },
      "execution_count": null,
      "outputs": [
        {
          "output_type": "execute_result",
          "data": {
            "text/plain": [
              "array([[31.807148],\n",
              "       [44.704536]], dtype=float32)"
            ]
          },
          "metadata": {},
          "execution_count": 19
        }
      ]
    },
    {
      "cell_type": "code",
      "source": [
        "# Improving model\n",
        "# This actually started to overfit and become worse. To make it better play with neuron numbers and activation function to none instead of \"relu\".\n",
        "tf.random.set_seed(42)\n",
        "\n",
        "# This time train for longer\n",
        "model = tf.keras.Sequential([\n",
        "  tf.keras.layers.Dense(10, activation=None),\n",
        "  tf.keras.layers.Dense(1)\n",
        "])\n",
        "\n",
        "model.compile(loss=tf.keras.losses.mae,\n",
        "              optimizer=tf.keras.optimizers.SGD(),\n",
        "              metrics=[\"mae\"])\n",
        "\n",
        "# Change epochs to 10 as it remains same afterwards\n",
        "model.fit(X, y, epochs=10)"
      ],
      "metadata": {
        "id": "JyDMoP1UDB_L",
        "colab": {
          "base_uri": "https://localhost:8080/"
        },
        "outputId": "c01e02b7-bf29-4491-d2a1-13397616515b"
      },
      "execution_count": null,
      "outputs": [
        {
          "output_type": "stream",
          "name": "stdout",
          "text": [
            "Epoch 1/10\n",
            "1/1 [==============================] - 0s 317ms/step - loss: 11.6275 - mae: 11.6275\n",
            "Epoch 2/10\n",
            "1/1 [==============================] - 0s 7ms/step - loss: 9.3732 - mae: 9.3732\n",
            "Epoch 3/10\n",
            "1/1 [==============================] - 0s 20ms/step - loss: 7.0052 - mae: 7.0052\n",
            "Epoch 4/10\n",
            "1/1 [==============================] - 0s 14ms/step - loss: 4.5707 - mae: 4.5707\n",
            "Epoch 5/10\n",
            "1/1 [==============================] - 0s 12ms/step - loss: 3.6039 - mae: 3.6039\n",
            "Epoch 6/10\n",
            "1/1 [==============================] - 0s 12ms/step - loss: 3.4549 - mae: 3.4549\n",
            "Epoch 7/10\n",
            "1/1 [==============================] - 0s 14ms/step - loss: 3.3043 - mae: 3.3043\n",
            "Epoch 8/10\n",
            "1/1 [==============================] - 0s 8ms/step - loss: 3.1517 - mae: 3.1517\n",
            "Epoch 9/10\n",
            "1/1 [==============================] - 0s 7ms/step - loss: 3.0000 - mae: 3.0000\n",
            "Epoch 10/10\n",
            "1/1 [==============================] - 0s 7ms/step - loss: 3.0000 - mae: 3.0000\n"
          ]
        },
        {
          "output_type": "execute_result",
          "data": {
            "text/plain": [
              "<keras.callbacks.History at 0x7fa8c44f6590>"
            ]
          },
          "metadata": {},
          "execution_count": 20
        }
      ]
    },
    {
      "cell_type": "code",
      "source": [
        "# Improving model\n",
        "tf.random.set_seed(42)\n",
        "\n",
        "# This time train for longer\n",
        "model = tf.keras.Sequential([\n",
        "  tf.keras.layers.Dense(10, activation=None),\n",
        "  tf.keras.layers.Dense(1)\n",
        "])\n",
        "\n",
        "# Use Adam optimizer\n",
        "model.compile(loss=tf.keras.losses.mae,\n",
        "              optimizer=tf.keras.optimizers.Adam(lr=0.001),\n",
        "              metrics=[\"mae\"])\n",
        "\n",
        "# Change epochs to 10 as it remains same afterwards\n",
        "model.fit(X, y, epochs=200)"
      ],
      "metadata": {
        "colab": {
          "base_uri": "https://localhost:8080/"
        },
        "id": "NMXZL-BZG8sM",
        "outputId": "9b2691a6-3cb2-492e-84ec-fffb1877927e"
      },
      "execution_count": null,
      "outputs": [
        {
          "output_type": "stream",
          "name": "stdout",
          "text": [
            "Epoch 1/200\n"
          ]
        },
        {
          "output_type": "stream",
          "name": "stderr",
          "text": [
            "/usr/local/lib/python3.7/dist-packages/keras/optimizer_v2/adam.py:105: UserWarning: The `lr` argument is deprecated, use `learning_rate` instead.\n",
            "  super(Adam, self).__init__(name, **kwargs)\n"
          ]
        },
        {
          "output_type": "stream",
          "name": "stdout",
          "text": [
            "1/1 [==============================] - 0s 364ms/step - loss: 11.6275 - mae: 11.6275\n",
            "Epoch 2/200\n",
            "1/1 [==============================] - 0s 13ms/step - loss: 11.5458 - mae: 11.5458\n",
            "Epoch 3/200\n",
            "1/1 [==============================] - 0s 9ms/step - loss: 11.4640 - mae: 11.4640\n",
            "Epoch 4/200\n",
            "1/1 [==============================] - 0s 7ms/step - loss: 11.3822 - mae: 11.3822\n",
            "Epoch 5/200\n",
            "1/1 [==============================] - 0s 14ms/step - loss: 11.3002 - mae: 11.3002\n",
            "Epoch 6/200\n",
            "1/1 [==============================] - 0s 7ms/step - loss: 11.2183 - mae: 11.2183\n",
            "Epoch 7/200\n",
            "1/1 [==============================] - 0s 7ms/step - loss: 11.1362 - mae: 11.1362\n",
            "Epoch 8/200\n",
            "1/1 [==============================] - 0s 7ms/step - loss: 11.0540 - mae: 11.0540\n",
            "Epoch 9/200\n",
            "1/1 [==============================] - 0s 7ms/step - loss: 10.9717 - mae: 10.9717\n",
            "Epoch 10/200\n",
            "1/1 [==============================] - 0s 6ms/step - loss: 10.8892 - mae: 10.8892\n",
            "Epoch 11/200\n",
            "1/1 [==============================] - 0s 7ms/step - loss: 10.8066 - mae: 10.8066\n",
            "Epoch 12/200\n",
            "1/1 [==============================] - 0s 15ms/step - loss: 10.7239 - mae: 10.7239\n",
            "Epoch 13/200\n",
            "1/1 [==============================] - 0s 6ms/step - loss: 10.6410 - mae: 10.6410\n",
            "Epoch 14/200\n",
            "1/1 [==============================] - 0s 11ms/step - loss: 10.5579 - mae: 10.5579\n",
            "Epoch 15/200\n",
            "1/1 [==============================] - 0s 6ms/step - loss: 10.4747 - mae: 10.4747\n",
            "Epoch 16/200\n",
            "1/1 [==============================] - 0s 7ms/step - loss: 10.3912 - mae: 10.3912\n",
            "Epoch 17/200\n",
            "1/1 [==============================] - 0s 6ms/step - loss: 10.3076 - mae: 10.3076\n",
            "Epoch 18/200\n",
            "1/1 [==============================] - 0s 6ms/step - loss: 10.2238 - mae: 10.2238\n",
            "Epoch 19/200\n",
            "1/1 [==============================] - 0s 7ms/step - loss: 10.1399 - mae: 10.1399\n",
            "Epoch 20/200\n",
            "1/1 [==============================] - 0s 7ms/step - loss: 10.0557 - mae: 10.0557\n",
            "Epoch 21/200\n",
            "1/1 [==============================] - 0s 6ms/step - loss: 9.9713 - mae: 9.9713\n",
            "Epoch 22/200\n",
            "1/1 [==============================] - 0s 6ms/step - loss: 9.8867 - mae: 9.8867\n",
            "Epoch 23/200\n",
            "1/1 [==============================] - 0s 7ms/step - loss: 9.8020 - mae: 9.8020\n",
            "Epoch 24/200\n",
            "1/1 [==============================] - 0s 7ms/step - loss: 9.7170 - mae: 9.7170\n",
            "Epoch 25/200\n",
            "1/1 [==============================] - 0s 7ms/step - loss: 9.6318 - mae: 9.6318\n",
            "Epoch 26/200\n",
            "1/1 [==============================] - 0s 11ms/step - loss: 9.5464 - mae: 9.5464\n",
            "Epoch 27/200\n",
            "1/1 [==============================] - 0s 7ms/step - loss: 9.4608 - mae: 9.4608\n",
            "Epoch 28/200\n",
            "1/1 [==============================] - 0s 8ms/step - loss: 9.3749 - mae: 9.3749\n",
            "Epoch 29/200\n",
            "1/1 [==============================] - 0s 7ms/step - loss: 9.2888 - mae: 9.2888\n",
            "Epoch 30/200\n",
            "1/1 [==============================] - 0s 7ms/step - loss: 9.2025 - mae: 9.2025\n",
            "Epoch 31/200\n",
            "1/1 [==============================] - 0s 17ms/step - loss: 9.1186 - mae: 9.1186\n",
            "Epoch 32/200\n",
            "1/1 [==============================] - 0s 6ms/step - loss: 9.0409 - mae: 9.0409\n",
            "Epoch 33/200\n",
            "1/1 [==============================] - 0s 6ms/step - loss: 8.9623 - mae: 8.9623\n",
            "Epoch 34/200\n",
            "1/1 [==============================] - 0s 7ms/step - loss: 8.8829 - mae: 8.8829\n",
            "Epoch 35/200\n",
            "1/1 [==============================] - 0s 7ms/step - loss: 8.8027 - mae: 8.8027\n",
            "Epoch 36/200\n",
            "1/1 [==============================] - 0s 7ms/step - loss: 8.7219 - mae: 8.7219\n",
            "Epoch 37/200\n",
            "1/1 [==============================] - 0s 8ms/step - loss: 8.6406 - mae: 8.6406\n",
            "Epoch 38/200\n",
            "1/1 [==============================] - 0s 6ms/step - loss: 8.5588 - mae: 8.5588\n",
            "Epoch 39/200\n",
            "1/1 [==============================] - 0s 6ms/step - loss: 8.4766 - mae: 8.4766\n",
            "Epoch 40/200\n",
            "1/1 [==============================] - 0s 7ms/step - loss: 8.3939 - mae: 8.3939\n",
            "Epoch 41/200\n",
            "1/1 [==============================] - 0s 7ms/step - loss: 8.3109 - mae: 8.3109\n",
            "Epoch 42/200\n",
            "1/1 [==============================] - 0s 8ms/step - loss: 8.2275 - mae: 8.2275\n",
            "Epoch 43/200\n",
            "1/1 [==============================] - 0s 11ms/step - loss: 8.1439 - mae: 8.1439\n",
            "Epoch 44/200\n",
            "1/1 [==============================] - 0s 7ms/step - loss: 8.0599 - mae: 8.0599\n",
            "Epoch 45/200\n",
            "1/1 [==============================] - 0s 7ms/step - loss: 7.9756 - mae: 7.9756\n",
            "Epoch 46/200\n",
            "1/1 [==============================] - 0s 7ms/step - loss: 7.8911 - mae: 7.8911\n",
            "Epoch 47/200\n",
            "1/1 [==============================] - 0s 7ms/step - loss: 7.8063 - mae: 7.8063\n",
            "Epoch 48/200\n",
            "1/1 [==============================] - 0s 29ms/step - loss: 7.7213 - mae: 7.7213\n",
            "Epoch 49/200\n",
            "1/1 [==============================] - 0s 13ms/step - loss: 7.6406 - mae: 7.6406\n",
            "Epoch 50/200\n",
            "1/1 [==============================] - 0s 8ms/step - loss: 7.5588 - mae: 7.5588\n",
            "Epoch 51/200\n",
            "1/1 [==============================] - 0s 8ms/step - loss: 7.4757 - mae: 7.4757\n",
            "Epoch 52/200\n",
            "1/1 [==============================] - 0s 7ms/step - loss: 7.3916 - mae: 7.3916\n",
            "Epoch 53/200\n",
            "1/1 [==============================] - 0s 20ms/step - loss: 7.3063 - mae: 7.3063\n",
            "Epoch 54/200\n",
            "1/1 [==============================] - 0s 7ms/step - loss: 7.2201 - mae: 7.2201\n",
            "Epoch 55/200\n",
            "1/1 [==============================] - 0s 8ms/step - loss: 7.1331 - mae: 7.1331\n",
            "Epoch 56/200\n",
            "1/1 [==============================] - 0s 7ms/step - loss: 7.0476 - mae: 7.0476\n",
            "Epoch 57/200\n",
            "1/1 [==============================] - 0s 12ms/step - loss: 6.9634 - mae: 6.9634\n",
            "Epoch 58/200\n",
            "1/1 [==============================] - 0s 7ms/step - loss: 6.8786 - mae: 6.8786\n",
            "Epoch 59/200\n",
            "1/1 [==============================] - 0s 7ms/step - loss: 6.7932 - mae: 6.7932\n",
            "Epoch 60/200\n",
            "1/1 [==============================] - 0s 6ms/step - loss: 6.7073 - mae: 6.7073\n",
            "Epoch 61/200\n",
            "1/1 [==============================] - 0s 8ms/step - loss: 6.6208 - mae: 6.6208\n",
            "Epoch 62/200\n",
            "1/1 [==============================] - 0s 7ms/step - loss: 6.5339 - mae: 6.5339\n",
            "Epoch 63/200\n",
            "1/1 [==============================] - 0s 7ms/step - loss: 6.4466 - mae: 6.4466\n",
            "Epoch 64/200\n",
            "1/1 [==============================] - 0s 9ms/step - loss: 6.3588 - mae: 6.3588\n",
            "Epoch 65/200\n",
            "1/1 [==============================] - 0s 8ms/step - loss: 6.2706 - mae: 6.2706\n",
            "Epoch 66/200\n",
            "1/1 [==============================] - 0s 7ms/step - loss: 6.1819 - mae: 6.1819\n",
            "Epoch 67/200\n",
            "1/1 [==============================] - 0s 8ms/step - loss: 6.0949 - mae: 6.0949\n",
            "Epoch 68/200\n",
            "1/1 [==============================] - 0s 7ms/step - loss: 6.0075 - mae: 6.0075\n",
            "Epoch 69/200\n",
            "1/1 [==============================] - 0s 7ms/step - loss: 5.9187 - mae: 5.9187\n",
            "Epoch 70/200\n",
            "1/1 [==============================] - 0s 6ms/step - loss: 5.8287 - mae: 5.8287\n",
            "Epoch 71/200\n",
            "1/1 [==============================] - 0s 6ms/step - loss: 5.7385 - mae: 5.7385\n",
            "Epoch 72/200\n",
            "1/1 [==============================] - 0s 7ms/step - loss: 5.6494 - mae: 5.6494\n",
            "Epoch 73/200\n",
            "1/1 [==============================] - 0s 7ms/step - loss: 5.5597 - mae: 5.5597\n",
            "Epoch 74/200\n",
            "1/1 [==============================] - 0s 26ms/step - loss: 5.4695 - mae: 5.4695\n",
            "Epoch 75/200\n",
            "1/1 [==============================] - 0s 9ms/step - loss: 5.3787 - mae: 5.3787\n",
            "Epoch 76/200\n",
            "1/1 [==============================] - 0s 10ms/step - loss: 5.2874 - mae: 5.2874\n",
            "Epoch 77/200\n",
            "1/1 [==============================] - 0s 12ms/step - loss: 5.1956 - mae: 5.1956\n",
            "Epoch 78/200\n",
            "1/1 [==============================] - 0s 11ms/step - loss: 5.1040 - mae: 5.1040\n",
            "Epoch 79/200\n",
            "1/1 [==============================] - 0s 10ms/step - loss: 5.0122 - mae: 5.0122\n",
            "Epoch 80/200\n",
            "1/1 [==============================] - 0s 20ms/step - loss: 4.9189 - mae: 4.9189\n",
            "Epoch 81/200\n",
            "1/1 [==============================] - 0s 16ms/step - loss: 4.8268 - mae: 4.8268\n",
            "Epoch 82/200\n",
            "1/1 [==============================] - 0s 13ms/step - loss: 4.7340 - mae: 4.7340\n",
            "Epoch 83/200\n",
            "1/1 [==============================] - 0s 24ms/step - loss: 4.6406 - mae: 4.6406\n",
            "Epoch 84/200\n",
            "1/1 [==============================] - 0s 24ms/step - loss: 4.5466 - mae: 4.5466\n",
            "Epoch 85/200\n",
            "1/1 [==============================] - 0s 16ms/step - loss: 4.4739 - mae: 4.4739\n",
            "Epoch 86/200\n",
            "1/1 [==============================] - 0s 13ms/step - loss: 4.4286 - mae: 4.4286\n",
            "Epoch 87/200\n",
            "1/1 [==============================] - 0s 13ms/step - loss: 4.3848 - mae: 4.3848\n",
            "Epoch 88/200\n",
            "1/1 [==============================] - 0s 13ms/step - loss: 4.3423 - mae: 4.3423\n",
            "Epoch 89/200\n",
            "1/1 [==============================] - 0s 19ms/step - loss: 4.3011 - mae: 4.3011\n",
            "Epoch 90/200\n",
            "1/1 [==============================] - 0s 12ms/step - loss: 4.2609 - mae: 4.2609\n",
            "Epoch 91/200\n",
            "1/1 [==============================] - 0s 15ms/step - loss: 4.2217 - mae: 4.2217\n",
            "Epoch 92/200\n",
            "1/1 [==============================] - 0s 7ms/step - loss: 4.1833 - mae: 4.1833\n",
            "Epoch 93/200\n",
            "1/1 [==============================] - 0s 28ms/step - loss: 4.1457 - mae: 4.1457\n",
            "Epoch 94/200\n",
            "1/1 [==============================] - 0s 39ms/step - loss: 4.1087 - mae: 4.1087\n",
            "Epoch 95/200\n",
            "1/1 [==============================] - 0s 7ms/step - loss: 4.0723 - mae: 4.0723\n",
            "Epoch 96/200\n",
            "1/1 [==============================] - 0s 6ms/step - loss: 4.0364 - mae: 4.0364\n",
            "Epoch 97/200\n",
            "1/1 [==============================] - 0s 9ms/step - loss: 4.0009 - mae: 4.0009\n",
            "Epoch 98/200\n",
            "1/1 [==============================] - 0s 7ms/step - loss: 3.9658 - mae: 3.9658\n",
            "Epoch 99/200\n",
            "1/1 [==============================] - 0s 11ms/step - loss: 3.9310 - mae: 3.9310\n",
            "Epoch 100/200\n",
            "1/1 [==============================] - 0s 9ms/step - loss: 3.8964 - mae: 3.8964\n",
            "Epoch 101/200\n",
            "1/1 [==============================] - 0s 7ms/step - loss: 3.8621 - mae: 3.8621\n",
            "Epoch 102/200\n",
            "1/1 [==============================] - 0s 8ms/step - loss: 3.8280 - mae: 3.8280\n",
            "Epoch 103/200\n",
            "1/1 [==============================] - 0s 7ms/step - loss: 3.7940 - mae: 3.7940\n",
            "Epoch 104/200\n",
            "1/1 [==============================] - 0s 8ms/step - loss: 3.7601 - mae: 3.7601\n",
            "Epoch 105/200\n",
            "1/1 [==============================] - 0s 7ms/step - loss: 3.7262 - mae: 3.7262\n",
            "Epoch 106/200\n",
            "1/1 [==============================] - 0s 7ms/step - loss: 3.6925 - mae: 3.6925\n",
            "Epoch 107/200\n",
            "1/1 [==============================] - 0s 7ms/step - loss: 3.6587 - mae: 3.6587\n",
            "Epoch 108/200\n",
            "1/1 [==============================] - 0s 9ms/step - loss: 3.6338 - mae: 3.6338\n",
            "Epoch 109/200\n",
            "1/1 [==============================] - 0s 15ms/step - loss: 3.6249 - mae: 3.6249\n",
            "Epoch 110/200\n",
            "1/1 [==============================] - 0s 12ms/step - loss: 3.6145 - mae: 3.6145\n",
            "Epoch 111/200\n",
            "1/1 [==============================] - 0s 18ms/step - loss: 3.6030 - mae: 3.6030\n",
            "Epoch 112/200\n",
            "1/1 [==============================] - 0s 9ms/step - loss: 3.5906 - mae: 3.5906\n",
            "Epoch 113/200\n",
            "1/1 [==============================] - 0s 8ms/step - loss: 3.5772 - mae: 3.5772\n",
            "Epoch 114/200\n",
            "1/1 [==============================] - 0s 7ms/step - loss: 3.5630 - mae: 3.5630\n",
            "Epoch 115/200\n",
            "1/1 [==============================] - 0s 35ms/step - loss: 3.5482 - mae: 3.5482\n",
            "Epoch 116/200\n",
            "1/1 [==============================] - 0s 12ms/step - loss: 3.5328 - mae: 3.5328\n",
            "Epoch 117/200\n",
            "1/1 [==============================] - 0s 10ms/step - loss: 3.5168 - mae: 3.5168\n",
            "Epoch 118/200\n",
            "1/1 [==============================] - 0s 10ms/step - loss: 3.5005 - mae: 3.5005\n",
            "Epoch 119/200\n",
            "1/1 [==============================] - 0s 12ms/step - loss: 3.4837 - mae: 3.4837\n",
            "Epoch 120/200\n",
            "1/1 [==============================] - 0s 15ms/step - loss: 3.4666 - mae: 3.4666\n",
            "Epoch 121/200\n",
            "1/1 [==============================] - 0s 15ms/step - loss: 3.4492 - mae: 3.4492\n",
            "Epoch 122/200\n",
            "1/1 [==============================] - 0s 15ms/step - loss: 3.4316 - mae: 3.4316\n",
            "Epoch 123/200\n",
            "1/1 [==============================] - 0s 25ms/step - loss: 3.4137 - mae: 3.4137\n",
            "Epoch 124/200\n",
            "1/1 [==============================] - 0s 14ms/step - loss: 3.3956 - mae: 3.3956\n",
            "Epoch 125/200\n",
            "1/1 [==============================] - 0s 15ms/step - loss: 3.3774 - mae: 3.3774\n",
            "Epoch 126/200\n",
            "1/1 [==============================] - 0s 15ms/step - loss: 3.3590 - mae: 3.3590\n",
            "Epoch 127/200\n",
            "1/1 [==============================] - 0s 17ms/step - loss: 3.3405 - mae: 3.3405\n",
            "Epoch 128/200\n",
            "1/1 [==============================] - 0s 16ms/step - loss: 3.3219 - mae: 3.3219\n",
            "Epoch 129/200\n",
            "1/1 [==============================] - 0s 10ms/step - loss: 3.3032 - mae: 3.3032\n",
            "Epoch 130/200\n",
            "1/1 [==============================] - 0s 37ms/step - loss: 3.2845 - mae: 3.2845\n",
            "Epoch 131/200\n",
            "1/1 [==============================] - 0s 24ms/step - loss: 3.2656 - mae: 3.2656\n",
            "Epoch 132/200\n",
            "1/1 [==============================] - 0s 13ms/step - loss: 3.2467 - mae: 3.2467\n",
            "Epoch 133/200\n",
            "1/1 [==============================] - 0s 9ms/step - loss: 3.2278 - mae: 3.2278\n",
            "Epoch 134/200\n",
            "1/1 [==============================] - 0s 12ms/step - loss: 3.2089 - mae: 3.2089\n",
            "Epoch 135/200\n",
            "1/1 [==============================] - 0s 11ms/step - loss: 3.1899 - mae: 3.1899\n",
            "Epoch 136/200\n",
            "1/1 [==============================] - 0s 15ms/step - loss: 3.1770 - mae: 3.1770\n",
            "Epoch 137/200\n",
            "1/1 [==============================] - 0s 12ms/step - loss: 3.1651 - mae: 3.1651\n",
            "Epoch 138/200\n",
            "1/1 [==============================] - 0s 12ms/step - loss: 3.1506 - mae: 3.1506\n",
            "Epoch 139/200\n",
            "1/1 [==============================] - 0s 15ms/step - loss: 3.1337 - mae: 3.1337\n",
            "Epoch 140/200\n",
            "1/1 [==============================] - 0s 12ms/step - loss: 3.1146 - mae: 3.1146\n",
            "Epoch 141/200\n",
            "1/1 [==============================] - 0s 15ms/step - loss: 3.0936 - mae: 3.0936\n",
            "Epoch 142/200\n",
            "1/1 [==============================] - 0s 11ms/step - loss: 3.0759 - mae: 3.0759\n",
            "Epoch 143/200\n",
            "1/1 [==============================] - 0s 12ms/step - loss: 3.0613 - mae: 3.0613\n",
            "Epoch 144/200\n",
            "1/1 [==============================] - 0s 11ms/step - loss: 3.0462 - mae: 3.0462\n",
            "Epoch 145/200\n",
            "1/1 [==============================] - 0s 20ms/step - loss: 3.0306 - mae: 3.0306\n",
            "Epoch 146/200\n",
            "1/1 [==============================] - 0s 17ms/step - loss: 3.0146 - mae: 3.0146\n",
            "Epoch 147/200\n",
            "1/1 [==============================] - 0s 7ms/step - loss: 3.0000 - mae: 3.0000\n",
            "Epoch 148/200\n",
            "1/1 [==============================] - 0s 7ms/step - loss: 3.0000 - mae: 3.0000\n",
            "Epoch 149/200\n",
            "1/1 [==============================] - 0s 8ms/step - loss: 3.0000 - mae: 3.0000\n",
            "Epoch 150/200\n",
            "1/1 [==============================] - 0s 53ms/step - loss: 3.0000 - mae: 3.0000\n",
            "Epoch 151/200\n",
            "1/1 [==============================] - 0s 66ms/step - loss: 3.0000 - mae: 3.0000\n",
            "Epoch 152/200\n",
            "1/1 [==============================] - 0s 17ms/step - loss: 3.0000 - mae: 3.0000\n",
            "Epoch 153/200\n",
            "1/1 [==============================] - 0s 17ms/step - loss: 3.0000 - mae: 3.0000\n",
            "Epoch 154/200\n",
            "1/1 [==============================] - 0s 16ms/step - loss: 3.0000 - mae: 3.0000\n",
            "Epoch 155/200\n",
            "1/1 [==============================] - 0s 25ms/step - loss: 3.0000 - mae: 3.0000\n",
            "Epoch 156/200\n",
            "1/1 [==============================] - 0s 17ms/step - loss: 3.0000 - mae: 3.0000\n",
            "Epoch 157/200\n",
            "1/1 [==============================] - 0s 16ms/step - loss: 3.0000 - mae: 3.0000\n",
            "Epoch 158/200\n",
            "1/1 [==============================] - 0s 9ms/step - loss: 3.0000 - mae: 3.0000\n",
            "Epoch 159/200\n",
            "1/1 [==============================] - 0s 12ms/step - loss: 3.0000 - mae: 3.0000\n",
            "Epoch 160/200\n",
            "1/1 [==============================] - 0s 11ms/step - loss: 3.0000 - mae: 3.0000\n",
            "Epoch 161/200\n",
            "1/1 [==============================] - 0s 8ms/step - loss: 3.0000 - mae: 3.0000\n",
            "Epoch 162/200\n",
            "1/1 [==============================] - 0s 9ms/step - loss: 3.0000 - mae: 3.0000\n",
            "Epoch 163/200\n",
            "1/1 [==============================] - 0s 11ms/step - loss: 3.0000 - mae: 3.0000\n",
            "Epoch 164/200\n",
            "1/1 [==============================] - 0s 9ms/step - loss: 3.0000 - mae: 3.0000\n",
            "Epoch 165/200\n",
            "1/1 [==============================] - 0s 8ms/step - loss: 3.0000 - mae: 3.0000\n",
            "Epoch 166/200\n",
            "1/1 [==============================] - 0s 13ms/step - loss: 3.0000 - mae: 3.0000\n",
            "Epoch 167/200\n",
            "1/1 [==============================] - 0s 14ms/step - loss: 3.0000 - mae: 3.0000\n",
            "Epoch 168/200\n",
            "1/1 [==============================] - 0s 6ms/step - loss: 3.0000 - mae: 3.0000\n",
            "Epoch 169/200\n",
            "1/1 [==============================] - 0s 15ms/step - loss: 3.0000 - mae: 3.0000\n",
            "Epoch 170/200\n",
            "1/1 [==============================] - 0s 14ms/step - loss: 3.0000 - mae: 3.0000\n",
            "Epoch 171/200\n",
            "1/1 [==============================] - 0s 17ms/step - loss: 3.0000 - mae: 3.0000\n",
            "Epoch 172/200\n",
            "1/1 [==============================] - 0s 17ms/step - loss: 3.0000 - mae: 3.0000\n",
            "Epoch 173/200\n",
            "1/1 [==============================] - 0s 16ms/step - loss: 3.0000 - mae: 3.0000\n",
            "Epoch 174/200\n",
            "1/1 [==============================] - 0s 61ms/step - loss: 3.0000 - mae: 3.0000\n",
            "Epoch 175/200\n",
            "1/1 [==============================] - 0s 10ms/step - loss: 3.0000 - mae: 3.0000\n",
            "Epoch 176/200\n",
            "1/1 [==============================] - 0s 16ms/step - loss: 3.0000 - mae: 3.0000\n",
            "Epoch 177/200\n",
            "1/1 [==============================] - 0s 17ms/step - loss: 3.0000 - mae: 3.0000\n",
            "Epoch 178/200\n",
            "1/1 [==============================] - 0s 11ms/step - loss: 3.0000 - mae: 3.0000\n",
            "Epoch 179/200\n",
            "1/1 [==============================] - 0s 18ms/step - loss: 3.0000 - mae: 3.0000\n",
            "Epoch 180/200\n",
            "1/1 [==============================] - 0s 11ms/step - loss: 3.0000 - mae: 3.0000\n",
            "Epoch 181/200\n",
            "1/1 [==============================] - 0s 8ms/step - loss: 3.0000 - mae: 3.0000\n",
            "Epoch 182/200\n",
            "1/1 [==============================] - 0s 15ms/step - loss: 3.0000 - mae: 3.0000\n",
            "Epoch 183/200\n",
            "1/1 [==============================] - 0s 19ms/step - loss: 3.0000 - mae: 3.0000\n",
            "Epoch 184/200\n",
            "1/1 [==============================] - 0s 14ms/step - loss: 3.0000 - mae: 3.0000\n",
            "Epoch 185/200\n",
            "1/1 [==============================] - 0s 15ms/step - loss: 3.0000 - mae: 3.0000\n",
            "Epoch 186/200\n",
            "1/1 [==============================] - 0s 12ms/step - loss: 3.0000 - mae: 3.0000\n",
            "Epoch 187/200\n",
            "1/1 [==============================] - 0s 7ms/step - loss: 3.0000 - mae: 3.0000\n",
            "Epoch 188/200\n",
            "1/1 [==============================] - 0s 25ms/step - loss: 3.0000 - mae: 3.0000\n",
            "Epoch 189/200\n",
            "1/1 [==============================] - 0s 46ms/step - loss: 3.0000 - mae: 3.0000\n",
            "Epoch 190/200\n",
            "1/1 [==============================] - 0s 12ms/step - loss: 3.0000 - mae: 3.0000\n",
            "Epoch 191/200\n",
            "1/1 [==============================] - 0s 13ms/step - loss: 3.0000 - mae: 3.0000\n",
            "Epoch 192/200\n",
            "1/1 [==============================] - 0s 17ms/step - loss: 3.0000 - mae: 3.0000\n",
            "Epoch 193/200\n",
            "1/1 [==============================] - 0s 15ms/step - loss: 3.0000 - mae: 3.0000\n",
            "Epoch 194/200\n",
            "1/1 [==============================] - 0s 13ms/step - loss: 3.0000 - mae: 3.0000\n",
            "Epoch 195/200\n",
            "1/1 [==============================] - 0s 10ms/step - loss: 3.0000 - mae: 3.0000\n",
            "Epoch 196/200\n",
            "1/1 [==============================] - 0s 53ms/step - loss: 3.0000 - mae: 3.0000\n",
            "Epoch 197/200\n",
            "1/1 [==============================] - 0s 16ms/step - loss: 3.0000 - mae: 3.0000\n",
            "Epoch 198/200\n",
            "1/1 [==============================] - 0s 11ms/step - loss: 3.0000 - mae: 3.0000\n",
            "Epoch 199/200\n",
            "1/1 [==============================] - 0s 14ms/step - loss: 3.0000 - mae: 3.0000\n",
            "Epoch 200/200\n",
            "1/1 [==============================] - 0s 20ms/step - loss: 3.0000 - mae: 3.0000\n"
          ]
        },
        {
          "output_type": "execute_result",
          "data": {
            "text/plain": [
              "<keras.callbacks.History at 0x7fa8c43d0410>"
            ]
          },
          "metadata": {},
          "execution_count": 21
        }
      ]
    },
    {
      "cell_type": "code",
      "source": [
        "# Let's predict again (NAILED IT!!!)\n",
        "# ALWAYS REMEMBER, \"lr\" is the most important parameter\n",
        "y_pred = model.predict(input_pred)\n",
        "y_pred\n",
        "# Expected [[29.], [41.]]"
      ],
      "metadata": {
        "colab": {
          "base_uri": "https://localhost:8080/"
        },
        "id": "rH81XUTOHQWu",
        "outputId": "73b6381e-3d57-4983-a2a6-3d63c7aa083a"
      },
      "execution_count": null,
      "outputs": [
        {
          "output_type": "execute_result",
          "data": {
            "text/plain": [
              "array([[29.596933],\n",
              "       [41.085052]], dtype=float32)"
            ]
          },
          "metadata": {},
          "execution_count": 22
        }
      ]
    },
    {
      "cell_type": "markdown",
      "source": [
        "Evaluating a model\n",
        "\n",
        "Visualize\n",
        ">- The data that we are working with\n",
        ">- What the model looks like\n",
        ">- How does a model perform while it learns\n",
        ">- How does the predictions of a model line up against the truth"
      ],
      "metadata": {
        "id": "QTjjU3Eoa0Oy"
      }
    },
    {
      "cell_type": "markdown",
      "source": [
        "**The 3 sets**\n",
        "1. Training set - the model learns from this data, typically 70 - 80% of the total data available\n",
        "2. Validation set - model gets tuned on this data, typically 10 - 15% of the total data available\n",
        "3. Test set - model gets evaluated on this data, typically 10 - 15% of the total data available"
      ],
      "metadata": {
        "id": "kmuMWHCxlwfI"
      }
    },
    {
      "cell_type": "code",
      "source": [
        "X = tf.range(-100, 100, 4)\n",
        "y = X + 10\n",
        "X, y"
      ],
      "metadata": {
        "colab": {
          "base_uri": "https://localhost:8080/"
        },
        "id": "MbTBtX9DdJFr",
        "outputId": "f2a0898f-5eec-4c01-f40e-d9294fad5f3d"
      },
      "execution_count": null,
      "outputs": [
        {
          "output_type": "execute_result",
          "data": {
            "text/plain": [
              "(<tf.Tensor: shape=(50,), dtype=int32, numpy=\n",
              " array([-100,  -96,  -92,  -88,  -84,  -80,  -76,  -72,  -68,  -64,  -60,\n",
              "         -56,  -52,  -48,  -44,  -40,  -36,  -32,  -28,  -24,  -20,  -16,\n",
              "         -12,   -8,   -4,    0,    4,    8,   12,   16,   20,   24,   28,\n",
              "          32,   36,   40,   44,   48,   52,   56,   60,   64,   68,   72,\n",
              "          76,   80,   84,   88,   92,   96], dtype=int32)>,\n",
              " <tf.Tensor: shape=(50,), dtype=int32, numpy=\n",
              " array([-90, -86, -82, -78, -74, -70, -66, -62, -58, -54, -50, -46, -42,\n",
              "        -38, -34, -30, -26, -22, -18, -14, -10,  -6,  -2,   2,   6,  10,\n",
              "         14,  18,  22,  26,  30,  34,  38,  42,  46,  50,  54,  58,  62,\n",
              "         66,  70,  74,  78,  82,  86,  90,  94,  98, 102, 106], dtype=int32)>)"
            ]
          },
          "metadata": {},
          "execution_count": 23
        }
      ]
    },
    {
      "cell_type": "code",
      "source": [
        "len(X)"
      ],
      "metadata": {
        "colab": {
          "base_uri": "https://localhost:8080/"
        },
        "id": "lqWZdqfYnPnv",
        "outputId": "8cff61e7-63c2-434b-8785-18929c865699"
      },
      "execution_count": null,
      "outputs": [
        {
          "output_type": "execute_result",
          "data": {
            "text/plain": [
              "50"
            ]
          },
          "metadata": {},
          "execution_count": 24
        }
      ]
    },
    {
      "cell_type": "code",
      "source": [
        "# Split the data into train and test sets\n",
        "X_train = X[:40] # first 40 are training samples (80% of the data)\n",
        "y_train = y[:40] # first 40 are training samples (80% of the data)\n",
        "X_test = X[40:] # last 10 are testing samples (20% of the data)\n",
        "y_test = y[40:] # last 10 are testing samples (20% of the data)\n",
        "len(X_train), len(X_test), len(y_train), len(y_test)"
      ],
      "metadata": {
        "colab": {
          "base_uri": "https://localhost:8080/"
        },
        "id": "dbF0UKs0na0o",
        "outputId": "d1d6638e-600a-4d64-8eb0-4566b4e4e500"
      },
      "execution_count": null,
      "outputs": [
        {
          "output_type": "execute_result",
          "data": {
            "text/plain": [
              "(40, 10, 40, 10)"
            ]
          },
          "metadata": {},
          "execution_count": 25
        }
      ]
    },
    {
      "cell_type": "code",
      "source": [
        "plt.figure(figsize=(10,7))\n",
        "plt.scatter(X_train, y_train, c=\"b\", label=\"Training data\")\n",
        "plt.scatter(X_test, y_test, c=\"g\", label=\"Testing data\")\n",
        "plt.legend()"
      ],
      "metadata": {
        "colab": {
          "base_uri": "https://localhost:8080/",
          "height": 445
        },
        "id": "CYl8VA-OoQD1",
        "outputId": "07dc6422-3396-47c4-953a-2afc8d5e9355"
      },
      "execution_count": null,
      "outputs": [
        {
          "output_type": "execute_result",
          "data": {
            "text/plain": [
              "<matplotlib.legend.Legend at 0x7fa8c3a6fe50>"
            ]
          },
          "metadata": {},
          "execution_count": 26
        },
        {
          "output_type": "display_data",
          "data": {
            "text/plain": [
              "<Figure size 720x504 with 1 Axes>"
            ],
            "image/png": "[encoded data removed]"
          },
          "metadata": {
            "needs_background": "light"
          }
        }
      ]
    },
    {
      "cell_type": "code",
      "source": [
        "# 1. Create a model\n",
        "model = tf.keras.Sequential([\n",
        "  tf.keras.layers.Dense(1)\n",
        "])\n",
        "\n",
        "# 2. Compile the model\n",
        "model.compile(loss=tf.keras.losses.mae,\n",
        "              optimizer=tf.keras.optimizers.SGD(),\n",
        "              metrics=[\"mae\"])"
      ],
      "metadata": {
        "id": "Ss5X7s6io05S"
      },
      "execution_count": null,
      "outputs": []
    },
    {
      "cell_type": "code",
      "source": [
        "X[0], y[0]"
      ],
      "metadata": {
        "colab": {
          "base_uri": "https://localhost:8080/"
        },
        "id": "p8x5c1iz6WF-",
        "outputId": "2ba01c95-d475-4905-e546-2e6ae098ca7a"
      },
      "execution_count": null,
      "outputs": [
        {
          "output_type": "execute_result",
          "data": {
            "text/plain": [
              "(<tf.Tensor: shape=(), dtype=int32, numpy=-100>,\n",
              " <tf.Tensor: shape=(), dtype=int32, numpy=-90>)"
            ]
          },
          "metadata": {},
          "execution_count": 28
        }
      ]
    },
    {
      "cell_type": "code",
      "source": [
        "# Visualizing model\n",
        "# Let's create a model with an input shape so it can build automatically\n",
        "tf.random.set_seed(42)\n",
        "\n",
        "model = tf.keras.Sequential([\n",
        "    tf.keras.layers.Dense(1, input_shape=[1])\n",
        "])\n",
        "\n",
        "# Compile the model\n",
        "model.compile(loss=tf.keras.losses.mae,\n",
        "              optimizer=tf.keras.optimizers.SGD(),\n",
        "              metrics=[\"mae\"])"
      ],
      "metadata": {
        "id": "PuTuaVxk4GBy"
      },
      "execution_count": null,
      "outputs": []
    },
    {
      "cell_type": "code",
      "source": [
        "# Now we can visualize\n",
        "model.summary()"
      ],
      "metadata": {
        "colab": {
          "base_uri": "https://localhost:8080/"
        },
        "id": "5PQNu_O36afg",
        "outputId": "88640b25-6664-4bc2-ab3d-2d6442ea1390"
      },
      "execution_count": null,
      "outputs": [
        {
          "output_type": "stream",
          "name": "stdout",
          "text": [
            "Model: \"sequential_7\"\n",
            "_________________________________________________________________\n",
            " Layer (type)                Output Shape              Param #   \n",
            "=================================================================\n",
            " dense_10 (Dense)            (None, 1)                 2         \n",
            "                                                                 \n",
            "=================================================================\n",
            "Total params: 2\n",
            "Trainable params: 2\n",
            "Non-trainable params: 0\n",
            "_________________________________________________________________\n"
          ]
        }
      ]
    },
    {
      "cell_type": "markdown",
      "source": [
        "* Total params - total number of patterns in the model (it will increase to 301 if the number of neuron changes to 100 with a hidden layer)\n",
        "* Trainable params - number of parameter model updates as it learns\n",
        "* Non-trainable params - these parameters aren't updated during training (typical when bringing already learnt parameters from other models during \"transfer learning\")"
      ],
      "metadata": {
        "id": "vX5AusQU81Bt"
      }
    },
    {
      "cell_type": "code",
      "source": [
        "# Now fit the model\n",
        "# If verbose is 0, it will not output anything, 1 is default, 2 will output logs\n",
        "model.fit(X_train, y_train, epochs=100, verbose=0)"
      ],
      "metadata": {
        "colab": {
          "base_uri": "https://localhost:8080/"
        },
        "id": "wX3Qp8Co7h2h",
        "outputId": "9777b2ae-103e-486c-8347-043a069e14f2"
      },
      "execution_count": null,
      "outputs": [
        {
          "output_type": "execute_result",
          "data": {
            "text/plain": [
              "<keras.callbacks.History at 0x7fa8c396a850>"
            ]
          },
          "metadata": {},
          "execution_count": 31
        }
      ]
    },
    {
      "cell_type": "code",
      "source": [
        "# Another way of visualizing model\n",
        "tf.keras.utils.plot_model(model=model, show_shapes=True)"
      ],
      "metadata": {
        "colab": {
          "base_uri": "https://localhost:8080/",
          "height": 201
        },
        "id": "BJ2LbEOKEODq",
        "outputId": "3a09d758-14d5-4f56-b4eb-0de87fdefbeb"
      },
      "execution_count": null,
      "outputs": [
        {
          "output_type": "execute_result",
          "data": {
            "text/plain": [
              "<IPython.core.display.Image object>"
            ],
            "image/png": "[encoded data removed]"
          },
          "metadata": {},
          "execution_count": 32
        }
      ]
    },
    {
      "cell_type": "markdown",
      "source": [
        "Create models with user friendly names"
      ],
      "metadata": {
        "id": "WfFZZ44AN69a"
      }
    },
    {
      "cell_type": "code",
      "source": [
        "tf.random.set_seed(42)\n",
        "\n",
        "# 1. Create a model\n",
        "model_1 = tf.keras.Sequential([\n",
        "  tf.keras.layers.Dense(10, input_shape=[1], name=\"test_input_1\"),\n",
        "  tf.keras.layers.Dense(1, name=\"test_output_1\")\n",
        "], name=\"test_model_1\")\n",
        "\n",
        "# Compile the model\n",
        "model_1.compile(optimizer=tf.keras.optimizers.SGD(),\n",
        "              loss=tf.keras.losses.mae,\n",
        "              metrics=[\"mae\"])\n",
        "\n",
        "# Fit the model\n",
        "model_1.fit(X_train, y_train, epochs=10, verbose=0)"
      ],
      "metadata": {
        "colab": {
          "base_uri": "https://localhost:8080/"
        },
        "id": "l0ty1fxKMrN4",
        "outputId": "36322806-b5c6-403b-c8a2-3a0ebe0f630a"
      },
      "execution_count": null,
      "outputs": [
        {
          "output_type": "execute_result",
          "data": {
            "text/plain": [
              "<keras.callbacks.History at 0x7fa8c38b0590>"
            ]
          },
          "metadata": {},
          "execution_count": 33
        }
      ]
    },
    {
      "cell_type": "code",
      "source": [
        "# Get summary of the model\n",
        "model_1.summary()"
      ],
      "metadata": {
        "colab": {
          "base_uri": "https://localhost:8080/"
        },
        "id": "pmh4ABJ4Pi5t",
        "outputId": "c541ec59-4707-4ccd-83d8-42c211a46d47"
      },
      "execution_count": null,
      "outputs": [
        {
          "output_type": "stream",
          "name": "stdout",
          "text": [
            "Model: \"test_model_1\"\n",
            "_________________________________________________________________\n",
            " Layer (type)                Output Shape              Param #   \n",
            "=================================================================\n",
            " test_input_1 (Dense)        (None, 10)                20        \n",
            "                                                                 \n",
            " test_output_1 (Dense)       (None, 1)                 11        \n",
            "                                                                 \n",
            "=================================================================\n",
            "Total params: 31\n",
            "Trainable params: 31\n",
            "Non-trainable params: 0\n",
            "_________________________________________________________________\n"
          ]
        }
      ]
    },
    {
      "cell_type": "code",
      "source": [
        "tf.keras.utils.plot_model(model=model_1, show_shapes=True)"
      ],
      "metadata": {
        "colab": {
          "base_uri": "https://localhost:8080/",
          "height": 312
        },
        "id": "q3n_iz_dPnX3",
        "outputId": "3518a02a-d73d-4391-dda6-d5156e38095c"
      },
      "execution_count": null,
      "outputs": [
        {
          "output_type": "execute_result",
          "data": {
            "text/plain": [
              "<IPython.core.display.Image object>"
            ],
            "image/png": "[encoded data removed]"
          },
          "metadata": {},
          "execution_count": 35
        }
      ]
    },
    {
      "cell_type": "markdown",
      "source": [
        "**Visualizing model's predictions**\n",
        "\n",
        "Plot prediction against ground truth\n",
        "\n",
        "Usually you'll name them as y_test, y_true and y_pred"
      ],
      "metadata": {
        "id": "pov3TiLIQH3j"
      }
    },
    {
      "cell_type": "code",
      "source": [
        "# Make predictions\n",
        "y_pred = model_1.predict(X_test)\n",
        "y_pred"
      ],
      "metadata": {
        "colab": {
          "base_uri": "https://localhost:8080/"
        },
        "id": "ieKWuZvSPzra",
        "outputId": "4eda84ed-4681-472e-c742-cb85941a90f5"
      },
      "execution_count": null,
      "outputs": [
        {
          "output_type": "stream",
          "name": "stdout",
          "text": [
            "WARNING:tensorflow:5 out of the last 5 calls to <function Model.make_predict_function.<locals>.predict_function at 0x7fa8c418def0> triggered tf.function retracing. Tracing is expensive and the excessive number of tracings could be due to (1) creating @tf.function repeatedly in a loop, (2) passing tensors with different shapes, (3) passing Python objects instead of tensors. For (1), please define your @tf.function outside of the loop. For (2), @tf.function has experimental_relax_shapes=True option that relaxes argument shapes that can avoid unnecessary retracing. For (3), please refer to https://www.tensorflow.org/guide/function#controlling_retracing and https://www.tensorflow.org/api_docs/python/tf/function for  more details.\n"
          ]
        },
        {
          "output_type": "execute_result",
          "data": {
            "text/plain": [
              "array([[51.475273],\n",
              "       [54.896004],\n",
              "       [58.31673 ],\n",
              "       [61.737457],\n",
              "       [65.15818 ],\n",
              "       [68.57891 ],\n",
              "       [71.99964 ],\n",
              "       [75.420364],\n",
              "       [78.841095],\n",
              "       [82.261826]], dtype=float32)"
            ]
          },
          "metadata": {},
          "execution_count": 36
        }
      ]
    },
    {
      "cell_type": "code",
      "source": [
        "y_test"
      ],
      "metadata": {
        "colab": {
          "base_uri": "https://localhost:8080/"
        },
        "id": "HWwNF5dEQuIG",
        "outputId": "bf6f6073-c5ab-4fc4-be63-1681844dfc35"
      },
      "execution_count": null,
      "outputs": [
        {
          "output_type": "execute_result",
          "data": {
            "text/plain": [
              "<tf.Tensor: shape=(10,), dtype=int32, numpy=array([ 70,  74,  78,  82,  86,  90,  94,  98, 102, 106], dtype=int32)>"
            ]
          },
          "metadata": {},
          "execution_count": 37
        }
      ]
    },
    {
      "cell_type": "code",
      "source": [
        "# Create a function to plot so we can re-use it in future\n",
        "def plot_predictions(train_data=X_train,\n",
        "                     train_labels=y_train,\n",
        "                     test_data=X_test,\n",
        "                     test_labels=y_test,\n",
        "                     predictions=y_pred):\n",
        "  \"\"\"\n",
        "  Plots training data, test data and compares predictions to ground truth with labels\n",
        "  \"\"\"\n",
        "  plt.figure(figsize=(10, 7))\n",
        "  # Plot training data in blue\n",
        "  plt.scatter(train_data, train_labels, c=\"b\", label=\"Training data\")\n",
        "  # Plot testing data in green\n",
        "  plt.scatter(test_data, test_labels, c=\"g\", label=\"Testing data\")\n",
        "  # Plot model's predictions in red\n",
        "  plt.scatter(test_data, predictions, c=\"r\", label=\"Predictions\")\n",
        "  # Show legend\n",
        "  plt.legend();"
      ],
      "metadata": {
        "id": "rLaYCfIQRO_R"
      },
      "execution_count": null,
      "outputs": []
    },
    {
      "cell_type": "code",
      "source": [
        "plot_predictions(train_data=X_train,\n",
        "                 train_labels=y_train,\n",
        "                 test_data=X_test,\n",
        "                 test_labels=y_test,\n",
        "                 predictions=y_pred)"
      ],
      "metadata": {
        "colab": {
          "base_uri": "https://localhost:8080/",
          "height": 428
        },
        "id": "A3wZ8oZ5T7X5",
        "outputId": "ef396c04-e0ba-42f9-ae94-d55cf284404d"
      },
      "execution_count": null,
      "outputs": [
        {
          "output_type": "display_data",
          "data": {
            "text/plain": [
              "<Figure size 720x504 with 1 Axes>"
            ],
            "image/png": "[encoded data removed]"
          },
          "metadata": {
            "needs_background": "light"
          }
        }
      ]
    },
    {
      "cell_type": "markdown",
      "source": [
        "Evaluating our model's predictions with regression evaluation metrics\n",
        "\n",
        "There are different evaluation metrics for model's performance.\n",
        "\n",
        "We are currently working on regression model. 2 of the main metrics for regression are,\n",
        "1. MAE - Mean Absolute Error - On average, how wrong is each of my model's predictions\n",
        "2. MSE - Mean Square Error - Square of average error"
      ],
      "metadata": {
        "id": "jW1EDO6LUmBt"
      }
    },
    {
      "cell_type": "code",
      "source": [
        "# Evaluate the model on the test\n",
        "model_1.evaluate(X_test, y_test)"
      ],
      "metadata": {
        "colab": {
          "base_uri": "https://localhost:8080/"
        },
        "id": "2x5Aj7ieT-nl",
        "outputId": "e89f070d-f856-42d5-9744-0474c10b32dd"
      },
      "execution_count": null,
      "outputs": [
        {
          "output_type": "stream",
          "name": "stdout",
          "text": [
            "1/1 [==============================] - 0s 220ms/step - loss: 21.1315 - mae: 21.1315\n"
          ]
        },
        {
          "output_type": "execute_result",
          "data": {
            "text/plain": [
              "[21.131450653076172, 21.131450653076172]"
            ]
          },
          "metadata": {},
          "execution_count": 40
        }
      ]
    },
    {
      "cell_type": "code",
      "source": [
        "# Calculate the mean absolute error\n",
        "tf.keras.metrics.mean_absolute_error(\n",
        "    y_test, y_pred\n",
        ")"
      ],
      "metadata": {
        "colab": {
          "base_uri": "https://localhost:8080/"
        },
        "id": "GU8DCSsbfXe9",
        "outputId": "e2f6434e-7a0a-4a9e-f5c0-fe061311c544"
      },
      "execution_count": null,
      "outputs": [
        {
          "output_type": "execute_result",
          "data": {
            "text/plain": [
              "<tf.Tensor: shape=(10,), dtype=float32, numpy=\n",
              "array([36.524727, 33.103996, 29.68327 , 26.262543, 22.84182 , 19.42109 ,\n",
              "       16.400288, 13.947782, 12.063562, 10.747635], dtype=float32)>"
            ]
          },
          "metadata": {},
          "execution_count": 41
        }
      ]
    },
    {
      "cell_type": "code",
      "source": [
        "# Result of MAE seems weird. Let's see what's different between these two values\n",
        "y_test, y_pred\n",
        "# Looks like y_test is a tensor. y_pred is an array."
      ],
      "metadata": {
        "colab": {
          "base_uri": "https://localhost:8080/"
        },
        "id": "ftYJECuQgBzb",
        "outputId": "ebebe729-5fd0-44c2-fdcb-ae03ffa96443"
      },
      "execution_count": null,
      "outputs": [
        {
          "output_type": "execute_result",
          "data": {
            "text/plain": [
              "(<tf.Tensor: shape=(10,), dtype=int32, numpy=array([ 70,  74,  78,  82,  86,  90,  94,  98, 102, 106], dtype=int32)>,\n",
              " array([[51.475273],\n",
              "        [54.896004],\n",
              "        [58.31673 ],\n",
              "        [61.737457],\n",
              "        [65.15818 ],\n",
              "        [68.57891 ],\n",
              "        [71.99964 ],\n",
              "        [75.420364],\n",
              "        [78.841095],\n",
              "        [82.261826]], dtype=float32))"
            ]
          },
          "metadata": {},
          "execution_count": 42
        }
      ]
    },
    {
      "cell_type": "code",
      "source": [
        "# Make y_pred a tensor as well\n",
        "y_pred = tf.constant(y_pred)\n",
        "y_test, y_pred\n",
        "# Now they are both tensors. However, y_pred shape is different."
      ],
      "metadata": {
        "colab": {
          "base_uri": "https://localhost:8080/"
        },
        "id": "cFXHfKdbhNsn",
        "outputId": "0f66b625-b91f-471b-97c0-cb2e3b0f2e0b"
      },
      "execution_count": null,
      "outputs": [
        {
          "output_type": "execute_result",
          "data": {
            "text/plain": [
              "(<tf.Tensor: shape=(10,), dtype=int32, numpy=array([ 70,  74,  78,  82,  86,  90,  94,  98, 102, 106], dtype=int32)>,\n",
              " <tf.Tensor: shape=(10, 1), dtype=float32, numpy=\n",
              " array([[51.475273],\n",
              "        [54.896004],\n",
              "        [58.31673 ],\n",
              "        [61.737457],\n",
              "        [65.15818 ],\n",
              "        [68.57891 ],\n",
              "        [71.99964 ],\n",
              "        [75.420364],\n",
              "        [78.841095],\n",
              "        [82.261826]], dtype=float32)>)"
            ]
          },
          "metadata": {},
          "execution_count": 43
        }
      ]
    },
    {
      "cell_type": "code",
      "source": [
        "# Squeeze y_pred for the unnecessary dimensions\n",
        "y_pred = tf.squeeze(y_pred)\n",
        "y_test, y_pred"
      ],
      "metadata": {
        "colab": {
          "base_uri": "https://localhost:8080/"
        },
        "id": "e4WUge4_h-4x",
        "outputId": "7ca8f897-656e-4938-b8af-7878841c8ab9"
      },
      "execution_count": null,
      "outputs": [
        {
          "output_type": "execute_result",
          "data": {
            "text/plain": [
              "(<tf.Tensor: shape=(10,), dtype=int32, numpy=array([ 70,  74,  78,  82,  86,  90,  94,  98, 102, 106], dtype=int32)>,\n",
              " <tf.Tensor: shape=(10,), dtype=float32, numpy=\n",
              " array([51.475273, 54.896004, 58.31673 , 61.737457, 65.15818 , 68.57891 ,\n",
              "        71.99964 , 75.420364, 78.841095, 82.261826], dtype=float32)>)"
            ]
          },
          "metadata": {},
          "execution_count": 44
        }
      ]
    },
    {
      "cell_type": "code",
      "source": [
        "# Let's evaluate again\n",
        "mae_1 = tf.metrics.mean_absolute_error(y_test, y_pred)\n",
        "mae_1\n",
        "# Nice!"
      ],
      "metadata": {
        "colab": {
          "base_uri": "https://localhost:8080/"
        },
        "id": "jiA51Zeqicxo",
        "outputId": "59e3af9d-c637-4ab4-cca0-771c8d723f12"
      },
      "execution_count": null,
      "outputs": [
        {
          "output_type": "execute_result",
          "data": {
            "text/plain": [
              "<tf.Tensor: shape=(), dtype=float32, numpy=21.13145>"
            ]
          },
          "metadata": {},
          "execution_count": 45
        }
      ]
    },
    {
      "cell_type": "code",
      "source": [
        "# Instead of the whole thing, let's just get the numpy value\n",
        "mae_1 = mae_1.numpy()\n",
        "mae_1"
      ],
      "metadata": {
        "colab": {
          "base_uri": "https://localhost:8080/"
        },
        "id": "nxwNt8g8tOwE",
        "outputId": "b298584c-89a9-4428-9f56-a6c77fb16e1b"
      },
      "execution_count": null,
      "outputs": [
        {
          "output_type": "execute_result",
          "data": {
            "text/plain": [
              "21.13145"
            ]
          },
          "metadata": {},
          "execution_count": 46
        }
      ]
    },
    {
      "cell_type": "code",
      "source": [
        "# Calculate mean square error\n",
        "mse_1 = tf.keras.metrics.mean_squared_error(y_test, y_pred)\n",
        "mse_1 = mse_1.numpy()\n",
        "mse_1"
      ],
      "metadata": {
        "colab": {
          "base_uri": "https://localhost:8080/"
        },
        "id": "nygjkSE3kCvH",
        "outputId": "6d5bf5d6-16d2-43a2-ecb7-9ec4d44fb48d"
      },
      "execution_count": null,
      "outputs": [
        {
          "output_type": "execute_result",
          "data": {
            "text/plain": [
              "449.30658"
            ]
          },
          "metadata": {},
          "execution_count": 47
        }
      ]
    },
    {
      "cell_type": "code",
      "source": [
        "# Because we are going to calculate MAE and MSE frequently, let's make functions for these\n",
        "# We will transform y_pred in the function so we don't have to transform them before passing the values\n",
        "def calculate_mae(y_true=y_test,\n",
        "                  y_pred=y_pred):\n",
        "  return tf.metrics.mean_absolute_error(tf.squeeze(y_true), tf.squeeze(tf.constant(y_pred))).numpy()\n",
        "\n",
        "def calculate_mse(y_true=y_test,\n",
        "                  y_pred=y_pred):\n",
        "  return tf.keras.metrics.mean_squared_error(tf.squeeze(y_true), tf.squeeze(tf.constant(y_pred))).numpy()"
      ],
      "metadata": {
        "id": "qb0GYhkzkdrv"
      },
      "execution_count": null,
      "outputs": []
    },
    {
      "cell_type": "markdown",
      "source": [
        "Running experiment to improve our model\n",
        "\n",
        "Build a model -> fit it -> evaluate it -> tweak it -> fit it -> evaluate it -> tweak it -> fit it -> evaluate it\n"
      ],
      "metadata": {
        "id": "fCnIDuh4muS6"
      }
    },
    {
      "cell_type": "code",
      "source": [
        "# Let's tweak the model and build another one\n",
        "tf.random.set_seed(42)\n",
        "\n",
        "# 1. Create a model\n",
        "model_2 = tf.keras.Sequential([\n",
        "  tf.keras.layers.Dense(200, input_shape=[1], name=\"test_input_2\"),\n",
        "  tf.keras.layers.Dense(1, name=\"test_output_2\")\n",
        "], name=\"test_model_2\")\n",
        "\n",
        "# Compile the model\n",
        "model_2.compile(optimizer=tf.keras.optimizers.Adam(learning_rate=0.01),\n",
        "              loss=tf.keras.losses.mae,\n",
        "              metrics=[\"mae\"])\n",
        "\n",
        "# Fit the model\n",
        "model_2.fit(X_train, y_train, epochs=100, verbose=0)"
      ],
      "metadata": {
        "id": "wjMIhutwmJmp",
        "colab": {
          "base_uri": "https://localhost:8080/"
        },
        "outputId": "09ba8196-856c-45e4-f94d-479c94a2845e"
      },
      "execution_count": null,
      "outputs": [
        {
          "output_type": "execute_result",
          "data": {
            "text/plain": [
              "<keras.callbacks.History at 0x7fa8c414ddd0>"
            ]
          },
          "metadata": {},
          "execution_count": 49
        }
      ]
    },
    {
      "cell_type": "code",
      "source": [
        "model_2.summary()"
      ],
      "metadata": {
        "colab": {
          "base_uri": "https://localhost:8080/"
        },
        "id": "ru5lrSw9l9VW",
        "outputId": "bd8e0a4a-0bdd-42e3-bbc4-3db6c0c730a4"
      },
      "execution_count": null,
      "outputs": [
        {
          "output_type": "stream",
          "name": "stdout",
          "text": [
            "Model: \"test_model_2\"\n",
            "_________________________________________________________________\n",
            " Layer (type)                Output Shape              Param #   \n",
            "=================================================================\n",
            " test_input_2 (Dense)        (None, 200)               400       \n",
            "                                                                 \n",
            " test_output_2 (Dense)       (None, 1)                 201       \n",
            "                                                                 \n",
            "=================================================================\n",
            "Total params: 601\n",
            "Trainable params: 601\n",
            "Non-trainable params: 0\n",
            "_________________________________________________________________\n"
          ]
        }
      ]
    },
    {
      "cell_type": "code",
      "source": [
        "tf.keras.utils.plot_model(model_2, show_shapes=True)"
      ],
      "metadata": {
        "colab": {
          "base_uri": "https://localhost:8080/",
          "height": 312
        },
        "id": "Sa8okwjtmlJ5",
        "outputId": "87ea098d-9d6e-4221-b091-951d7361b743"
      },
      "execution_count": null,
      "outputs": [
        {
          "output_type": "execute_result",
          "data": {
            "text/plain": [
              "<IPython.core.display.Image object>"
            ],
            "image/png": "[encoded data removed]"
          },
          "metadata": {},
          "execution_count": 51
        }
      ]
    },
    {
      "cell_type": "code",
      "source": [
        "y_pred_2 = model_2.predict(X_test)\n",
        "y_pred_2"
      ],
      "metadata": {
        "colab": {
          "base_uri": "https://localhost:8080/"
        },
        "id": "mvgtLkJVm4V5",
        "outputId": "f390056b-d1f9-4809-e216-bf4ddc8daded"
      },
      "execution_count": null,
      "outputs": [
        {
          "output_type": "stream",
          "name": "stdout",
          "text": [
            "WARNING:tensorflow:6 out of the last 6 calls to <function Model.make_predict_function.<locals>.predict_function at 0x7fa8c33d2dd0> triggered tf.function retracing. Tracing is expensive and the excessive number of tracings could be due to (1) creating @tf.function repeatedly in a loop, (2) passing tensors with different shapes, (3) passing Python objects instead of tensors. For (1), please define your @tf.function outside of the loop. For (2), @tf.function has experimental_relax_shapes=True option that relaxes argument shapes that can avoid unnecessary retracing. For (3), please refer to https://www.tensorflow.org/guide/function#controlling_retracing and https://www.tensorflow.org/api_docs/python/tf/function for  more details.\n"
          ]
        },
        {
          "output_type": "execute_result",
          "data": {
            "text/plain": [
              "array([[ 69.28235],\n",
              "       [ 73.24872],\n",
              "       [ 77.21509],\n",
              "       [ 81.18147],\n",
              "       [ 85.14784],\n",
              "       [ 89.11421],\n",
              "       [ 93.0806 ],\n",
              "       [ 97.04697],\n",
              "       [101.01334],\n",
              "       [104.97971]], dtype=float32)"
            ]
          },
          "metadata": {},
          "execution_count": 52
        }
      ]
    },
    {
      "cell_type": "code",
      "source": [
        "# Plot\n",
        "plot_predictions(X_train,\n",
        "                 y_train,\n",
        "                 X_test,\n",
        "                 y_test,\n",
        "                 y_pred_2)"
      ],
      "metadata": {
        "colab": {
          "base_uri": "https://localhost:8080/",
          "height": 428
        },
        "id": "EW_MK1X2nLsM",
        "outputId": "c595e6e6-ec03-4aa6-e27a-ab5b6eeb0633"
      },
      "execution_count": null,
      "outputs": [
        {
          "output_type": "display_data",
          "data": {
            "text/plain": [
              "<Figure size 720x504 with 1 Axes>"
            ],
            "image/png": "[encoded data removed]"
          },
          "metadata": {
            "needs_background": "light"
          }
        }
      ]
    },
    {
      "cell_type": "code",
      "source": [
        "# Evaluate\n",
        "model_2.evaluate(X_test, y_test)"
      ],
      "metadata": {
        "colab": {
          "base_uri": "https://localhost:8080/"
        },
        "id": "LxAG4-ZloOpF",
        "outputId": "b2b204fd-3789-467b-efc4-29cb87f6f4e1"
      },
      "execution_count": null,
      "outputs": [
        {
          "output_type": "stream",
          "name": "stdout",
          "text": [
            "1/1 [==============================] - 0s 258ms/step - loss: 0.8690 - mae: 0.8690\n"
          ]
        },
        {
          "output_type": "execute_result",
          "data": {
            "text/plain": [
              "[0.8689689636230469, 0.8689689636230469]"
            ]
          },
          "metadata": {},
          "execution_count": 54
        }
      ]
    },
    {
      "cell_type": "code",
      "source": [
        "# Calculate MAE\n",
        "mae_2 = calculate_mae(y_test, y_pred_2)\n",
        "mae_2"
      ],
      "metadata": {
        "colab": {
          "base_uri": "https://localhost:8080/"
        },
        "id": "Ks_DR0TMoP3F",
        "outputId": "9b1c4a06-6ec6-488c-be22-b99f71baa68f"
      },
      "execution_count": null,
      "outputs": [
        {
          "output_type": "execute_result",
          "data": {
            "text/plain": [
              "0.86896974"
            ]
          },
          "metadata": {},
          "execution_count": 55
        }
      ]
    },
    {
      "cell_type": "code",
      "source": [
        "# Calculate MSE\n",
        "mse_2 = calculate_mse(y_test, y_pred_2)\n",
        "mse_2"
      ],
      "metadata": {
        "colab": {
          "base_uri": "https://localhost:8080/"
        },
        "id": "a7OTkVC0qoDr",
        "outputId": "cb862969-b227-42e1-ef86-b630fae96591"
      },
      "execution_count": null,
      "outputs": [
        {
          "output_type": "execute_result",
          "data": {
            "text/plain": [
              "0.7644364"
            ]
          },
          "metadata": {},
          "execution_count": 56
        }
      ]
    },
    {
      "cell_type": "markdown",
      "source": [
        "Comparing models"
      ],
      "metadata": {
        "id": "27DB03Wxq4BF"
      }
    },
    {
      "cell_type": "code",
      "source": [
        "# Compare model results using pandas DataFrame\n",
        "from pandas import DataFrame as df\n",
        "\n",
        "model_result = [[\"model_1\", mae_1, mse_1],\n",
        "                [\"model_2\", mae_2, mse_2]]\n",
        "\n",
        "all_result = df(model_result, columns=[\"model\", \"mae\", \"mse\"])\n",
        "all_result"
      ],
      "metadata": {
        "colab": {
          "base_uri": "https://localhost:8080/",
          "height": 112
        },
        "id": "eM86tTHzq0Ih",
        "outputId": "3bdcad84-2251-440c-97b0-b9796bfd6ab6"
      },
      "execution_count": null,
      "outputs": [
        {
          "output_type": "execute_result",
          "data": {
            "text/plain": [
              "     model        mae         mse\n",
              "0  model_1  21.131451  449.306580\n",
              "1  model_2   0.868970    0.764436"
            ],
            "text/html": [
              "\n",
              "  <div id=\"df-4cf7f2f7-5c05-4694-b517-7882b69b0c59\">\n",
              "    <div class=\"colab-df-container\">\n",
              "      <div>\n",
              "<style scoped>\n",
              "    .dataframe tbody tr th:only-of-type {\n",
              "        vertical-align: middle;\n",
              "    }\n",
              "\n",
              "    .dataframe tbody tr th {\n",
              "        vertical-align: top;\n",
              "    }\n",
              "\n",
              "    .dataframe thead th {\n",
              "        text-align: right;\n",
              "    }\n",
              "</style>\n",
              "<table border=\"1\" class=\"dataframe\">\n",
              "  <thead>\n",
              "    <tr style=\"text-align: right;\">\n",
              "      <th></th>\n",
              "      <th>model</th>\n",
              "      <th>mae</th>\n",
              "      <th>mse</th>\n",
              "    </tr>\n",
              "  </thead>\n",
              "  <tbody>\n",
              "    <tr>\n",
              "      <th>0</th>\n",
              "      <td>model_1</td>\n",
              "      <td>21.131451</td>\n",
              "      <td>449.306580</td>\n",
              "    </tr>\n",
              "    <tr>\n",
              "      <th>1</th>\n",
              "      <td>model_2</td>\n",
              "      <td>0.868970</td>\n",
              "      <td>0.764436</td>\n",
              "    </tr>\n",
              "  </tbody>\n",
              "</table>\n",
              "</div>\n",
              "      <button class=\"colab-df-convert\" onclick=\"convertToInteractive('df-4cf7f2f7-5c05-4694-b517-7882b69b0c59')\"\n",
              "              title=\"Convert this dataframe to an interactive table.\"\n",
              "              style=\"display:none;\">\n",
              "        \n",
              "  <svg xmlns=\"http://www.w3.org/2000/svg\" height=\"24px\"viewBox=\"0 0 24 24\"\n",
              "       width=\"24px\">\n",
              "    <path d=\"M0 0h24v24H0V0z\" fill=\"none\"/>\n",
              "    <path d=\"M18.56 5.44l.94 2.06.94-2.06 2.06-.94-2.06-.94-.94-2.06-.94 2.06-2.06.94zm-11 1L8.5 8.5l.94-2.06 2.06-.94-2.06-.94L8.5 2.5l-.94 2.06-2.06.94zm10 10l.94 2.06.94-2.06 2.06-.94-2.06-.94-.94-2.06-.94 2.06-2.06.94z\"/><path d=\"M17.41 7.96l-1.37-1.37c-.4-.4-.92-.59-1.43-.59-.52 0-1.04.2-1.43.59L10.3 9.45l-7.72 7.72c-.78.78-.78 2.05 0 2.83L4 21.41c.39.39.9.59 1.41.59.51 0 1.02-.2 1.41-.59l7.78-7.78 2.81-2.81c.8-.78.8-2.07 0-2.86zM5.41 20L4 18.59l7.72-7.72 1.47 1.35L5.41 20z\"/>\n",
              "  </svg>\n",
              "      </button>\n",
              "      \n",
              "  <style>\n",
              "    .colab-df-container {\n",
              "      display:flex;\n",
              "      flex-wrap:wrap;\n",
              "      gap: 12px;\n",
              "    }\n",
              "\n",
              "    .colab-df-convert {\n",
              "      background-color: #E8F0FE;\n",
              "      border: none;\n",
              "      border-radius: 50%;\n",
              "      cursor: pointer;\n",
              "      display: none;\n",
              "      fill: #1967D2;\n",
              "      height: 32px;\n",
              "      padding: 0 0 0 0;\n",
              "      width: 32px;\n",
              "    }\n",
              "\n",
              "    .colab-df-convert:hover {\n",
              "      background-color: #E2EBFA;\n",
              "      box-shadow: 0px 1px 2px rgba(60, 64, 67, 0.3), 0px 1px 3px 1px rgba(60, 64, 67, 0.15);\n",
              "      fill: #174EA6;\n",
              "    }\n",
              "\n",
              "    [theme=dark] .colab-df-convert {\n",
              "      background-color: #3B4455;\n",
              "      fill: #D2E3FC;\n",
              "    }\n",
              "\n",
              "    [theme=dark] .colab-df-convert:hover {\n",
              "      background-color: #434B5C;\n",
              "      box-shadow: 0px 1px 3px 1px rgba(0, 0, 0, 0.15);\n",
              "      filter: drop-shadow(0px 1px 2px rgba(0, 0, 0, 0.3));\n",
              "      fill: #FFFFFF;\n",
              "    }\n",
              "  </style>\n",
              "\n",
              "      <script>\n",
              "        const buttonEl =\n",
              "          document.querySelector('#df-4cf7f2f7-5c05-4694-b517-7882b69b0c59 button.colab-df-convert');\n",
              "        buttonEl.style.display =\n",
              "          google.colab.kernel.accessAllowed ? 'block' : 'none';\n",
              "\n",
              "        async function convertToInteractive(key) {\n",
              "          const element = document.querySelector('#df-4cf7f2f7-5c05-4694-b517-7882b69b0c59');\n",
              "          const dataTable =\n",
              "            await google.colab.kernel.invokeFunction('convertToInteractive',\n",
              "                                                     [key], {});\n",
              "          if (!dataTable) return;\n",
              "\n",
              "          const docLinkHtml = 'Like what you see? Visit the ' +\n",
              "            '<a target=\"_blank\" href=https://colab.research.google.com/notebooks/data_table.ipynb>data table notebook</a>'\n",
              "            + ' to learn more about interactive tables.';\n",
              "          element.innerHTML = '';\n",
              "          dataTable['output_type'] = 'display_data';\n",
              "          await google.colab.output.renderOutput(dataTable, element);\n",
              "          const docLink = document.createElement('div');\n",
              "          docLink.innerHTML = docLinkHtml;\n",
              "          element.appendChild(docLink);\n",
              "        }\n",
              "      </script>\n",
              "    </div>\n",
              "  </div>\n",
              "  "
            ]
          },
          "metadata": {},
          "execution_count": 57
        }
      ]
    },
    {
      "cell_type": "markdown",
      "source": [
        "We can keep track of experiments and models using TensorBoard.\n",
        "\n",
        "Another tool for tracking all experiments is **weights and biases**."
      ],
      "metadata": {
        "id": "O7mRp4x2uWtw"
      }
    },
    {
      "cell_type": "markdown",
      "source": [
        "**Saving models**\n",
        "\n",
        "Saving models allows us to use the model outside of the colab and in a mobile app or web app.\n",
        "\n",
        "There are 2 formats to save model\n",
        "1. The SavedModel format -> default\n",
        "2. The HDF5 format"
      ],
      "metadata": {
        "id": "KJe9dvRAu53p"
      }
    },
    {
      "cell_type": "code",
      "source": [
        "# To see all the files generated by below command, click the folder icon from the left pane\n",
        "model_2.save(\"my_model_2_SavedModel_format\")"
      ],
      "metadata": {
        "colab": {
          "base_uri": "https://localhost:8080/"
        },
        "id": "sWlUk5tdsxsg",
        "outputId": "c7b5ee3d-4989-4ed5-867a-df6aa83e091a"
      },
      "execution_count": null,
      "outputs": [
        {
          "output_type": "stream",
          "name": "stdout",
          "text": [
            "INFO:tensorflow:Assets written to: my_model_2_SavedModel_format/assets\n"
          ]
        }
      ]
    },
    {
      "cell_type": "code",
      "source": [
        "# Save model using HDF5 format\n",
        "model_2.save(\"my_model_2_HDF5_format.h5\")"
      ],
      "metadata": {
        "id": "7PgplNsdwK1C"
      },
      "execution_count": null,
      "outputs": []
    },
    {
      "cell_type": "markdown",
      "source": [
        "Loading saved model"
      ],
      "metadata": {
        "id": "GH8ZzhXtCxcj"
      }
    },
    {
      "cell_type": "code",
      "source": [
        "# Load model in SavedModel format\n",
        "loaded_SavedModel_2 = tf.keras.models.load_model(\"/content/my_model_2_SavedModel_format\")\n",
        "\n",
        "# Quickcheck if it is loaded\n",
        "loaded_SavedModel_2.summary()"
      ],
      "metadata": {
        "colab": {
          "base_uri": "https://localhost:8080/"
        },
        "id": "TCuR6OO0xdfC",
        "outputId": "1873ed19-05df-4c1a-fffb-3c1d17bcdb07"
      },
      "execution_count": null,
      "outputs": [
        {
          "output_type": "stream",
          "name": "stdout",
          "text": [
            "Model: \"test_model_2\"\n",
            "_________________________________________________________________\n",
            " Layer (type)                Output Shape              Param #   \n",
            "=================================================================\n",
            " test_input_2 (Dense)        (None, 200)               400       \n",
            "                                                                 \n",
            " test_output_2 (Dense)       (None, 1)                 201       \n",
            "                                                                 \n",
            "=================================================================\n",
            "Total params: 601\n",
            "Trainable params: 601\n",
            "Non-trainable params: 0\n",
            "_________________________________________________________________\n"
          ]
        }
      ]
    },
    {
      "cell_type": "code",
      "source": [
        "# Compare model_2 predictions with loaded_SavedModel_2 to be sure they are the same\n",
        "loaded_SavedModel_2_pred = loaded_SavedModel_2.predict(X_test)\n",
        "\n",
        "loaded_model_compare = [[\"model_2\", mae_2, mse_2],\n",
        "                        [\"loaded_model\", calculate_mae(y_test, loaded_SavedModel_2_pred), calculate_mse(y_test, loaded_SavedModel_2_pred)]]\n",
        "\n",
        "df(loaded_model_compare, columns=[\"Model\", \"MAE\", \"MSE\"])"
      ],
      "metadata": {
        "colab": {
          "base_uri": "https://localhost:8080/",
          "height": 112
        },
        "id": "o81lfQ_rDi-7",
        "outputId": "d14fd6d1-84cf-4f99-826e-f62b13092699"
      },
      "execution_count": null,
      "outputs": [
        {
          "output_type": "execute_result",
          "data": {
            "text/plain": [
              "          Model      MAE       MSE\n",
              "0       model_2  0.86897  0.764436\n",
              "1  loaded_model  0.86897  0.764436"
            ],
            "text/html": [
              "\n",
              "  <div id=\"df-9f5f9d62-05df-41d5-a7f7-0e588f113245\">\n",
              "    <div class=\"colab-df-container\">\n",
              "      <div>\n",
              "<style scoped>\n",
              "    .dataframe tbody tr th:only-of-type {\n",
              "        vertical-align: middle;\n",
              "    }\n",
              "\n",
              "    .dataframe tbody tr th {\n",
              "        vertical-align: top;\n",
              "    }\n",
              "\n",
              "    .dataframe thead th {\n",
              "        text-align: right;\n",
              "    }\n",
              "</style>\n",
              "<table border=\"1\" class=\"dataframe\">\n",
              "  <thead>\n",
              "    <tr style=\"text-align: right;\">\n",
              "      <th></th>\n",
              "      <th>Model</th>\n",
              "      <th>MAE</th>\n",
              "      <th>MSE</th>\n",
              "    </tr>\n",
              "  </thead>\n",
              "  <tbody>\n",
              "    <tr>\n",
              "      <th>0</th>\n",
              "      <td>model_2</td>\n",
              "      <td>0.86897</td>\n",
              "      <td>0.764436</td>\n",
              "    </tr>\n",
              "    <tr>\n",
              "      <th>1</th>\n",
              "      <td>loaded_model</td>\n",
              "      <td>0.86897</td>\n",
              "      <td>0.764436</td>\n",
              "    </tr>\n",
              "  </tbody>\n",
              "</table>\n",
              "</div>\n",
              "      <button class=\"colab-df-convert\" onclick=\"convertToInteractive('df-9f5f9d62-05df-41d5-a7f7-0e588f113245')\"\n",
              "              title=\"Convert this dataframe to an interactive table.\"\n",
              "              style=\"display:none;\">\n",
              "        \n",
              "  <svg xmlns=\"http://www.w3.org/2000/svg\" height=\"24px\"viewBox=\"0 0 24 24\"\n",
              "       width=\"24px\">\n",
              "    <path d=\"M0 0h24v24H0V0z\" fill=\"none\"/>\n",
              "    <path d=\"M18.56 5.44l.94 2.06.94-2.06 2.06-.94-2.06-.94-.94-2.06-.94 2.06-2.06.94zm-11 1L8.5 8.5l.94-2.06 2.06-.94-2.06-.94L8.5 2.5l-.94 2.06-2.06.94zm10 10l.94 2.06.94-2.06 2.06-.94-2.06-.94-.94-2.06-.94 2.06-2.06.94z\"/><path d=\"M17.41 7.96l-1.37-1.37c-.4-.4-.92-.59-1.43-.59-.52 0-1.04.2-1.43.59L10.3 9.45l-7.72 7.72c-.78.78-.78 2.05 0 2.83L4 21.41c.39.39.9.59 1.41.59.51 0 1.02-.2 1.41-.59l7.78-7.78 2.81-2.81c.8-.78.8-2.07 0-2.86zM5.41 20L4 18.59l7.72-7.72 1.47 1.35L5.41 20z\"/>\n",
              "  </svg>\n",
              "      </button>\n",
              "      \n",
              "  <style>\n",
              "    .colab-df-container {\n",
              "      display:flex;\n",
              "      flex-wrap:wrap;\n",
              "      gap: 12px;\n",
              "    }\n",
              "\n",
              "    .colab-df-convert {\n",
              "      background-color: #E8F0FE;\n",
              "      border: none;\n",
              "      border-radius: 50%;\n",
              "      cursor: pointer;\n",
              "      display: none;\n",
              "      fill: #1967D2;\n",
              "      height: 32px;\n",
              "      padding: 0 0 0 0;\n",
              "      width: 32px;\n",
              "    }\n",
              "\n",
              "    .colab-df-convert:hover {\n",
              "      background-color: #E2EBFA;\n",
              "      box-shadow: 0px 1px 2px rgba(60, 64, 67, 0.3), 0px 1px 3px 1px rgba(60, 64, 67, 0.15);\n",
              "      fill: #174EA6;\n",
              "    }\n",
              "\n",
              "    [theme=dark] .colab-df-convert {\n",
              "      background-color: #3B4455;\n",
              "      fill: #D2E3FC;\n",
              "    }\n",
              "\n",
              "    [theme=dark] .colab-df-convert:hover {\n",
              "      background-color: #434B5C;\n",
              "      box-shadow: 0px 1px 3px 1px rgba(0, 0, 0, 0.15);\n",
              "      filter: drop-shadow(0px 1px 2px rgba(0, 0, 0, 0.3));\n",
              "      fill: #FFFFFF;\n",
              "    }\n",
              "  </style>\n",
              "\n",
              "      <script>\n",
              "        const buttonEl =\n",
              "          document.querySelector('#df-9f5f9d62-05df-41d5-a7f7-0e588f113245 button.colab-df-convert');\n",
              "        buttonEl.style.display =\n",
              "          google.colab.kernel.accessAllowed ? 'block' : 'none';\n",
              "\n",
              "        async function convertToInteractive(key) {\n",
              "          const element = document.querySelector('#df-9f5f9d62-05df-41d5-a7f7-0e588f113245');\n",
              "          const dataTable =\n",
              "            await google.colab.kernel.invokeFunction('convertToInteractive',\n",
              "                                                     [key], {});\n",
              "          if (!dataTable) return;\n",
              "\n",
              "          const docLinkHtml = 'Like what you see? Visit the ' +\n",
              "            '<a target=\"_blank\" href=https://colab.research.google.com/notebooks/data_table.ipynb>data table notebook</a>'\n",
              "            + ' to learn more about interactive tables.';\n",
              "          element.innerHTML = '';\n",
              "          dataTable['output_type'] = 'display_data';\n",
              "          await google.colab.output.renderOutput(dataTable, element);\n",
              "          const docLink = document.createElement('div');\n",
              "          docLink.innerHTML = docLinkHtml;\n",
              "          element.appendChild(docLink);\n",
              "        }\n",
              "      </script>\n",
              "    </div>\n",
              "  </div>\n",
              "  "
            ]
          },
          "metadata": {},
          "execution_count": 61
        }
      ]
    },
    {
      "cell_type": "code",
      "source": [
        "# Load model in .h5 format\n",
        "loaded_h5_2 = tf.keras.models.load_model(\"/content/my_model_2_HDF5_format.h5\")\n",
        "loaded_h5_2.summary()"
      ],
      "metadata": {
        "colab": {
          "base_uri": "https://localhost:8080/"
        },
        "id": "1-N_bYr7F9xc",
        "outputId": "5064b04b-fcf3-45f9-8007-9c4706bf957d"
      },
      "execution_count": null,
      "outputs": [
        {
          "output_type": "stream",
          "name": "stdout",
          "text": [
            "Model: \"test_model_2\"\n",
            "_________________________________________________________________\n",
            " Layer (type)                Output Shape              Param #   \n",
            "=================================================================\n",
            " test_input_2 (Dense)        (None, 200)               400       \n",
            "                                                                 \n",
            " test_output_2 (Dense)       (None, 1)                 201       \n",
            "                                                                 \n",
            "=================================================================\n",
            "Total params: 601\n",
            "Trainable params: 601\n",
            "Non-trainable params: 0\n",
            "_________________________________________________________________\n"
          ]
        }
      ]
    },
    {
      "cell_type": "code",
      "source": [
        "loaded_h5_2_pred = loaded_h5_2.predict(X_test)\n",
        "\n",
        "loaded_h5_model_compare = [[\"model_2\", mae_2, mse_2],\n",
        "                           [\"H5_model_2\", calculate_mae(y_test, loaded_h5_2_pred), calculate_mse(y_test, loaded_h5_2_pred)]]\n",
        "\n",
        "df(loaded_h5_model_compare, columns=[\"Model\", \"MAE\", \"MSE\"])"
      ],
      "metadata": {
        "colab": {
          "base_uri": "https://localhost:8080/",
          "height": 112
        },
        "id": "A1oR1SqzIeiN",
        "outputId": "739fe2ea-ceea-4f8b-83e3-4cd8937da820"
      },
      "execution_count": null,
      "outputs": [
        {
          "output_type": "execute_result",
          "data": {
            "text/plain": [
              "        Model      MAE       MSE\n",
              "0     model_2  0.86897  0.764436\n",
              "1  H5_model_2  0.86897  0.764436"
            ],
            "text/html": [
              "\n",
              "  <div id=\"df-474064d8-4a48-479d-8a80-0a58a8ff47d8\">\n",
              "    <div class=\"colab-df-container\">\n",
              "      <div>\n",
              "<style scoped>\n",
              "    .dataframe tbody tr th:only-of-type {\n",
              "        vertical-align: middle;\n",
              "    }\n",
              "\n",
              "    .dataframe tbody tr th {\n",
              "        vertical-align: top;\n",
              "    }\n",
              "\n",
              "    .dataframe thead th {\n",
              "        text-align: right;\n",
              "    }\n",
              "</style>\n",
              "<table border=\"1\" class=\"dataframe\">\n",
              "  <thead>\n",
              "    <tr style=\"text-align: right;\">\n",
              "      <th></th>\n",
              "      <th>Model</th>\n",
              "      <th>MAE</th>\n",
              "      <th>MSE</th>\n",
              "    </tr>\n",
              "  </thead>\n",
              "  <tbody>\n",
              "    <tr>\n",
              "      <th>0</th>\n",
              "      <td>model_2</td>\n",
              "      <td>0.86897</td>\n",
              "      <td>0.764436</td>\n",
              "    </tr>\n",
              "    <tr>\n",
              "      <th>1</th>\n",
              "      <td>H5_model_2</td>\n",
              "      <td>0.86897</td>\n",
              "      <td>0.764436</td>\n",
              "    </tr>\n",
              "  </tbody>\n",
              "</table>\n",
              "</div>\n",
              "      <button class=\"colab-df-convert\" onclick=\"convertToInteractive('df-474064d8-4a48-479d-8a80-0a58a8ff47d8')\"\n",
              "              title=\"Convert this dataframe to an interactive table.\"\n",
              "              style=\"display:none;\">\n",
              "        \n",
              "  <svg xmlns=\"http://www.w3.org/2000/svg\" height=\"24px\"viewBox=\"0 0 24 24\"\n",
              "       width=\"24px\">\n",
              "    <path d=\"M0 0h24v24H0V0z\" fill=\"none\"/>\n",
              "    <path d=\"M18.56 5.44l.94 2.06.94-2.06 2.06-.94-2.06-.94-.94-2.06-.94 2.06-2.06.94zm-11 1L8.5 8.5l.94-2.06 2.06-.94-2.06-.94L8.5 2.5l-.94 2.06-2.06.94zm10 10l.94 2.06.94-2.06 2.06-.94-2.06-.94-.94-2.06-.94 2.06-2.06.94z\"/><path d=\"M17.41 7.96l-1.37-1.37c-.4-.4-.92-.59-1.43-.59-.52 0-1.04.2-1.43.59L10.3 9.45l-7.72 7.72c-.78.78-.78 2.05 0 2.83L4 21.41c.39.39.9.59 1.41.59.51 0 1.02-.2 1.41-.59l7.78-7.78 2.81-2.81c.8-.78.8-2.07 0-2.86zM5.41 20L4 18.59l7.72-7.72 1.47 1.35L5.41 20z\"/>\n",
              "  </svg>\n",
              "      </button>\n",
              "      \n",
              "  <style>\n",
              "    .colab-df-container {\n",
              "      display:flex;\n",
              "      flex-wrap:wrap;\n",
              "      gap: 12px;\n",
              "    }\n",
              "\n",
              "    .colab-df-convert {\n",
              "      background-color: #E8F0FE;\n",
              "      border: none;\n",
              "      border-radius: 50%;\n",
              "      cursor: pointer;\n",
              "      display: none;\n",
              "      fill: #1967D2;\n",
              "      height: 32px;\n",
              "      padding: 0 0 0 0;\n",
              "      width: 32px;\n",
              "    }\n",
              "\n",
              "    .colab-df-convert:hover {\n",
              "      background-color: #E2EBFA;\n",
              "      box-shadow: 0px 1px 2px rgba(60, 64, 67, 0.3), 0px 1px 3px 1px rgba(60, 64, 67, 0.15);\n",
              "      fill: #174EA6;\n",
              "    }\n",
              "\n",
              "    [theme=dark] .colab-df-convert {\n",
              "      background-color: #3B4455;\n",
              "      fill: #D2E3FC;\n",
              "    }\n",
              "\n",
              "    [theme=dark] .colab-df-convert:hover {\n",
              "      background-color: #434B5C;\n",
              "      box-shadow: 0px 1px 3px 1px rgba(0, 0, 0, 0.15);\n",
              "      filter: drop-shadow(0px 1px 2px rgba(0, 0, 0, 0.3));\n",
              "      fill: #FFFFFF;\n",
              "    }\n",
              "  </style>\n",
              "\n",
              "      <script>\n",
              "        const buttonEl =\n",
              "          document.querySelector('#df-474064d8-4a48-479d-8a80-0a58a8ff47d8 button.colab-df-convert');\n",
              "        buttonEl.style.display =\n",
              "          google.colab.kernel.accessAllowed ? 'block' : 'none';\n",
              "\n",
              "        async function convertToInteractive(key) {\n",
              "          const element = document.querySelector('#df-474064d8-4a48-479d-8a80-0a58a8ff47d8');\n",
              "          const dataTable =\n",
              "            await google.colab.kernel.invokeFunction('convertToInteractive',\n",
              "                                                     [key], {});\n",
              "          if (!dataTable) return;\n",
              "\n",
              "          const docLinkHtml = 'Like what you see? Visit the ' +\n",
              "            '<a target=\"_blank\" href=https://colab.research.google.com/notebooks/data_table.ipynb>data table notebook</a>'\n",
              "            + ' to learn more about interactive tables.';\n",
              "          element.innerHTML = '';\n",
              "          dataTable['output_type'] = 'display_data';\n",
              "          await google.colab.output.renderOutput(dataTable, element);\n",
              "          const docLink = document.createElement('div');\n",
              "          docLink.innerHTML = docLinkHtml;\n",
              "          element.appendChild(docLink);\n",
              "        }\n",
              "      </script>\n",
              "    </div>\n",
              "  </div>\n",
              "  "
            ]
          },
          "metadata": {},
          "execution_count": 63
        }
      ]
    },
    {
      "cell_type": "markdown",
      "source": [
        "Downloading file from Google Colab\n",
        "\n",
        "1. From file tab, right click -> download\n",
        "2. Using code\n",
        "3. We can also use Google Drive (not interested)"
      ],
      "metadata": {
        "id": "GUtq1VrKKV5-"
      }
    },
    {
      "cell_type": "code",
      "source": [
        "# Downloading a file from Google Colab\n",
        "# Commenting out below 2 lines of codes to stop downloading the file each time the program runs\n",
        "#from google.colab import files\n",
        "#files.download(\"/content/my_model_2_HDF5_format.h5\")"
      ],
      "metadata": {
        "id": "MnBRPwAAJh54"
      },
      "execution_count": null,
      "outputs": []
    },
    {
      "cell_type": "markdown",
      "source": [
        "**Insurence regression model**"
      ],
      "metadata": {
        "id": "bcfWaVoYV23r"
      }
    },
    {
      "cell_type": "code",
      "source": [
        "import pandas as pd"
      ],
      "metadata": {
        "id": "67HzoI_CV1Cc"
      },
      "execution_count": null,
      "outputs": []
    },
    {
      "cell_type": "code",
      "source": [
        "# Read the dataset from github url\n",
        "insurance = pd.read_csv(\"https://raw.githubusercontent.com/stedy/Machine-Learning-with-R-datasets/master/insurance.csv\")\n",
        "insurance"
      ],
      "metadata": {
        "colab": {
          "base_uri": "https://localhost:8080/",
          "height": 424
        },
        "id": "oCD5_k3FWKE6",
        "outputId": "1e91fac3-bde4-4be4-ee9e-db32cb15b7d0"
      },
      "execution_count": null,
      "outputs": [
        {
          "output_type": "execute_result",
          "data": {
            "text/plain": [
              "      age     sex     bmi  children smoker     region      charges\n",
              "0      19  female  27.900         0    yes  southwest  16884.92400\n",
              "1      18    male  33.770         1     no  southeast   1725.55230\n",
              "2      28    male  33.000         3     no  southeast   4449.46200\n",
              "3      33    male  22.705         0     no  northwest  21984.47061\n",
              "4      32    male  28.880         0     no  northwest   3866.85520\n",
              "...   ...     ...     ...       ...    ...        ...          ...\n",
              "1333   50    male  30.970         3     no  northwest  10600.54830\n",
              "1334   18  female  31.920         0     no  northeast   2205.98080\n",
              "1335   18  female  36.850         0     no  southeast   1629.83350\n",
              "1336   21  female  25.800         0     no  southwest   2007.94500\n",
              "1337   61  female  29.070         0    yes  northwest  29141.36030\n",
              "\n",
              "[1338 rows x 7 columns]"
            ],
            "text/html": [
              "\n",
              "  <div id=\"df-60fdd4c2-f814-4fe0-974b-cf83fa8859d5\">\n",
              "    <div class=\"colab-df-container\">\n",
              "      <div>\n",
              "<style scoped>\n",
              "    .dataframe tbody tr th:only-of-type {\n",
              "        vertical-align: middle;\n",
              "    }\n",
              "\n",
              "    .dataframe tbody tr th {\n",
              "        vertical-align: top;\n",
              "    }\n",
              "\n",
              "    .dataframe thead th {\n",
              "        text-align: right;\n",
              "    }\n",
              "</style>\n",
              "<table border=\"1\" class=\"dataframe\">\n",
              "  <thead>\n",
              "    <tr style=\"text-align: right;\">\n",
              "      <th></th>\n",
              "      <th>age</th>\n",
              "      <th>sex</th>\n",
              "      <th>bmi</th>\n",
              "      <th>children</th>\n",
              "      <th>smoker</th>\n",
              "      <th>region</th>\n",
              "      <th>charges</th>\n",
              "    </tr>\n",
              "  </thead>\n",
              "  <tbody>\n",
              "    <tr>\n",
              "      <th>0</th>\n",
              "      <td>19</td>\n",
              "      <td>female</td>\n",
              "      <td>27.900</td>\n",
              "      <td>0</td>\n",
              "      <td>yes</td>\n",
              "      <td>southwest</td>\n",
              "      <td>16884.92400</td>\n",
              "    </tr>\n",
              "    <tr>\n",
              "      <th>1</th>\n",
              "      <td>18</td>\n",
              "      <td>male</td>\n",
              "      <td>33.770</td>\n",
              "      <td>1</td>\n",
              "      <td>no</td>\n",
              "      <td>southeast</td>\n",
              "      <td>1725.55230</td>\n",
              "    </tr>\n",
              "    <tr>\n",
              "      <th>2</th>\n",
              "      <td>28</td>\n",
              "      <td>male</td>\n",
              "      <td>33.000</td>\n",
              "      <td>3</td>\n",
              "      <td>no</td>\n",
              "      <td>southeast</td>\n",
              "      <td>4449.46200</td>\n",
              "    </tr>\n",
              "    <tr>\n",
              "      <th>3</th>\n",
              "      <td>33</td>\n",
              "      <td>male</td>\n",
              "      <td>22.705</td>\n",
              "      <td>0</td>\n",
              "      <td>no</td>\n",
              "      <td>northwest</td>\n",
              "      <td>21984.47061</td>\n",
              "    </tr>\n",
              "    <tr>\n",
              "      <th>4</th>\n",
              "      <td>32</td>\n",
              "      <td>male</td>\n",
              "      <td>28.880</td>\n",
              "      <td>0</td>\n",
              "      <td>no</td>\n",
              "      <td>northwest</td>\n",
              "      <td>3866.85520</td>\n",
              "    </tr>\n",
              "    <tr>\n",
              "      <th>...</th>\n",
              "      <td>...</td>\n",
              "      <td>...</td>\n",
              "      <td>...</td>\n",
              "      <td>...</td>\n",
              "      <td>...</td>\n",
              "      <td>...</td>\n",
              "      <td>...</td>\n",
              "    </tr>\n",
              "    <tr>\n",
              "      <th>1333</th>\n",
              "      <td>50</td>\n",
              "      <td>male</td>\n",
              "      <td>30.970</td>\n",
              "      <td>3</td>\n",
              "      <td>no</td>\n",
              "      <td>northwest</td>\n",
              "      <td>10600.54830</td>\n",
              "    </tr>\n",
              "    <tr>\n",
              "      <th>1334</th>\n",
              "      <td>18</td>\n",
              "      <td>female</td>\n",
              "      <td>31.920</td>\n",
              "      <td>0</td>\n",
              "      <td>no</td>\n",
              "      <td>northeast</td>\n",
              "      <td>2205.98080</td>\n",
              "    </tr>\n",
              "    <tr>\n",
              "      <th>1335</th>\n",
              "      <td>18</td>\n",
              "      <td>female</td>\n",
              "      <td>36.850</td>\n",
              "      <td>0</td>\n",
              "      <td>no</td>\n",
              "      <td>southeast</td>\n",
              "      <td>1629.83350</td>\n",
              "    </tr>\n",
              "    <tr>\n",
              "      <th>1336</th>\n",
              "      <td>21</td>\n",
              "      <td>female</td>\n",
              "      <td>25.800</td>\n",
              "      <td>0</td>\n",
              "      <td>no</td>\n",
              "      <td>southwest</td>\n",
              "      <td>2007.94500</td>\n",
              "    </tr>\n",
              "    <tr>\n",
              "      <th>1337</th>\n",
              "      <td>61</td>\n",
              "      <td>female</td>\n",
              "      <td>29.070</td>\n",
              "      <td>0</td>\n",
              "      <td>yes</td>\n",
              "      <td>northwest</td>\n",
              "      <td>29141.36030</td>\n",
              "    </tr>\n",
              "  </tbody>\n",
              "</table>\n",
              "<p>1338 rows × 7 columns</p>\n",
              "</div>\n",
              "      <button class=\"colab-df-convert\" onclick=\"convertToInteractive('df-60fdd4c2-f814-4fe0-974b-cf83fa8859d5')\"\n",
              "              title=\"Convert this dataframe to an interactive table.\"\n",
              "              style=\"display:none;\">\n",
              "        \n",
              "  <svg xmlns=\"http://www.w3.org/2000/svg\" height=\"24px\"viewBox=\"0 0 24 24\"\n",
              "       width=\"24px\">\n",
              "    <path d=\"M0 0h24v24H0V0z\" fill=\"none\"/>\n",
              "    <path d=\"M18.56 5.44l.94 2.06.94-2.06 2.06-.94-2.06-.94-.94-2.06-.94 2.06-2.06.94zm-11 1L8.5 8.5l.94-2.06 2.06-.94-2.06-.94L8.5 2.5l-.94 2.06-2.06.94zm10 10l.94 2.06.94-2.06 2.06-.94-2.06-.94-.94-2.06-.94 2.06-2.06.94z\"/><path d=\"M17.41 7.96l-1.37-1.37c-.4-.4-.92-.59-1.43-.59-.52 0-1.04.2-1.43.59L10.3 9.45l-7.72 7.72c-.78.78-.78 2.05 0 2.83L4 21.41c.39.39.9.59 1.41.59.51 0 1.02-.2 1.41-.59l7.78-7.78 2.81-2.81c.8-.78.8-2.07 0-2.86zM5.41 20L4 18.59l7.72-7.72 1.47 1.35L5.41 20z\"/>\n",
              "  </svg>\n",
              "      </button>\n",
              "      \n",
              "  <style>\n",
              "    .colab-df-container {\n",
              "      display:flex;\n",
              "      flex-wrap:wrap;\n",
              "      gap: 12px;\n",
              "    }\n",
              "\n",
              "    .colab-df-convert {\n",
              "      background-color: #E8F0FE;\n",
              "      border: none;\n",
              "      border-radius: 50%;\n",
              "      cursor: pointer;\n",
              "      display: none;\n",
              "      fill: #1967D2;\n",
              "      height: 32px;\n",
              "      padding: 0 0 0 0;\n",
              "      width: 32px;\n",
              "    }\n",
              "\n",
              "    .colab-df-convert:hover {\n",
              "      background-color: #E2EBFA;\n",
              "      box-shadow: 0px 1px 2px rgba(60, 64, 67, 0.3), 0px 1px 3px 1px rgba(60, 64, 67, 0.15);\n",
              "      fill: #174EA6;\n",
              "    }\n",
              "\n",
              "    [theme=dark] .colab-df-convert {\n",
              "      background-color: #3B4455;\n",
              "      fill: #D2E3FC;\n",
              "    }\n",
              "\n",
              "    [theme=dark] .colab-df-convert:hover {\n",
              "      background-color: #434B5C;\n",
              "      box-shadow: 0px 1px 3px 1px rgba(0, 0, 0, 0.15);\n",
              "      filter: drop-shadow(0px 1px 2px rgba(0, 0, 0, 0.3));\n",
              "      fill: #FFFFFF;\n",
              "    }\n",
              "  </style>\n",
              "\n",
              "      <script>\n",
              "        const buttonEl =\n",
              "          document.querySelector('#df-60fdd4c2-f814-4fe0-974b-cf83fa8859d5 button.colab-df-convert');\n",
              "        buttonEl.style.display =\n",
              "          google.colab.kernel.accessAllowed ? 'block' : 'none';\n",
              "\n",
              "        async function convertToInteractive(key) {\n",
              "          const element = document.querySelector('#df-60fdd4c2-f814-4fe0-974b-cf83fa8859d5');\n",
              "          const dataTable =\n",
              "            await google.colab.kernel.invokeFunction('convertToInteractive',\n",
              "                                                     [key], {});\n",
              "          if (!dataTable) return;\n",
              "\n",
              "          const docLinkHtml = 'Like what you see? Visit the ' +\n",
              "            '<a target=\"_blank\" href=https://colab.research.google.com/notebooks/data_table.ipynb>data table notebook</a>'\n",
              "            + ' to learn more about interactive tables.';\n",
              "          element.innerHTML = '';\n",
              "          dataTable['output_type'] = 'display_data';\n",
              "          await google.colab.output.renderOutput(dataTable, element);\n",
              "          const docLink = document.createElement('div');\n",
              "          docLink.innerHTML = docLinkHtml;\n",
              "          element.appendChild(docLink);\n",
              "        }\n",
              "      </script>\n",
              "    </div>\n",
              "  </div>\n",
              "  "
            ]
          },
          "metadata": {},
          "execution_count": 66
        }
      ]
    },
    {
      "cell_type": "code",
      "source": [
        "# Sample has strings and numbers. Let's use one-hot encoding to our DF so it's all numbers\n",
        "insurance_one_hot = pd.get_dummies(insurance)\n",
        "insurance_one_hot"
      ],
      "metadata": {
        "id": "R8YhDv7nWxbp",
        "colab": {
          "base_uri": "https://localhost:8080/",
          "height": 424
        },
        "outputId": "a4b65a34-b67e-443c-cf0a-9a58fa096ba1"
      },
      "execution_count": null,
      "outputs": [
        {
          "output_type": "execute_result",
          "data": {
            "text/plain": [
              "      age     bmi  children      charges  sex_female  sex_male  smoker_no  \\\n",
              "0      19  27.900         0  16884.92400           1         0          0   \n",
              "1      18  33.770         1   1725.55230           0         1          1   \n",
              "2      28  33.000         3   4449.46200           0         1          1   \n",
              "3      33  22.705         0  21984.47061           0         1          1   \n",
              "4      32  28.880         0   3866.85520           0         1          1   \n",
              "...   ...     ...       ...          ...         ...       ...        ...   \n",
              "1333   50  30.970         3  10600.54830           0         1          1   \n",
              "1334   18  31.920         0   2205.98080           1         0          1   \n",
              "1335   18  36.850         0   1629.83350           1         0          1   \n",
              "1336   21  25.800         0   2007.94500           1         0          1   \n",
              "1337   61  29.070         0  29141.36030           1         0          0   \n",
              "\n",
              "      smoker_yes  region_northeast  region_northwest  region_southeast  \\\n",
              "0              1                 0                 0                 0   \n",
              "1              0                 0                 0                 1   \n",
              "2              0                 0                 0                 1   \n",
              "3              0                 0                 1                 0   \n",
              "4              0                 0                 1                 0   \n",
              "...          ...               ...               ...               ...   \n",
              "1333           0                 0                 1                 0   \n",
              "1334           0                 1                 0                 0   \n",
              "1335           0                 0                 0                 1   \n",
              "1336           0                 0                 0                 0   \n",
              "1337           1                 0                 1                 0   \n",
              "\n",
              "      region_southwest  \n",
              "0                    1  \n",
              "1                    0  \n",
              "2                    0  \n",
              "3                    0  \n",
              "4                    0  \n",
              "...                ...  \n",
              "1333                 0  \n",
              "1334                 0  \n",
              "1335                 0  \n",
              "1336                 1  \n",
              "1337                 0  \n",
              "\n",
              "[1338 rows x 12 columns]"
            ],
            "text/html": [
              "\n",
              "  <div id=\"df-dbd25c80-f5e7-488f-85cd-69b4165da592\">\n",
              "    <div class=\"colab-df-container\">\n",
              "      <div>\n",
              "<style scoped>\n",
              "    .dataframe tbody tr th:only-of-type {\n",
              "        vertical-align: middle;\n",
              "    }\n",
              "\n",
              "    .dataframe tbody tr th {\n",
              "        vertical-align: top;\n",
              "    }\n",
              "\n",
              "    .dataframe thead th {\n",
              "        text-align: right;\n",
              "    }\n",
              "</style>\n",
              "<table border=\"1\" class=\"dataframe\">\n",
              "  <thead>\n",
              "    <tr style=\"text-align: right;\">\n",
              "      <th></th>\n",
              "      <th>age</th>\n",
              "      <th>bmi</th>\n",
              "      <th>children</th>\n",
              "      <th>charges</th>\n",
              "      <th>sex_female</th>\n",
              "      <th>sex_male</th>\n",
              "      <th>smoker_no</th>\n",
              "      <th>smoker_yes</th>\n",
              "      <th>region_northeast</th>\n",
              "      <th>region_northwest</th>\n",
              "      <th>region_southeast</th>\n",
              "      <th>region_southwest</th>\n",
              "    </tr>\n",
              "  </thead>\n",
              "  <tbody>\n",
              "    <tr>\n",
              "      <th>0</th>\n",
              "      <td>19</td>\n",
              "      <td>27.900</td>\n",
              "      <td>0</td>\n",
              "      <td>16884.92400</td>\n",
              "      <td>1</td>\n",
              "      <td>0</td>\n",
              "      <td>0</td>\n",
              "      <td>1</td>\n",
              "      <td>0</td>\n",
              "      <td>0</td>\n",
              "      <td>0</td>\n",
              "      <td>1</td>\n",
              "    </tr>\n",
              "    <tr>\n",
              "      <th>1</th>\n",
              "      <td>18</td>\n",
              "      <td>33.770</td>\n",
              "      <td>1</td>\n",
              "      <td>1725.55230</td>\n",
              "      <td>0</td>\n",
              "      <td>1</td>\n",
              "      <td>1</td>\n",
              "      <td>0</td>\n",
              "      <td>0</td>\n",
              "      <td>0</td>\n",
              "      <td>1</td>\n",
              "      <td>0</td>\n",
              "    </tr>\n",
              "    <tr>\n",
              "      <th>2</th>\n",
              "      <td>28</td>\n",
              "      <td>33.000</td>\n",
              "      <td>3</td>\n",
              "      <td>4449.46200</td>\n",
              "      <td>0</td>\n",
              "      <td>1</td>\n",
              "      <td>1</td>\n",
              "      <td>0</td>\n",
              "      <td>0</td>\n",
              "      <td>0</td>\n",
              "      <td>1</td>\n",
              "      <td>0</td>\n",
              "    </tr>\n",
              "    <tr>\n",
              "      <th>3</th>\n",
              "      <td>33</td>\n",
              "      <td>22.705</td>\n",
              "      <td>0</td>\n",
              "      <td>21984.47061</td>\n",
              "      <td>0</td>\n",
              "      <td>1</td>\n",
              "      <td>1</td>\n",
              "      <td>0</td>\n",
              "      <td>0</td>\n",
              "      <td>1</td>\n",
              "      <td>0</td>\n",
              "      <td>0</td>\n",
              "    </tr>\n",
              "    <tr>\n",
              "      <th>4</th>\n",
              "      <td>32</td>\n",
              "      <td>28.880</td>\n",
              "      <td>0</td>\n",
              "      <td>3866.85520</td>\n",
              "      <td>0</td>\n",
              "      <td>1</td>\n",
              "      <td>1</td>\n",
              "      <td>0</td>\n",
              "      <td>0</td>\n",
              "      <td>1</td>\n",
              "      <td>0</td>\n",
              "      <td>0</td>\n",
              "    </tr>\n",
              "    <tr>\n",
              "      <th>...</th>\n",
              "      <td>...</td>\n",
              "      <td>...</td>\n",
              "      <td>...</td>\n",
              "      <td>...</td>\n",
              "      <td>...</td>\n",
              "      <td>...</td>\n",
              "      <td>...</td>\n",
              "      <td>...</td>\n",
              "      <td>...</td>\n",
              "      <td>...</td>\n",
              "      <td>...</td>\n",
              "      <td>...</td>\n",
              "    </tr>\n",
              "    <tr>\n",
              "      <th>1333</th>\n",
              "      <td>50</td>\n",
              "      <td>30.970</td>\n",
              "      <td>3</td>\n",
              "      <td>10600.54830</td>\n",
              "      <td>0</td>\n",
              "      <td>1</td>\n",
              "      <td>1</td>\n",
              "      <td>0</td>\n",
              "      <td>0</td>\n",
              "      <td>1</td>\n",
              "      <td>0</td>\n",
              "      <td>0</td>\n",
              "    </tr>\n",
              "    <tr>\n",
              "      <th>1334</th>\n",
              "      <td>18</td>\n",
              "      <td>31.920</td>\n",
              "      <td>0</td>\n",
              "      <td>2205.98080</td>\n",
              "      <td>1</td>\n",
              "      <td>0</td>\n",
              "      <td>1</td>\n",
              "      <td>0</td>\n",
              "      <td>1</td>\n",
              "      <td>0</td>\n",
              "      <td>0</td>\n",
              "      <td>0</td>\n",
              "    </tr>\n",
              "    <tr>\n",
              "      <th>1335</th>\n",
              "      <td>18</td>\n",
              "      <td>36.850</td>\n",
              "      <td>0</td>\n",
              "      <td>1629.83350</td>\n",
              "      <td>1</td>\n",
              "      <td>0</td>\n",
              "      <td>1</td>\n",
              "      <td>0</td>\n",
              "      <td>0</td>\n",
              "      <td>0</td>\n",
              "      <td>1</td>\n",
              "      <td>0</td>\n",
              "    </tr>\n",
              "    <tr>\n",
              "      <th>1336</th>\n",
              "      <td>21</td>\n",
              "      <td>25.800</td>\n",
              "      <td>0</td>\n",
              "      <td>2007.94500</td>\n",
              "      <td>1</td>\n",
              "      <td>0</td>\n",
              "      <td>1</td>\n",
              "      <td>0</td>\n",
              "      <td>0</td>\n",
              "      <td>0</td>\n",
              "      <td>0</td>\n",
              "      <td>1</td>\n",
              "    </tr>\n",
              "    <tr>\n",
              "      <th>1337</th>\n",
              "      <td>61</td>\n",
              "      <td>29.070</td>\n",
              "      <td>0</td>\n",
              "      <td>29141.36030</td>\n",
              "      <td>1</td>\n",
              "      <td>0</td>\n",
              "      <td>0</td>\n",
              "      <td>1</td>\n",
              "      <td>0</td>\n",
              "      <td>1</td>\n",
              "      <td>0</td>\n",
              "      <td>0</td>\n",
              "    </tr>\n",
              "  </tbody>\n",
              "</table>\n",
              "<p>1338 rows × 12 columns</p>\n",
              "</div>\n",
              "      <button class=\"colab-df-convert\" onclick=\"convertToInteractive('df-dbd25c80-f5e7-488f-85cd-69b4165da592')\"\n",
              "              title=\"Convert this dataframe to an interactive table.\"\n",
              "              style=\"display:none;\">\n",
              "        \n",
              "  <svg xmlns=\"http://www.w3.org/2000/svg\" height=\"24px\"viewBox=\"0 0 24 24\"\n",
              "       width=\"24px\">\n",
              "    <path d=\"M0 0h24v24H0V0z\" fill=\"none\"/>\n",
              "    <path d=\"M18.56 5.44l.94 2.06.94-2.06 2.06-.94-2.06-.94-.94-2.06-.94 2.06-2.06.94zm-11 1L8.5 8.5l.94-2.06 2.06-.94-2.06-.94L8.5 2.5l-.94 2.06-2.06.94zm10 10l.94 2.06.94-2.06 2.06-.94-2.06-.94-.94-2.06-.94 2.06-2.06.94z\"/><path d=\"M17.41 7.96l-1.37-1.37c-.4-.4-.92-.59-1.43-.59-.52 0-1.04.2-1.43.59L10.3 9.45l-7.72 7.72c-.78.78-.78 2.05 0 2.83L4 21.41c.39.39.9.59 1.41.59.51 0 1.02-.2 1.41-.59l7.78-7.78 2.81-2.81c.8-.78.8-2.07 0-2.86zM5.41 20L4 18.59l7.72-7.72 1.47 1.35L5.41 20z\"/>\n",
              "  </svg>\n",
              "      </button>\n",
              "      \n",
              "  <style>\n",
              "    .colab-df-container {\n",
              "      display:flex;\n",
              "      flex-wrap:wrap;\n",
              "      gap: 12px;\n",
              "    }\n",
              "\n",
              "    .colab-df-convert {\n",
              "      background-color: #E8F0FE;\n",
              "      border: none;\n",
              "      border-radius: 50%;\n",
              "      cursor: pointer;\n",
              "      display: none;\n",
              "      fill: #1967D2;\n",
              "      height: 32px;\n",
              "      padding: 0 0 0 0;\n",
              "      width: 32px;\n",
              "    }\n",
              "\n",
              "    .colab-df-convert:hover {\n",
              "      background-color: #E2EBFA;\n",
              "      box-shadow: 0px 1px 2px rgba(60, 64, 67, 0.3), 0px 1px 3px 1px rgba(60, 64, 67, 0.15);\n",
              "      fill: #174EA6;\n",
              "    }\n",
              "\n",
              "    [theme=dark] .colab-df-convert {\n",
              "      background-color: #3B4455;\n",
              "      fill: #D2E3FC;\n",
              "    }\n",
              "\n",
              "    [theme=dark] .colab-df-convert:hover {\n",
              "      background-color: #434B5C;\n",
              "      box-shadow: 0px 1px 3px 1px rgba(0, 0, 0, 0.15);\n",
              "      filter: drop-shadow(0px 1px 2px rgba(0, 0, 0, 0.3));\n",
              "      fill: #FFFFFF;\n",
              "    }\n",
              "  </style>\n",
              "\n",
              "      <script>\n",
              "        const buttonEl =\n",
              "          document.querySelector('#df-dbd25c80-f5e7-488f-85cd-69b4165da592 button.colab-df-convert');\n",
              "        buttonEl.style.display =\n",
              "          google.colab.kernel.accessAllowed ? 'block' : 'none';\n",
              "\n",
              "        async function convertToInteractive(key) {\n",
              "          const element = document.querySelector('#df-dbd25c80-f5e7-488f-85cd-69b4165da592');\n",
              "          const dataTable =\n",
              "            await google.colab.kernel.invokeFunction('convertToInteractive',\n",
              "                                                     [key], {});\n",
              "          if (!dataTable) return;\n",
              "\n",
              "          const docLinkHtml = 'Like what you see? Visit the ' +\n",
              "            '<a target=\"_blank\" href=https://colab.research.google.com/notebooks/data_table.ipynb>data table notebook</a>'\n",
              "            + ' to learn more about interactive tables.';\n",
              "          element.innerHTML = '';\n",
              "          dataTable['output_type'] = 'display_data';\n",
              "          await google.colab.output.renderOutput(dataTable, element);\n",
              "          const docLink = document.createElement('div');\n",
              "          docLink.innerHTML = docLinkHtml;\n",
              "          element.appendChild(docLink);\n",
              "        }\n",
              "      </script>\n",
              "    </div>\n",
              "  </div>\n",
              "  "
            ]
          },
          "metadata": {},
          "execution_count": 67
        }
      ]
    },
    {
      "cell_type": "markdown",
      "source": [
        "**Steps**\n",
        "1. Create X and y values (features and labels)\n",
        "2. Create training and test sets\n",
        "3. Build a neural network model"
      ],
      "metadata": {
        "id": "ENTKCvW0ffmy"
      }
    },
    {
      "cell_type": "code",
      "source": [
        "# Get all the column names from DataFrame\n",
        "col_list = list(insurance_one_hot)\n",
        "col_list"
      ],
      "metadata": {
        "colab": {
          "base_uri": "https://localhost:8080/"
        },
        "id": "aPqw4UEYu5je",
        "outputId": "304fe65e-1eab-4887-cf50-d0032f2685ca"
      },
      "execution_count": null,
      "outputs": [
        {
          "output_type": "execute_result",
          "data": {
            "text/plain": [
              "['age',\n",
              " 'bmi',\n",
              " 'children',\n",
              " 'charges',\n",
              " 'sex_female',\n",
              " 'sex_male',\n",
              " 'smoker_no',\n",
              " 'smoker_yes',\n",
              " 'region_northeast',\n",
              " 'region_northwest',\n",
              " 'region_southeast',\n",
              " 'region_southwest']"
            ]
          },
          "metadata": {},
          "execution_count": 68
        }
      ]
    },
    {
      "cell_type": "code",
      "source": [
        "# Create label by getting only charges column\n",
        "y_df = insurance_one_hot.charges\n",
        "y_df"
      ],
      "metadata": {
        "colab": {
          "base_uri": "https://localhost:8080/"
        },
        "id": "ADL1eUEOvc76",
        "outputId": "23c42a2a-d805-4bb4-ae6c-9a285f875203"
      },
      "execution_count": null,
      "outputs": [
        {
          "output_type": "execute_result",
          "data": {
            "text/plain": [
              "0       16884.92400\n",
              "1        1725.55230\n",
              "2        4449.46200\n",
              "3       21984.47061\n",
              "4        3866.85520\n",
              "           ...     \n",
              "1333    10600.54830\n",
              "1334     2205.98080\n",
              "1335     1629.83350\n",
              "1336     2007.94500\n",
              "1337    29141.36030\n",
              "Name: charges, Length: 1338, dtype: float64"
            ]
          },
          "metadata": {},
          "execution_count": 69
        }
      ]
    },
    {
      "cell_type": "code",
      "source": [
        "# Get features only (to be used as X)\n",
        "X_df = insurance_one_hot.drop('charges', axis=1)\n",
        "X_df"
      ],
      "metadata": {
        "colab": {
          "base_uri": "https://localhost:8080/",
          "height": 424
        },
        "id": "4-9DTLqOrxwN",
        "outputId": "8ed4e72d-6096-45ec-f30b-dfb7e82a1188"
      },
      "execution_count": null,
      "outputs": [
        {
          "output_type": "execute_result",
          "data": {
            "text/plain": [
              "      age     bmi  children  sex_female  sex_male  smoker_no  smoker_yes  \\\n",
              "0      19  27.900         0           1         0          0           1   \n",
              "1      18  33.770         1           0         1          1           0   \n",
              "2      28  33.000         3           0         1          1           0   \n",
              "3      33  22.705         0           0         1          1           0   \n",
              "4      32  28.880         0           0         1          1           0   \n",
              "...   ...     ...       ...         ...       ...        ...         ...   \n",
              "1333   50  30.970         3           0         1          1           0   \n",
              "1334   18  31.920         0           1         0          1           0   \n",
              "1335   18  36.850         0           1         0          1           0   \n",
              "1336   21  25.800         0           1         0          1           0   \n",
              "1337   61  29.070         0           1         0          0           1   \n",
              "\n",
              "      region_northeast  region_northwest  region_southeast  region_southwest  \n",
              "0                    0                 0                 0                 1  \n",
              "1                    0                 0                 1                 0  \n",
              "2                    0                 0                 1                 0  \n",
              "3                    0                 1                 0                 0  \n",
              "4                    0                 1                 0                 0  \n",
              "...                ...               ...               ...               ...  \n",
              "1333                 0                 1                 0                 0  \n",
              "1334                 1                 0                 0                 0  \n",
              "1335                 0                 0                 1                 0  \n",
              "1336                 0                 0                 0                 1  \n",
              "1337                 0                 1                 0                 0  \n",
              "\n",
              "[1338 rows x 11 columns]"
            ],
            "text/html": [
              "\n",
              "  <div id=\"df-b69e6d7a-220c-44ac-9302-3235e88c6904\">\n",
              "    <div class=\"colab-df-container\">\n",
              "      <div>\n",
              "<style scoped>\n",
              "    .dataframe tbody tr th:only-of-type {\n",
              "        vertical-align: middle;\n",
              "    }\n",
              "\n",
              "    .dataframe tbody tr th {\n",
              "        vertical-align: top;\n",
              "    }\n",
              "\n",
              "    .dataframe thead th {\n",
              "        text-align: right;\n",
              "    }\n",
              "</style>\n",
              "<table border=\"1\" class=\"dataframe\">\n",
              "  <thead>\n",
              "    <tr style=\"text-align: right;\">\n",
              "      <th></th>\n",
              "      <th>age</th>\n",
              "      <th>bmi</th>\n",
              "      <th>children</th>\n",
              "      <th>sex_female</th>\n",
              "      <th>sex_male</th>\n",
              "      <th>smoker_no</th>\n",
              "      <th>smoker_yes</th>\n",
              "      <th>region_northeast</th>\n",
              "      <th>region_northwest</th>\n",
              "      <th>region_southeast</th>\n",
              "      <th>region_southwest</th>\n",
              "    </tr>\n",
              "  </thead>\n",
              "  <tbody>\n",
              "    <tr>\n",
              "      <th>0</th>\n",
              "      <td>19</td>\n",
              "      <td>27.900</td>\n",
              "      <td>0</td>\n",
              "      <td>1</td>\n",
              "      <td>0</td>\n",
              "      <td>0</td>\n",
              "      <td>1</td>\n",
              "      <td>0</td>\n",
              "      <td>0</td>\n",
              "      <td>0</td>\n",
              "      <td>1</td>\n",
              "    </tr>\n",
              "    <tr>\n",
              "      <th>1</th>\n",
              "      <td>18</td>\n",
              "      <td>33.770</td>\n",
              "      <td>1</td>\n",
              "      <td>0</td>\n",
              "      <td>1</td>\n",
              "      <td>1</td>\n",
              "      <td>0</td>\n",
              "      <td>0</td>\n",
              "      <td>0</td>\n",
              "      <td>1</td>\n",
              "      <td>0</td>\n",
              "    </tr>\n",
              "    <tr>\n",
              "      <th>2</th>\n",
              "      <td>28</td>\n",
              "      <td>33.000</td>\n",
              "      <td>3</td>\n",
              "      <td>0</td>\n",
              "      <td>1</td>\n",
              "      <td>1</td>\n",
              "      <td>0</td>\n",
              "      <td>0</td>\n",
              "      <td>0</td>\n",
              "      <td>1</td>\n",
              "      <td>0</td>\n",
              "    </tr>\n",
              "    <tr>\n",
              "      <th>3</th>\n",
              "      <td>33</td>\n",
              "      <td>22.705</td>\n",
              "      <td>0</td>\n",
              "      <td>0</td>\n",
              "      <td>1</td>\n",
              "      <td>1</td>\n",
              "      <td>0</td>\n",
              "      <td>0</td>\n",
              "      <td>1</td>\n",
              "      <td>0</td>\n",
              "      <td>0</td>\n",
              "    </tr>\n",
              "    <tr>\n",
              "      <th>4</th>\n",
              "      <td>32</td>\n",
              "      <td>28.880</td>\n",
              "      <td>0</td>\n",
              "      <td>0</td>\n",
              "      <td>1</td>\n",
              "      <td>1</td>\n",
              "      <td>0</td>\n",
              "      <td>0</td>\n",
              "      <td>1</td>\n",
              "      <td>0</td>\n",
              "      <td>0</td>\n",
              "    </tr>\n",
              "    <tr>\n",
              "      <th>...</th>\n",
              "      <td>...</td>\n",
              "      <td>...</td>\n",
              "      <td>...</td>\n",
              "      <td>...</td>\n",
              "      <td>...</td>\n",
              "      <td>...</td>\n",
              "      <td>...</td>\n",
              "      <td>...</td>\n",
              "      <td>...</td>\n",
              "      <td>...</td>\n",
              "      <td>...</td>\n",
              "    </tr>\n",
              "    <tr>\n",
              "      <th>1333</th>\n",
              "      <td>50</td>\n",
              "      <td>30.970</td>\n",
              "      <td>3</td>\n",
              "      <td>0</td>\n",
              "      <td>1</td>\n",
              "      <td>1</td>\n",
              "      <td>0</td>\n",
              "      <td>0</td>\n",
              "      <td>1</td>\n",
              "      <td>0</td>\n",
              "      <td>0</td>\n",
              "    </tr>\n",
              "    <tr>\n",
              "      <th>1334</th>\n",
              "      <td>18</td>\n",
              "      <td>31.920</td>\n",
              "      <td>0</td>\n",
              "      <td>1</td>\n",
              "      <td>0</td>\n",
              "      <td>1</td>\n",
              "      <td>0</td>\n",
              "      <td>1</td>\n",
              "      <td>0</td>\n",
              "      <td>0</td>\n",
              "      <td>0</td>\n",
              "    </tr>\n",
              "    <tr>\n",
              "      <th>1335</th>\n",
              "      <td>18</td>\n",
              "      <td>36.850</td>\n",
              "      <td>0</td>\n",
              "      <td>1</td>\n",
              "      <td>0</td>\n",
              "      <td>1</td>\n",
              "      <td>0</td>\n",
              "      <td>0</td>\n",
              "      <td>0</td>\n",
              "      <td>1</td>\n",
              "      <td>0</td>\n",
              "    </tr>\n",
              "    <tr>\n",
              "      <th>1336</th>\n",
              "      <td>21</td>\n",
              "      <td>25.800</td>\n",
              "      <td>0</td>\n",
              "      <td>1</td>\n",
              "      <td>0</td>\n",
              "      <td>1</td>\n",
              "      <td>0</td>\n",
              "      <td>0</td>\n",
              "      <td>0</td>\n",
              "      <td>0</td>\n",
              "      <td>1</td>\n",
              "    </tr>\n",
              "    <tr>\n",
              "      <th>1337</th>\n",
              "      <td>61</td>\n",
              "      <td>29.070</td>\n",
              "      <td>0</td>\n",
              "      <td>1</td>\n",
              "      <td>0</td>\n",
              "      <td>0</td>\n",
              "      <td>1</td>\n",
              "      <td>0</td>\n",
              "      <td>1</td>\n",
              "      <td>0</td>\n",
              "      <td>0</td>\n",
              "    </tr>\n",
              "  </tbody>\n",
              "</table>\n",
              "<p>1338 rows × 11 columns</p>\n",
              "</div>\n",
              "      <button class=\"colab-df-convert\" onclick=\"convertToInteractive('df-b69e6d7a-220c-44ac-9302-3235e88c6904')\"\n",
              "              title=\"Convert this dataframe to an interactive table.\"\n",
              "              style=\"display:none;\">\n",
              "        \n",
              "  <svg xmlns=\"http://www.w3.org/2000/svg\" height=\"24px\"viewBox=\"0 0 24 24\"\n",
              "       width=\"24px\">\n",
              "    <path d=\"M0 0h24v24H0V0z\" fill=\"none\"/>\n",
              "    <path d=\"M18.56 5.44l.94 2.06.94-2.06 2.06-.94-2.06-.94-.94-2.06-.94 2.06-2.06.94zm-11 1L8.5 8.5l.94-2.06 2.06-.94-2.06-.94L8.5 2.5l-.94 2.06-2.06.94zm10 10l.94 2.06.94-2.06 2.06-.94-2.06-.94-.94-2.06-.94 2.06-2.06.94z\"/><path d=\"M17.41 7.96l-1.37-1.37c-.4-.4-.92-.59-1.43-.59-.52 0-1.04.2-1.43.59L10.3 9.45l-7.72 7.72c-.78.78-.78 2.05 0 2.83L4 21.41c.39.39.9.59 1.41.59.51 0 1.02-.2 1.41-.59l7.78-7.78 2.81-2.81c.8-.78.8-2.07 0-2.86zM5.41 20L4 18.59l7.72-7.72 1.47 1.35L5.41 20z\"/>\n",
              "  </svg>\n",
              "      </button>\n",
              "      \n",
              "  <style>\n",
              "    .colab-df-container {\n",
              "      display:flex;\n",
              "      flex-wrap:wrap;\n",
              "      gap: 12px;\n",
              "    }\n",
              "\n",
              "    .colab-df-convert {\n",
              "      background-color: #E8F0FE;\n",
              "      border: none;\n",
              "      border-radius: 50%;\n",
              "      cursor: pointer;\n",
              "      display: none;\n",
              "      fill: #1967D2;\n",
              "      height: 32px;\n",
              "      padding: 0 0 0 0;\n",
              "      width: 32px;\n",
              "    }\n",
              "\n",
              "    .colab-df-convert:hover {\n",
              "      background-color: #E2EBFA;\n",
              "      box-shadow: 0px 1px 2px rgba(60, 64, 67, 0.3), 0px 1px 3px 1px rgba(60, 64, 67, 0.15);\n",
              "      fill: #174EA6;\n",
              "    }\n",
              "\n",
              "    [theme=dark] .colab-df-convert {\n",
              "      background-color: #3B4455;\n",
              "      fill: #D2E3FC;\n",
              "    }\n",
              "\n",
              "    [theme=dark] .colab-df-convert:hover {\n",
              "      background-color: #434B5C;\n",
              "      box-shadow: 0px 1px 3px 1px rgba(0, 0, 0, 0.15);\n",
              "      filter: drop-shadow(0px 1px 2px rgba(0, 0, 0, 0.3));\n",
              "      fill: #FFFFFF;\n",
              "    }\n",
              "  </style>\n",
              "\n",
              "      <script>\n",
              "        const buttonEl =\n",
              "          document.querySelector('#df-b69e6d7a-220c-44ac-9302-3235e88c6904 button.colab-df-convert');\n",
              "        buttonEl.style.display =\n",
              "          google.colab.kernel.accessAllowed ? 'block' : 'none';\n",
              "\n",
              "        async function convertToInteractive(key) {\n",
              "          const element = document.querySelector('#df-b69e6d7a-220c-44ac-9302-3235e88c6904');\n",
              "          const dataTable =\n",
              "            await google.colab.kernel.invokeFunction('convertToInteractive',\n",
              "                                                     [key], {});\n",
              "          if (!dataTable) return;\n",
              "\n",
              "          const docLinkHtml = 'Like what you see? Visit the ' +\n",
              "            '<a target=\"_blank\" href=https://colab.research.google.com/notebooks/data_table.ipynb>data table notebook</a>'\n",
              "            + ' to learn more about interactive tables.';\n",
              "          element.innerHTML = '';\n",
              "          dataTable['output_type'] = 'display_data';\n",
              "          await google.colab.output.renderOutput(dataTable, element);\n",
              "          const docLink = document.createElement('div');\n",
              "          docLink.innerHTML = docLinkHtml;\n",
              "          element.appendChild(docLink);\n",
              "        }\n",
              "      </script>\n",
              "    </div>\n",
              "  </div>\n",
              "  "
            ]
          },
          "metadata": {},
          "execution_count": 70
        }
      ]
    },
    {
      "cell_type": "code",
      "source": [
        "# Create tensors and check dimension\n",
        "# We will use scikit learn for test-train split. Therefore, these steps aren't required\n",
        "X_delete_later = tf.constant(X_df)\n",
        "y_delete_later = tf.constant(y_df)\n",
        "X_delete_later, X_delete_later.ndim, X_delete_later.shape, y_delete_later, y_delete_later.ndim, y_delete_later.shape"
      ],
      "metadata": {
        "colab": {
          "base_uri": "https://localhost:8080/"
        },
        "id": "kei0qLbFe5Xt",
        "outputId": "0a163ee2-c851-4ebf-f1a5-723086f33062"
      },
      "execution_count": null,
      "outputs": [
        {
          "output_type": "execute_result",
          "data": {
            "text/plain": [
              "(<tf.Tensor: shape=(1338, 11), dtype=float64, numpy=\n",
              " array([[19.  , 27.9 ,  0.  , ...,  0.  ,  0.  ,  1.  ],\n",
              "        [18.  , 33.77,  1.  , ...,  0.  ,  1.  ,  0.  ],\n",
              "        [28.  , 33.  ,  3.  , ...,  0.  ,  1.  ,  0.  ],\n",
              "        ...,\n",
              "        [18.  , 36.85,  0.  , ...,  0.  ,  1.  ,  0.  ],\n",
              "        [21.  , 25.8 ,  0.  , ...,  0.  ,  0.  ,  1.  ],\n",
              "        [61.  , 29.07,  0.  , ...,  1.  ,  0.  ,  0.  ]])>,\n",
              " 2,\n",
              " TensorShape([1338, 11]),\n",
              " <tf.Tensor: shape=(1338,), dtype=float64, numpy=\n",
              " array([16884.924 ,  1725.5523,  4449.462 , ...,  1629.8335,  2007.945 ,\n",
              "        29141.3603])>,\n",
              " 1,\n",
              " TensorShape([1338]))"
            ]
          },
          "metadata": {},
          "execution_count": 71
        }
      ]
    },
    {
      "cell_type": "code",
      "source": [
        "# because X has 2 axis, let's convert y as columner value\n",
        "y_delete_later = tf.expand_dims(y_delete_later, axis=1)\n",
        "y_delete_later"
      ],
      "metadata": {
        "colab": {
          "base_uri": "https://localhost:8080/"
        },
        "id": "DiGFb6T2lzUj",
        "outputId": "39bf12f0-5a0f-411e-91ac-e6400ae84bbc"
      },
      "execution_count": null,
      "outputs": [
        {
          "output_type": "execute_result",
          "data": {
            "text/plain": [
              "<tf.Tensor: shape=(1338, 1), dtype=float64, numpy=\n",
              "array([[16884.924 ],\n",
              "       [ 1725.5523],\n",
              "       [ 4449.462 ],\n",
              "       ...,\n",
              "       [ 1629.8335],\n",
              "       [ 2007.945 ],\n",
              "       [29141.3603]])>"
            ]
          },
          "metadata": {},
          "execution_count": 72
        }
      ]
    },
    {
      "cell_type": "code",
      "source": [
        "# Create training and test data\n",
        "X_train_delete_later = X_delete_later[:1000, :]\n",
        "X_test_delete_later = X_delete_later[-338:, :]\n",
        "y_train_delete_later = y_delete_later[:1000, :]\n",
        "y_test_delete_later = y_delete_later[-338:, :]\n",
        "X_train_delete_later, X_test_delete_later, y_train_delete_later, y_test_delete_later"
      ],
      "metadata": {
        "colab": {
          "base_uri": "https://localhost:8080/"
        },
        "id": "hXEkXcxUpw_d",
        "outputId": "efa6dc6b-8046-4986-c99d-d7d5d34987a6"
      },
      "execution_count": null,
      "outputs": [
        {
          "output_type": "execute_result",
          "data": {
            "text/plain": [
              "(<tf.Tensor: shape=(1000, 11), dtype=float64, numpy=\n",
              " array([[19.   , 27.9  ,  0.   , ...,  0.   ,  0.   ,  1.   ],\n",
              "        [18.   , 33.77 ,  1.   , ...,  0.   ,  1.   ,  0.   ],\n",
              "        [28.   , 33.   ,  3.   , ...,  0.   ,  1.   ,  0.   ],\n",
              "        ...,\n",
              "        [63.   , 36.85 ,  0.   , ...,  0.   ,  1.   ,  0.   ],\n",
              "        [33.   , 36.29 ,  3.   , ...,  0.   ,  0.   ,  0.   ],\n",
              "        [36.   , 26.885,  0.   , ...,  1.   ,  0.   ,  0.   ]])>,\n",
              " <tf.Tensor: shape=(338, 11), dtype=float64, numpy=\n",
              " array([[30.  , 22.99,  2.  , ...,  1.  ,  0.  ,  0.  ],\n",
              "        [24.  , 32.7 ,  0.  , ...,  0.  ,  0.  ,  1.  ],\n",
              "        [24.  , 25.8 ,  0.  , ...,  0.  ,  0.  ,  1.  ],\n",
              "        ...,\n",
              "        [18.  , 36.85,  0.  , ...,  0.  ,  1.  ,  0.  ],\n",
              "        [21.  , 25.8 ,  0.  , ...,  0.  ,  0.  ,  1.  ],\n",
              "        [61.  , 29.07,  0.  , ...,  1.  ,  0.  ,  0.  ]])>,\n",
              " <tf.Tensor: shape=(1000, 1), dtype=float64, numpy=\n",
              " array([[16884.924   ],\n",
              "        [ 1725.5523  ],\n",
              "        [ 4449.462   ],\n",
              "        [21984.47061 ],\n",
              "        [ 3866.8552  ],\n",
              "        [ 3756.6216  ],\n",
              "        [ 8240.5896  ],\n",
              "        [ 7281.5056  ],\n",
              "        [ 6406.4107  ],\n",
              "        [28923.13692 ],\n",
              "        [ 2721.3208  ],\n",
              "        [27808.7251  ],\n",
              "        [ 1826.843   ],\n",
              "        [11090.7178  ],\n",
              "        [39611.7577  ],\n",
              "        [ 1837.237   ],\n",
              "        [10797.3362  ],\n",
              "        [ 2395.17155 ],\n",
              "        [10602.385   ],\n",
              "        [36837.467   ],\n",
              "        [13228.84695 ],\n",
              "        [ 4149.736   ],\n",
              "        [ 1137.011   ],\n",
              "        [37701.8768  ],\n",
              "        [ 6203.90175 ],\n",
              "        [14001.1338  ],\n",
              "        [14451.83515 ],\n",
              "        [12268.63225 ],\n",
              "        [ 2775.19215 ],\n",
              "        [38711.      ],\n",
              "        [35585.576   ],\n",
              "        [ 2198.18985 ],\n",
              "        [ 4687.797   ],\n",
              "        [13770.0979  ],\n",
              "        [51194.55914 ],\n",
              "        [ 1625.43375 ],\n",
              "        [15612.19335 ],\n",
              "        [ 2302.3     ],\n",
              "        [39774.2763  ],\n",
              "        [48173.361   ],\n",
              "        [ 3046.062   ],\n",
              "        [ 4949.7587  ],\n",
              "        [ 6272.4772  ],\n",
              "        [ 6313.759   ],\n",
              "        [ 6079.6715  ],\n",
              "        [20630.28351 ],\n",
              "        [ 3393.35635 ],\n",
              "        [ 3556.9223  ],\n",
              "        [12629.8967  ],\n",
              "        [38709.176   ],\n",
              "        [ 2211.13075 ],\n",
              "        [ 3579.8287  ],\n",
              "        [23568.272   ],\n",
              "        [37742.5757  ],\n",
              "        [ 8059.6791  ],\n",
              "        [47496.49445 ],\n",
              "        [13607.36875 ],\n",
              "        [34303.1672  ],\n",
              "        [23244.7902  ],\n",
              "        [ 5989.52365 ],\n",
              "        [ 8606.2174  ],\n",
              "        [ 4504.6624  ],\n",
              "        [30166.61817 ],\n",
              "        [ 4133.64165 ],\n",
              "        [14711.7438  ],\n",
              "        [ 1743.214   ],\n",
              "        [14235.072   ],\n",
              "        [ 6389.37785 ],\n",
              "        [ 5920.1041  ],\n",
              "        [17663.1442  ],\n",
              "        [16577.7795  ],\n",
              "        [ 6799.458   ],\n",
              "        [11741.726   ],\n",
              "        [11946.6259  ],\n",
              "        [ 7726.854   ],\n",
              "        [11356.6609  ],\n",
              "        [ 3947.4131  ],\n",
              "        [ 1532.4697  ],\n",
              "        [ 2755.02095 ],\n",
              "        [ 6571.02435 ],\n",
              "        [ 4441.21315 ],\n",
              "        [ 7935.29115 ],\n",
              "        [37165.1638  ],\n",
              "        [11033.6617  ],\n",
              "        [39836.519   ],\n",
              "        [21098.55405 ],\n",
              "        [43578.9394  ],\n",
              "        [11073.176   ],\n",
              "        [ 8026.6666  ],\n",
              "        [11082.5772  ],\n",
              "        [ 2026.9741  ],\n",
              "        [10942.13205 ],\n",
              "        [30184.9367  ],\n",
              "        [ 5729.0053  ],\n",
              "        [47291.055   ],\n",
              "        [ 3766.8838  ],\n",
              "        [12105.32    ],\n",
              "        [10226.2842  ],\n",
              "        [22412.6485  ],\n",
              "        [15820.699   ],\n",
              "        [ 6186.127   ],\n",
              "        [ 3645.0894  ],\n",
              "        [21344.8467  ],\n",
              "        [30942.1918  ],\n",
              "        [ 5003.853   ],\n",
              "        [17560.37975 ],\n",
              "        [ 2331.519   ],\n",
              "        [ 3877.30425 ],\n",
              "        [ 2867.1196  ],\n",
              "        [47055.5321  ],\n",
              "        [10825.2537  ],\n",
              "        [11881.358   ],\n",
              "        [ 4646.759   ],\n",
              "        [ 2404.7338  ],\n",
              "        [11488.31695 ],\n",
              "        [30259.99556 ],\n",
              "        [11381.3254  ],\n",
              "        [19107.7796  ],\n",
              "        [ 8601.3293  ],\n",
              "        [ 6686.4313  ],\n",
              "        [ 7740.337   ],\n",
              "        [ 1705.6245  ],\n",
              "        [ 2257.47525 ],\n",
              "        [39556.4945  ],\n",
              "        [10115.00885 ],\n",
              "        [ 3385.39915 ],\n",
              "        [17081.08    ],\n",
              "        [ 9634.538   ],\n",
              "        [32734.1863  ],\n",
              "        [ 6082.405   ],\n",
              "        [12815.44495 ],\n",
              "        [13616.3586  ],\n",
              "        [11163.568   ],\n",
              "        [ 1632.56445 ],\n",
              "        [ 2457.21115 ],\n",
              "        [ 2155.6815  ],\n",
              "        [ 1261.442   ],\n",
              "        [ 2045.68525 ],\n",
              "        [27322.73386 ],\n",
              "        [ 2166.732   ],\n",
              "        [27375.90478 ],\n",
              "        [ 3490.5491  ],\n",
              "        [18972.495   ],\n",
              "        [18157.876   ],\n",
              "        [20745.9891  ],\n",
              "        [ 5138.2567  ],\n",
              "        [40720.55105 ],\n",
              "        [ 9877.6077  ],\n",
              "        [10959.6947  ],\n",
              "        [ 1842.519   ],\n",
              "        [ 5125.2157  ],\n",
              "        [ 7789.635   ],\n",
              "        [ 6334.34355 ],\n",
              "        [19964.7463  ],\n",
              "        [ 7077.1894  ],\n",
              "        [ 6948.7008  ],\n",
              "        [21223.6758  ],\n",
              "        [15518.18025 ],\n",
              "        [36950.2567  ],\n",
              "        [19749.38338 ],\n",
              "        [21348.706   ],\n",
              "        [36149.4835  ],\n",
              "        [10450.552   ],\n",
              "        [ 5152.134   ],\n",
              "        [ 5028.1466  ],\n",
              "        [10407.08585 ],\n",
              "        [ 4830.63    ],\n",
              "        [ 6128.79745 ],\n",
              "        [ 2719.27975 ],\n",
              "        [ 4827.90495 ],\n",
              "        [13405.3903  ],\n",
              "        [ 8116.68    ],\n",
              "        [ 1694.7964  ],\n",
              "        [ 5246.047   ],\n",
              "        [ 2855.43755 ],\n",
              "        [48824.45    ],\n",
              "        [ 6455.86265 ],\n",
              "        [10436.096   ],\n",
              "        [ 8823.279   ],\n",
              "        [ 8538.28845 ],\n",
              "        [11735.87905 ],\n",
              "        [ 1631.8212  ],\n",
              "        [ 4005.4225  ],\n",
              "        [ 7419.4779  ],\n",
              "        [ 7731.4271  ],\n",
              "        [43753.33705 ],\n",
              "        [ 3981.9768  ],\n",
              "        [ 5325.651   ],\n",
              "        [ 6775.961   ],\n",
              "        [ 4922.9159  ],\n",
              "        [12557.6053  ],\n",
              "        [ 4883.866   ],\n",
              "        [ 2137.6536  ],\n",
              "        [12044.342   ],\n",
              "        [ 1137.4697  ],\n",
              "        [ 1639.5631  ],\n",
              "        [ 5649.715   ],\n",
              "        [ 8516.829   ],\n",
              "        [ 9644.2525  ],\n",
              "        [14901.5167  ],\n",
              "        [ 2130.6759  ],\n",
              "        [ 8871.1517  ],\n",
              "        [13012.20865 ],\n",
              "        [37133.8982  ],\n",
              "        [ 7147.105   ],\n",
              "        [ 4337.7352  ],\n",
              "        [11743.299   ],\n",
              "        [20984.0936  ],\n",
              "        [13880.949   ],\n",
              "        [ 6610.1097  ],\n",
              "        [ 1980.07    ],\n",
              "        [ 8162.71625 ],\n",
              "        [ 3537.703   ],\n",
              "        [ 5002.7827  ],\n",
              "        [ 8520.026   ],\n",
              "        [ 7371.772   ],\n",
              "        [10355.641   ],\n",
              "        [ 2483.736   ],\n",
              "        [ 3392.9768  ],\n",
              "        [25081.76784 ],\n",
              "        [ 5012.471   ],\n",
              "        [10564.8845  ],\n",
              "        [ 5253.524   ],\n",
              "        [34779.615   ],\n",
              "        [19515.5416  ],\n",
              "        [11987.1682  ],\n",
              "        [ 2689.4954  ],\n",
              "        [24227.33724 ],\n",
              "        [ 7358.17565 ],\n",
              "        [ 9225.2564  ],\n",
              "        [ 7443.64305 ],\n",
              "        [14001.2867  ],\n",
              "        [ 1727.785   ],\n",
              "        [12333.828   ],\n",
              "        [ 6710.1919  ],\n",
              "        [19444.2658  ],\n",
              "        [ 1615.7667  ],\n",
              "        [ 4463.2051  ],\n",
              "        [17352.6803  ],\n",
              "        [ 7152.6714  ],\n",
              "        [38511.6283  ],\n",
              "        [ 5354.07465 ],\n",
              "        [35160.13457 ],\n",
              "        [ 7196.867   ],\n",
              "        [29523.1656  ],\n",
              "        [24476.47851 ],\n",
              "        [12648.7034  ],\n",
              "        [ 1986.9334  ],\n",
              "        [ 1832.094   ],\n",
              "        [ 4040.55825 ],\n",
              "        [12829.4551  ],\n",
              "        [47305.305   ],\n",
              "        [44260.7499  ],\n",
              "        [ 4260.744   ],\n",
              "        [41097.16175 ],\n",
              "        [13047.33235 ],\n",
              "        [43921.1837  ],\n",
              "        [ 5400.9805  ],\n",
              "        [11520.09985 ],\n",
              "        [33750.2918  ],\n",
              "        [11837.16    ],\n",
              "        [17085.2676  ],\n",
              "        [24869.8368  ],\n",
              "        [36219.40545 ],\n",
              "        [20462.99766 ],\n",
              "        [46151.1245  ],\n",
              "        [17179.522   ],\n",
              "        [14590.63205 ],\n",
              "        [ 7441.053   ],\n",
              "        [ 9282.4806  ],\n",
              "        [ 1719.4363  ],\n",
              "        [42856.838   ],\n",
              "        [ 7265.7025  ],\n",
              "        [ 9617.66245 ],\n",
              "        [ 2523.1695  ],\n",
              "        [ 9715.841   ],\n",
              "        [ 2803.69785 ],\n",
              "        [ 2150.469   ],\n",
              "        [12928.7911  ],\n",
              "        [ 9855.1314  ],\n",
              "        [22331.5668  ],\n",
              "        [48549.17835 ],\n",
              "        [ 4237.12655 ],\n",
              "        [11879.10405 ],\n",
              "        [ 9625.92    ],\n",
              "        [ 7742.1098  ],\n",
              "        [ 9432.9253  ],\n",
              "        [14256.1928  ],\n",
              "        [47896.79135 ],\n",
              "        [25992.82104 ],\n",
              "        [ 3172.018   ],\n",
              "        [20277.80751 ],\n",
              "        [42112.2356  ],\n",
              "        [ 2156.7518  ],\n",
              "        [ 3906.127   ],\n",
              "        [ 1704.5681  ],\n",
              "        [16297.846   ],\n",
              "        [21978.6769  ],\n",
              "        [38746.3551  ],\n",
              "        [ 9249.4952  ],\n",
              "        [ 6746.7425  ],\n",
              "        [24873.3849  ],\n",
              "        [12265.5069  ],\n",
              "        [ 4349.462   ],\n",
              "        [12646.207   ],\n",
              "        [19442.3535  ],\n",
              "        [20177.67113 ],\n",
              "        [ 4151.0287  ],\n",
              "        [11944.59435 ],\n",
              "        [ 7749.1564  ],\n",
              "        [ 8444.474   ],\n",
              "        [ 1737.376   ],\n",
              "        [42124.5153  ],\n",
              "        [ 8124.4084  ],\n",
              "        [34838.873   ],\n",
              "        [ 9722.7695  ],\n",
              "        [ 8835.26495 ],\n",
              "        [10435.06525 ],\n",
              "        [ 7421.19455 ],\n",
              "        [ 4667.60765 ],\n",
              "        [ 4894.7533  ],\n",
              "        [24671.66334 ],\n",
              "        [35491.64    ],\n",
              "        [11566.30055 ],\n",
              "        [ 2866.091   ],\n",
              "        [ 6600.20595 ],\n",
              "        [ 3561.8889  ],\n",
              "        [42760.5022  ],\n",
              "        [47928.03    ],\n",
              "        [ 9144.565   ],\n",
              "        [48517.56315 ],\n",
              "        [24393.6224  ],\n",
              "        [13429.0354  ],\n",
              "        [11658.37915 ],\n",
              "        [19144.57652 ],\n",
              "        [13822.803   ],\n",
              "        [12142.5786  ],\n",
              "        [13937.6665  ],\n",
              "        [41919.097   ],\n",
              "        [ 8232.6388  ],\n",
              "        [18955.22017 ],\n",
              "        [13352.0998  ],\n",
              "        [13217.0945  ],\n",
              "        [13981.85035 ],\n",
              "        [10977.2063  ],\n",
              "        [ 6184.2994  ],\n",
              "        [ 4889.9995  ],\n",
              "        [ 8334.45755 ],\n",
              "        [ 5478.0368  ],\n",
              "        [ 1635.73365 ],\n",
              "        [11830.6072  ],\n",
              "        [ 8932.084   ],\n",
              "        [ 3554.203   ],\n",
              "        [12404.8791  ],\n",
              "        [14133.03775 ],\n",
              "        [24603.04837 ],\n",
              "        [ 8944.1151  ],\n",
              "        [ 9620.3307  ],\n",
              "        [ 1837.2819  ],\n",
              "        [ 1607.5101  ],\n",
              "        [10043.249   ],\n",
              "        [ 4751.07    ],\n",
              "        [13844.506   ],\n",
              "        [ 2597.779   ],\n",
              "        [ 3180.5101  ],\n",
              "        [ 9778.3472  ],\n",
              "        [13430.265   ],\n",
              "        [ 8017.06115 ],\n",
              "        [ 8116.26885 ],\n",
              "        [ 3481.868   ],\n",
              "        [13415.0381  ],\n",
              "        [12029.2867  ],\n",
              "        [ 7639.41745 ],\n",
              "        [36085.219   ],\n",
              "        [ 1391.5287  ],\n",
              "        [18033.9679  ],\n",
              "        [21659.9301  ],\n",
              "        [38126.2465  ],\n",
              "        [16455.70785 ],\n",
              "        [27000.98473 ],\n",
              "        [15006.57945 ],\n",
              "        [42303.69215 ],\n",
              "        [20781.48892 ],\n",
              "        [ 5846.9176  ],\n",
              "        [ 8302.53565 ],\n",
              "        [ 1261.859   ],\n",
              "        [11856.4115  ],\n",
              "        [30284.64294 ],\n",
              "        [ 3176.8159  ],\n",
              "        [ 4618.0799  ],\n",
              "        [10736.87075 ],\n",
              "        [ 2138.0707  ],\n",
              "        [ 8964.06055 ],\n",
              "        [ 9290.1395  ],\n",
              "        [ 9411.005   ],\n",
              "        [ 7526.70645 ],\n",
              "        [ 8522.003   ],\n",
              "        [16586.49771 ],\n",
              "        [14988.432   ],\n",
              "        [ 1631.6683  ],\n",
              "        [ 9264.797   ],\n",
              "        [ 8083.9198  ],\n",
              "        [14692.66935 ],\n",
              "        [10269.46    ],\n",
              "        [ 3260.199   ],\n",
              "        [11396.9002  ],\n",
              "        [ 4185.0979  ],\n",
              "        [ 8539.671   ],\n",
              "        [ 6652.5288  ],\n",
              "        [ 4074.4537  ],\n",
              "        [ 1621.3402  ],\n",
              "        [19594.80965 ],\n",
              "        [14455.64405 ],\n",
              "        [ 5080.096   ],\n",
              "        [ 2134.9015  ],\n",
              "        [ 7345.7266  ],\n",
              "        [ 9140.951   ],\n",
              "        [18608.262   ],\n",
              "        [14418.2804  ],\n",
              "        [28950.4692  ],\n",
              "        [46889.2612  ],\n",
              "        [46599.1084  ],\n",
              "        [39125.33225 ],\n",
              "        [ 2727.3951  ],\n",
              "        [ 8968.33    ],\n",
              "        [ 9788.8659  ],\n",
              "        [ 6555.07035 ],\n",
              "        [ 7323.734819],\n",
              "        [ 3167.45585 ],\n",
              "        [18804.7524  ],\n",
              "        [23082.95533 ],\n",
              "        [ 4906.40965 ],\n",
              "        [ 5969.723   ],\n",
              "        [12638.195   ],\n",
              "        [ 4243.59005 ],\n",
              "        [13919.8229  ],\n",
              "        [ 2254.7967  ],\n",
              "        [ 5926.846   ],\n",
              "        [12592.5345  ],\n",
              "        [ 2897.3235  ],\n",
              "        [ 4738.2682  ],\n",
              "        [37079.372   ],\n",
              "        [ 1149.3959  ],\n",
              "        [28287.89766 ],\n",
              "        [26109.32905 ],\n",
              "        [ 7345.084   ],\n",
              "        [12730.9996  ],\n",
              "        [11454.0215  ],\n",
              "        [ 5910.944   ],\n",
              "        [ 4762.329   ],\n",
              "        [ 7512.267   ],\n",
              "        [ 4032.2407  ],\n",
              "        [ 1969.614   ],\n",
              "        [ 1769.53165 ],\n",
              "        [ 4686.3887  ],\n",
              "        [21797.0004  ],\n",
              "        [11881.9696  ],\n",
              "        [11840.77505 ],\n",
              "        [10601.412   ],\n",
              "        [ 7682.67    ],\n",
              "        [10381.4787  ],\n",
              "        [22144.032   ],\n",
              "        [15230.32405 ],\n",
              "        [11165.41765 ],\n",
              "        [ 1632.03625 ],\n",
              "        [19521.9682  ],\n",
              "        [13224.693   ],\n",
              "        [12643.3778  ],\n",
              "        [23288.9284  ],\n",
              "        [ 2201.0971  ],\n",
              "        [ 2497.0383  ],\n",
              "        [ 2203.47185 ],\n",
              "        [ 1744.465   ],\n",
              "        [20878.78443 ],\n",
              "        [25382.297   ],\n",
              "        [28868.6639  ],\n",
              "        [35147.52848 ],\n",
              "        [ 2534.39375 ],\n",
              "        [ 1534.3045  ],\n",
              "        [ 1824.2854  ],\n",
              "        [15555.18875 ],\n",
              "        [ 9304.7019  ],\n",
              "        [ 1622.1885  ],\n",
              "        [ 9880.068   ],\n",
              "        [ 9563.029   ],\n",
              "        [ 4347.02335 ],\n",
              "        [12475.3513  ],\n",
              "        [ 1253.936   ],\n",
              "        [48885.13561 ],\n",
              "        [10461.9794  ],\n",
              "        [ 1748.774   ],\n",
              "        [24513.09126 ],\n",
              "        [ 2196.4732  ],\n",
              "        [12574.049   ],\n",
              "        [17942.106   ],\n",
              "        [ 1967.0227  ],\n",
              "        [ 4931.647   ],\n",
              "        [ 8027.968   ],\n",
              "        [ 8211.1002  ],\n",
              "        [13470.86    ],\n",
              "        [36197.699   ],\n",
              "        [ 6837.3687  ],\n",
              "        [22218.1149  ],\n",
              "        [32548.3405  ],\n",
              "        [ 5974.3847  ],\n",
              "        [ 6796.86325 ],\n",
              "        [ 2643.2685  ],\n",
              "        [ 3077.0955  ],\n",
              "        [ 3044.2133  ],\n",
              "        [11455.28    ],\n",
              "        [11763.0009  ],\n",
              "        [ 2498.4144  ],\n",
              "        [ 9361.3268  ],\n",
              "        [ 1256.299   ],\n",
              "        [21082.16    ],\n",
              "        [11362.755   ],\n",
              "        [27724.28875 ],\n",
              "        [ 8413.46305 ],\n",
              "        [ 5240.765   ],\n",
              "        [ 3857.75925 ],\n",
              "        [25656.57526 ],\n",
              "        [ 3994.1778  ],\n",
              "        [ 9866.30485 ],\n",
              "        [ 5397.6167  ],\n",
              "        [38245.59327 ],\n",
              "        [11482.63485 ],\n",
              "        [24059.68019 ],\n",
              "        [ 9861.025   ],\n",
              "        [ 8342.90875 ],\n",
              "        [ 1708.0014  ],\n",
              "        [48675.5177  ],\n",
              "        [14043.4767  ],\n",
              "        [12925.886   ],\n",
              "        [19214.70553 ],\n",
              "        [13831.1152  ],\n",
              "        [ 6067.12675 ],\n",
              "        [ 5972.378   ],\n",
              "        [ 8825.086   ],\n",
              "        [ 8233.0975  ],\n",
              "        [27346.04207 ],\n",
              "        [ 6196.448   ],\n",
              "        [ 3056.3881  ],\n",
              "        [13887.204   ],\n",
              "        [63770.42801 ],\n",
              "        [10231.4999  ],\n",
              "        [23807.2406  ],\n",
              "        [ 3268.84665 ],\n",
              "        [11538.421   ],\n",
              "        [ 3213.62205 ],\n",
              "        [45863.205   ],\n",
              "        [13390.559   ],\n",
              "        [ 3972.9247  ],\n",
              "        [12957.118   ],\n",
              "        [11187.6567  ],\n",
              "        [17878.90068 ],\n",
              "        [ 3847.674   ],\n",
              "        [ 8334.5896  ],\n",
              "        [ 3935.1799  ],\n",
              "        [39983.42595 ],\n",
              "        [ 1646.4297  ],\n",
              "        [ 9193.8385  ],\n",
              "        [10923.9332  ],\n",
              "        [ 2494.022   ],\n",
              "        [ 9058.7303  ],\n",
              "        [ 2801.2588  ],\n",
              "        [ 2128.43105 ],\n",
              "        [ 6373.55735 ],\n",
              "        [ 7256.7231  ],\n",
              "        [11552.904   ],\n",
              "        [45702.02235 ],\n",
              "        [ 3761.292   ],\n",
              "        [ 2219.4451  ],\n",
              "        [ 4753.6368  ],\n",
              "        [31620.00106 ],\n",
              "        [13224.05705 ],\n",
              "        [12222.8983  ],\n",
              "        [ 1664.9996  ],\n",
              "        [58571.07448 ],\n",
              "        [ 9724.53    ],\n",
              "        [ 3206.49135 ],\n",
              "        [12913.9924  ],\n",
              "        [ 1639.5631  ],\n",
              "        [ 6356.2707  ],\n",
              "        [17626.23951 ],\n",
              "        [ 1242.816   ],\n",
              "        [ 4779.6023  ],\n",
              "        [ 3861.20965 ],\n",
              "        [43943.8761  ],\n",
              "        [13635.6379  ],\n",
              "        [ 5976.8311  ],\n",
              "        [11842.442   ],\n",
              "        [ 8428.0693  ],\n",
              "        [ 2566.4707  ],\n",
              "        [15359.1045  ],\n",
              "        [ 5709.1644  ],\n",
              "        [ 8823.98575 ],\n",
              "        [ 7640.3092  ],\n",
              "        [ 5594.8455  ],\n",
              "        [ 7441.501   ],\n",
              "        [33471.97189 ],\n",
              "        [ 1633.0444  ],\n",
              "        [ 9174.13565 ],\n",
              "        [11070.535   ],\n",
              "        [16085.1275  ],\n",
              "        [17468.9839  ],\n",
              "        [ 9283.562   ],\n",
              "        [ 3558.62025 ],\n",
              "        [25678.77845 ],\n",
              "        [ 4435.0942  ],\n",
              "        [39241.442   ],\n",
              "        [ 8547.6913  ],\n",
              "        [ 6571.544   ],\n",
              "        [ 2207.69745 ],\n",
              "        [ 6753.038   ],\n",
              "        [ 1880.07    ],\n",
              "        [42969.8527  ],\n",
              "        [11658.11505 ],\n",
              "        [23306.547   ],\n",
              "        [34439.8559  ],\n",
              "        [10713.644   ],\n",
              "        [ 3659.346   ],\n",
              "        [40182.246   ],\n",
              "        [ 9182.17    ],\n",
              "        [34617.84065 ],\n",
              "        [12129.61415 ],\n",
              "        [ 3736.4647  ],\n",
              "        [ 6748.5912  ],\n",
              "        [11326.71487 ],\n",
              "        [11365.952   ],\n",
              "        [42983.4585  ],\n",
              "        [10085.846   ],\n",
              "        [ 1977.815   ],\n",
              "        [ 3366.6697  ],\n",
              "        [ 7173.35995 ],\n",
              "        [ 9391.346   ],\n",
              "        [14410.9321  ],\n",
              "        [ 2709.1119  ],\n",
              "        [24915.04626 ],\n",
              "        [20149.3229  ],\n",
              "        [12949.1554  ],\n",
              "        [ 6666.243   ],\n",
              "        [32787.45859 ],\n",
              "        [13143.86485 ],\n",
              "        [ 4466.6214  ],\n",
              "        [18806.14547 ],\n",
              "        [10141.1362  ],\n",
              "        [ 6123.5688  ],\n",
              "        [ 8252.2843  ],\n",
              "        [ 1712.227   ],\n",
              "        [12430.95335 ],\n",
              "        [ 9800.8882  ],\n",
              "        [10579.711   ],\n",
              "        [ 8280.6227  ],\n",
              "        [ 8527.532   ],\n",
              "        [12244.531   ],\n",
              "        [24667.419   ],\n",
              "        [ 3410.324   ],\n",
              "        [ 4058.71245 ],\n",
              "        [26392.26029 ],\n",
              "        [14394.39815 ],\n",
              "        [ 6435.6237  ],\n",
              "        [22192.43711 ],\n",
              "        [ 5148.5526  ],\n",
              "        [ 1136.3994  ],\n",
              "        [27037.9141  ],\n",
              "        [42560.4304  ],\n",
              "        [ 8703.456   ],\n",
              "        [40003.33225 ],\n",
              "        [45710.20785 ],\n",
              "        [ 6500.2359  ],\n",
              "        [ 4837.5823  ],\n",
              "        [ 3943.5954  ],\n",
              "        [ 4399.731   ],\n",
              "        [ 6185.3208  ],\n",
              "        [46200.9851  ],\n",
              "        [ 7222.78625 ],\n",
              "        [12485.8009  ],\n",
              "        [46130.5265  ],\n",
              "        [12363.547   ],\n",
              "        [10156.7832  ],\n",
              "        [ 2585.269   ],\n",
              "        [ 1242.26    ],\n",
              "        [40103.89    ],\n",
              "        [ 9863.4718  ],\n",
              "        [ 4766.022   ],\n",
              "        [11244.3769  ],\n",
              "        [ 7729.64575 ],\n",
              "        [ 5438.7491  ],\n",
              "        [26236.57997 ],\n",
              "        [34806.4677  ],\n",
              "        [ 2104.1134  ],\n",
              "        [ 8068.185   ],\n",
              "        [ 2362.22905 ],\n",
              "        [ 2352.96845 ],\n",
              "        [ 3577.999   ],\n",
              "        [ 3201.24515 ],\n",
              "        [29186.48236 ],\n",
              "        [40273.6455  ],\n",
              "        [10976.24575 ],\n",
              "        [ 3500.6123  ],\n",
              "        [ 2020.5523  ],\n",
              "        [ 9541.69555 ],\n",
              "        [ 9504.3103  ],\n",
              "        [ 5385.3379  ],\n",
              "        [ 8930.93455 ],\n",
              "        [ 5375.038   ],\n",
              "        [44400.4064  ],\n",
              "        [10264.4421  ],\n",
              "        [ 6113.23105 ],\n",
              "        [ 5469.0066  ],\n",
              "        [ 1727.54    ],\n",
              "        [10107.2206  ],\n",
              "        [ 8310.83915 ],\n",
              "        [ 1984.4533  ],\n",
              "        [ 2457.502   ],\n",
              "        [12146.971   ],\n",
              "        [ 9566.9909  ],\n",
              "        [13112.6048  ],\n",
              "        [10848.1343  ],\n",
              "        [12231.6136  ],\n",
              "        [ 9875.6804  ],\n",
              "        [11264.541   ],\n",
              "        [12979.358   ],\n",
              "        [ 1263.249   ],\n",
              "        [10106.13425 ],\n",
              "        [40932.4295  ],\n",
              "        [ 6664.68595 ],\n",
              "        [16657.71745 ],\n",
              "        [ 2217.6012  ],\n",
              "        [ 6781.3542  ],\n",
              "        [19361.9988  ],\n",
              "        [10065.413   ],\n",
              "        [ 4234.927   ],\n",
              "        [ 9447.25035 ],\n",
              "        [14007.222   ],\n",
              "        [ 9583.8933  ],\n",
              "        [40419.0191  ],\n",
              "        [ 3484.331   ],\n",
              "        [36189.1017  ],\n",
              "        [44585.45587 ],\n",
              "        [ 8604.48365 ],\n",
              "        [18246.4955  ],\n",
              "        [43254.41795 ],\n",
              "        [ 3757.8448  ],\n",
              "        [ 8827.2099  ],\n",
              "        [ 9910.35985 ],\n",
              "        [11737.84884 ],\n",
              "        [ 1627.28245 ],\n",
              "        [ 8556.907   ],\n",
              "        [ 3062.50825 ],\n",
              "        [19539.243   ],\n",
              "        [ 1906.35825 ],\n",
              "        [14210.53595 ],\n",
              "        [11833.7823  ],\n",
              "        [17128.42608 ],\n",
              "        [ 5031.26955 ],\n",
              "        [ 7985.815   ],\n",
              "        [23065.4207  ],\n",
              "        [ 5428.7277  ],\n",
              "        [36307.7983  ],\n",
              "        [ 3925.7582  ],\n",
              "        [ 2416.955   ],\n",
              "        [19040.876   ],\n",
              "        [ 3070.8087  ],\n",
              "        [ 9095.06825 ],\n",
              "        [11842.62375 ],\n",
              "        [ 8062.764   ],\n",
              "        [ 7050.642   ],\n",
              "        [14319.031   ],\n",
              "        [ 6933.24225 ],\n",
              "        [27941.28758 ],\n",
              "        [11150.78    ],\n",
              "        [12797.20962 ],\n",
              "        [17748.5062  ],\n",
              "        [ 7261.741   ],\n",
              "        [10560.4917  ],\n",
              "        [ 6986.697   ],\n",
              "        [ 7448.40395 ],\n",
              "        [ 5934.3798  ],\n",
              "        [ 9869.8102  ],\n",
              "        [18259.216   ],\n",
              "        [ 1146.7966  ],\n",
              "        [ 9386.1613  ],\n",
              "        [24520.264   ],\n",
              "        [ 4350.5144  ],\n",
              "        [ 6414.178   ],\n",
              "        [12741.16745 ],\n",
              "        [ 1917.3184  ],\n",
              "        [ 5209.57885 ],\n",
              "        [13457.9608  ],\n",
              "        [ 5662.225   ],\n",
              "        [ 1252.407   ],\n",
              "        [ 2731.9122  ],\n",
              "        [21195.818   ],\n",
              "        [ 7209.4918  ],\n",
              "        [18310.742   ],\n",
              "        [ 4266.1658  ],\n",
              "        [ 4719.52405 ],\n",
              "        [11848.141   ],\n",
              "        [17904.52705 ],\n",
              "        [ 7046.7222  ],\n",
              "        [14313.8463  ],\n",
              "        [ 2103.08    ],\n",
              "        [38792.6856  ],\n",
              "        [ 1815.8759  ],\n",
              "        [ 7731.85785 ],\n",
              "        [28476.73499 ],\n",
              "        [ 2136.88225 ],\n",
              "        [ 1131.5066  ],\n",
              "        [ 3309.7926  ],\n",
              "        [ 9414.92    ],\n",
              "        [ 6360.9936  ],\n",
              "        [11013.7119  ],\n",
              "        [ 4428.88785 ],\n",
              "        [ 5584.3057  ],\n",
              "        [ 1877.9294  ],\n",
              "        [ 2842.76075 ],\n",
              "        [ 3597.596   ],\n",
              "        [23401.30575 ],\n",
              "        [55135.40209 ],\n",
              "        [ 7445.918   ],\n",
              "        [ 2680.9493  ],\n",
              "        [ 1621.8827  ],\n",
              "        [ 8219.2039  ],\n",
              "        [12523.6048  ],\n",
              "        [16069.08475 ],\n",
              "        [43813.8661  ],\n",
              "        [20773.62775 ],\n",
              "        [39597.4072  ],\n",
              "        [ 6117.4945  ],\n",
              "        [13393.756   ],\n",
              "        [ 5266.3656  ],\n",
              "        [ 4719.73655 ],\n",
              "        [11743.9341  ],\n",
              "        [ 5377.4578  ],\n",
              "        [ 7160.3303  ],\n",
              "        [ 4402.233   ],\n",
              "        [11657.7189  ],\n",
              "        [ 6402.29135 ],\n",
              "        [12622.1795  ],\n",
              "        [ 1526.312   ],\n",
              "        [12323.936   ],\n",
              "        [36021.0112  ],\n",
              "        [27533.9129  ],\n",
              "        [10072.05505 ],\n",
              "        [45008.9555  ],\n",
              "        [ 9872.701   ],\n",
              "        [ 2438.0552  ],\n",
              "        [ 2974.126   ],\n",
              "        [10601.63225 ],\n",
              "        [37270.1512  ],\n",
              "        [14119.62    ],\n",
              "        [42111.6647  ],\n",
              "        [11729.6795  ],\n",
              "        [24106.91255 ],\n",
              "        [ 1875.344   ],\n",
              "        [40974.1649  ],\n",
              "        [15817.9857  ],\n",
              "        [18218.16139 ],\n",
              "        [10965.446   ],\n",
              "        [46113.511   ],\n",
              "        [ 7151.092   ],\n",
              "        [12269.68865 ],\n",
              "        [ 5458.04645 ],\n",
              "        [ 8782.469   ],\n",
              "        [ 6600.361   ],\n",
              "        [ 1141.4451  ],\n",
              "        [11576.13    ],\n",
              "        [13129.60345 ],\n",
              "        [ 4391.652   ],\n",
              "        [ 8457.818   ],\n",
              "        [ 3392.3652  ],\n",
              "        [ 5966.8874  ],\n",
              "        [ 6849.026   ],\n",
              "        [ 8891.1395  ],\n",
              "        [ 2690.1138  ],\n",
              "        [26140.3603  ],\n",
              "        [ 6653.7886  ],\n",
              "        [ 6282.235   ],\n",
              "        [ 6311.952   ],\n",
              "        [ 3443.064   ],\n",
              "        [ 2789.0574  ],\n",
              "        [ 2585.85065 ],\n",
              "        [46255.1125  ],\n",
              "        [ 4877.98105 ],\n",
              "        [19719.6947  ],\n",
              "        [27218.43725 ],\n",
              "        [ 5272.1758  ],\n",
              "        [ 1682.597   ],\n",
              "        [11945.1327  ],\n",
              "        [29330.98315 ],\n",
              "        [ 7243.8136  ],\n",
              "        [10422.91665 ],\n",
              "        [44202.6536  ],\n",
              "        [13555.0049  ],\n",
              "        [13063.883   ],\n",
              "        [19798.05455 ],\n",
              "        [ 2221.56445 ],\n",
              "        [ 1634.5734  ],\n",
              "        [ 2117.33885 ],\n",
              "        [ 8688.85885 ],\n",
              "        [48673.5588  ],\n",
              "        [ 4661.28635 ],\n",
              "        [ 8125.7845  ],\n",
              "        [12644.589   ],\n",
              "        [ 4564.19145 ],\n",
              "        [ 4846.92015 ],\n",
              "        [ 7633.7206  ],\n",
              "        [15170.069   ],\n",
              "        [17496.306   ],\n",
              "        [ 2639.0429  ],\n",
              "        [33732.6867  ],\n",
              "        [14382.70905 ],\n",
              "        [ 7626.993   ],\n",
              "        [ 5257.50795 ],\n",
              "        [ 2473.3341  ],\n",
              "        [21774.32215 ],\n",
              "        [35069.37452 ],\n",
              "        [13041.921   ],\n",
              "        [ 5245.2269  ],\n",
              "        [13451.122   ],\n",
              "        [13462.52    ],\n",
              "        [ 5488.262   ],\n",
              "        [ 4320.41085 ],\n",
              "        [ 6250.435   ],\n",
              "        [25333.33284 ],\n",
              "        [ 2913.569   ],\n",
              "        [12032.326   ],\n",
              "        [13470.8044  ],\n",
              "        [ 6289.7549  ],\n",
              "        [ 2927.0647  ],\n",
              "        [ 6238.298   ],\n",
              "        [10096.97    ],\n",
              "        [ 7348.142   ],\n",
              "        [ 4673.3922  ],\n",
              "        [12233.828   ],\n",
              "        [32108.66282 ],\n",
              "        [ 8965.79575 ],\n",
              "        [ 2304.0022  ],\n",
              "        [ 9487.6442  ],\n",
              "        [ 1121.8739  ],\n",
              "        [ 9549.5651  ],\n",
              "        [ 2217.46915 ],\n",
              "        [ 1628.4709  ],\n",
              "        [12982.8747  ],\n",
              "        [11674.13    ],\n",
              "        [ 7160.094   ],\n",
              "        [39047.285   ],\n",
              "        [ 6358.77645 ],\n",
              "        [19933.458   ],\n",
              "        [11534.87265 ],\n",
              "        [47462.894   ],\n",
              "        [ 4527.18295 ],\n",
              "        [38998.546   ],\n",
              "        [20009.63365 ],\n",
              "        [ 3875.7341  ],\n",
              "        [41999.52    ],\n",
              "        [12609.88702 ],\n",
              "        [41034.2214  ],\n",
              "        [28468.91901 ],\n",
              "        [ 2730.10785 ],\n",
              "        [ 3353.284   ],\n",
              "        [14474.675   ],\n",
              "        [ 9500.57305 ],\n",
              "        [26467.09737 ],\n",
              "        [ 4746.344   ],\n",
              "        [23967.38305 ],\n",
              "        [ 7518.02535 ],\n",
              "        [ 3279.86855 ],\n",
              "        [ 8596.8278  ],\n",
              "        [10702.6424  ],\n",
              "        [ 4992.3764  ],\n",
              "        [ 2527.81865 ],\n",
              "        [ 1759.338   ],\n",
              "        [ 2322.6218  ],\n",
              "        [16138.76205 ],\n",
              "        [ 7804.1605  ],\n",
              "        [ 2902.9065  ],\n",
              "        [ 9704.66805 ],\n",
              "        [ 4889.0368  ],\n",
              "        [25517.11363 ],\n",
              "        [ 4500.33925 ],\n",
              "        [19199.944   ],\n",
              "        [16796.41194 ],\n",
              "        [ 4915.05985 ],\n",
              "        [ 7624.63    ],\n",
              "        [ 8410.04685 ],\n",
              "        [28340.18885 ],\n",
              "        [ 4518.82625 ],\n",
              "        [14571.8908  ],\n",
              "        [ 3378.91    ],\n",
              "        [ 7144.86265 ],\n",
              "        [10118.424   ],\n",
              "        [ 5484.4673  ],\n",
              "        [16420.49455 ],\n",
              "        [ 7986.47525 ],\n",
              "        [ 7418.522   ],\n",
              "        [13887.9685  ],\n",
              "        [ 6551.7501  ],\n",
              "        [ 5267.81815 ]])>,\n",
              " <tf.Tensor: shape=(338, 1), dtype=float64, numpy=\n",
              " array([[17361.7661 ],\n",
              "        [34472.841  ],\n",
              "        [ 1972.95   ],\n",
              "        [21232.18226],\n",
              "        [ 8627.5411 ],\n",
              "        [ 4433.3877 ],\n",
              "        [ 4438.2634 ],\n",
              "        [24915.22085],\n",
              "        [23241.47453],\n",
              "        [ 9957.7216 ],\n",
              "        [ 8269.044  ],\n",
              "        [18767.7377 ],\n",
              "        [36580.28216],\n",
              "        [ 8765.249  ],\n",
              "        [ 5383.536  ],\n",
              "        [12124.9924 ],\n",
              "        [ 2709.24395],\n",
              "        [ 3987.926  ],\n",
              "        [12495.29085],\n",
              "        [26018.95052],\n",
              "        [ 8798.593  ],\n",
              "        [35595.5898 ],\n",
              "        [42211.1382 ],\n",
              "        [ 1711.0268 ],\n",
              "        [ 8569.8618 ],\n",
              "        [ 2020.177  ],\n",
              "        [16450.8947 ],\n",
              "        [21595.38229],\n",
              "        [ 9850.432  ],\n",
              "        [ 6877.9801 ],\n",
              "        [21677.28345],\n",
              "        [44423.803  ],\n",
              "        [ 4137.5227 ],\n",
              "        [13747.87235],\n",
              "        [12950.0712 ],\n",
              "        [12094.478  ],\n",
              "        [37484.4493 ],\n",
              "        [39725.51805],\n",
              "        [ 2250.8352 ],\n",
              "        [22493.65964],\n",
              "        [20234.85475],\n",
              "        [ 1704.70015],\n",
              "        [33475.81715],\n",
              "        [ 3161.454  ],\n",
              "        [11394.06555],\n",
              "        [21880.82   ],\n",
              "        [ 7325.0482 ],\n",
              "        [44501.3982 ],\n",
              "        [ 3594.17085],\n",
              "        [39727.614  ],\n",
              "        [ 8023.13545],\n",
              "        [14394.5579 ],\n",
              "        [ 9288.0267 ],\n",
              "        [25309.489  ],\n",
              "        [ 3353.4703 ],\n",
              "        [10594.50155],\n",
              "        [ 8277.523  ],\n",
              "        [17929.30337],\n",
              "        [ 2480.9791 ],\n",
              "        [ 4462.7218 ],\n",
              "        [ 1981.5819 ],\n",
              "        [11554.2236 ],\n",
              "        [48970.2476 ],\n",
              "        [ 6548.19505],\n",
              "        [ 5708.867  ],\n",
              "        [ 7045.499  ],\n",
              "        [ 8978.1851 ],\n",
              "        [ 5757.41345],\n",
              "        [14349.8544 ],\n",
              "        [10928.849  ],\n",
              "        [39871.7043 ],\n",
              "        [13974.45555],\n",
              "        [ 1909.52745],\n",
              "        [12096.6512 ],\n",
              "        [13204.28565],\n",
              "        [ 4562.8421 ],\n",
              "        [ 8551.347  ],\n",
              "        [ 2102.2647 ],\n",
              "        [34672.1472 ],\n",
              "        [15161.5344 ],\n",
              "        [11884.04858],\n",
              "        [ 4454.40265],\n",
              "        [ 5855.9025 ],\n",
              "        [ 4076.497  ],\n",
              "        [15019.76005],\n",
              "        [19023.26   ],\n",
              "        [10796.35025],\n",
              "        [11353.2276 ],\n",
              "        [ 9748.9106 ],\n",
              "        [10577.087  ],\n",
              "        [41676.0811 ],\n",
              "        [11286.5387 ],\n",
              "        [ 3591.48   ],\n",
              "        [33907.548  ],\n",
              "        [11299.343  ],\n",
              "        [ 4561.1885 ],\n",
              "        [44641.1974 ],\n",
              "        [ 1674.6323 ],\n",
              "        [23045.56616],\n",
              "        [ 3227.1211 ],\n",
              "        [16776.30405],\n",
              "        [11253.421  ],\n",
              "        [ 3471.4096 ],\n",
              "        [11363.2832 ],\n",
              "        [20420.60465],\n",
              "        [10338.9316 ],\n",
              "        [ 8988.15875],\n",
              "        [10493.9458 ],\n",
              "        [ 2904.088  ],\n",
              "        [ 8605.3615 ],\n",
              "        [11512.405  ],\n",
              "        [41949.2441 ],\n",
              "        [24180.9335 ],\n",
              "        [ 5312.16985],\n",
              "        [ 2396.0959 ],\n",
              "        [10807.4863 ],\n",
              "        [ 9222.4026 ],\n",
              "        [36124.5737 ],\n",
              "        [38282.7495 ],\n",
              "        [ 5693.4305 ],\n",
              "        [34166.273  ],\n",
              "        [ 8347.1643 ],\n",
              "        [46661.4424 ],\n",
              "        [18903.49141],\n",
              "        [40904.1995 ],\n",
              "        [14254.6082 ],\n",
              "        [10214.636  ],\n",
              "        [ 5836.5204 ],\n",
              "        [14358.36437],\n",
              "        [ 1728.897  ],\n",
              "        [ 8582.3023 ],\n",
              "        [ 3693.428  ],\n",
              "        [20709.02034],\n",
              "        [ 9991.03765],\n",
              "        [19673.33573],\n",
              "        [11085.5868 ],\n",
              "        [ 7623.518  ],\n",
              "        [ 3176.2877 ],\n",
              "        [ 3704.3545 ],\n",
              "        [36898.73308],\n",
              "        [ 9048.0273 ],\n",
              "        [ 7954.517  ],\n",
              "        [27117.99378],\n",
              "        [ 6338.0756 ],\n",
              "        [ 9630.397  ],\n",
              "        [11289.10925],\n",
              "        [52590.82939],\n",
              "        [ 2261.5688 ],\n",
              "        [10791.96   ],\n",
              "        [ 5979.731  ],\n",
              "        [ 2203.73595],\n",
              "        [12235.8392 ],\n",
              "        [40941.2854 ],\n",
              "        [ 5630.45785],\n",
              "        [11015.1747 ],\n",
              "        [ 7228.21565],\n",
              "        [39722.7462 ],\n",
              "        [14426.07385],\n",
              "        [ 2459.7201 ],\n",
              "        [ 3989.841  ],\n",
              "        [ 7727.2532 ],\n",
              "        [ 5124.1887 ],\n",
              "        [18963.17192],\n",
              "        [ 2200.83085],\n",
              "        [ 7153.5539 ],\n",
              "        [ 5227.98875],\n",
              "        [10982.5013 ],\n",
              "        [ 4529.477  ],\n",
              "        [ 4670.64   ],\n",
              "        [ 6112.35295],\n",
              "        [17178.6824 ],\n",
              "        [22478.6    ],\n",
              "        [11093.6229 ],\n",
              "        [ 6457.8434 ],\n",
              "        [ 4433.9159 ],\n",
              "        [ 2154.361  ],\n",
              "        [23887.6627 ],\n",
              "        [ 6496.886  ],\n",
              "        [ 2899.48935],\n",
              "        [19350.3689 ],\n",
              "        [ 7650.77375],\n",
              "        [ 2850.68375],\n",
              "        [ 2632.992  ],\n",
              "        [ 9447.3824 ],\n",
              "        [18328.2381 ],\n",
              "        [ 8603.8234 ],\n",
              "        [37465.34375],\n",
              "        [13844.7972 ],\n",
              "        [21771.3423 ],\n",
              "        [13126.67745],\n",
              "        [ 5327.40025],\n",
              "        [13725.47184],\n",
              "        [13019.16105],\n",
              "        [ 8671.19125],\n",
              "        [ 4134.08245],\n",
              "        [18838.70366],\n",
              "        [33307.5508 ],\n",
              "        [ 5699.8375 ],\n",
              "        [ 6393.60345],\n",
              "        [ 4934.705  ],\n",
              "        [ 6198.7518 ],\n",
              "        [ 8733.22925],\n",
              "        [ 2055.3249 ],\n",
              "        [ 9964.06   ],\n",
              "        [18223.4512 ],\n",
              "        [ 5116.5004 ],\n",
              "        [36910.60803],\n",
              "        [38415.474  ],\n",
              "        [20296.86345],\n",
              "        [12347.172  ],\n",
              "        [ 5373.36425],\n",
              "        [23563.01618],\n",
              "        [ 1702.4553 ],\n",
              "        [10806.839  ],\n",
              "        [ 3956.07145],\n",
              "        [12890.05765],\n",
              "        [ 5415.6612 ],\n",
              "        [ 4058.1161 ],\n",
              "        [41661.602  ],\n",
              "        [ 7537.1639 ],\n",
              "        [ 4718.20355],\n",
              "        [ 6593.5083 ],\n",
              "        [ 8442.667  ],\n",
              "        [26125.67477],\n",
              "        [ 6858.4796 ],\n",
              "        [ 4795.6568 ],\n",
              "        [ 6640.54485],\n",
              "        [ 7162.0122 ],\n",
              "        [10594.2257 ],\n",
              "        [11938.25595],\n",
              "        [60021.39897],\n",
              "        [20167.33603],\n",
              "        [12479.70895],\n",
              "        [11345.519  ],\n",
              "        [ 8515.7587 ],\n",
              "        [ 2699.56835],\n",
              "        [14449.8544 ],\n",
              "        [12224.35085],\n",
              "        [ 6985.50695],\n",
              "        [ 3238.4357 ],\n",
              "        [47269.854  ],\n",
              "        [49577.6624 ],\n",
              "        [ 4296.2712 ],\n",
              "        [ 3171.6149 ],\n",
              "        [ 1135.9407 ],\n",
              "        [ 5615.369  ],\n",
              "        [ 9101.798  ],\n",
              "        [ 6059.173  ],\n",
              "        [ 1633.9618 ],\n",
              "        [37607.5277 ],\n",
              "        [18648.4217 ],\n",
              "        [ 1241.565  ],\n",
              "        [16232.847  ],\n",
              "        [15828.82173],\n",
              "        [ 4415.1588 ],\n",
              "        [ 6474.013  ],\n",
              "        [11436.73815],\n",
              "        [11305.93455],\n",
              "        [30063.58055],\n",
              "        [10197.7722 ],\n",
              "        [ 4544.2348 ],\n",
              "        [ 3277.161  ],\n",
              "        [ 6770.1925 ],\n",
              "        [ 7337.748  ],\n",
              "        [10370.91255],\n",
              "        [26926.5144 ],\n",
              "        [10704.47   ],\n",
              "        [34254.05335],\n",
              "        [ 1880.487  ],\n",
              "        [ 8615.3    ],\n",
              "        [ 3292.52985],\n",
              "        [ 3021.80915],\n",
              "        [14478.33015],\n",
              "        [ 4747.0529 ],\n",
              "        [17043.3414 ],\n",
              "        [10959.33   ],\n",
              "        [ 2741.948  ],\n",
              "        [ 4357.04365],\n",
              "        [22462.04375],\n",
              "        [ 4189.1131 ],\n",
              "        [ 8283.6807 ],\n",
              "        [24535.69855],\n",
              "        [14283.4594 ],\n",
              "        [ 1720.3537 ],\n",
              "        [47403.88   ],\n",
              "        [ 8534.6718 ],\n",
              "        [ 3732.6251 ],\n",
              "        [ 5472.449  ],\n",
              "        [38344.566  ],\n",
              "        [ 7147.4728 ],\n",
              "        [ 7133.9025 ],\n",
              "        [34828.654  ],\n",
              "        [ 1515.3449 ],\n",
              "        [ 9301.89355],\n",
              "        [11931.12525],\n",
              "        [ 1964.78   ],\n",
              "        [ 1708.92575],\n",
              "        [ 4340.4409 ],\n",
              "        [ 5261.46945],\n",
              "        [ 2710.82855],\n",
              "        [62592.87309],\n",
              "        [46718.16325],\n",
              "        [ 3208.787  ],\n",
              "        [37829.7242 ],\n",
              "        [21259.37795],\n",
              "        [ 2464.6188 ],\n",
              "        [16115.3045 ],\n",
              "        [21472.4788 ],\n",
              "        [33900.653  ],\n",
              "        [ 6875.961  ],\n",
              "        [ 6940.90985],\n",
              "        [ 4571.41305],\n",
              "        [ 4536.259  ],\n",
              "        [36397.576  ],\n",
              "        [18765.87545],\n",
              "        [11272.33139],\n",
              "        [ 1731.677  ],\n",
              "        [ 1163.4627 ],\n",
              "        [19496.71917],\n",
              "        [ 7201.70085],\n",
              "        [ 5425.02335],\n",
              "        [28101.33305],\n",
              "        [12981.3457 ],\n",
              "        [43896.3763 ],\n",
              "        [ 4239.89265],\n",
              "        [13143.33665],\n",
              "        [ 7050.0213 ],\n",
              "        [ 9377.9047 ],\n",
              "        [22395.74424],\n",
              "        [10325.206  ],\n",
              "        [12629.1656 ],\n",
              "        [10795.93733],\n",
              "        [11411.685  ],\n",
              "        [10600.5483 ],\n",
              "        [ 2205.9808 ],\n",
              "        [ 1629.8335 ],\n",
              "        [ 2007.945  ],\n",
              "        [29141.3603 ]])>)"
            ]
          },
          "metadata": {},
          "execution_count": 73
        }
      ]
    },
    {
      "cell_type": "code",
      "source": [
        "# But better than that, we can use sklearn to split training and testing data\n",
        "# This way we can use pandas dataframe\n",
        "from sklearn.model_selection import train_test_split\n",
        "X_train, X_test, y_train, y_test = train_test_split(X_df, y_df, test_size=0.2, random_state=42)\n",
        "len(X_df), len(X_train), len(X_test)"
      ],
      "metadata": {
        "colab": {
          "base_uri": "https://localhost:8080/"
        },
        "id": "4GmNqp1U0aUs",
        "outputId": "6be47196-6392-4795-c912-4d84af06f88e"
      },
      "execution_count": null,
      "outputs": [
        {
          "output_type": "execute_result",
          "data": {
            "text/plain": [
              "(1338, 1070, 268)"
            ]
          },
          "metadata": {},
          "execution_count": 74
        }
      ]
    },
    {
      "cell_type": "markdown",
      "source": [
        "**Create 3 models**\n",
        "1. Create model\n",
        "2. Compile model\n",
        "3. Fit model\n",
        "4. Get model summary\n",
        "5. Plot model\n",
        "6. Predict\n",
        "7. Plot predictions\n",
        "8. Evaluate\n",
        "9. Calculate\n",
        "10. Compare"
      ],
      "metadata": {
        "id": "lc0OgI2O5Cc1"
      }
    },
    {
      "cell_type": "code",
      "source": [
        "tf.random.set_seed(42)\n",
        "\n",
        "# 1. Create model 1\n",
        "insurance_model_1 = tf.keras.Sequential([\n",
        "  tf.keras.layers.Dense(10, input_shape=[11], name=\"insurance_model_input_1\"),\n",
        "  tf.keras.layers.Dense(1, name=\"insurance_model_output_1\")\n",
        "], name=\"insurance_model_1\")\n",
        "\n",
        "# 2. Compile model 1\n",
        "insurance_model_1.compile(optimizer=tf.keras.optimizers.SGD(),\n",
        "                          loss=tf.keras.losses.mae,\n",
        "                          metrics=[\"mae\"])\n",
        "\n",
        "# 3. Fit model 1\n",
        "insurance_model_1.fit(X_train, y_train, epochs=100, verbose=0)"
      ],
      "metadata": {
        "colab": {
          "base_uri": "https://localhost:8080/"
        },
        "id": "eKIZ1Vd23lSE",
        "outputId": "a9e2abbc-17a4-450a-dafc-187baf8b33ca"
      },
      "execution_count": null,
      "outputs": [
        {
          "output_type": "execute_result",
          "data": {
            "text/plain": [
              "<keras.callbacks.History at 0x7fa8c3275810>"
            ]
          },
          "metadata": {},
          "execution_count": 75
        }
      ]
    },
    {
      "cell_type": "markdown",
      "source": [
        "Even though it is Pandas it will still work with tensorflow as Pandas is built on NumPy"
      ],
      "metadata": {
        "id": "EgOoddZD82Bz"
      }
    },
    {
      "cell_type": "code",
      "source": [
        "insurance_model_1.summary()"
      ],
      "metadata": {
        "colab": {
          "base_uri": "https://localhost:8080/"
        },
        "id": "x3TaMMD07mMs",
        "outputId": "ac07a2aa-06b6-4ebc-9228-a58dab0fc50d"
      },
      "execution_count": null,
      "outputs": [
        {
          "output_type": "stream",
          "name": "stdout",
          "text": [
            "Model: \"insurance_model_1\"\n",
            "_________________________________________________________________\n",
            " Layer (type)                Output Shape              Param #   \n",
            "=================================================================\n",
            " insurance_model_input_1 (De  (None, 10)               120       \n",
            " nse)                                                            \n",
            "                                                                 \n",
            " insurance_model_output_1 (D  (None, 1)                11        \n",
            " ense)                                                           \n",
            "                                                                 \n",
            "=================================================================\n",
            "Total params: 131\n",
            "Trainable params: 131\n",
            "Non-trainable params: 0\n",
            "_________________________________________________________________\n"
          ]
        }
      ]
    },
    {
      "cell_type": "code",
      "source": [
        "tf.keras.utils.plot_model(insurance_model_1, show_shapes=True)"
      ],
      "metadata": {
        "colab": {
          "base_uri": "https://localhost:8080/",
          "height": 312
        },
        "id": "k9CPmGFm6VBS",
        "outputId": "7c9bfd2d-f147-473b-9a26-3f469301deab"
      },
      "execution_count": null,
      "outputs": [
        {
          "output_type": "execute_result",
          "data": {
            "text/plain": [
              "<IPython.core.display.Image object>"
            ],
            "image/png": "[encoded data removed]"
          },
          "metadata": {},
          "execution_count": 77
        }
      ]
    },
    {
      "cell_type": "code",
      "source": [
        "y_insur_pred_1 = insurance_model_1.predict(X_test)\n",
        "y_insur_pred_1"
      ],
      "metadata": {
        "colab": {
          "base_uri": "https://localhost:8080/"
        },
        "id": "-dPFsi78_oWF",
        "outputId": "affde0fb-8934-4a76-bb60-23baeb171f27"
      },
      "execution_count": null,
      "outputs": [
        {
          "output_type": "execute_result",
          "data": {
            "text/plain": [
              "array([[12541.166 ],\n",
              "       [ 8981.749 ],\n",
              "       [20281.945 ],\n",
              "       [12997.792 ],\n",
              "       [ 7667.256 ],\n",
              "       [ 9048.03  ],\n",
              "       [ 3970.31  ],\n",
              "       [16986.562 ],\n",
              "       [ 6553.7   ],\n",
              "       [13931.824 ],\n",
              "       [11841.377 ],\n",
              "       [11257.752 ],\n",
              "       [ 7640.4194],\n",
              "       [17186.02  ],\n",
              "       [19633.303 ],\n",
              "       [16880.6   ],\n",
              "       [14148.9795],\n",
              "       [16439.781 ],\n",
              "       [12374.691 ],\n",
              "       [14375.43  ],\n",
              "       [ 7863.217 ],\n",
              "       [11745.962 ],\n",
              "       [ 3963.8625],\n",
              "       [ 5556.0513],\n",
              "       [14307.78  ],\n",
              "       [14338.122 ],\n",
              "       [15751.809 ],\n",
              "       [ 7908.605 ],\n",
              "       [13147.357 ],\n",
              "       [ 3969.0344],\n",
              "       [11877.595 ],\n",
              "       [14943.573 ],\n",
              "       [ 5069.9224],\n",
              "       [ 8432.175 ],\n",
              "       [ 6402.6353],\n",
              "       [11912.932 ],\n",
              "       [ 4998.167 ],\n",
              "       [11293.194 ],\n",
              "       [17304.564 ],\n",
              "       [13189.915 ],\n",
              "       [ 6431.8228],\n",
              "       [ 5454.861 ],\n",
              "       [15130.4   ],\n",
              "       [15198.897 ],\n",
              "       [ 9324.264 ],\n",
              "       [15607.694 ],\n",
              "       [ 5837.816 ],\n",
              "       [ 7023.2505],\n",
              "       [16146.73  ],\n",
              "       [ 8842.636 ],\n",
              "       [16926.77  ],\n",
              "       [ 4427.631 ],\n",
              "       [10938.321 ],\n",
              "       [ 3899.6453],\n",
              "       [14788.471 ],\n",
              "       [14047.831 ],\n",
              "       [ 7254.419 ],\n",
              "       [12564.671 ],\n",
              "       [15127.998 ],\n",
              "       [14074.326 ],\n",
              "       [16494.475 ],\n",
              "       [ 8818.474 ],\n",
              "       [17398.13  ],\n",
              "       [11479.421 ],\n",
              "       [13720.286 ],\n",
              "       [ 7088.6646],\n",
              "       [ 9832.042 ],\n",
              "       [14863.933 ],\n",
              "       [ 6140.077 ],\n",
              "       [ 5086.501 ],\n",
              "       [10341.863 ],\n",
              "       [13040.76  ],\n",
              "       [12616.821 ],\n",
              "       [10907.347 ],\n",
              "       [12006.745 ],\n",
              "       [ 9137.178 ],\n",
              "       [ 8075.5376],\n",
              "       [14473.092 ],\n",
              "       [ 7945.842 ],\n",
              "       [12691.401 ],\n",
              "       [ 4629.31  ],\n",
              "       [19813.572 ],\n",
              "       [ 8678.434 ],\n",
              "       [10226.54  ],\n",
              "       [ 9784.813 ],\n",
              "       [16595.621 ],\n",
              "       [ 8834.58  ],\n",
              "       [14298.001 ],\n",
              "       [11935.348 ],\n",
              "       [15163.353 ],\n",
              "       [17718.537 ],\n",
              "       [20321.084 ],\n",
              "       [16171.5205],\n",
              "       [ 8567.02  ],\n",
              "       [12362.981 ],\n",
              "       [11171.18  ],\n",
              "       [11872.732 ],\n",
              "       [ 4731.358 ],\n",
              "       [12066.615 ],\n",
              "       [ 9676.142 ],\n",
              "       [ 7726.8774],\n",
              "       [ 4030.0576],\n",
              "       [10748.181 ],\n",
              "       [15991.819 ],\n",
              "       [15918.248 ],\n",
              "       [ 4606.2793],\n",
              "       [12263.099 ],\n",
              "       [17050.992 ],\n",
              "       [ 3757.0024],\n",
              "       [17706.016 ],\n",
              "       [ 4046.598 ],\n",
              "       [ 7203.5645],\n",
              "       [15936.63  ],\n",
              "       [12692.683 ],\n",
              "       [13355.779 ],\n",
              "       [ 4806.988 ],\n",
              "       [15788.361 ],\n",
              "       [15198.236 ],\n",
              "       [10409.791 ],\n",
              "       [ 5613.858 ],\n",
              "       [ 9212.528 ],\n",
              "       [11368.372 ],\n",
              "       [14914.6455],\n",
              "       [ 5831.8867],\n",
              "       [ 7506.8115],\n",
              "       [11445.6   ],\n",
              "       [11763.484 ],\n",
              "       [13214.511 ],\n",
              "       [15768.014 ],\n",
              "       [ 5736.0137],\n",
              "       [ 7981.7915],\n",
              "       [10325.161 ],\n",
              "       [10002.319 ],\n",
              "       [11978.513 ],\n",
              "       [ 9774.815 ],\n",
              "       [15901.866 ],\n",
              "       [ 8398.049 ],\n",
              "       [13941.554 ],\n",
              "       [15026.4   ],\n",
              "       [13019.346 ],\n",
              "       [ 8885.684 ],\n",
              "       [13532.178 ],\n",
              "       [ 6380.9297],\n",
              "       [14676.311 ],\n",
              "       [ 5803.043 ],\n",
              "       [16739.945 ],\n",
              "       [ 8911.587 ],\n",
              "       [ 7411.336 ],\n",
              "       [14842.307 ],\n",
              "       [ 8949.319 ],\n",
              "       [18940.293 ],\n",
              "       [ 5267.1147],\n",
              "       [ 4306.1064],\n",
              "       [12070.396 ],\n",
              "       [10349.596 ],\n",
              "       [ 8661.844 ],\n",
              "       [16458.596 ],\n",
              "       [12696.403 ],\n",
              "       [ 7974.375 ],\n",
              "       [14294.298 ],\n",
              "       [16401.354 ],\n",
              "       [ 4551.4785],\n",
              "       [17437.979 ],\n",
              "       [ 5256.4697],\n",
              "       [ 6605.967 ],\n",
              "       [11899.446 ],\n",
              "       [20196.176 ],\n",
              "       [18444.105 ],\n",
              "       [15375.684 ],\n",
              "       [ 5760.5337],\n",
              "       [12717.239 ],\n",
              "       [10247.814 ],\n",
              "       [10312.6875],\n",
              "       [ 7820.292 ],\n",
              "       [ 4818.688 ],\n",
              "       [15983.809 ],\n",
              "       [ 7402.035 ],\n",
              "       [17223.96  ],\n",
              "       [11966.462 ],\n",
              "       [14678.665 ],\n",
              "       [20239.016 ],\n",
              "       [ 5052.4985],\n",
              "       [12125.451 ],\n",
              "       [ 8878.274 ],\n",
              "       [ 8329.487 ],\n",
              "       [ 5708.487 ],\n",
              "       [ 7583.4355],\n",
              "       [ 7087.1733],\n",
              "       [13185.159 ],\n",
              "       [14140.802 ],\n",
              "       [ 6740.7954],\n",
              "       [ 4104.96  ],\n",
              "       [ 5046.612 ],\n",
              "       [12005.1   ],\n",
              "       [16610.875 ],\n",
              "       [13484.203 ],\n",
              "       [ 4513.635 ],\n",
              "       [15186.0625],\n",
              "       [ 4017.6274],\n",
              "       [12648.076 ],\n",
              "       [ 5930.415 ],\n",
              "       [16809.191 ],\n",
              "       [ 8740.0205],\n",
              "       [ 4968.0884],\n",
              "       [ 8545.697 ],\n",
              "       [ 9968.3   ],\n",
              "       [12696.6455],\n",
              "       [ 6222.829 ],\n",
              "       [12713.646 ],\n",
              "       [ 5951.6167],\n",
              "       [15782.367 ],\n",
              "       [15343.864 ],\n",
              "       [13523.999 ],\n",
              "       [ 9645.664 ],\n",
              "       [10962.7705],\n",
              "       [ 7442.266 ],\n",
              "       [ 8725.021 ],\n",
              "       [16988.748 ],\n",
              "       [15722.314 ],\n",
              "       [ 9469.565 ],\n",
              "       [ 4937.476 ],\n",
              "       [11410.799 ],\n",
              "       [11261.837 ],\n",
              "       [15728.583 ],\n",
              "       [ 4995.958 ],\n",
              "       [10349.759 ],\n",
              "       [ 3775.7207],\n",
              "       [ 4105.593 ],\n",
              "       [13729.52  ],\n",
              "       [15076.286 ],\n",
              "       [ 5018.436 ],\n",
              "       [12833.892 ],\n",
              "       [ 7675.3013],\n",
              "       [14155.401 ],\n",
              "       [13123.887 ],\n",
              "       [12893.788 ],\n",
              "       [ 7047.547 ],\n",
              "       [10546.28  ],\n",
              "       [15630.264 ],\n",
              "       [ 5205.3184],\n",
              "       [15586.123 ],\n",
              "       [11418.06  ],\n",
              "       [ 6024.682 ],\n",
              "       [ 6806.7446],\n",
              "       [ 3939.6614],\n",
              "       [ 6088.9863],\n",
              "       [ 7482.9033],\n",
              "       [ 8136.175 ],\n",
              "       [16564.059 ],\n",
              "       [ 3703.8633],\n",
              "       [ 4332.77  ],\n",
              "       [11467.102 ],\n",
              "       [ 6466.4277],\n",
              "       [14861.691 ],\n",
              "       [ 4737.788 ],\n",
              "       [ 6596.2666],\n",
              "       [15449.663 ],\n",
              "       [ 6658.5107],\n",
              "       [12508.164 ],\n",
              "       [ 9248.703 ],\n",
              "       [11512.62  ],\n",
              "       [15739.672 ],\n",
              "       [ 9990.969 ],\n",
              "       [20298.441 ],\n",
              "       [15082.192 ],\n",
              "       [10065.31  ],\n",
              "       [18256.758 ],\n",
              "       [13675.06  ]], dtype=float32)"
            ]
          },
          "metadata": {},
          "execution_count": 78
        }
      ]
    },
    {
      "cell_type": "code",
      "source": [
        "tf.random.set_seed(42)\n",
        "\n",
        "# 1. Create model 2\n",
        "insurance_model_2 = tf.keras.Sequential([\n",
        "  tf.keras.layers.Dense(100),\n",
        "  tf.keras.layers.Dense(10),\n",
        "  tf.keras.layers.Dense(1)\n",
        "])\n",
        "\n",
        "# 2. Compile model 2\n",
        "insurance_model_2.compile(optimizer=tf.keras.optimizers.Adam(),\n",
        "                          loss=tf.keras.losses.mae,\n",
        "                          metrics=[\"mae\"])\n",
        "\n",
        "# 3. Fit model 2\n",
        "history = insurance_model_2.fit(X_train, y_train, epochs=100, verbose=0)"
      ],
      "metadata": {
        "id": "2eebMThtl4VY"
      },
      "execution_count": null,
      "outputs": []
    },
    {
      "cell_type": "code",
      "source": [
        "y_insur_pred_2 = insurance_model_2.predict(X_train)"
      ],
      "metadata": {
        "id": "HIRXSHNXqP-g"
      },
      "execution_count": null,
      "outputs": []
    },
    {
      "cell_type": "code",
      "source": [
        "insurance_model_2.evaluate(X_test, y_test)"
      ],
      "metadata": {
        "id": "FCI1psmurQxA",
        "colab": {
          "base_uri": "https://localhost:8080/"
        },
        "outputId": "5150b6b2-c564-49de-c93d-765c5aeabf12"
      },
      "execution_count": null,
      "outputs": [
        {
          "output_type": "stream",
          "name": "stdout",
          "text": [
            "9/9 [==============================] - 0s 2ms/step - loss: 3167.3218 - mae: 3167.3218\n"
          ]
        },
        {
          "output_type": "execute_result",
          "data": {
            "text/plain": [
              "[3167.32177734375, 3167.32177734375]"
            ]
          },
          "metadata": {},
          "execution_count": 81
        }
      ]
    },
    {
      "cell_type": "code",
      "source": [
        "# Plot history (AKA loss curve or training curve)\n",
        "df(history.history).plot()\n",
        "plt.ylabel(\"loss\")\n",
        "plt.xlabel(\"epochs\")"
      ],
      "metadata": {
        "id": "aaRBTMkpCatu",
        "colab": {
          "base_uri": "https://localhost:8080/",
          "height": 296
        },
        "outputId": "1f5f3270-c6e4-4c17-894e-79711e6a44a4"
      },
      "execution_count": null,
      "outputs": [
        {
          "output_type": "execute_result",
          "data": {
            "text/plain": [
              "Text(0.5, 0, 'epochs')"
            ]
          },
          "metadata": {},
          "execution_count": 82
        },
        {
          "output_type": "display_data",
          "data": {
            "text/plain": [
              "<Figure size 432x288 with 1 Axes>"
            ],
            "image/png": "[encoded data removed]"
          },
          "metadata": {
            "needs_background": "light"
          }
        }
      ]
    },
    {
      "cell_type": "markdown",
      "source": [
        "Preprocessing data (normalization and standardization)\n",
        "\n",
        "Normalization - data can be scattered and each on it's own scale. Instead of that we should make all numbers between 0 - 1\n",
        "\n",
        "Neural network prefer normalization instead of standardization"
      ],
      "metadata": {
        "id": "llJXDVw94Skz"
      }
    },
    {
      "cell_type": "code",
      "source": [
        "# Check how X_df has age in a different scale than bmi.\n",
        "X_df"
      ],
      "metadata": {
        "id": "5rZ7m6evCunS",
        "colab": {
          "base_uri": "https://localhost:8080/",
          "height": 424
        },
        "outputId": "21628d2e-1b7d-42b4-b9da-440905cd0fd4"
      },
      "execution_count": null,
      "outputs": [
        {
          "output_type": "execute_result",
          "data": {
            "text/plain": [
              "      age     bmi  children  sex_female  sex_male  smoker_no  smoker_yes  \\\n",
              "0      19  27.900         0           1         0          0           1   \n",
              "1      18  33.770         1           0         1          1           0   \n",
              "2      28  33.000         3           0         1          1           0   \n",
              "3      33  22.705         0           0         1          1           0   \n",
              "4      32  28.880         0           0         1          1           0   \n",
              "...   ...     ...       ...         ...       ...        ...         ...   \n",
              "1333   50  30.970         3           0         1          1           0   \n",
              "1334   18  31.920         0           1         0          1           0   \n",
              "1335   18  36.850         0           1         0          1           0   \n",
              "1336   21  25.800         0           1         0          1           0   \n",
              "1337   61  29.070         0           1         0          0           1   \n",
              "\n",
              "      region_northeast  region_northwest  region_southeast  region_southwest  \n",
              "0                    0                 0                 0                 1  \n",
              "1                    0                 0                 1                 0  \n",
              "2                    0                 0                 1                 0  \n",
              "3                    0                 1                 0                 0  \n",
              "4                    0                 1                 0                 0  \n",
              "...                ...               ...               ...               ...  \n",
              "1333                 0                 1                 0                 0  \n",
              "1334                 1                 0                 0                 0  \n",
              "1335                 0                 0                 1                 0  \n",
              "1336                 0                 0                 0                 1  \n",
              "1337                 0                 1                 0                 0  \n",
              "\n",
              "[1338 rows x 11 columns]"
            ],
            "text/html": [
              "\n",
              "  <div id=\"df-fb8898dc-bbc0-4016-991a-feb4fc8922ba\">\n",
              "    <div class=\"colab-df-container\">\n",
              "      <div>\n",
              "<style scoped>\n",
              "    .dataframe tbody tr th:only-of-type {\n",
              "        vertical-align: middle;\n",
              "    }\n",
              "\n",
              "    .dataframe tbody tr th {\n",
              "        vertical-align: top;\n",
              "    }\n",
              "\n",
              "    .dataframe thead th {\n",
              "        text-align: right;\n",
              "    }\n",
              "</style>\n",
              "<table border=\"1\" class=\"dataframe\">\n",
              "  <thead>\n",
              "    <tr style=\"text-align: right;\">\n",
              "      <th></th>\n",
              "      <th>age</th>\n",
              "      <th>bmi</th>\n",
              "      <th>children</th>\n",
              "      <th>sex_female</th>\n",
              "      <th>sex_male</th>\n",
              "      <th>smoker_no</th>\n",
              "      <th>smoker_yes</th>\n",
              "      <th>region_northeast</th>\n",
              "      <th>region_northwest</th>\n",
              "      <th>region_southeast</th>\n",
              "      <th>region_southwest</th>\n",
              "    </tr>\n",
              "  </thead>\n",
              "  <tbody>\n",
              "    <tr>\n",
              "      <th>0</th>\n",
              "      <td>19</td>\n",
              "      <td>27.900</td>\n",
              "      <td>0</td>\n",
              "      <td>1</td>\n",
              "      <td>0</td>\n",
              "      <td>0</td>\n",
              "      <td>1</td>\n",
              "      <td>0</td>\n",
              "      <td>0</td>\n",
              "      <td>0</td>\n",
              "      <td>1</td>\n",
              "    </tr>\n",
              "    <tr>\n",
              "      <th>1</th>\n",
              "      <td>18</td>\n",
              "      <td>33.770</td>\n",
              "      <td>1</td>\n",
              "      <td>0</td>\n",
              "      <td>1</td>\n",
              "      <td>1</td>\n",
              "      <td>0</td>\n",
              "      <td>0</td>\n",
              "      <td>0</td>\n",
              "      <td>1</td>\n",
              "      <td>0</td>\n",
              "    </tr>\n",
              "    <tr>\n",
              "      <th>2</th>\n",
              "      <td>28</td>\n",
              "      <td>33.000</td>\n",
              "      <td>3</td>\n",
              "      <td>0</td>\n",
              "      <td>1</td>\n",
              "      <td>1</td>\n",
              "      <td>0</td>\n",
              "      <td>0</td>\n",
              "      <td>0</td>\n",
              "      <td>1</td>\n",
              "      <td>0</td>\n",
              "    </tr>\n",
              "    <tr>\n",
              "      <th>3</th>\n",
              "      <td>33</td>\n",
              "      <td>22.705</td>\n",
              "      <td>0</td>\n",
              "      <td>0</td>\n",
              "      <td>1</td>\n",
              "      <td>1</td>\n",
              "      <td>0</td>\n",
              "      <td>0</td>\n",
              "      <td>1</td>\n",
              "      <td>0</td>\n",
              "      <td>0</td>\n",
              "    </tr>\n",
              "    <tr>\n",
              "      <th>4</th>\n",
              "      <td>32</td>\n",
              "      <td>28.880</td>\n",
              "      <td>0</td>\n",
              "      <td>0</td>\n",
              "      <td>1</td>\n",
              "      <td>1</td>\n",
              "      <td>0</td>\n",
              "      <td>0</td>\n",
              "      <td>1</td>\n",
              "      <td>0</td>\n",
              "      <td>0</td>\n",
              "    </tr>\n",
              "    <tr>\n",
              "      <th>...</th>\n",
              "      <td>...</td>\n",
              "      <td>...</td>\n",
              "      <td>...</td>\n",
              "      <td>...</td>\n",
              "      <td>...</td>\n",
              "      <td>...</td>\n",
              "      <td>...</td>\n",
              "      <td>...</td>\n",
              "      <td>...</td>\n",
              "      <td>...</td>\n",
              "      <td>...</td>\n",
              "    </tr>\n",
              "    <tr>\n",
              "      <th>1333</th>\n",
              "      <td>50</td>\n",
              "      <td>30.970</td>\n",
              "      <td>3</td>\n",
              "      <td>0</td>\n",
              "      <td>1</td>\n",
              "      <td>1</td>\n",
              "      <td>0</td>\n",
              "      <td>0</td>\n",
              "      <td>1</td>\n",
              "      <td>0</td>\n",
              "      <td>0</td>\n",
              "    </tr>\n",
              "    <tr>\n",
              "      <th>1334</th>\n",
              "      <td>18</td>\n",
              "      <td>31.920</td>\n",
              "      <td>0</td>\n",
              "      <td>1</td>\n",
              "      <td>0</td>\n",
              "      <td>1</td>\n",
              "      <td>0</td>\n",
              "      <td>1</td>\n",
              "      <td>0</td>\n",
              "      <td>0</td>\n",
              "      <td>0</td>\n",
              "    </tr>\n",
              "    <tr>\n",
              "      <th>1335</th>\n",
              "      <td>18</td>\n",
              "      <td>36.850</td>\n",
              "      <td>0</td>\n",
              "      <td>1</td>\n",
              "      <td>0</td>\n",
              "      <td>1</td>\n",
              "      <td>0</td>\n",
              "      <td>0</td>\n",
              "      <td>0</td>\n",
              "      <td>1</td>\n",
              "      <td>0</td>\n",
              "    </tr>\n",
              "    <tr>\n",
              "      <th>1336</th>\n",
              "      <td>21</td>\n",
              "      <td>25.800</td>\n",
              "      <td>0</td>\n",
              "      <td>1</td>\n",
              "      <td>0</td>\n",
              "      <td>1</td>\n",
              "      <td>0</td>\n",
              "      <td>0</td>\n",
              "      <td>0</td>\n",
              "      <td>0</td>\n",
              "      <td>1</td>\n",
              "    </tr>\n",
              "    <tr>\n",
              "      <th>1337</th>\n",
              "      <td>61</td>\n",
              "      <td>29.070</td>\n",
              "      <td>0</td>\n",
              "      <td>1</td>\n",
              "      <td>0</td>\n",
              "      <td>0</td>\n",
              "      <td>1</td>\n",
              "      <td>0</td>\n",
              "      <td>1</td>\n",
              "      <td>0</td>\n",
              "      <td>0</td>\n",
              "    </tr>\n",
              "  </tbody>\n",
              "</table>\n",
              "<p>1338 rows × 11 columns</p>\n",
              "</div>\n",
              "      <button class=\"colab-df-convert\" onclick=\"convertToInteractive('df-fb8898dc-bbc0-4016-991a-feb4fc8922ba')\"\n",
              "              title=\"Convert this dataframe to an interactive table.\"\n",
              "              style=\"display:none;\">\n",
              "        \n",
              "  <svg xmlns=\"http://www.w3.org/2000/svg\" height=\"24px\"viewBox=\"0 0 24 24\"\n",
              "       width=\"24px\">\n",
              "    <path d=\"M0 0h24v24H0V0z\" fill=\"none\"/>\n",
              "    <path d=\"M18.56 5.44l.94 2.06.94-2.06 2.06-.94-2.06-.94-.94-2.06-.94 2.06-2.06.94zm-11 1L8.5 8.5l.94-2.06 2.06-.94-2.06-.94L8.5 2.5l-.94 2.06-2.06.94zm10 10l.94 2.06.94-2.06 2.06-.94-2.06-.94-.94-2.06-.94 2.06-2.06.94z\"/><path d=\"M17.41 7.96l-1.37-1.37c-.4-.4-.92-.59-1.43-.59-.52 0-1.04.2-1.43.59L10.3 9.45l-7.72 7.72c-.78.78-.78 2.05 0 2.83L4 21.41c.39.39.9.59 1.41.59.51 0 1.02-.2 1.41-.59l7.78-7.78 2.81-2.81c.8-.78.8-2.07 0-2.86zM5.41 20L4 18.59l7.72-7.72 1.47 1.35L5.41 20z\"/>\n",
              "  </svg>\n",
              "      </button>\n",
              "      \n",
              "  <style>\n",
              "    .colab-df-container {\n",
              "      display:flex;\n",
              "      flex-wrap:wrap;\n",
              "      gap: 12px;\n",
              "    }\n",
              "\n",
              "    .colab-df-convert {\n",
              "      background-color: #E8F0FE;\n",
              "      border: none;\n",
              "      border-radius: 50%;\n",
              "      cursor: pointer;\n",
              "      display: none;\n",
              "      fill: #1967D2;\n",
              "      height: 32px;\n",
              "      padding: 0 0 0 0;\n",
              "      width: 32px;\n",
              "    }\n",
              "\n",
              "    .colab-df-convert:hover {\n",
              "      background-color: #E2EBFA;\n",
              "      box-shadow: 0px 1px 2px rgba(60, 64, 67, 0.3), 0px 1px 3px 1px rgba(60, 64, 67, 0.15);\n",
              "      fill: #174EA6;\n",
              "    }\n",
              "\n",
              "    [theme=dark] .colab-df-convert {\n",
              "      background-color: #3B4455;\n",
              "      fill: #D2E3FC;\n",
              "    }\n",
              "\n",
              "    [theme=dark] .colab-df-convert:hover {\n",
              "      background-color: #434B5C;\n",
              "      box-shadow: 0px 1px 3px 1px rgba(0, 0, 0, 0.15);\n",
              "      filter: drop-shadow(0px 1px 2px rgba(0, 0, 0, 0.3));\n",
              "      fill: #FFFFFF;\n",
              "    }\n",
              "  </style>\n",
              "\n",
              "      <script>\n",
              "        const buttonEl =\n",
              "          document.querySelector('#df-fb8898dc-bbc0-4016-991a-feb4fc8922ba button.colab-df-convert');\n",
              "        buttonEl.style.display =\n",
              "          google.colab.kernel.accessAllowed ? 'block' : 'none';\n",
              "\n",
              "        async function convertToInteractive(key) {\n",
              "          const element = document.querySelector('#df-fb8898dc-bbc0-4016-991a-feb4fc8922ba');\n",
              "          const dataTable =\n",
              "            await google.colab.kernel.invokeFunction('convertToInteractive',\n",
              "                                                     [key], {});\n",
              "          if (!dataTable) return;\n",
              "\n",
              "          const docLinkHtml = 'Like what you see? Visit the ' +\n",
              "            '<a target=\"_blank\" href=https://colab.research.google.com/notebooks/data_table.ipynb>data table notebook</a>'\n",
              "            + ' to learn more about interactive tables.';\n",
              "          element.innerHTML = '';\n",
              "          dataTable['output_type'] = 'display_data';\n",
              "          await google.colab.output.renderOutput(dataTable, element);\n",
              "          const docLink = document.createElement('div');\n",
              "          docLink.innerHTML = docLinkHtml;\n",
              "          element.appendChild(docLink);\n",
              "        }\n",
              "      </script>\n",
              "    </div>\n",
              "  </div>\n",
              "  "
            ]
          },
          "metadata": {},
          "execution_count": 83
        }
      ]
    },
    {
      "cell_type": "code",
      "source": [
        "# Plot age\n",
        "X_df[\"age\"].plot(kind=\"hist\")"
      ],
      "metadata": {
        "colab": {
          "base_uri": "https://localhost:8080/",
          "height": 282
        },
        "id": "B3TJiyLcDVE0",
        "outputId": "6925a7d1-87f6-4e08-d263-eb2d4a05a3cf"
      },
      "execution_count": null,
      "outputs": [
        {
          "output_type": "execute_result",
          "data": {
            "text/plain": [
              "<matplotlib.axes._subplots.AxesSubplot at 0x7fa8c27ffd50>"
            ]
          },
          "metadata": {},
          "execution_count": 84
        },
        {
          "output_type": "display_data",
          "data": {
            "text/plain": [
              "<Figure size 432x288 with 1 Axes>"
            ],
            "image/png": "[encoded data removed]"
          },
          "metadata": {
            "needs_background": "light"
          }
        }
      ]
    },
    {
      "cell_type": "code",
      "source": [
        "X_df[\"bmi\"].plot(kind=\"hist\")"
      ],
      "metadata": {
        "colab": {
          "base_uri": "https://localhost:8080/",
          "height": 282
        },
        "id": "So056WLKD3UT",
        "outputId": "b0fe13ff-50d5-4b15-8084-148753cc501c"
      },
      "execution_count": null,
      "outputs": [
        {
          "output_type": "execute_result",
          "data": {
            "text/plain": [
              "<matplotlib.axes._subplots.AxesSubplot at 0x7fa8c3f2ad90>"
            ]
          },
          "metadata": {},
          "execution_count": 85
        },
        {
          "output_type": "display_data",
          "data": {
            "text/plain": [
              "<Figure size 432x288 with 1 Axes>"
            ],
            "image/png": "[encoded data removed]"
          },
          "metadata": {
            "needs_background": "light"
          }
        }
      ]
    },
    {
      "cell_type": "code",
      "source": [
        "# Check different number of children for people\n",
        "X_df[\"children\"].value_counts()"
      ],
      "metadata": {
        "colab": {
          "base_uri": "https://localhost:8080/"
        },
        "id": "cS4GLCvKEoWi",
        "outputId": "9e9876c0-4058-41e9-9db4-8920d3b4fd73"
      },
      "execution_count": null,
      "outputs": [
        {
          "output_type": "execute_result",
          "data": {
            "text/plain": [
              "0    574\n",
              "1    324\n",
              "2    240\n",
              "3    157\n",
              "4     25\n",
              "5     18\n",
              "Name: children, dtype: int64"
            ]
          },
          "metadata": {},
          "execution_count": 86
        }
      ]
    },
    {
      "cell_type": "markdown",
      "source": [
        "Startover the entire project\n",
        "\n",
        "Let's get all age, bmi and number of children on a scale (normalization) of 0 - 1"
      ],
      "metadata": {
        "id": "zAMnE3E8GrFQ"
      }
    },
    {
      "cell_type": "code",
      "source": [
        "import pandas as pd\n",
        "from pandas import DataFrame as df\n",
        "import matplotlib.pyplot as plt\n",
        "import tensorflow as tf\n",
        "\n",
        "# Read the dataset from github url\n",
        "insurance = pd.read_csv(\"https://raw.githubusercontent.com/stedy/Machine-Learning-with-R-datasets/master/insurance.csv\")\n",
        "insurance"
      ],
      "metadata": {
        "colab": {
          "base_uri": "https://localhost:8080/",
          "height": 424
        },
        "id": "wxT-RjS1EE7v",
        "outputId": "b25937d8-566d-4bfe-dfee-f9d365e6a4ff"
      },
      "execution_count": null,
      "outputs": [
        {
          "output_type": "execute_result",
          "data": {
            "text/plain": [
              "      age     sex     bmi  children smoker     region      charges\n",
              "0      19  female  27.900         0    yes  southwest  16884.92400\n",
              "1      18    male  33.770         1     no  southeast   1725.55230\n",
              "2      28    male  33.000         3     no  southeast   4449.46200\n",
              "3      33    male  22.705         0     no  northwest  21984.47061\n",
              "4      32    male  28.880         0     no  northwest   3866.85520\n",
              "...   ...     ...     ...       ...    ...        ...          ...\n",
              "1333   50    male  30.970         3     no  northwest  10600.54830\n",
              "1334   18  female  31.920         0     no  northeast   2205.98080\n",
              "1335   18  female  36.850         0     no  southeast   1629.83350\n",
              "1336   21  female  25.800         0     no  southwest   2007.94500\n",
              "1337   61  female  29.070         0    yes  northwest  29141.36030\n",
              "\n",
              "[1338 rows x 7 columns]"
            ],
            "text/html": [
              "\n",
              "  <div id=\"df-c52a66f3-fb7b-4b88-a9ed-4dce856ce698\">\n",
              "    <div class=\"colab-df-container\">\n",
              "      <div>\n",
              "<style scoped>\n",
              "    .dataframe tbody tr th:only-of-type {\n",
              "        vertical-align: middle;\n",
              "    }\n",
              "\n",
              "    .dataframe tbody tr th {\n",
              "        vertical-align: top;\n",
              "    }\n",
              "\n",
              "    .dataframe thead th {\n",
              "        text-align: right;\n",
              "    }\n",
              "</style>\n",
              "<table border=\"1\" class=\"dataframe\">\n",
              "  <thead>\n",
              "    <tr style=\"text-align: right;\">\n",
              "      <th></th>\n",
              "      <th>age</th>\n",
              "      <th>sex</th>\n",
              "      <th>bmi</th>\n",
              "      <th>children</th>\n",
              "      <th>smoker</th>\n",
              "      <th>region</th>\n",
              "      <th>charges</th>\n",
              "    </tr>\n",
              "  </thead>\n",
              "  <tbody>\n",
              "    <tr>\n",
              "      <th>0</th>\n",
              "      <td>19</td>\n",
              "      <td>female</td>\n",
              "      <td>27.900</td>\n",
              "      <td>0</td>\n",
              "      <td>yes</td>\n",
              "      <td>southwest</td>\n",
              "      <td>16884.92400</td>\n",
              "    </tr>\n",
              "    <tr>\n",
              "      <th>1</th>\n",
              "      <td>18</td>\n",
              "      <td>male</td>\n",
              "      <td>33.770</td>\n",
              "      <td>1</td>\n",
              "      <td>no</td>\n",
              "      <td>southeast</td>\n",
              "      <td>1725.55230</td>\n",
              "    </tr>\n",
              "    <tr>\n",
              "      <th>2</th>\n",
              "      <td>28</td>\n",
              "      <td>male</td>\n",
              "      <td>33.000</td>\n",
              "      <td>3</td>\n",
              "      <td>no</td>\n",
              "      <td>southeast</td>\n",
              "      <td>4449.46200</td>\n",
              "    </tr>\n",
              "    <tr>\n",
              "      <th>3</th>\n",
              "      <td>33</td>\n",
              "      <td>male</td>\n",
              "      <td>22.705</td>\n",
              "      <td>0</td>\n",
              "      <td>no</td>\n",
              "      <td>northwest</td>\n",
              "      <td>21984.47061</td>\n",
              "    </tr>\n",
              "    <tr>\n",
              "      <th>4</th>\n",
              "      <td>32</td>\n",
              "      <td>male</td>\n",
              "      <td>28.880</td>\n",
              "      <td>0</td>\n",
              "      <td>no</td>\n",
              "      <td>northwest</td>\n",
              "      <td>3866.85520</td>\n",
              "    </tr>\n",
              "    <tr>\n",
              "      <th>...</th>\n",
              "      <td>...</td>\n",
              "      <td>...</td>\n",
              "      <td>...</td>\n",
              "      <td>...</td>\n",
              "      <td>...</td>\n",
              "      <td>...</td>\n",
              "      <td>...</td>\n",
              "    </tr>\n",
              "    <tr>\n",
              "      <th>1333</th>\n",
              "      <td>50</td>\n",
              "      <td>male</td>\n",
              "      <td>30.970</td>\n",
              "      <td>3</td>\n",
              "      <td>no</td>\n",
              "      <td>northwest</td>\n",
              "      <td>10600.54830</td>\n",
              "    </tr>\n",
              "    <tr>\n",
              "      <th>1334</th>\n",
              "      <td>18</td>\n",
              "      <td>female</td>\n",
              "      <td>31.920</td>\n",
              "      <td>0</td>\n",
              "      <td>no</td>\n",
              "      <td>northeast</td>\n",
              "      <td>2205.98080</td>\n",
              "    </tr>\n",
              "    <tr>\n",
              "      <th>1335</th>\n",
              "      <td>18</td>\n",
              "      <td>female</td>\n",
              "      <td>36.850</td>\n",
              "      <td>0</td>\n",
              "      <td>no</td>\n",
              "      <td>southeast</td>\n",
              "      <td>1629.83350</td>\n",
              "    </tr>\n",
              "    <tr>\n",
              "      <th>1336</th>\n",
              "      <td>21</td>\n",
              "      <td>female</td>\n",
              "      <td>25.800</td>\n",
              "      <td>0</td>\n",
              "      <td>no</td>\n",
              "      <td>southwest</td>\n",
              "      <td>2007.94500</td>\n",
              "    </tr>\n",
              "    <tr>\n",
              "      <th>1337</th>\n",
              "      <td>61</td>\n",
              "      <td>female</td>\n",
              "      <td>29.070</td>\n",
              "      <td>0</td>\n",
              "      <td>yes</td>\n",
              "      <td>northwest</td>\n",
              "      <td>29141.36030</td>\n",
              "    </tr>\n",
              "  </tbody>\n",
              "</table>\n",
              "<p>1338 rows × 7 columns</p>\n",
              "</div>\n",
              "      <button class=\"colab-df-convert\" onclick=\"convertToInteractive('df-c52a66f3-fb7b-4b88-a9ed-4dce856ce698')\"\n",
              "              title=\"Convert this dataframe to an interactive table.\"\n",
              "              style=\"display:none;\">\n",
              "        \n",
              "  <svg xmlns=\"http://www.w3.org/2000/svg\" height=\"24px\"viewBox=\"0 0 24 24\"\n",
              "       width=\"24px\">\n",
              "    <path d=\"M0 0h24v24H0V0z\" fill=\"none\"/>\n",
              "    <path d=\"M18.56 5.44l.94 2.06.94-2.06 2.06-.94-2.06-.94-.94-2.06-.94 2.06-2.06.94zm-11 1L8.5 8.5l.94-2.06 2.06-.94-2.06-.94L8.5 2.5l-.94 2.06-2.06.94zm10 10l.94 2.06.94-2.06 2.06-.94-2.06-.94-.94-2.06-.94 2.06-2.06.94z\"/><path d=\"M17.41 7.96l-1.37-1.37c-.4-.4-.92-.59-1.43-.59-.52 0-1.04.2-1.43.59L10.3 9.45l-7.72 7.72c-.78.78-.78 2.05 0 2.83L4 21.41c.39.39.9.59 1.41.59.51 0 1.02-.2 1.41-.59l7.78-7.78 2.81-2.81c.8-.78.8-2.07 0-2.86zM5.41 20L4 18.59l7.72-7.72 1.47 1.35L5.41 20z\"/>\n",
              "  </svg>\n",
              "      </button>\n",
              "      \n",
              "  <style>\n",
              "    .colab-df-container {\n",
              "      display:flex;\n",
              "      flex-wrap:wrap;\n",
              "      gap: 12px;\n",
              "    }\n",
              "\n",
              "    .colab-df-convert {\n",
              "      background-color: #E8F0FE;\n",
              "      border: none;\n",
              "      border-radius: 50%;\n",
              "      cursor: pointer;\n",
              "      display: none;\n",
              "      fill: #1967D2;\n",
              "      height: 32px;\n",
              "      padding: 0 0 0 0;\n",
              "      width: 32px;\n",
              "    }\n",
              "\n",
              "    .colab-df-convert:hover {\n",
              "      background-color: #E2EBFA;\n",
              "      box-shadow: 0px 1px 2px rgba(60, 64, 67, 0.3), 0px 1px 3px 1px rgba(60, 64, 67, 0.15);\n",
              "      fill: #174EA6;\n",
              "    }\n",
              "\n",
              "    [theme=dark] .colab-df-convert {\n",
              "      background-color: #3B4455;\n",
              "      fill: #D2E3FC;\n",
              "    }\n",
              "\n",
              "    [theme=dark] .colab-df-convert:hover {\n",
              "      background-color: #434B5C;\n",
              "      box-shadow: 0px 1px 3px 1px rgba(0, 0, 0, 0.15);\n",
              "      filter: drop-shadow(0px 1px 2px rgba(0, 0, 0, 0.3));\n",
              "      fill: #FFFFFF;\n",
              "    }\n",
              "  </style>\n",
              "\n",
              "      <script>\n",
              "        const buttonEl =\n",
              "          document.querySelector('#df-c52a66f3-fb7b-4b88-a9ed-4dce856ce698 button.colab-df-convert');\n",
              "        buttonEl.style.display =\n",
              "          google.colab.kernel.accessAllowed ? 'block' : 'none';\n",
              "\n",
              "        async function convertToInteractive(key) {\n",
              "          const element = document.querySelector('#df-c52a66f3-fb7b-4b88-a9ed-4dce856ce698');\n",
              "          const dataTable =\n",
              "            await google.colab.kernel.invokeFunction('convertToInteractive',\n",
              "                                                     [key], {});\n",
              "          if (!dataTable) return;\n",
              "\n",
              "          const docLinkHtml = 'Like what you see? Visit the ' +\n",
              "            '<a target=\"_blank\" href=https://colab.research.google.com/notebooks/data_table.ipynb>data table notebook</a>'\n",
              "            + ' to learn more about interactive tables.';\n",
              "          element.innerHTML = '';\n",
              "          dataTable['output_type'] = 'display_data';\n",
              "          await google.colab.output.renderOutput(dataTable, element);\n",
              "          const docLink = document.createElement('div');\n",
              "          docLink.innerHTML = docLinkHtml;\n",
              "          element.appendChild(docLink);\n",
              "        }\n",
              "      </script>\n",
              "    </div>\n",
              "  </div>\n",
              "  "
            ]
          },
          "metadata": {},
          "execution_count": 87
        }
      ]
    },
    {
      "cell_type": "code",
      "source": [
        "from sklearn.compose import make_column_transformer as mct\n",
        "from sklearn.preprocessing import MinMaxScaler, OneHotEncoder\n",
        "from sklearn.model_selection import train_test_split\n",
        "\n",
        "# Create column transformer\n",
        "ct = mct(\n",
        "    (MinMaxScaler(), [\"age\", \"bmi\", \"children\"]), # turn values in these columns between 0 - 1\n",
        "    (OneHotEncoder(handle_unknown=\"ignore\"), [\"sex\", \"smoker\", \"region\"])\n",
        ")\n",
        "\n",
        "# Create X and y\n",
        "X = insurance.drop(\"charges\", axis=1)\n",
        "y = insurance[\"charges\"]\n",
        "\n",
        "# Create learning and testing data\n",
        "X_train, X_test, y_train, y_test = train_test_split(X, y, test_size=0.2, random_state=42)\n",
        "\n",
        "# Fit column transformer to our training data\n",
        "ct.fit(X_train)\n",
        "\n",
        "# Transform training and test data with normalization\n",
        "X_train_normal = ct.transform(X_train)\n",
        "X_test_normal = ct.transform(X_test)"
      ],
      "metadata": {
        "id": "qJLfLA6kF7AC"
      },
      "execution_count": null,
      "outputs": []
    },
    {
      "cell_type": "code",
      "source": [
        "# Check the difference\n",
        "X_train.loc[0], X_train_normal[0]"
      ],
      "metadata": {
        "colab": {
          "base_uri": "https://localhost:8080/"
        },
        "id": "8mCyT8Y1Lhxt",
        "outputId": "6528925f-c3fd-4c47-a698-0b8a6a26c6bf"
      },
      "execution_count": null,
      "outputs": [
        {
          "output_type": "execute_result",
          "data": {
            "text/plain": [
              "(age                19\n",
              " sex            female\n",
              " bmi              27.9\n",
              " children            0\n",
              " smoker            yes\n",
              " region      southwest\n",
              " Name: 0, dtype: object,\n",
              " array([0.60869565, 0.10734463, 0.4       , 1.        , 0.        ,\n",
              "        1.        , 0.        , 0.        , 1.        , 0.        ,\n",
              "        0.        ]))"
            ]
          },
          "metadata": {},
          "execution_count": 89
        }
      ]
    },
    {
      "cell_type": "code",
      "source": [
        "X_train.shape, X_train_normal.shape"
      ],
      "metadata": {
        "colab": {
          "base_uri": "https://localhost:8080/"
        },
        "id": "Tvk0uZ2dL-iB",
        "outputId": "91e37ca5-31f8-43a0-9225-5693017f8632"
      },
      "execution_count": null,
      "outputs": [
        {
          "output_type": "execute_result",
          "data": {
            "text/plain": [
              "((1070, 6), (1070, 11))"
            ]
          },
          "metadata": {},
          "execution_count": 90
        }
      ]
    },
    {
      "cell_type": "code",
      "source": [
        "tf.random.set_seed(42)\n",
        "\n",
        "# Build a model on the normalized data\n",
        "insurance_model_4 = tf.keras.Sequential([\n",
        "    tf.keras.layers.Dense(100),\n",
        "    tf.keras.layers.Dense(10),\n",
        "    tf.keras.layers.Dense(1)\n",
        "])\n",
        "\n",
        "# Compile the model\n",
        "insurance_model_4.compile(optimizer=tf.keras.optimizers.Adam(),\n",
        "              loss=tf.keras.losses.mae,\n",
        "              metrics=[\"mae\"])\n",
        "\n",
        "# Fit the model on normalized data\n",
        "insurance_model_4.fit(X_train_normal, y_train, epochs=100, verbose=0)"
      ],
      "metadata": {
        "id": "V7Dj55DCMn5Q",
        "colab": {
          "base_uri": "https://localhost:8080/"
        },
        "outputId": "74ed6461-fdd4-4cea-e7d5-8b19b991a4e2"
      },
      "execution_count": null,
      "outputs": [
        {
          "output_type": "execute_result",
          "data": {
            "text/plain": [
              "<keras.callbacks.History at 0x7fa8c415f9d0>"
            ]
          },
          "metadata": {},
          "execution_count": 99
        }
      ]
    },
    {
      "cell_type": "code",
      "source": [
        "# Evaluate insurance model\n",
        "insurance_model_4.evaluate(X_test_normal, y_test)"
      ],
      "metadata": {
        "colab": {
          "base_uri": "https://localhost:8080/"
        },
        "id": "gHE2Kj-zPjLl",
        "outputId": "7db747d9-8799-415e-fce2-82b2001461c1"
      },
      "execution_count": null,
      "outputs": [
        {
          "output_type": "stream",
          "name": "stdout",
          "text": [
            "9/9 [==============================] - 0s 2ms/step - loss: 3438.7844 - mae: 3438.7844\n"
          ]
        },
        {
          "output_type": "execute_result",
          "data": {
            "text/plain": [
              "[3438.784423828125, 3438.784423828125]"
            ]
          },
          "metadata": {},
          "execution_count": 100
        }
      ]
    }
  ]
}