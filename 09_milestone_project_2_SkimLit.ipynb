{
  "nbformat": 4,
  "nbformat_minor": 0,
  "metadata": {
    "colab": {
      "provenance": [],
      "mount_file_id": "1zJWLOccUUKV0l7FwTve7ua9l14KS-lNg",
      "authorship_tag": "ABX9TyMHs/pnZbeePhsDVzEBNXzL",
      "include_colab_link": true
    },
    "kernelspec": {
      "name": "python3",
      "display_name": "Python 3"
    },
    "language_info": {
      "name": "python"
    },
    "gpuClass": "standard",
    "accelerator": "GPU"
  },
  "cells": [
    {
      "cell_type": "markdown",
      "metadata": {
        "id": "view-in-github",
        "colab_type": "text"
      },
      "source": [
        "<a href=\"https://colab.research.google.com/github/m-a-hasan/ai-colab/blob/main/09_milestone_project_2_SkimLit.ipynb\" target=\"_parent\"><img src=\"https://colab.research.google.com/assets/colab-badge.svg\" alt=\"Open In Colab\"/></a>"
      ]
    },
    {
      "cell_type": "code",
      "execution_count": null,
      "metadata": {
        "id": "WkX5NGzhRlYU",
        "colab": {
          "base_uri": "https://localhost:8080/"
        },
        "outputId": "caec3f0b-4295-47a8-cc89-52f50acf8ac1"
      },
      "outputs": [
        {
          "output_type": "stream",
          "name": "stdout",
          "text": [
            "GPU 0: Tesla T4 (UUID: GPU-7a1900aa-c2ab-f921-b2bc-405be676368b)\n"
          ]
        }
      ],
      "source": [
        "!nvidia-smi -L"
      ]
    },
    {
      "cell_type": "code",
      "source": [
        "!git clone https://github.com/Franck-Dernoncourt/pubmed-rct.git"
      ],
      "metadata": {
        "colab": {
          "base_uri": "https://localhost:8080/"
        },
        "id": "06yvdAXEyc4o",
        "outputId": "2ab1ccb0-73de-4e33-ef8a-bff106491241"
      },
      "execution_count": null,
      "outputs": [
        {
          "output_type": "stream",
          "name": "stdout",
          "text": [
            "Cloning into 'pubmed-rct'...\n",
            "remote: Enumerating objects: 33, done.\u001b[K\n",
            "remote: Counting objects: 100% (8/8), done.\u001b[K\n",
            "remote: Compressing objects: 100% (3/3), done.\u001b[K\n",
            "remote: Total 33 (delta 5), reused 5 (delta 5), pack-reused 25\u001b[K\n",
            "Unpacking objects: 100% (33/33), done.\n"
          ]
        }
      ]
    },
    {
      "cell_type": "code",
      "source": [
        "!ls pubmed-rct/"
      ],
      "metadata": {
        "colab": {
          "base_uri": "https://localhost:8080/"
        },
        "id": "5DQ9fntpy0y1",
        "outputId": "c1351099-c219-4eb2-eb51-f3d43e019c92"
      },
      "execution_count": null,
      "outputs": [
        {
          "output_type": "stream",
          "name": "stdout",
          "text": [
            "PubMed_200k_RCT\n",
            "PubMed_200k_RCT_numbers_replaced_with_at_sign\n",
            "PubMed_20k_RCT\n",
            "PubMed_20k_RCT_numbers_replaced_with_at_sign\n",
            "README.md\n"
          ]
        }
      ]
    },
    {
      "cell_type": "code",
      "source": [
        "!ls pubmed-rct/PubMed_20k_RCT_numbers_replaced_with_at_sign/"
      ],
      "metadata": {
        "colab": {
          "base_uri": "https://localhost:8080/"
        },
        "id": "83vCb6-SL7-s",
        "outputId": "e07b89af-e56b-48c4-b6b0-c019ff9fa1a2"
      },
      "execution_count": null,
      "outputs": [
        {
          "output_type": "stream",
          "name": "stdout",
          "text": [
            "dev.txt  test.txt  train.txt\n"
          ]
        }
      ]
    },
    {
      "cell_type": "markdown",
      "source": [
        "dev is same as validation set.\n",
        "\n",
        "Difference between 200k and 20k is same data just less.\n",
        "\n",
        "Difference between numbers_replaced_with_at_sign is every number is replaced with @"
      ],
      "metadata": {
        "id": "c9U8eUgKMP8Q"
      }
    },
    {
      "cell_type": "code",
      "source": [
        "# Check files\n",
        "import os\n",
        "data_dir = \"pubmed-rct/PubMed_20k_RCT_numbers_replaced_with_at_sign/\"\n",
        "\n",
        "filenames = [data_dir + filename for filename in os.listdir(data_dir)]\n",
        "filenames"
      ],
      "metadata": {
        "colab": {
          "base_uri": "https://localhost:8080/"
        },
        "id": "4wFb-7WQMHFX",
        "outputId": "a67ae55c-ab20-4635-f209-eeadef3a6b27"
      },
      "execution_count": null,
      "outputs": [
        {
          "output_type": "execute_result",
          "data": {
            "text/plain": [
              "['pubmed-rct/PubMed_20k_RCT_numbers_replaced_with_at_sign/train.txt',\n",
              " 'pubmed-rct/PubMed_20k_RCT_numbers_replaced_with_at_sign/test.txt',\n",
              " 'pubmed-rct/PubMed_20k_RCT_numbers_replaced_with_at_sign/dev.txt']"
            ]
          },
          "metadata": {},
          "execution_count": 5
        }
      ]
    },
    {
      "cell_type": "code",
      "source": [
        "def get_lines(filename):\n",
        "  \"\"\"\n",
        "  This function will return lines of a file\n",
        "\n",
        "  Args\n",
        "  -----\n",
        "  filename: filepath of a document\n",
        "\n",
        "  Returns\n",
        "  --------\n",
        "  List of lines\n",
        "  \"\"\"\n",
        "  with open(filename, \"r\") as f:\n",
        "    return f.readlines()"
      ],
      "metadata": {
        "id": "IglJSJ_pMn62"
      },
      "execution_count": null,
      "outputs": []
    },
    {
      "cell_type": "code",
      "source": [
        "train_lines = get_lines(data_dir + \"train.txt\")\n",
        "train_lines[:20]"
      ],
      "metadata": {
        "colab": {
          "base_uri": "https://localhost:8080/"
        },
        "id": "3KlMBw_zA-F_",
        "outputId": "ba021457-2fa2-4e47-811e-689f086ff9aa"
      },
      "execution_count": null,
      "outputs": [
        {
          "output_type": "execute_result",
          "data": {
            "text/plain": [
              "['###24293578\\n',\n",
              " 'OBJECTIVE\\tTo investigate the efficacy of @ weeks of daily low-dose oral prednisolone in improving pain , mobility , and systemic low-grade inflammation in the short term and whether the effect would be sustained at @ weeks in older adults with moderate to severe knee osteoarthritis ( OA ) .\\n',\n",
              " 'METHODS\\tA total of @ patients with primary knee OA were randomized @:@ ; @ received @ mg/day of prednisolone and @ received placebo for @ weeks .\\n',\n",
              " 'METHODS\\tOutcome measures included pain reduction and improvement in function scores and systemic inflammation markers .\\n',\n",
              " 'METHODS\\tPain was assessed using the visual analog pain scale ( @-@ mm ) .\\n',\n",
              " 'METHODS\\tSecondary outcome measures included the Western Ontario and McMaster Universities Osteoarthritis Index scores , patient global assessment ( PGA ) of the severity of knee OA , and @-min walk distance ( @MWD ) .\\n',\n",
              " 'METHODS\\tSerum levels of interleukin @ ( IL-@ ) , IL-@ , tumor necrosis factor ( TNF ) - , and high-sensitivity C-reactive protein ( hsCRP ) were measured .\\n',\n",
              " 'RESULTS\\tThere was a clinically relevant reduction in the intervention group compared to the placebo group for knee pain , physical function , PGA , and @MWD at @ weeks .\\n',\n",
              " 'RESULTS\\tThe mean difference between treatment arms ( @ % CI ) was @ ( @-@ @ ) , p < @ ; @ ( @-@ @ ) , p < @ ; @ ( @-@ @ ) , p < @ ; and @ ( @-@ @ ) , p < @ , respectively .\\n',\n",
              " 'RESULTS\\tFurther , there was a clinically relevant reduction in the serum levels of IL-@ , IL-@ , TNF - , and hsCRP at @ weeks in the intervention group when compared to the placebo group .\\n',\n",
              " 'RESULTS\\tThese differences remained significant at @ weeks .\\n',\n",
              " 'RESULTS\\tThe Outcome Measures in Rheumatology Clinical Trials-Osteoarthritis Research Society International responder rate was @ % in the intervention group and @ % in the placebo group ( p < @ ) .\\n',\n",
              " 'CONCLUSIONS\\tLow-dose oral prednisolone had both a short-term and a longer sustained effect resulting in less knee pain , better physical function , and attenuation of systemic inflammation in older patients with knee OA ( ClinicalTrials.gov identifier NCT@ ) .\\n',\n",
              " '\\n',\n",
              " '###24854809\\n',\n",
              " 'BACKGROUND\\tEmotional eating is associated with overeating and the development of obesity .\\n',\n",
              " 'BACKGROUND\\tYet , empirical evidence for individual ( trait ) differences in emotional eating and cognitive mechanisms that contribute to eating during sad mood remain equivocal .\\n',\n",
              " 'OBJECTIVE\\tThe aim of this study was to test if attention bias for food moderates the effect of self-reported emotional eating during sad mood ( vs neutral mood ) on actual food intake .\\n',\n",
              " 'OBJECTIVE\\tIt was expected that emotional eating is predictive of elevated attention for food and higher food intake after an experimentally induced sad mood and that attentional maintenance on food predicts food intake during a sad versus a neutral mood .\\n',\n",
              " 'METHODS\\tParticipants ( N = @ ) were randomly assigned to one of the two experimental mood induction conditions ( sad/neutral ) .\\n']"
            ]
          },
          "metadata": {},
          "execution_count": 7
        }
      ]
    },
    {
      "cell_type": "markdown",
      "source": [
        "Prepare data\n",
        "- When the line begins with \"###\" mark it as a new abstract with abstract ID\n",
        "> - Keep total number of lines in the abstract\n",
        "- If the line starts with \"\\n\" mark it as the end of the abstract.\n",
        "- Before \"\\t\" is the label\n",
        "- After \"\\t\" is the sentence\n"
      ],
      "metadata": {
        "id": "tbB74iSBBvyu"
      }
    },
    {
      "cell_type": "markdown",
      "source": [
        "Create a dictionary (name-value pair) of\n",
        "- line (line number in the abstract)\n",
        "- target (label)\n",
        "- total_lines (number of lines in the abstract)\n",
        "- text"
      ],
      "metadata": {
        "id": "tV1TFiMy7hJ7"
      }
    },
    {
      "cell_type": "code",
      "source": [
        "abstract_lines = \"\"\n",
        "abstract_samples = []\n",
        "abstract_line_split = \"\"\n",
        "\n",
        "input_lines = get_lines(data_dir + \"train.txt\")\n",
        "input_lines = input_lines[:20]\n",
        "line_number = 0\n",
        "\n",
        "for line in input_lines:\n",
        "  line_number += 1\n",
        "  if line.startswith(\"###\"):\n",
        "    abstract_id = line\n",
        "    abstract_lines = \"\" # reset lines\n",
        "    print(f\"------- Inside IF {line_number} ---------\")\n",
        "    print(f\"line: {line}abstract_lines: {abstract_lines}\\n abstract_id: {abstract_id}abstract_line_split: {abstract_line_split}\")\n",
        "  elif line.isspace(): # checking an empty line.\n",
        "    abstract_line_split = abstract_lines.splitlines() # split all the lines into one list of strings\n",
        "    #iterate through lines in the list of lines\n",
        "    for abstract_line_number, abstract_line in enumerate(abstract_line_split):\n",
        "      line_data = {} # empty dictionary to hold data\n",
        "      text_split = abstract_line.split(\"\\t\")\n",
        "      line_data[\"target\"] = text_split[0]\n",
        "      line_data[\"text\"] = text_split[1]\n",
        "      line_data[\"line_number\"] = abstract_line_number\n",
        "      line_data[\"total_lines\"] = len(abstract_line_split)\n",
        "      abstract_samples.append(line_data)\n",
        "\n",
        "    print(f\"------- Inside ELSEIF {line_number} ---------\")\n",
        "    print(f\"line: {line}abstract_lines: {abstract_lines}\\n abstract_id: {abstract_id}abstract_line_split: {abstract_line_split}\")\n",
        "  else: # line contains a labeled sentence\n",
        "    abstract_lines += line\n",
        "    print(f\"------- Inside ELSE {line_number} ---------\")\n",
        "    print(f\"line: {line}abstract_lines: {abstract_lines}\\n abstract_id: {abstract_id}abstract_line_split: {abstract_line_split}\")\n",
        "\n",
        "print(\"=========================================\")\n",
        "print(abstract_samples)"
      ],
      "metadata": {
        "colab": {
          "base_uri": "https://localhost:8080/"
        },
        "id": "dZ75c8tIEMb1",
        "outputId": "dd552565-49d2-452a-f999-8e8ab00bc0f0"
      },
      "execution_count": null,
      "outputs": [
        {
          "output_type": "stream",
          "name": "stdout",
          "text": [
            "------- Inside IF 1 ---------\n",
            "line: ###24293578\n",
            "abstract_lines: \n",
            " abstract_id: ###24293578\n",
            "abstract_line_split: \n",
            "------- Inside ELSE 2 ---------\n",
            "line: OBJECTIVE\tTo investigate the efficacy of @ weeks of daily low-dose oral prednisolone in improving pain , mobility , and systemic low-grade inflammation in the short term and whether the effect would be sustained at @ weeks in older adults with moderate to severe knee osteoarthritis ( OA ) .\n",
            "abstract_lines: OBJECTIVE\tTo investigate the efficacy of @ weeks of daily low-dose oral prednisolone in improving pain , mobility , and systemic low-grade inflammation in the short term and whether the effect would be sustained at @ weeks in older adults with moderate to severe knee osteoarthritis ( OA ) .\n",
            "\n",
            " abstract_id: ###24293578\n",
            "abstract_line_split: \n",
            "------- Inside ELSE 3 ---------\n",
            "line: METHODS\tA total of @ patients with primary knee OA were randomized @:@ ; @ received @ mg/day of prednisolone and @ received placebo for @ weeks .\n",
            "abstract_lines: OBJECTIVE\tTo investigate the efficacy of @ weeks of daily low-dose oral prednisolone in improving pain , mobility , and systemic low-grade inflammation in the short term and whether the effect would be sustained at @ weeks in older adults with moderate to severe knee osteoarthritis ( OA ) .\n",
            "METHODS\tA total of @ patients with primary knee OA were randomized @:@ ; @ received @ mg/day of prednisolone and @ received placebo for @ weeks .\n",
            "\n",
            " abstract_id: ###24293578\n",
            "abstract_line_split: \n",
            "------- Inside ELSE 4 ---------\n",
            "line: METHODS\tOutcome measures included pain reduction and improvement in function scores and systemic inflammation markers .\n",
            "abstract_lines: OBJECTIVE\tTo investigate the efficacy of @ weeks of daily low-dose oral prednisolone in improving pain , mobility , and systemic low-grade inflammation in the short term and whether the effect would be sustained at @ weeks in older adults with moderate to severe knee osteoarthritis ( OA ) .\n",
            "METHODS\tA total of @ patients with primary knee OA were randomized @:@ ; @ received @ mg/day of prednisolone and @ received placebo for @ weeks .\n",
            "METHODS\tOutcome measures included pain reduction and improvement in function scores and systemic inflammation markers .\n",
            "\n",
            " abstract_id: ###24293578\n",
            "abstract_line_split: \n",
            "------- Inside ELSE 5 ---------\n",
            "line: METHODS\tPain was assessed using the visual analog pain scale ( @-@ mm ) .\n",
            "abstract_lines: OBJECTIVE\tTo investigate the efficacy of @ weeks of daily low-dose oral prednisolone in improving pain , mobility , and systemic low-grade inflammation in the short term and whether the effect would be sustained at @ weeks in older adults with moderate to severe knee osteoarthritis ( OA ) .\n",
            "METHODS\tA total of @ patients with primary knee OA were randomized @:@ ; @ received @ mg/day of prednisolone and @ received placebo for @ weeks .\n",
            "METHODS\tOutcome measures included pain reduction and improvement in function scores and systemic inflammation markers .\n",
            "METHODS\tPain was assessed using the visual analog pain scale ( @-@ mm ) .\n",
            "\n",
            " abstract_id: ###24293578\n",
            "abstract_line_split: \n",
            "------- Inside ELSE 6 ---------\n",
            "line: METHODS\tSecondary outcome measures included the Western Ontario and McMaster Universities Osteoarthritis Index scores , patient global assessment ( PGA ) of the severity of knee OA , and @-min walk distance ( @MWD ) .\n",
            "abstract_lines: OBJECTIVE\tTo investigate the efficacy of @ weeks of daily low-dose oral prednisolone in improving pain , mobility , and systemic low-grade inflammation in the short term and whether the effect would be sustained at @ weeks in older adults with moderate to severe knee osteoarthritis ( OA ) .\n",
            "METHODS\tA total of @ patients with primary knee OA were randomized @:@ ; @ received @ mg/day of prednisolone and @ received placebo for @ weeks .\n",
            "METHODS\tOutcome measures included pain reduction and improvement in function scores and systemic inflammation markers .\n",
            "METHODS\tPain was assessed using the visual analog pain scale ( @-@ mm ) .\n",
            "METHODS\tSecondary outcome measures included the Western Ontario and McMaster Universities Osteoarthritis Index scores , patient global assessment ( PGA ) of the severity of knee OA , and @-min walk distance ( @MWD ) .\n",
            "\n",
            " abstract_id: ###24293578\n",
            "abstract_line_split: \n",
            "------- Inside ELSE 7 ---------\n",
            "line: METHODS\tSerum levels of interleukin @ ( IL-@ ) , IL-@ , tumor necrosis factor ( TNF ) - , and high-sensitivity C-reactive protein ( hsCRP ) were measured .\n",
            "abstract_lines: OBJECTIVE\tTo investigate the efficacy of @ weeks of daily low-dose oral prednisolone in improving pain , mobility , and systemic low-grade inflammation in the short term and whether the effect would be sustained at @ weeks in older adults with moderate to severe knee osteoarthritis ( OA ) .\n",
            "METHODS\tA total of @ patients with primary knee OA were randomized @:@ ; @ received @ mg/day of prednisolone and @ received placebo for @ weeks .\n",
            "METHODS\tOutcome measures included pain reduction and improvement in function scores and systemic inflammation markers .\n",
            "METHODS\tPain was assessed using the visual analog pain scale ( @-@ mm ) .\n",
            "METHODS\tSecondary outcome measures included the Western Ontario and McMaster Universities Osteoarthritis Index scores , patient global assessment ( PGA ) of the severity of knee OA , and @-min walk distance ( @MWD ) .\n",
            "METHODS\tSerum levels of interleukin @ ( IL-@ ) , IL-@ , tumor necrosis factor ( TNF ) - , and high-sensitivity C-reactive protein ( hsCRP ) were measured .\n",
            "\n",
            " abstract_id: ###24293578\n",
            "abstract_line_split: \n",
            "------- Inside ELSE 8 ---------\n",
            "line: RESULTS\tThere was a clinically relevant reduction in the intervention group compared to the placebo group for knee pain , physical function , PGA , and @MWD at @ weeks .\n",
            "abstract_lines: OBJECTIVE\tTo investigate the efficacy of @ weeks of daily low-dose oral prednisolone in improving pain , mobility , and systemic low-grade inflammation in the short term and whether the effect would be sustained at @ weeks in older adults with moderate to severe knee osteoarthritis ( OA ) .\n",
            "METHODS\tA total of @ patients with primary knee OA were randomized @:@ ; @ received @ mg/day of prednisolone and @ received placebo for @ weeks .\n",
            "METHODS\tOutcome measures included pain reduction and improvement in function scores and systemic inflammation markers .\n",
            "METHODS\tPain was assessed using the visual analog pain scale ( @-@ mm ) .\n",
            "METHODS\tSecondary outcome measures included the Western Ontario and McMaster Universities Osteoarthritis Index scores , patient global assessment ( PGA ) of the severity of knee OA , and @-min walk distance ( @MWD ) .\n",
            "METHODS\tSerum levels of interleukin @ ( IL-@ ) , IL-@ , tumor necrosis factor ( TNF ) - , and high-sensitivity C-reactive protein ( hsCRP ) were measured .\n",
            "RESULTS\tThere was a clinically relevant reduction in the intervention group compared to the placebo group for knee pain , physical function , PGA , and @MWD at @ weeks .\n",
            "\n",
            " abstract_id: ###24293578\n",
            "abstract_line_split: \n",
            "------- Inside ELSE 9 ---------\n",
            "line: RESULTS\tThe mean difference between treatment arms ( @ % CI ) was @ ( @-@ @ ) , p < @ ; @ ( @-@ @ ) , p < @ ; @ ( @-@ @ ) , p < @ ; and @ ( @-@ @ ) , p < @ , respectively .\n",
            "abstract_lines: OBJECTIVE\tTo investigate the efficacy of @ weeks of daily low-dose oral prednisolone in improving pain , mobility , and systemic low-grade inflammation in the short term and whether the effect would be sustained at @ weeks in older adults with moderate to severe knee osteoarthritis ( OA ) .\n",
            "METHODS\tA total of @ patients with primary knee OA were randomized @:@ ; @ received @ mg/day of prednisolone and @ received placebo for @ weeks .\n",
            "METHODS\tOutcome measures included pain reduction and improvement in function scores and systemic inflammation markers .\n",
            "METHODS\tPain was assessed using the visual analog pain scale ( @-@ mm ) .\n",
            "METHODS\tSecondary outcome measures included the Western Ontario and McMaster Universities Osteoarthritis Index scores , patient global assessment ( PGA ) of the severity of knee OA , and @-min walk distance ( @MWD ) .\n",
            "METHODS\tSerum levels of interleukin @ ( IL-@ ) , IL-@ , tumor necrosis factor ( TNF ) - , and high-sensitivity C-reactive protein ( hsCRP ) were measured .\n",
            "RESULTS\tThere was a clinically relevant reduction in the intervention group compared to the placebo group for knee pain , physical function , PGA , and @MWD at @ weeks .\n",
            "RESULTS\tThe mean difference between treatment arms ( @ % CI ) was @ ( @-@ @ ) , p < @ ; @ ( @-@ @ ) , p < @ ; @ ( @-@ @ ) , p < @ ; and @ ( @-@ @ ) , p < @ , respectively .\n",
            "\n",
            " abstract_id: ###24293578\n",
            "abstract_line_split: \n",
            "------- Inside ELSE 10 ---------\n",
            "line: RESULTS\tFurther , there was a clinically relevant reduction in the serum levels of IL-@ , IL-@ , TNF - , and hsCRP at @ weeks in the intervention group when compared to the placebo group .\n",
            "abstract_lines: OBJECTIVE\tTo investigate the efficacy of @ weeks of daily low-dose oral prednisolone in improving pain , mobility , and systemic low-grade inflammation in the short term and whether the effect would be sustained at @ weeks in older adults with moderate to severe knee osteoarthritis ( OA ) .\n",
            "METHODS\tA total of @ patients with primary knee OA were randomized @:@ ; @ received @ mg/day of prednisolone and @ received placebo for @ weeks .\n",
            "METHODS\tOutcome measures included pain reduction and improvement in function scores and systemic inflammation markers .\n",
            "METHODS\tPain was assessed using the visual analog pain scale ( @-@ mm ) .\n",
            "METHODS\tSecondary outcome measures included the Western Ontario and McMaster Universities Osteoarthritis Index scores , patient global assessment ( PGA ) of the severity of knee OA , and @-min walk distance ( @MWD ) .\n",
            "METHODS\tSerum levels of interleukin @ ( IL-@ ) , IL-@ , tumor necrosis factor ( TNF ) - , and high-sensitivity C-reactive protein ( hsCRP ) were measured .\n",
            "RESULTS\tThere was a clinically relevant reduction in the intervention group compared to the placebo group for knee pain , physical function , PGA , and @MWD at @ weeks .\n",
            "RESULTS\tThe mean difference between treatment arms ( @ % CI ) was @ ( @-@ @ ) , p < @ ; @ ( @-@ @ ) , p < @ ; @ ( @-@ @ ) , p < @ ; and @ ( @-@ @ ) , p < @ , respectively .\n",
            "RESULTS\tFurther , there was a clinically relevant reduction in the serum levels of IL-@ , IL-@ , TNF - , and hsCRP at @ weeks in the intervention group when compared to the placebo group .\n",
            "\n",
            " abstract_id: ###24293578\n",
            "abstract_line_split: \n",
            "------- Inside ELSE 11 ---------\n",
            "line: RESULTS\tThese differences remained significant at @ weeks .\n",
            "abstract_lines: OBJECTIVE\tTo investigate the efficacy of @ weeks of daily low-dose oral prednisolone in improving pain , mobility , and systemic low-grade inflammation in the short term and whether the effect would be sustained at @ weeks in older adults with moderate to severe knee osteoarthritis ( OA ) .\n",
            "METHODS\tA total of @ patients with primary knee OA were randomized @:@ ; @ received @ mg/day of prednisolone and @ received placebo for @ weeks .\n",
            "METHODS\tOutcome measures included pain reduction and improvement in function scores and systemic inflammation markers .\n",
            "METHODS\tPain was assessed using the visual analog pain scale ( @-@ mm ) .\n",
            "METHODS\tSecondary outcome measures included the Western Ontario and McMaster Universities Osteoarthritis Index scores , patient global assessment ( PGA ) of the severity of knee OA , and @-min walk distance ( @MWD ) .\n",
            "METHODS\tSerum levels of interleukin @ ( IL-@ ) , IL-@ , tumor necrosis factor ( TNF ) - , and high-sensitivity C-reactive protein ( hsCRP ) were measured .\n",
            "RESULTS\tThere was a clinically relevant reduction in the intervention group compared to the placebo group for knee pain , physical function , PGA , and @MWD at @ weeks .\n",
            "RESULTS\tThe mean difference between treatment arms ( @ % CI ) was @ ( @-@ @ ) , p < @ ; @ ( @-@ @ ) , p < @ ; @ ( @-@ @ ) , p < @ ; and @ ( @-@ @ ) , p < @ , respectively .\n",
            "RESULTS\tFurther , there was a clinically relevant reduction in the serum levels of IL-@ , IL-@ , TNF - , and hsCRP at @ weeks in the intervention group when compared to the placebo group .\n",
            "RESULTS\tThese differences remained significant at @ weeks .\n",
            "\n",
            " abstract_id: ###24293578\n",
            "abstract_line_split: \n",
            "------- Inside ELSE 12 ---------\n",
            "line: RESULTS\tThe Outcome Measures in Rheumatology Clinical Trials-Osteoarthritis Research Society International responder rate was @ % in the intervention group and @ % in the placebo group ( p < @ ) .\n",
            "abstract_lines: OBJECTIVE\tTo investigate the efficacy of @ weeks of daily low-dose oral prednisolone in improving pain , mobility , and systemic low-grade inflammation in the short term and whether the effect would be sustained at @ weeks in older adults with moderate to severe knee osteoarthritis ( OA ) .\n",
            "METHODS\tA total of @ patients with primary knee OA were randomized @:@ ; @ received @ mg/day of prednisolone and @ received placebo for @ weeks .\n",
            "METHODS\tOutcome measures included pain reduction and improvement in function scores and systemic inflammation markers .\n",
            "METHODS\tPain was assessed using the visual analog pain scale ( @-@ mm ) .\n",
            "METHODS\tSecondary outcome measures included the Western Ontario and McMaster Universities Osteoarthritis Index scores , patient global assessment ( PGA ) of the severity of knee OA , and @-min walk distance ( @MWD ) .\n",
            "METHODS\tSerum levels of interleukin @ ( IL-@ ) , IL-@ , tumor necrosis factor ( TNF ) - , and high-sensitivity C-reactive protein ( hsCRP ) were measured .\n",
            "RESULTS\tThere was a clinically relevant reduction in the intervention group compared to the placebo group for knee pain , physical function , PGA , and @MWD at @ weeks .\n",
            "RESULTS\tThe mean difference between treatment arms ( @ % CI ) was @ ( @-@ @ ) , p < @ ; @ ( @-@ @ ) , p < @ ; @ ( @-@ @ ) , p < @ ; and @ ( @-@ @ ) , p < @ , respectively .\n",
            "RESULTS\tFurther , there was a clinically relevant reduction in the serum levels of IL-@ , IL-@ , TNF - , and hsCRP at @ weeks in the intervention group when compared to the placebo group .\n",
            "RESULTS\tThese differences remained significant at @ weeks .\n",
            "RESULTS\tThe Outcome Measures in Rheumatology Clinical Trials-Osteoarthritis Research Society International responder rate was @ % in the intervention group and @ % in the placebo group ( p < @ ) .\n",
            "\n",
            " abstract_id: ###24293578\n",
            "abstract_line_split: \n",
            "------- Inside ELSE 13 ---------\n",
            "line: CONCLUSIONS\tLow-dose oral prednisolone had both a short-term and a longer sustained effect resulting in less knee pain , better physical function , and attenuation of systemic inflammation in older patients with knee OA ( ClinicalTrials.gov identifier NCT@ ) .\n",
            "abstract_lines: OBJECTIVE\tTo investigate the efficacy of @ weeks of daily low-dose oral prednisolone in improving pain , mobility , and systemic low-grade inflammation in the short term and whether the effect would be sustained at @ weeks in older adults with moderate to severe knee osteoarthritis ( OA ) .\n",
            "METHODS\tA total of @ patients with primary knee OA were randomized @:@ ; @ received @ mg/day of prednisolone and @ received placebo for @ weeks .\n",
            "METHODS\tOutcome measures included pain reduction and improvement in function scores and systemic inflammation markers .\n",
            "METHODS\tPain was assessed using the visual analog pain scale ( @-@ mm ) .\n",
            "METHODS\tSecondary outcome measures included the Western Ontario and McMaster Universities Osteoarthritis Index scores , patient global assessment ( PGA ) of the severity of knee OA , and @-min walk distance ( @MWD ) .\n",
            "METHODS\tSerum levels of interleukin @ ( IL-@ ) , IL-@ , tumor necrosis factor ( TNF ) - , and high-sensitivity C-reactive protein ( hsCRP ) were measured .\n",
            "RESULTS\tThere was a clinically relevant reduction in the intervention group compared to the placebo group for knee pain , physical function , PGA , and @MWD at @ weeks .\n",
            "RESULTS\tThe mean difference between treatment arms ( @ % CI ) was @ ( @-@ @ ) , p < @ ; @ ( @-@ @ ) , p < @ ; @ ( @-@ @ ) , p < @ ; and @ ( @-@ @ ) , p < @ , respectively .\n",
            "RESULTS\tFurther , there was a clinically relevant reduction in the serum levels of IL-@ , IL-@ , TNF - , and hsCRP at @ weeks in the intervention group when compared to the placebo group .\n",
            "RESULTS\tThese differences remained significant at @ weeks .\n",
            "RESULTS\tThe Outcome Measures in Rheumatology Clinical Trials-Osteoarthritis Research Society International responder rate was @ % in the intervention group and @ % in the placebo group ( p < @ ) .\n",
            "CONCLUSIONS\tLow-dose oral prednisolone had both a short-term and a longer sustained effect resulting in less knee pain , better physical function , and attenuation of systemic inflammation in older patients with knee OA ( ClinicalTrials.gov identifier NCT@ ) .\n",
            "\n",
            " abstract_id: ###24293578\n",
            "abstract_line_split: \n",
            "------- Inside ELSEIF 14 ---------\n",
            "line: \n",
            "abstract_lines: OBJECTIVE\tTo investigate the efficacy of @ weeks of daily low-dose oral prednisolone in improving pain , mobility , and systemic low-grade inflammation in the short term and whether the effect would be sustained at @ weeks in older adults with moderate to severe knee osteoarthritis ( OA ) .\n",
            "METHODS\tA total of @ patients with primary knee OA were randomized @:@ ; @ received @ mg/day of prednisolone and @ received placebo for @ weeks .\n",
            "METHODS\tOutcome measures included pain reduction and improvement in function scores and systemic inflammation markers .\n",
            "METHODS\tPain was assessed using the visual analog pain scale ( @-@ mm ) .\n",
            "METHODS\tSecondary outcome measures included the Western Ontario and McMaster Universities Osteoarthritis Index scores , patient global assessment ( PGA ) of the severity of knee OA , and @-min walk distance ( @MWD ) .\n",
            "METHODS\tSerum levels of interleukin @ ( IL-@ ) , IL-@ , tumor necrosis factor ( TNF ) - , and high-sensitivity C-reactive protein ( hsCRP ) were measured .\n",
            "RESULTS\tThere was a clinically relevant reduction in the intervention group compared to the placebo group for knee pain , physical function , PGA , and @MWD at @ weeks .\n",
            "RESULTS\tThe mean difference between treatment arms ( @ % CI ) was @ ( @-@ @ ) , p < @ ; @ ( @-@ @ ) , p < @ ; @ ( @-@ @ ) , p < @ ; and @ ( @-@ @ ) , p < @ , respectively .\n",
            "RESULTS\tFurther , there was a clinically relevant reduction in the serum levels of IL-@ , IL-@ , TNF - , and hsCRP at @ weeks in the intervention group when compared to the placebo group .\n",
            "RESULTS\tThese differences remained significant at @ weeks .\n",
            "RESULTS\tThe Outcome Measures in Rheumatology Clinical Trials-Osteoarthritis Research Society International responder rate was @ % in the intervention group and @ % in the placebo group ( p < @ ) .\n",
            "CONCLUSIONS\tLow-dose oral prednisolone had both a short-term and a longer sustained effect resulting in less knee pain , better physical function , and attenuation of systemic inflammation in older patients with knee OA ( ClinicalTrials.gov identifier NCT@ ) .\n",
            "\n",
            " abstract_id: ###24293578\n",
            "abstract_line_split: ['OBJECTIVE\\tTo investigate the efficacy of @ weeks of daily low-dose oral prednisolone in improving pain , mobility , and systemic low-grade inflammation in the short term and whether the effect would be sustained at @ weeks in older adults with moderate to severe knee osteoarthritis ( OA ) .', 'METHODS\\tA total of @ patients with primary knee OA were randomized @:@ ; @ received @ mg/day of prednisolone and @ received placebo for @ weeks .', 'METHODS\\tOutcome measures included pain reduction and improvement in function scores and systemic inflammation markers .', 'METHODS\\tPain was assessed using the visual analog pain scale ( @-@ mm ) .', 'METHODS\\tSecondary outcome measures included the Western Ontario and McMaster Universities Osteoarthritis Index scores , patient global assessment ( PGA ) of the severity of knee OA , and @-min walk distance ( @MWD ) .', 'METHODS\\tSerum levels of interleukin @ ( IL-@ ) , IL-@ , tumor necrosis factor ( TNF ) - , and high-sensitivity C-reactive protein ( hsCRP ) were measured .', 'RESULTS\\tThere was a clinically relevant reduction in the intervention group compared to the placebo group for knee pain , physical function , PGA , and @MWD at @ weeks .', 'RESULTS\\tThe mean difference between treatment arms ( @ % CI ) was @ ( @-@ @ ) , p < @ ; @ ( @-@ @ ) , p < @ ; @ ( @-@ @ ) , p < @ ; and @ ( @-@ @ ) , p < @ , respectively .', 'RESULTS\\tFurther , there was a clinically relevant reduction in the serum levels of IL-@ , IL-@ , TNF - , and hsCRP at @ weeks in the intervention group when compared to the placebo group .', 'RESULTS\\tThese differences remained significant at @ weeks .', 'RESULTS\\tThe Outcome Measures in Rheumatology Clinical Trials-Osteoarthritis Research Society International responder rate was @ % in the intervention group and @ % in the placebo group ( p < @ ) .', 'CONCLUSIONS\\tLow-dose oral prednisolone had both a short-term and a longer sustained effect resulting in less knee pain , better physical function , and attenuation of systemic inflammation in older patients with knee OA ( ClinicalTrials.gov identifier NCT@ ) .']\n",
            "------- Inside IF 15 ---------\n",
            "line: ###24854809\n",
            "abstract_lines: \n",
            " abstract_id: ###24854809\n",
            "abstract_line_split: ['OBJECTIVE\\tTo investigate the efficacy of @ weeks of daily low-dose oral prednisolone in improving pain , mobility , and systemic low-grade inflammation in the short term and whether the effect would be sustained at @ weeks in older adults with moderate to severe knee osteoarthritis ( OA ) .', 'METHODS\\tA total of @ patients with primary knee OA were randomized @:@ ; @ received @ mg/day of prednisolone and @ received placebo for @ weeks .', 'METHODS\\tOutcome measures included pain reduction and improvement in function scores and systemic inflammation markers .', 'METHODS\\tPain was assessed using the visual analog pain scale ( @-@ mm ) .', 'METHODS\\tSecondary outcome measures included the Western Ontario and McMaster Universities Osteoarthritis Index scores , patient global assessment ( PGA ) of the severity of knee OA , and @-min walk distance ( @MWD ) .', 'METHODS\\tSerum levels of interleukin @ ( IL-@ ) , IL-@ , tumor necrosis factor ( TNF ) - , and high-sensitivity C-reactive protein ( hsCRP ) were measured .', 'RESULTS\\tThere was a clinically relevant reduction in the intervention group compared to the placebo group for knee pain , physical function , PGA , and @MWD at @ weeks .', 'RESULTS\\tThe mean difference between treatment arms ( @ % CI ) was @ ( @-@ @ ) , p < @ ; @ ( @-@ @ ) , p < @ ; @ ( @-@ @ ) , p < @ ; and @ ( @-@ @ ) , p < @ , respectively .', 'RESULTS\\tFurther , there was a clinically relevant reduction in the serum levels of IL-@ , IL-@ , TNF - , and hsCRP at @ weeks in the intervention group when compared to the placebo group .', 'RESULTS\\tThese differences remained significant at @ weeks .', 'RESULTS\\tThe Outcome Measures in Rheumatology Clinical Trials-Osteoarthritis Research Society International responder rate was @ % in the intervention group and @ % in the placebo group ( p < @ ) .', 'CONCLUSIONS\\tLow-dose oral prednisolone had both a short-term and a longer sustained effect resulting in less knee pain , better physical function , and attenuation of systemic inflammation in older patients with knee OA ( ClinicalTrials.gov identifier NCT@ ) .']\n",
            "------- Inside ELSE 16 ---------\n",
            "line: BACKGROUND\tEmotional eating is associated with overeating and the development of obesity .\n",
            "abstract_lines: BACKGROUND\tEmotional eating is associated with overeating and the development of obesity .\n",
            "\n",
            " abstract_id: ###24854809\n",
            "abstract_line_split: ['OBJECTIVE\\tTo investigate the efficacy of @ weeks of daily low-dose oral prednisolone in improving pain , mobility , and systemic low-grade inflammation in the short term and whether the effect would be sustained at @ weeks in older adults with moderate to severe knee osteoarthritis ( OA ) .', 'METHODS\\tA total of @ patients with primary knee OA were randomized @:@ ; @ received @ mg/day of prednisolone and @ received placebo for @ weeks .', 'METHODS\\tOutcome measures included pain reduction and improvement in function scores and systemic inflammation markers .', 'METHODS\\tPain was assessed using the visual analog pain scale ( @-@ mm ) .', 'METHODS\\tSecondary outcome measures included the Western Ontario and McMaster Universities Osteoarthritis Index scores , patient global assessment ( PGA ) of the severity of knee OA , and @-min walk distance ( @MWD ) .', 'METHODS\\tSerum levels of interleukin @ ( IL-@ ) , IL-@ , tumor necrosis factor ( TNF ) - , and high-sensitivity C-reactive protein ( hsCRP ) were measured .', 'RESULTS\\tThere was a clinically relevant reduction in the intervention group compared to the placebo group for knee pain , physical function , PGA , and @MWD at @ weeks .', 'RESULTS\\tThe mean difference between treatment arms ( @ % CI ) was @ ( @-@ @ ) , p < @ ; @ ( @-@ @ ) , p < @ ; @ ( @-@ @ ) , p < @ ; and @ ( @-@ @ ) , p < @ , respectively .', 'RESULTS\\tFurther , there was a clinically relevant reduction in the serum levels of IL-@ , IL-@ , TNF - , and hsCRP at @ weeks in the intervention group when compared to the placebo group .', 'RESULTS\\tThese differences remained significant at @ weeks .', 'RESULTS\\tThe Outcome Measures in Rheumatology Clinical Trials-Osteoarthritis Research Society International responder rate was @ % in the intervention group and @ % in the placebo group ( p < @ ) .', 'CONCLUSIONS\\tLow-dose oral prednisolone had both a short-term and a longer sustained effect resulting in less knee pain , better physical function , and attenuation of systemic inflammation in older patients with knee OA ( ClinicalTrials.gov identifier NCT@ ) .']\n",
            "------- Inside ELSE 17 ---------\n",
            "line: BACKGROUND\tYet , empirical evidence for individual ( trait ) differences in emotional eating and cognitive mechanisms that contribute to eating during sad mood remain equivocal .\n",
            "abstract_lines: BACKGROUND\tEmotional eating is associated with overeating and the development of obesity .\n",
            "BACKGROUND\tYet , empirical evidence for individual ( trait ) differences in emotional eating and cognitive mechanisms that contribute to eating during sad mood remain equivocal .\n",
            "\n",
            " abstract_id: ###24854809\n",
            "abstract_line_split: ['OBJECTIVE\\tTo investigate the efficacy of @ weeks of daily low-dose oral prednisolone in improving pain , mobility , and systemic low-grade inflammation in the short term and whether the effect would be sustained at @ weeks in older adults with moderate to severe knee osteoarthritis ( OA ) .', 'METHODS\\tA total of @ patients with primary knee OA were randomized @:@ ; @ received @ mg/day of prednisolone and @ received placebo for @ weeks .', 'METHODS\\tOutcome measures included pain reduction and improvement in function scores and systemic inflammation markers .', 'METHODS\\tPain was assessed using the visual analog pain scale ( @-@ mm ) .', 'METHODS\\tSecondary outcome measures included the Western Ontario and McMaster Universities Osteoarthritis Index scores , patient global assessment ( PGA ) of the severity of knee OA , and @-min walk distance ( @MWD ) .', 'METHODS\\tSerum levels of interleukin @ ( IL-@ ) , IL-@ , tumor necrosis factor ( TNF ) - , and high-sensitivity C-reactive protein ( hsCRP ) were measured .', 'RESULTS\\tThere was a clinically relevant reduction in the intervention group compared to the placebo group for knee pain , physical function , PGA , and @MWD at @ weeks .', 'RESULTS\\tThe mean difference between treatment arms ( @ % CI ) was @ ( @-@ @ ) , p < @ ; @ ( @-@ @ ) , p < @ ; @ ( @-@ @ ) , p < @ ; and @ ( @-@ @ ) , p < @ , respectively .', 'RESULTS\\tFurther , there was a clinically relevant reduction in the serum levels of IL-@ , IL-@ , TNF - , and hsCRP at @ weeks in the intervention group when compared to the placebo group .', 'RESULTS\\tThese differences remained significant at @ weeks .', 'RESULTS\\tThe Outcome Measures in Rheumatology Clinical Trials-Osteoarthritis Research Society International responder rate was @ % in the intervention group and @ % in the placebo group ( p < @ ) .', 'CONCLUSIONS\\tLow-dose oral prednisolone had both a short-term and a longer sustained effect resulting in less knee pain , better physical function , and attenuation of systemic inflammation in older patients with knee OA ( ClinicalTrials.gov identifier NCT@ ) .']\n",
            "------- Inside ELSE 18 ---------\n",
            "line: OBJECTIVE\tThe aim of this study was to test if attention bias for food moderates the effect of self-reported emotional eating during sad mood ( vs neutral mood ) on actual food intake .\n",
            "abstract_lines: BACKGROUND\tEmotional eating is associated with overeating and the development of obesity .\n",
            "BACKGROUND\tYet , empirical evidence for individual ( trait ) differences in emotional eating and cognitive mechanisms that contribute to eating during sad mood remain equivocal .\n",
            "OBJECTIVE\tThe aim of this study was to test if attention bias for food moderates the effect of self-reported emotional eating during sad mood ( vs neutral mood ) on actual food intake .\n",
            "\n",
            " abstract_id: ###24854809\n",
            "abstract_line_split: ['OBJECTIVE\\tTo investigate the efficacy of @ weeks of daily low-dose oral prednisolone in improving pain , mobility , and systemic low-grade inflammation in the short term and whether the effect would be sustained at @ weeks in older adults with moderate to severe knee osteoarthritis ( OA ) .', 'METHODS\\tA total of @ patients with primary knee OA were randomized @:@ ; @ received @ mg/day of prednisolone and @ received placebo for @ weeks .', 'METHODS\\tOutcome measures included pain reduction and improvement in function scores and systemic inflammation markers .', 'METHODS\\tPain was assessed using the visual analog pain scale ( @-@ mm ) .', 'METHODS\\tSecondary outcome measures included the Western Ontario and McMaster Universities Osteoarthritis Index scores , patient global assessment ( PGA ) of the severity of knee OA , and @-min walk distance ( @MWD ) .', 'METHODS\\tSerum levels of interleukin @ ( IL-@ ) , IL-@ , tumor necrosis factor ( TNF ) - , and high-sensitivity C-reactive protein ( hsCRP ) were measured .', 'RESULTS\\tThere was a clinically relevant reduction in the intervention group compared to the placebo group for knee pain , physical function , PGA , and @MWD at @ weeks .', 'RESULTS\\tThe mean difference between treatment arms ( @ % CI ) was @ ( @-@ @ ) , p < @ ; @ ( @-@ @ ) , p < @ ; @ ( @-@ @ ) , p < @ ; and @ ( @-@ @ ) , p < @ , respectively .', 'RESULTS\\tFurther , there was a clinically relevant reduction in the serum levels of IL-@ , IL-@ , TNF - , and hsCRP at @ weeks in the intervention group when compared to the placebo group .', 'RESULTS\\tThese differences remained significant at @ weeks .', 'RESULTS\\tThe Outcome Measures in Rheumatology Clinical Trials-Osteoarthritis Research Society International responder rate was @ % in the intervention group and @ % in the placebo group ( p < @ ) .', 'CONCLUSIONS\\tLow-dose oral prednisolone had both a short-term and a longer sustained effect resulting in less knee pain , better physical function , and attenuation of systemic inflammation in older patients with knee OA ( ClinicalTrials.gov identifier NCT@ ) .']\n",
            "------- Inside ELSE 19 ---------\n",
            "line: OBJECTIVE\tIt was expected that emotional eating is predictive of elevated attention for food and higher food intake after an experimentally induced sad mood and that attentional maintenance on food predicts food intake during a sad versus a neutral mood .\n",
            "abstract_lines: BACKGROUND\tEmotional eating is associated with overeating and the development of obesity .\n",
            "BACKGROUND\tYet , empirical evidence for individual ( trait ) differences in emotional eating and cognitive mechanisms that contribute to eating during sad mood remain equivocal .\n",
            "OBJECTIVE\tThe aim of this study was to test if attention bias for food moderates the effect of self-reported emotional eating during sad mood ( vs neutral mood ) on actual food intake .\n",
            "OBJECTIVE\tIt was expected that emotional eating is predictive of elevated attention for food and higher food intake after an experimentally induced sad mood and that attentional maintenance on food predicts food intake during a sad versus a neutral mood .\n",
            "\n",
            " abstract_id: ###24854809\n",
            "abstract_line_split: ['OBJECTIVE\\tTo investigate the efficacy of @ weeks of daily low-dose oral prednisolone in improving pain , mobility , and systemic low-grade inflammation in the short term and whether the effect would be sustained at @ weeks in older adults with moderate to severe knee osteoarthritis ( OA ) .', 'METHODS\\tA total of @ patients with primary knee OA were randomized @:@ ; @ received @ mg/day of prednisolone and @ received placebo for @ weeks .', 'METHODS\\tOutcome measures included pain reduction and improvement in function scores and systemic inflammation markers .', 'METHODS\\tPain was assessed using the visual analog pain scale ( @-@ mm ) .', 'METHODS\\tSecondary outcome measures included the Western Ontario and McMaster Universities Osteoarthritis Index scores , patient global assessment ( PGA ) of the severity of knee OA , and @-min walk distance ( @MWD ) .', 'METHODS\\tSerum levels of interleukin @ ( IL-@ ) , IL-@ , tumor necrosis factor ( TNF ) - , and high-sensitivity C-reactive protein ( hsCRP ) were measured .', 'RESULTS\\tThere was a clinically relevant reduction in the intervention group compared to the placebo group for knee pain , physical function , PGA , and @MWD at @ weeks .', 'RESULTS\\tThe mean difference between treatment arms ( @ % CI ) was @ ( @-@ @ ) , p < @ ; @ ( @-@ @ ) , p < @ ; @ ( @-@ @ ) , p < @ ; and @ ( @-@ @ ) , p < @ , respectively .', 'RESULTS\\tFurther , there was a clinically relevant reduction in the serum levels of IL-@ , IL-@ , TNF - , and hsCRP at @ weeks in the intervention group when compared to the placebo group .', 'RESULTS\\tThese differences remained significant at @ weeks .', 'RESULTS\\tThe Outcome Measures in Rheumatology Clinical Trials-Osteoarthritis Research Society International responder rate was @ % in the intervention group and @ % in the placebo group ( p < @ ) .', 'CONCLUSIONS\\tLow-dose oral prednisolone had both a short-term and a longer sustained effect resulting in less knee pain , better physical function , and attenuation of systemic inflammation in older patients with knee OA ( ClinicalTrials.gov identifier NCT@ ) .']\n",
            "------- Inside ELSE 20 ---------\n",
            "line: METHODS\tParticipants ( N = @ ) were randomly assigned to one of the two experimental mood induction conditions ( sad/neutral ) .\n",
            "abstract_lines: BACKGROUND\tEmotional eating is associated with overeating and the development of obesity .\n",
            "BACKGROUND\tYet , empirical evidence for individual ( trait ) differences in emotional eating and cognitive mechanisms that contribute to eating during sad mood remain equivocal .\n",
            "OBJECTIVE\tThe aim of this study was to test if attention bias for food moderates the effect of self-reported emotional eating during sad mood ( vs neutral mood ) on actual food intake .\n",
            "OBJECTIVE\tIt was expected that emotional eating is predictive of elevated attention for food and higher food intake after an experimentally induced sad mood and that attentional maintenance on food predicts food intake during a sad versus a neutral mood .\n",
            "METHODS\tParticipants ( N = @ ) were randomly assigned to one of the two experimental mood induction conditions ( sad/neutral ) .\n",
            "\n",
            " abstract_id: ###24854809\n",
            "abstract_line_split: ['OBJECTIVE\\tTo investigate the efficacy of @ weeks of daily low-dose oral prednisolone in improving pain , mobility , and systemic low-grade inflammation in the short term and whether the effect would be sustained at @ weeks in older adults with moderate to severe knee osteoarthritis ( OA ) .', 'METHODS\\tA total of @ patients with primary knee OA were randomized @:@ ; @ received @ mg/day of prednisolone and @ received placebo for @ weeks .', 'METHODS\\tOutcome measures included pain reduction and improvement in function scores and systemic inflammation markers .', 'METHODS\\tPain was assessed using the visual analog pain scale ( @-@ mm ) .', 'METHODS\\tSecondary outcome measures included the Western Ontario and McMaster Universities Osteoarthritis Index scores , patient global assessment ( PGA ) of the severity of knee OA , and @-min walk distance ( @MWD ) .', 'METHODS\\tSerum levels of interleukin @ ( IL-@ ) , IL-@ , tumor necrosis factor ( TNF ) - , and high-sensitivity C-reactive protein ( hsCRP ) were measured .', 'RESULTS\\tThere was a clinically relevant reduction in the intervention group compared to the placebo group for knee pain , physical function , PGA , and @MWD at @ weeks .', 'RESULTS\\tThe mean difference between treatment arms ( @ % CI ) was @ ( @-@ @ ) , p < @ ; @ ( @-@ @ ) , p < @ ; @ ( @-@ @ ) , p < @ ; and @ ( @-@ @ ) , p < @ , respectively .', 'RESULTS\\tFurther , there was a clinically relevant reduction in the serum levels of IL-@ , IL-@ , TNF - , and hsCRP at @ weeks in the intervention group when compared to the placebo group .', 'RESULTS\\tThese differences remained significant at @ weeks .', 'RESULTS\\tThe Outcome Measures in Rheumatology Clinical Trials-Osteoarthritis Research Society International responder rate was @ % in the intervention group and @ % in the placebo group ( p < @ ) .', 'CONCLUSIONS\\tLow-dose oral prednisolone had both a short-term and a longer sustained effect resulting in less knee pain , better physical function , and attenuation of systemic inflammation in older patients with knee OA ( ClinicalTrials.gov identifier NCT@ ) .']\n",
            "=========================================\n",
            "[{'target': 'OBJECTIVE', 'text': 'To investigate the efficacy of @ weeks of daily low-dose oral prednisolone in improving pain , mobility , and systemic low-grade inflammation in the short term and whether the effect would be sustained at @ weeks in older adults with moderate to severe knee osteoarthritis ( OA ) .', 'line_number': 0, 'total_lines': 12}, {'target': 'METHODS', 'text': 'A total of @ patients with primary knee OA were randomized @:@ ; @ received @ mg/day of prednisolone and @ received placebo for @ weeks .', 'line_number': 1, 'total_lines': 12}, {'target': 'METHODS', 'text': 'Outcome measures included pain reduction and improvement in function scores and systemic inflammation markers .', 'line_number': 2, 'total_lines': 12}, {'target': 'METHODS', 'text': 'Pain was assessed using the visual analog pain scale ( @-@ mm ) .', 'line_number': 3, 'total_lines': 12}, {'target': 'METHODS', 'text': 'Secondary outcome measures included the Western Ontario and McMaster Universities Osteoarthritis Index scores , patient global assessment ( PGA ) of the severity of knee OA , and @-min walk distance ( @MWD ) .', 'line_number': 4, 'total_lines': 12}, {'target': 'METHODS', 'text': 'Serum levels of interleukin @ ( IL-@ ) , IL-@ , tumor necrosis factor ( TNF ) - , and high-sensitivity C-reactive protein ( hsCRP ) were measured .', 'line_number': 5, 'total_lines': 12}, {'target': 'RESULTS', 'text': 'There was a clinically relevant reduction in the intervention group compared to the placebo group for knee pain , physical function , PGA , and @MWD at @ weeks .', 'line_number': 6, 'total_lines': 12}, {'target': 'RESULTS', 'text': 'The mean difference between treatment arms ( @ % CI ) was @ ( @-@ @ ) , p < @ ; @ ( @-@ @ ) , p < @ ; @ ( @-@ @ ) , p < @ ; and @ ( @-@ @ ) , p < @ , respectively .', 'line_number': 7, 'total_lines': 12}, {'target': 'RESULTS', 'text': 'Further , there was a clinically relevant reduction in the serum levels of IL-@ , IL-@ , TNF - , and hsCRP at @ weeks in the intervention group when compared to the placebo group .', 'line_number': 8, 'total_lines': 12}, {'target': 'RESULTS', 'text': 'These differences remained significant at @ weeks .', 'line_number': 9, 'total_lines': 12}, {'target': 'RESULTS', 'text': 'The Outcome Measures in Rheumatology Clinical Trials-Osteoarthritis Research Society International responder rate was @ % in the intervention group and @ % in the placebo group ( p < @ ) .', 'line_number': 10, 'total_lines': 12}, {'target': 'CONCLUSIONS', 'text': 'Low-dose oral prednisolone had both a short-term and a longer sustained effect resulting in less knee pain , better physical function , and attenuation of systemic inflammation in older patients with knee OA ( ClinicalTrials.gov identifier NCT@ ) .', 'line_number': 11, 'total_lines': 12}]\n"
          ]
        }
      ]
    },
    {
      "cell_type": "code",
      "source": [
        "def preprocess_text_with_line_numbers(filename):\n",
        "  \"\"\"\n",
        "  Processing a file by reading each lines and creating a list of dictionaries.\n",
        "\n",
        "  Args:\n",
        "  ------\n",
        "  filename: filepath of the file that needs to be processed\n",
        "\n",
        "  Returns:\n",
        "  ---------\n",
        "  A list of dictionaries with,\n",
        "    - line number of the abstract\n",
        "    - label of the line\n",
        "    - total number of lines of that abstract\n",
        "    - text\n",
        "  e.g.\n",
        "  [{\n",
        "    \"line_number\": 2,\n",
        "    \"target\": \"abstract\",\n",
        "    \"total_lines\": 14,\n",
        "    \"text\": \"Pain was assessed using the visual analog pain scale ( @-@ mm ) .\"\n",
        "  }]\n",
        "  \"\"\"\n",
        "\n",
        "  abstract_lines = \"\"\n",
        "  abstract_samples = []\n",
        "\n",
        "  input_lines = get_lines(filename)\n",
        "\n",
        "  # Iterate through each lines of the file\n",
        "  for line in input_lines:\n",
        "    if line.startswith(\"###\"):\n",
        "      abstract_lines = \"\" # reset abstract_lines as this is the start of a new abstract\n",
        "    elif line.isspace(): # checking for an empty line which means the end of the abstract\n",
        "      abstract_line_split = abstract_lines.splitlines() # split all the lines of the abstract into one list of strings\n",
        "      for abstract_line_number, abstract_line in enumerate(abstract_line_split): # iterate through list of lines of the abstract\n",
        "        line_data = {} # create empty dictionary to hold data\n",
        "        abstract_text_split = abstract_line.split(\"\\t\") # split the target and text of the line\n",
        "\n",
        "        line_data[\"target\"] = abstract_text_split[0]\n",
        "        line_data[\"text\"] = abstract_text_split[1]\n",
        "        line_data[\"line_number\"] = abstract_line_number\n",
        "        line_data[\"total_lines\"] = len(abstract_line_split)\n",
        "\n",
        "        abstract_samples.append(line_data)\n",
        "    else: # line contains lebeled sentence\n",
        "      abstract_lines += line\n",
        "\n",
        "  return abstract_samples"
      ],
      "metadata": {
        "id": "32Rs0EJ3BTAI"
      },
      "execution_count": null,
      "outputs": []
    },
    {
      "cell_type": "code",
      "source": [
        "# Get data from file and pre-process it\n",
        "train_samples = preprocess_text_with_line_numbers(data_dir + \"train.txt\")\n",
        "val_samples = preprocess_text_with_line_numbers(data_dir + \"dev.txt\")\n",
        "test_samples = preprocess_text_with_line_numbers(data_dir + \"test.txt\")"
      ],
      "metadata": {
        "id": "h_R55TJmjLcV"
      },
      "execution_count": null,
      "outputs": []
    },
    {
      "cell_type": "code",
      "source": [
        "train_samples[:3]"
      ],
      "metadata": {
        "colab": {
          "base_uri": "https://localhost:8080/"
        },
        "id": "CIQI8xJvH1Nt",
        "outputId": "5b6523e8-8624-4ebb-cd7a-bc92eb087451"
      },
      "execution_count": null,
      "outputs": [
        {
          "output_type": "execute_result",
          "data": {
            "text/plain": [
              "[{'target': 'OBJECTIVE',\n",
              "  'text': 'To investigate the efficacy of @ weeks of daily low-dose oral prednisolone in improving pain , mobility , and systemic low-grade inflammation in the short term and whether the effect would be sustained at @ weeks in older adults with moderate to severe knee osteoarthritis ( OA ) .',\n",
              "  'line_number': 0,\n",
              "  'total_lines': 12},\n",
              " {'target': 'METHODS',\n",
              "  'text': 'A total of @ patients with primary knee OA were randomized @:@ ; @ received @ mg/day of prednisolone and @ received placebo for @ weeks .',\n",
              "  'line_number': 1,\n",
              "  'total_lines': 12},\n",
              " {'target': 'METHODS',\n",
              "  'text': 'Outcome measures included pain reduction and improvement in function scores and systemic inflammation markers .',\n",
              "  'line_number': 2,\n",
              "  'total_lines': 12}]"
            ]
          },
          "metadata": {},
          "execution_count": 11
        }
      ]
    },
    {
      "cell_type": "code",
      "source": [
        "import pandas as pd\n",
        "\n",
        "train_df = pd.DataFrame(train_samples)\n",
        "val_df = pd.DataFrame(val_samples)\n",
        "test_df = pd.DataFrame(test_samples)\n",
        "\n",
        "train_df.head(5)"
      ],
      "metadata": {
        "colab": {
          "base_uri": "https://localhost:8080/",
          "height": 206
        },
        "id": "KIsdQzFoH6rF",
        "outputId": "30506ec1-91bf-4688-8342-ff8b41dd1b22"
      },
      "execution_count": null,
      "outputs": [
        {
          "output_type": "execute_result",
          "data": {
            "text/plain": [
              "      target                                               text  line_number  \\\n",
              "0  OBJECTIVE  To investigate the efficacy of @ weeks of dail...            0   \n",
              "1    METHODS  A total of @ patients with primary knee OA wer...            1   \n",
              "2    METHODS  Outcome measures included pain reduction and i...            2   \n",
              "3    METHODS  Pain was assessed using the visual analog pain...            3   \n",
              "4    METHODS  Secondary outcome measures included the Wester...            4   \n",
              "\n",
              "   total_lines  \n",
              "0           12  \n",
              "1           12  \n",
              "2           12  \n",
              "3           12  \n",
              "4           12  "
            ],
            "text/html": [
              "\n",
              "  <div id=\"df-8636062f-78a4-4a3d-ad8d-a0cd25380d95\">\n",
              "    <div class=\"colab-df-container\">\n",
              "      <div>\n",
              "<style scoped>\n",
              "    .dataframe tbody tr th:only-of-type {\n",
              "        vertical-align: middle;\n",
              "    }\n",
              "\n",
              "    .dataframe tbody tr th {\n",
              "        vertical-align: top;\n",
              "    }\n",
              "\n",
              "    .dataframe thead th {\n",
              "        text-align: right;\n",
              "    }\n",
              "</style>\n",
              "<table border=\"1\" class=\"dataframe\">\n",
              "  <thead>\n",
              "    <tr style=\"text-align: right;\">\n",
              "      <th></th>\n",
              "      <th>target</th>\n",
              "      <th>text</th>\n",
              "      <th>line_number</th>\n",
              "      <th>total_lines</th>\n",
              "    </tr>\n",
              "  </thead>\n",
              "  <tbody>\n",
              "    <tr>\n",
              "      <th>0</th>\n",
              "      <td>OBJECTIVE</td>\n",
              "      <td>To investigate the efficacy of @ weeks of dail...</td>\n",
              "      <td>0</td>\n",
              "      <td>12</td>\n",
              "    </tr>\n",
              "    <tr>\n",
              "      <th>1</th>\n",
              "      <td>METHODS</td>\n",
              "      <td>A total of @ patients with primary knee OA wer...</td>\n",
              "      <td>1</td>\n",
              "      <td>12</td>\n",
              "    </tr>\n",
              "    <tr>\n",
              "      <th>2</th>\n",
              "      <td>METHODS</td>\n",
              "      <td>Outcome measures included pain reduction and i...</td>\n",
              "      <td>2</td>\n",
              "      <td>12</td>\n",
              "    </tr>\n",
              "    <tr>\n",
              "      <th>3</th>\n",
              "      <td>METHODS</td>\n",
              "      <td>Pain was assessed using the visual analog pain...</td>\n",
              "      <td>3</td>\n",
              "      <td>12</td>\n",
              "    </tr>\n",
              "    <tr>\n",
              "      <th>4</th>\n",
              "      <td>METHODS</td>\n",
              "      <td>Secondary outcome measures included the Wester...</td>\n",
              "      <td>4</td>\n",
              "      <td>12</td>\n",
              "    </tr>\n",
              "  </tbody>\n",
              "</table>\n",
              "</div>\n",
              "      <button class=\"colab-df-convert\" onclick=\"convertToInteractive('df-8636062f-78a4-4a3d-ad8d-a0cd25380d95')\"\n",
              "              title=\"Convert this dataframe to an interactive table.\"\n",
              "              style=\"display:none;\">\n",
              "        \n",
              "  <svg xmlns=\"http://www.w3.org/2000/svg\" height=\"24px\"viewBox=\"0 0 24 24\"\n",
              "       width=\"24px\">\n",
              "    <path d=\"M0 0h24v24H0V0z\" fill=\"none\"/>\n",
              "    <path d=\"M18.56 5.44l.94 2.06.94-2.06 2.06-.94-2.06-.94-.94-2.06-.94 2.06-2.06.94zm-11 1L8.5 8.5l.94-2.06 2.06-.94-2.06-.94L8.5 2.5l-.94 2.06-2.06.94zm10 10l.94 2.06.94-2.06 2.06-.94-2.06-.94-.94-2.06-.94 2.06-2.06.94z\"/><path d=\"M17.41 7.96l-1.37-1.37c-.4-.4-.92-.59-1.43-.59-.52 0-1.04.2-1.43.59L10.3 9.45l-7.72 7.72c-.78.78-.78 2.05 0 2.83L4 21.41c.39.39.9.59 1.41.59.51 0 1.02-.2 1.41-.59l7.78-7.78 2.81-2.81c.8-.78.8-2.07 0-2.86zM5.41 20L4 18.59l7.72-7.72 1.47 1.35L5.41 20z\"/>\n",
              "  </svg>\n",
              "      </button>\n",
              "      \n",
              "  <style>\n",
              "    .colab-df-container {\n",
              "      display:flex;\n",
              "      flex-wrap:wrap;\n",
              "      gap: 12px;\n",
              "    }\n",
              "\n",
              "    .colab-df-convert {\n",
              "      background-color: #E8F0FE;\n",
              "      border: none;\n",
              "      border-radius: 50%;\n",
              "      cursor: pointer;\n",
              "      display: none;\n",
              "      fill: #1967D2;\n",
              "      height: 32px;\n",
              "      padding: 0 0 0 0;\n",
              "      width: 32px;\n",
              "    }\n",
              "\n",
              "    .colab-df-convert:hover {\n",
              "      background-color: #E2EBFA;\n",
              "      box-shadow: 0px 1px 2px rgba(60, 64, 67, 0.3), 0px 1px 3px 1px rgba(60, 64, 67, 0.15);\n",
              "      fill: #174EA6;\n",
              "    }\n",
              "\n",
              "    [theme=dark] .colab-df-convert {\n",
              "      background-color: #3B4455;\n",
              "      fill: #D2E3FC;\n",
              "    }\n",
              "\n",
              "    [theme=dark] .colab-df-convert:hover {\n",
              "      background-color: #434B5C;\n",
              "      box-shadow: 0px 1px 3px 1px rgba(0, 0, 0, 0.15);\n",
              "      filter: drop-shadow(0px 1px 2px rgba(0, 0, 0, 0.3));\n",
              "      fill: #FFFFFF;\n",
              "    }\n",
              "  </style>\n",
              "\n",
              "      <script>\n",
              "        const buttonEl =\n",
              "          document.querySelector('#df-8636062f-78a4-4a3d-ad8d-a0cd25380d95 button.colab-df-convert');\n",
              "        buttonEl.style.display =\n",
              "          google.colab.kernel.accessAllowed ? 'block' : 'none';\n",
              "\n",
              "        async function convertToInteractive(key) {\n",
              "          const element = document.querySelector('#df-8636062f-78a4-4a3d-ad8d-a0cd25380d95');\n",
              "          const dataTable =\n",
              "            await google.colab.kernel.invokeFunction('convertToInteractive',\n",
              "                                                     [key], {});\n",
              "          if (!dataTable) return;\n",
              "\n",
              "          const docLinkHtml = 'Like what you see? Visit the ' +\n",
              "            '<a target=\"_blank\" href=https://colab.research.google.com/notebooks/data_table.ipynb>data table notebook</a>'\n",
              "            + ' to learn more about interactive tables.';\n",
              "          element.innerHTML = '';\n",
              "          dataTable['output_type'] = 'display_data';\n",
              "          await google.colab.output.renderOutput(dataTable, element);\n",
              "          const docLink = document.createElement('div');\n",
              "          docLink.innerHTML = docLinkHtml;\n",
              "          element.appendChild(docLink);\n",
              "        }\n",
              "      </script>\n",
              "    </div>\n",
              "  </div>\n",
              "  "
            ]
          },
          "metadata": {},
          "execution_count": 12
        }
      ]
    },
    {
      "cell_type": "code",
      "source": [
        "# Data analysis\n",
        "train_df.target.value_counts()"
      ],
      "metadata": {
        "id": "3BVDuCpbIsRf",
        "colab": {
          "base_uri": "https://localhost:8080/"
        },
        "outputId": "9fc0499b-31c5-40bf-ee1f-c0deddd158c1"
      },
      "execution_count": null,
      "outputs": [
        {
          "output_type": "execute_result",
          "data": {
            "text/plain": [
              "METHODS        59353\n",
              "RESULTS        57953\n",
              "CONCLUSIONS    27168\n",
              "BACKGROUND     21727\n",
              "OBJECTIVE      13839\n",
              "Name: target, dtype: int64"
            ]
          },
          "metadata": {},
          "execution_count": 13
        }
      ]
    },
    {
      "cell_type": "code",
      "source": [
        "train_df.total_lines.plot.hist()"
      ],
      "metadata": {
        "colab": {
          "base_uri": "https://localhost:8080/",
          "height": 285
        },
        "id": "xiJIK_6WVr8d",
        "outputId": "73cd0bbf-2588-4b83-dcfd-99c45ffa49de"
      },
      "execution_count": null,
      "outputs": [
        {
          "output_type": "execute_result",
          "data": {
            "text/plain": [
              "<matplotlib.axes._subplots.AxesSubplot at 0x7fa585a3a2b0>"
            ]
          },
          "metadata": {},
          "execution_count": 14
        },
        {
          "output_type": "display_data",
          "data": {
            "text/plain": [
              "<Figure size 432x288 with 1 Axes>"
            ],
            "image/png": "[encoded data removed]"
          },
          "metadata": {
            "needs_background": "light"
          }
        }
      ]
    },
    {
      "cell_type": "code",
      "source": [
        "# Get list of sentences\n",
        "train_sentences = train_df[\"text\"].tolist()\n",
        "val_sentences = val_df[\"text\"].tolist()\n",
        "test_sentences = test_df[\"text\"].tolist()\n",
        "len(train_sentences), len(val_sentences), len(test_sentences), train_sentences[:10]"
      ],
      "metadata": {
        "colab": {
          "base_uri": "https://localhost:8080/"
        },
        "id": "i6d9lEU7YvFr",
        "outputId": "6334794c-be2c-4cf6-ee55-32c053681f2a"
      },
      "execution_count": null,
      "outputs": [
        {
          "output_type": "execute_result",
          "data": {
            "text/plain": [
              "(180040,\n",
              " 30212,\n",
              " 30135,\n",
              " ['To investigate the efficacy of @ weeks of daily low-dose oral prednisolone in improving pain , mobility , and systemic low-grade inflammation in the short term and whether the effect would be sustained at @ weeks in older adults with moderate to severe knee osteoarthritis ( OA ) .',\n",
              "  'A total of @ patients with primary knee OA were randomized @:@ ; @ received @ mg/day of prednisolone and @ received placebo for @ weeks .',\n",
              "  'Outcome measures included pain reduction and improvement in function scores and systemic inflammation markers .',\n",
              "  'Pain was assessed using the visual analog pain scale ( @-@ mm ) .',\n",
              "  'Secondary outcome measures included the Western Ontario and McMaster Universities Osteoarthritis Index scores , patient global assessment ( PGA ) of the severity of knee OA , and @-min walk distance ( @MWD ) .',\n",
              "  'Serum levels of interleukin @ ( IL-@ ) , IL-@ , tumor necrosis factor ( TNF ) - , and high-sensitivity C-reactive protein ( hsCRP ) were measured .',\n",
              "  'There was a clinically relevant reduction in the intervention group compared to the placebo group for knee pain , physical function , PGA , and @MWD at @ weeks .',\n",
              "  'The mean difference between treatment arms ( @ % CI ) was @ ( @-@ @ ) , p < @ ; @ ( @-@ @ ) , p < @ ; @ ( @-@ @ ) , p < @ ; and @ ( @-@ @ ) , p < @ , respectively .',\n",
              "  'Further , there was a clinically relevant reduction in the serum levels of IL-@ , IL-@ , TNF - , and hsCRP at @ weeks in the intervention group when compared to the placebo group .',\n",
              "  'These differences remained significant at @ weeks .'])"
            ]
          },
          "metadata": {},
          "execution_count": 15
        }
      ]
    },
    {
      "cell_type": "markdown",
      "source": [
        "There are 2 ways to transform label from text to number\n",
        "- one hot encoding (it perfroms better with loss function)\n",
        "- label encoded labels"
      ],
      "metadata": {
        "id": "mpnb1HFqkZsp"
      }
    },
    {
      "cell_type": "code",
      "source": [
        "# One hot encode target\n",
        "from sklearn.preprocessing import OneHotEncoder\n",
        "one_hot_encoder = OneHotEncoder(sparse=False)\n",
        "\n",
        "train_labels_one_hot = one_hot_encoder.fit_transform(train_df[\"target\"].to_numpy().reshape(-1, 1))\n",
        "val_labels_one_hot = one_hot_encoder.fit_transform(val_df[\"target\"].to_numpy().reshape(-1, 1))\n",
        "test_labels_one_hot = one_hot_encoder.fit_transform(test_df[\"target\"].to_numpy().reshape(-1, 1))\n",
        "\n",
        "train_labels_one_hot"
      ],
      "metadata": {
        "id": "HMgzZw-KbBY8",
        "colab": {
          "base_uri": "https://localhost:8080/"
        },
        "outputId": "ff1b2f0d-9037-4ca2-8d3e-63714f37fd07"
      },
      "execution_count": null,
      "outputs": [
        {
          "output_type": "execute_result",
          "data": {
            "text/plain": [
              "array([[0., 0., 0., 1., 0.],\n",
              "       [0., 0., 1., 0., 0.],\n",
              "       [0., 0., 1., 0., 0.],\n",
              "       ...,\n",
              "       [0., 0., 0., 0., 1.],\n",
              "       [0., 1., 0., 0., 0.],\n",
              "       [0., 1., 0., 0., 0.]])"
            ]
          },
          "metadata": {},
          "execution_count": 16
        }
      ]
    },
    {
      "cell_type": "code",
      "source": [
        "# Label encode labels (get target and encode them into integers)\n",
        "from sklearn.preprocessing import LabelEncoder\n",
        "label_encoder = LabelEncoder()\n",
        "\n",
        "train_labels_encoded = label_encoder.fit_transform(train_df[\"target\"].to_numpy())\n",
        "val_labels_encoded = label_encoder.fit_transform(val_df[\"target\"].to_numpy())\n",
        "test_labels_encoded = label_encoder.fit_transform(test_df[\"target\"].to_numpy())\n",
        "\n",
        "train_labels_encoded"
      ],
      "metadata": {
        "colab": {
          "base_uri": "https://localhost:8080/"
        },
        "id": "OKczFiTAcU93",
        "outputId": "a6c61913-3488-4cca-c4d4-be89deaeaeb4"
      },
      "execution_count": null,
      "outputs": [
        {
          "output_type": "execute_result",
          "data": {
            "text/plain": [
              "array([3, 2, 2, ..., 4, 1, 1])"
            ]
          },
          "metadata": {},
          "execution_count": 17
        }
      ]
    },
    {
      "cell_type": "code",
      "source": [
        "# We can use classes_ to get class information from LabelEncoder\n",
        "num_classes = len(label_encoder.classes_)\n",
        "class_names = label_encoder.classes_\n",
        "\n",
        "num_classes, class_names"
      ],
      "metadata": {
        "colab": {
          "base_uri": "https://localhost:8080/"
        },
        "id": "jdhP-Jdgl47h",
        "outputId": "b8eaf148-5463-49d9-ffb0-d3813d4c04cf"
      },
      "execution_count": null,
      "outputs": [
        {
          "output_type": "execute_result",
          "data": {
            "text/plain": [
              "(5, array(['BACKGROUND', 'CONCLUSIONS', 'METHODS', 'OBJECTIVE', 'RESULTS'],\n",
              "       dtype=object))"
            ]
          },
          "metadata": {},
          "execution_count": 18
        }
      ]
    },
    {
      "cell_type": "markdown",
      "source": [
        "Model 0: TF-IDF multinominal Naive-Bayes (baseline)"
      ],
      "metadata": {
        "id": "pGZvyAFriV9m"
      }
    },
    {
      "cell_type": "code",
      "source": [
        "from sklearn.feature_extraction.text import TfidfVectorizer\n",
        "from sklearn.naive_bayes import MultinomialNB\n",
        "from sklearn.pipeline import Pipeline\n",
        "\n",
        "# First create a pipeline\n",
        "model_0 = Pipeline([\n",
        "    (\"tf-idf\", TfidfVectorizer()),\n",
        "    (\"clf\", MultinomialNB())\n",
        "])\n",
        "\n",
        "# Fit the pipeline\n",
        "model_0.fit(X=train_sentences,\n",
        "            y=train_labels_encoded)"
      ],
      "metadata": {
        "id": "JKFx6ye0m7UX",
        "colab": {
          "base_uri": "https://localhost:8080/"
        },
        "outputId": "6a491ac8-5be5-4c8e-dabb-437f1b5f6e97"
      },
      "execution_count": null,
      "outputs": [
        {
          "output_type": "execute_result",
          "data": {
            "text/plain": [
              "Pipeline(steps=[('tf-idf', TfidfVectorizer()), ('clf', MultinomialNB())])"
            ]
          },
          "metadata": {},
          "execution_count": 19
        }
      ]
    },
    {
      "cell_type": "code",
      "source": [
        "# Evaluate model_0 accuracy\n",
        "model_0.score(X=val_sentences,\n",
        "              y=val_labels_encoded)"
      ],
      "metadata": {
        "colab": {
          "base_uri": "https://localhost:8080/"
        },
        "id": "bst01tJ6mpwL",
        "outputId": "0296864d-d1c3-46ae-84e3-f1d44d6bace9"
      },
      "execution_count": null,
      "outputs": [
        {
          "output_type": "execute_result",
          "data": {
            "text/plain": [
              "0.7218323844829869"
            ]
          },
          "metadata": {},
          "execution_count": 20
        }
      ]
    },
    {
      "cell_type": "markdown",
      "source": [
        "72.1% is our base accuracy"
      ],
      "metadata": {
        "id": "Lugi2CZRoDW1"
      }
    },
    {
      "cell_type": "code",
      "source": [
        "# Predictions\n",
        "baseline_preds = model_0.predict(val_sentences)\n",
        "baseline_preds"
      ],
      "metadata": {
        "colab": {
          "base_uri": "https://localhost:8080/"
        },
        "id": "lLeh7gYGm4Ii",
        "outputId": "05459789-458c-4ca2-ac7d-66bef8092532"
      },
      "execution_count": null,
      "outputs": [
        {
          "output_type": "execute_result",
          "data": {
            "text/plain": [
              "array([4, 1, 3, ..., 4, 4, 1])"
            ]
          },
          "metadata": {},
          "execution_count": 21
        }
      ]
    },
    {
      "cell_type": "code",
      "source": [
        "# Get helper function for comparison\n",
        "!wget https://raw.githubusercontent.com/mrdbourke/tensorflow-deep-learning/main/extras/helper_functions.py"
      ],
      "metadata": {
        "colab": {
          "base_uri": "https://localhost:8080/"
        },
        "id": "kDOQhSV2oWik",
        "outputId": "e340b652-aac7-4d9a-e6e2-5d07b34635e4"
      },
      "execution_count": null,
      "outputs": [
        {
          "output_type": "stream",
          "name": "stdout",
          "text": [
            "--2023-01-01 04:47:32--  https://raw.githubusercontent.com/mrdbourke/tensorflow-deep-learning/main/extras/helper_functions.py\n",
            "Resolving raw.githubusercontent.com (raw.githubusercontent.com)... 185.199.108.133, 185.199.109.133, 185.199.110.133, ...\n",
            "Connecting to raw.githubusercontent.com (raw.githubusercontent.com)|185.199.108.133|:443... connected.\n",
            "HTTP request sent, awaiting response... 200 OK\n",
            "Length: 10246 (10K) [text/plain]\n",
            "Saving to: ‘helper_functions.py’\n",
            "\n",
            "\rhelper_functions.py   0%[                    ]       0  --.-KB/s               \rhelper_functions.py 100%[===================>]  10.01K  --.-KB/s    in 0s      \n",
            "\n",
            "2023-01-01 04:47:32 (95.0 MB/s) - ‘helper_functions.py’ saved [10246/10246]\n",
            "\n"
          ]
        }
      ]
    },
    {
      "cell_type": "code",
      "source": [
        "# Get baseline results\n",
        "from helper_functions import calculate_results\n",
        "baseline_results = calculate_results(y_true=val_labels_encoded,\n",
        "                                     y_pred=baseline_preds)\n",
        "baseline_results"
      ],
      "metadata": {
        "colab": {
          "base_uri": "https://localhost:8080/"
        },
        "id": "55HX5f7yo0LG",
        "outputId": "501b5629-abf5-4d4a-bccd-b28f92e4414e"
      },
      "execution_count": null,
      "outputs": [
        {
          "output_type": "execute_result",
          "data": {
            "text/plain": [
              "{'accuracy': 72.1832384482987,\n",
              " 'precision': 0.7186466952323352,\n",
              " 'recall': 0.7218323844829869,\n",
              " 'f1': 0.6989250353450294}"
            ]
          },
          "metadata": {},
          "execution_count": 23
        }
      ]
    },
    {
      "cell_type": "markdown",
      "source": [
        "Preparing for deep sequence model\n",
        "- Get average length of sentences (make all the sentences same size using padding)\n",
        "- Create vectorizer (change text to number)\n",
        "- Create embedding (capture relationship between those numbers)"
      ],
      "metadata": {
        "id": "uGflaHDOsAb6"
      }
    },
    {
      "cell_type": "code",
      "source": [
        "import numpy as np\n",
        "import tensorflow as tf\n",
        "from tensorflow.keras import layers\n",
        "\n",
        "#sent_lens = [len(sentence.split()) for sentence in train_sentences]\n",
        "# above line is same as below\n",
        "sentence_length = []\n",
        "for sentence in train_sentences:\n",
        "  words = sentence.split()\n",
        "  words_count = len(words)\n",
        "  sentence_length.append(words_count)\n",
        "\n",
        "avg_sentence_length = np.mean(sentence_length)\n",
        "\n",
        "avg_sentence_length"
      ],
      "metadata": {
        "id": "zvswUNjtpU6V",
        "colab": {
          "base_uri": "https://localhost:8080/"
        },
        "outputId": "e9287b40-f473-46b9-e643-35ce53d61ca8"
      },
      "execution_count": null,
      "outputs": [
        {
          "output_type": "execute_result",
          "data": {
            "text/plain": [
              "26.338269273494777"
            ]
          },
          "metadata": {},
          "execution_count": 24
        }
      ]
    },
    {
      "cell_type": "code",
      "source": [
        "# Visualize sentence lengths\n",
        "import matplotlib.pyplot as plt\n",
        "plt.hist(sentence_length)"
      ],
      "metadata": {
        "colab": {
          "base_uri": "https://localhost:8080/",
          "height": 354
        },
        "id": "AxseC5edT4L8",
        "outputId": "b19d11c9-768c-4bfe-c6ed-94a376010661"
      },
      "execution_count": null,
      "outputs": [
        {
          "output_type": "execute_result",
          "data": {
            "text/plain": [
              "(array([1.25846e+05, 4.78220e+04, 5.37600e+03, 7.86000e+02, 1.46000e+02,\n",
              "        3.20000e+01, 1.90000e+01, 8.00000e+00, 3.00000e+00, 2.00000e+00]),\n",
              " array([  1. ,  30.5,  60. ,  89.5, 119. , 148.5, 178. , 207.5, 237. ,\n",
              "        266.5, 296. ]),\n",
              " <a list of 10 Patch objects>)"
            ]
          },
          "metadata": {},
          "execution_count": 25
        },
        {
          "output_type": "display_data",
          "data": {
            "text/plain": [
              "<Figure size 432x288 with 1 Axes>"
            ],
            "image/png": "[encoded data removed]"
          },
          "metadata": {
            "needs_background": "light"
          }
        }
      ]
    },
    {
      "cell_type": "code",
      "source": [
        "# Value that covers 95% of the lengths\n",
        "output_seq_len = np.percentile(sentence_length, 95)\n",
        "output_seq_len"
      ],
      "metadata": {
        "colab": {
          "base_uri": "https://localhost:8080/"
        },
        "id": "r3GAN2EEayv5",
        "outputId": "c8279d5f-0ef7-475f-902e-597990ebc880"
      },
      "execution_count": null,
      "outputs": [
        {
          "output_type": "execute_result",
          "data": {
            "text/plain": [
              "55.0"
            ]
          },
          "metadata": {},
          "execution_count": 26
        }
      ]
    },
    {
      "cell_type": "markdown",
      "source": [
        "55 is our magic number. During tokenization, sentences with less than 55 words will be padded with 0 to make it 55 words. Words that are more than 55 will be truncated."
      ],
      "metadata": {
        "id": "e1G003MWoyOE"
      }
    },
    {
      "cell_type": "code",
      "source": [
        "# How many words are in our vocabulary? (taken from 3.2 in https://arxiv.org/pdf/1710.06071.pdf)\n",
        "max_tokens = 68000"
      ],
      "metadata": {
        "id": "5uM98fSXfoJ_"
      },
      "execution_count": null,
      "outputs": []
    },
    {
      "cell_type": "code",
      "source": [
        "# Create TextVectorizer\n",
        "from tensorflow.keras.layers.experimental.preprocessing import TextVectorization\n",
        "\n",
        "text_vectorizer = TextVectorization(max_tokens=max_tokens,\n",
        "                                    output_sequence_length=55)"
      ],
      "metadata": {
        "id": "55vSqFj7pVcX"
      },
      "execution_count": null,
      "outputs": []
    },
    {
      "cell_type": "code",
      "source": [
        "# Adapt text vectorizer to training sentences\n",
        "text_vectorizer.adapt(train_sentences)"
      ],
      "metadata": {
        "id": "Y49aCd4SG3gF"
      },
      "execution_count": null,
      "outputs": []
    },
    {
      "cell_type": "code",
      "source": [
        "# Check text vectorizer\n",
        "import random\n",
        "target_sentence = random.choice(train_sentences)\n",
        "print(f\"Text: {target_sentence}\")\n",
        "print(f\"Word count: {len(target_sentence.split())}\")\n",
        "print(f\"Vectorized: {text_vectorizer(target_sentence)}\")"
      ],
      "metadata": {
        "colab": {
          "base_uri": "https://localhost:8080/"
        },
        "id": "rxwZAMjIH00h",
        "outputId": "ef018543-a506-493a-be83-e03c13aace07"
      },
      "execution_count": null,
      "outputs": [
        {
          "output_type": "stream",
          "name": "stdout",
          "text": [
            "Text: This trial is registered with ( NCT@ ) on @ April @ .\n",
            "Word count: 13\n",
            "Vectorized: [  23   32   20  394    7  176   18 1441    0    0    0    0    0    0\n",
            "    0    0    0    0    0    0    0    0    0    0    0    0    0    0\n",
            "    0    0    0    0    0    0    0    0    0    0    0    0    0    0\n",
            "    0    0    0    0    0    0    0    0    0    0    0    0    0]\n"
          ]
        }
      ]
    },
    {
      "cell_type": "code",
      "source": [
        "# Get more details about vocabulary\n",
        "rct_20k_text_vocab = text_vectorizer.get_vocabulary()\n",
        "print(f\"Number of word in vocabulary: {len(rct_20k_text_vocab)}\")\n",
        "print(f\"Most frequent words in vocabulary: {rct_20k_text_vocab[:5]}\")\n",
        "print(f\"Least frequent words in vocabulary: {rct_20k_text_vocab[-5:]}\")"
      ],
      "metadata": {
        "colab": {
          "base_uri": "https://localhost:8080/"
        },
        "id": "4DursTd9I9dT",
        "outputId": "27433c26-57f6-4cbf-8f1d-dc56375a0b02"
      },
      "execution_count": null,
      "outputs": [
        {
          "output_type": "stream",
          "name": "stdout",
          "text": [
            "Number of word in vocabulary: 64841\n",
            "Most frequent words in vocabulary: ['', '[UNK]', 'the', 'and', 'of']\n",
            "Least frequent words in vocabulary: ['aainduced', 'aaigroup', 'aachener', 'aachen', 'aaacp']\n"
          ]
        }
      ]
    },
    {
      "cell_type": "code",
      "source": [
        "# get configuration of the text vectorizer\n",
        "text_vectorizer.get_config()"
      ],
      "metadata": {
        "colab": {
          "base_uri": "https://localhost:8080/"
        },
        "id": "WZZ61wzmP4M7",
        "outputId": "d34bf4d3-dd0a-4738-eb24-f74b8c54e259"
      },
      "execution_count": null,
      "outputs": [
        {
          "output_type": "execute_result",
          "data": {
            "text/plain": [
              "{'name': 'text_vectorization',\n",
              " 'trainable': True,\n",
              " 'batch_input_shape': (None,),\n",
              " 'dtype': 'string',\n",
              " 'max_tokens': 68000,\n",
              " 'standardize': 'lower_and_strip_punctuation',\n",
              " 'split': 'whitespace',\n",
              " 'ngrams': None,\n",
              " 'output_mode': 'int',\n",
              " 'output_sequence_length': 55,\n",
              " 'pad_to_max_tokens': False,\n",
              " 'sparse': False,\n",
              " 'ragged': False,\n",
              " 'vocabulary': None,\n",
              " 'idf_weights': None}"
            ]
          },
          "metadata": {},
          "execution_count": 32
        }
      ]
    },
    {
      "cell_type": "markdown",
      "source": [
        "Text vectorizer converted text to number. Now, we will create relationship among those numbers using embedding.\n",
        "\n",
        "Only thing we care about while creating embedding is, input and output dimension."
      ],
      "metadata": {
        "id": "9n_rHgY3S2em"
      }
    },
    {
      "cell_type": "code",
      "source": [
        "from pandas._libs.tslibs import vectorized\n",
        "# Token embedding layer\n",
        "token_embed = layers.Embedding(input_dim=len(rct_20k_text_vocab),\n",
        "                               output_dim=128,\n",
        "                               mask_zero=True,\n",
        "                               name=\"token_embedding\")\n",
        "\n",
        "print(f\"Sentence text: {target_sentence}\\n\\n\")\n",
        "vectorized_sentence = text_vectorizer([target_sentence])\n",
        "print(f\"Vectorized sentence: {vectorized_sentence}\\n\\n\")\n",
        "embedded_sentence = token_embed(vectorized_sentence)\n",
        "print(f\"Embedded sentence: {embedded_sentence}\\n\\n\")\n",
        "print(f\"Shape of the sentence embedding {embedded_sentence.shape}\")"
      ],
      "metadata": {
        "id": "vQvhTmNnSQrh",
        "colab": {
          "base_uri": "https://localhost:8080/"
        },
        "outputId": "bb671d6f-ce09-4e27-b54c-5e9252423764"
      },
      "execution_count": null,
      "outputs": [
        {
          "output_type": "stream",
          "name": "stdout",
          "text": [
            "Sentence text: This trial is registered with ( NCT@ ) on @ April @ .\n",
            "\n",
            "\n",
            "Vectorized sentence: [[  23   32   20  394    7  176   18 1441    0    0    0    0    0    0\n",
            "     0    0    0    0    0    0    0    0    0    0    0    0    0    0\n",
            "     0    0    0    0    0    0    0    0    0    0    0    0    0    0\n",
            "     0    0    0    0    0    0    0    0    0    0    0    0    0]]\n",
            "\n",
            "\n",
            "Embedded sentence: [[[-0.01785117 -0.0251601  -0.03162167 ... -0.02826744 -0.0101978\n",
            "    0.02055589]\n",
            "  [ 0.02889956  0.03671903  0.01963339 ... -0.00113211  0.01913801\n",
            "   -0.00036383]\n",
            "  [ 0.04344796  0.03750401 -0.02136343 ...  0.03432966  0.03764621\n",
            "   -0.00402573]\n",
            "  ...\n",
            "  [-0.00315378 -0.00553374  0.01318904 ...  0.02465178  0.01906459\n",
            "   -0.00284135]\n",
            "  [-0.00315378 -0.00553374  0.01318904 ...  0.02465178  0.01906459\n",
            "   -0.00284135]\n",
            "  [-0.00315378 -0.00553374  0.01318904 ...  0.02465178  0.01906459\n",
            "   -0.00284135]]]\n",
            "\n",
            "\n",
            "Shape of the sentence embedding (1, 55, 128)\n"
          ]
        }
      ]
    },
    {
      "cell_type": "markdown",
      "source": [
        "We want to turn the data into batched PrefetchDataset\n",
        "- Much faster to load data into GPU\n",
        "- Use batch()\n",
        "- Use prefetch()\n",
        "- Use tf.data.AUTOTUNE for optimization"
      ],
      "metadata": {
        "id": "UIA-wJBbRgs6"
      }
    },
    {
      "cell_type": "code",
      "source": [
        "# Turn data into tensorflow dataset\n",
        "train_dataset = tf.data.Dataset.from_tensor_slices((train_sentences, train_labels_one_hot))\n",
        "val_dataset = tf.data.Dataset.from_tensor_slices((val_sentences, val_labels_one_hot))\n",
        "test_dataset = tf.data.Dataset.from_tensor_slices((test_sentences, test_labels_one_hot))\n",
        "\n",
        "train_dataset"
      ],
      "metadata": {
        "colab": {
          "base_uri": "https://localhost:8080/"
        },
        "id": "JwPdiWC_PY_X",
        "outputId": "231d30c5-a53f-4b95-a5b0-ca4d3ee3df63"
      },
      "execution_count": null,
      "outputs": [
        {
          "output_type": "execute_result",
          "data": {
            "text/plain": [
              "<TensorSliceDataset element_spec=(TensorSpec(shape=(), dtype=tf.string, name=None), TensorSpec(shape=(5,), dtype=tf.float64, name=None))>"
            ]
          },
          "metadata": {},
          "execution_count": 34
        }
      ]
    },
    {
      "cell_type": "code",
      "source": [
        "train_dataset = train_dataset.batch(32).prefetch(tf.data.AUTOTUNE)\n",
        "valid_dataset = val_dataset.batch(32).prefetch(tf.data.AUTOTUNE)\n",
        "test_dataset = test_dataset.batch(32).prefetch(tf.data.AUTOTUNE)\n",
        "\n",
        "train_dataset"
      ],
      "metadata": {
        "colab": {
          "base_uri": "https://localhost:8080/"
        },
        "id": "Sq3c2z0FTqsh",
        "outputId": "f590afb8-4e30-43d6-dc41-30a2e586f7c7"
      },
      "execution_count": null,
      "outputs": [
        {
          "output_type": "execute_result",
          "data": {
            "text/plain": [
              "<PrefetchDataset element_spec=(TensorSpec(shape=(None,), dtype=tf.string, name=None), TensorSpec(shape=(None, 5), dtype=tf.float64, name=None))>"
            ]
          },
          "metadata": {},
          "execution_count": 35
        }
      ]
    },
    {
      "cell_type": "markdown",
      "source": [
        "Input (text) -> Tokenize -> Embedding -> Layers -> Output\n",
        "- Build\n",
        "- Train\n",
        "- Evaluate"
      ],
      "metadata": {
        "id": "kZOXQq-EgHaZ"
      }
    },
    {
      "cell_type": "markdown",
      "source": [
        "Model 1: Conv1D (1 dimensional CNN)"
      ],
      "metadata": {
        "id": "dcdl15iEgioX"
      }
    },
    {
      "cell_type": "code",
      "source": [
        "# Create model_1\n",
        "inputs = layers.Input(shape=(1,), dtype=tf.string)\n",
        "text_vectors = text_vectorizer(inputs)\n",
        "token_embeddings = token_embed(text_vectors)\n",
        "x = layers.Conv1D(64,\n",
        "                  kernel_size=5,\n",
        "                  activation=\"relu\",\n",
        "                  padding=\"same\")(token_embeddings)\n",
        "x = layers.GlobalAveragePooling1D()(x) # condense the output\n",
        "outputs = layers.Dense(num_classes,\n",
        "                       activation=\"softmax\")(x)\n",
        "model_1 = tf.keras.Model(inputs, outputs)"
      ],
      "metadata": {
        "id": "VGgI6GtiUOId"
      },
      "execution_count": null,
      "outputs": []
    },
    {
      "cell_type": "code",
      "source": [
        "# Compile\n",
        "model_1.compile(optimizer=tf.keras.optimizers.Adam(),\n",
        "                loss=\"categorical_crossentropy\", # if using integer instead of one hot encoding, use sparse_categorical_crossentropy\n",
        "                metrics=[\"accuracy\"])"
      ],
      "metadata": {
        "id": "mCGqGQoXjnxq"
      },
      "execution_count": null,
      "outputs": []
    },
    {
      "cell_type": "code",
      "source": [
        "model_1.summary()"
      ],
      "metadata": {
        "colab": {
          "base_uri": "https://localhost:8080/"
        },
        "id": "w00zv6DOj_Gu",
        "outputId": "7495339e-33ce-4dfa-e00c-1ca8d8c7f3fe"
      },
      "execution_count": null,
      "outputs": [
        {
          "output_type": "stream",
          "name": "stdout",
          "text": [
            "Model: \"model\"\n",
            "_________________________________________________________________\n",
            " Layer (type)                Output Shape              Param #   \n",
            "=================================================================\n",
            " input_1 (InputLayer)        [(None, 1)]               0         \n",
            "                                                                 \n",
            " text_vectorization (TextVec  (None, 55)               0         \n",
            " torization)                                                     \n",
            "                                                                 \n",
            " token_embedding (Embedding)  (None, 55, 128)          8299648   \n",
            "                                                                 \n",
            " conv1d (Conv1D)             (None, 55, 64)            41024     \n",
            "                                                                 \n",
            " global_average_pooling1d (G  (None, 64)               0         \n",
            " lobalAveragePooling1D)                                          \n",
            "                                                                 \n",
            " dense (Dense)               (None, 5)                 325       \n",
            "                                                                 \n",
            "=================================================================\n",
            "Total params: 8,340,997\n",
            "Trainable params: 8,340,997\n",
            "Non-trainable params: 0\n",
            "_________________________________________________________________\n"
          ]
        }
      ]
    },
    {
      "cell_type": "markdown",
      "source": [
        "As we have 200,000 sentences, we will fit our model with 10% of the validation set and 10% of the training set"
      ],
      "metadata": {
        "id": "FnKGauqBkfO2"
      }
    },
    {
      "cell_type": "code",
      "source": [
        "model_1_history = model_1.fit(train_dataset,\n",
        "                              steps_per_epoch=int(0.1 * len(train_dataset)),\n",
        "                              epochs=3,\n",
        "                              validation_data=valid_dataset,\n",
        "                              validation_steps=int(0.1 * len(valid_dataset)))"
      ],
      "metadata": {
        "colab": {
          "base_uri": "https://localhost:8080/"
        },
        "id": "bxQJiGyvkFF-",
        "outputId": "2e41c410-4417-4767-9e02-3e6ac2f730df"
      },
      "execution_count": null,
      "outputs": [
        {
          "output_type": "stream",
          "name": "stdout",
          "text": [
            "Epoch 1/3\n",
            "562/562 [==============================] - 14s 9ms/step - loss: 0.9135 - accuracy: 0.6388 - val_loss: 0.6883 - val_accuracy: 0.7364\n",
            "Epoch 2/3\n",
            "562/562 [==============================] - 5s 9ms/step - loss: 0.6581 - accuracy: 0.7576 - val_loss: 0.6321 - val_accuracy: 0.7709\n",
            "Epoch 3/3\n",
            "562/562 [==============================] - 7s 13ms/step - loss: 0.6174 - accuracy: 0.7751 - val_loss: 0.5970 - val_accuracy: 0.7869\n"
          ]
        }
      ]
    },
    {
      "cell_type": "code",
      "source": [
        "# Evaluate\n",
        "model_1.evaluate(valid_dataset)"
      ],
      "metadata": {
        "colab": {
          "base_uri": "https://localhost:8080/"
        },
        "id": "C72ohCjSla3p",
        "outputId": "b0a8e8f4-85e4-41d3-84eb-9980c751504c"
      },
      "execution_count": null,
      "outputs": [
        {
          "output_type": "stream",
          "name": "stdout",
          "text": [
            "945/945 [==============================] - 4s 4ms/step - loss: 0.5981 - accuracy: 0.7882\n"
          ]
        },
        {
          "output_type": "execute_result",
          "data": {
            "text/plain": [
              "[0.5981471538543701, 0.7881967425346375]"
            ]
          },
          "metadata": {},
          "execution_count": 40
        }
      ]
    },
    {
      "cell_type": "code",
      "source": [
        "model_1_pred_probs = model_1.predict(valid_dataset)\n",
        "model_1_pred_probs"
      ],
      "metadata": {
        "colab": {
          "base_uri": "https://localhost:8080/"
        },
        "id": "GtvwUv-tlkwk",
        "outputId": "6345aefa-9cfe-4e56-dc1c-44a23dfa09b7"
      },
      "execution_count": null,
      "outputs": [
        {
          "output_type": "stream",
          "name": "stdout",
          "text": [
            "945/945 [==============================] - 3s 3ms/step\n"
          ]
        },
        {
          "output_type": "execute_result",
          "data": {
            "text/plain": [
              "array([[4.6067101e-01, 1.5581237e-01, 7.0333995e-02, 2.8575647e-01,\n",
              "        2.7426194e-02],\n",
              "       [4.3805501e-01, 2.6935038e-01, 1.3350174e-02, 2.7151918e-01,\n",
              "        7.7252826e-03],\n",
              "       [1.3115108e-01, 7.3190685e-03, 1.6498873e-03, 8.5983574e-01,\n",
              "        4.4278237e-05],\n",
              "       ...,\n",
              "       [4.5314314e-06, 4.8578993e-04, 3.3436713e-04, 1.6288109e-06,\n",
              "        9.9917370e-01],\n",
              "       [5.8361795e-02, 4.1603020e-01, 1.0937938e-01, 6.7311585e-02,\n",
              "        3.4891701e-01],\n",
              "       [1.6738756e-01, 6.8913847e-01, 3.5171356e-02, 5.7384141e-02,\n",
              "        5.0918542e-02]], dtype=float32)"
            ]
          },
          "metadata": {},
          "execution_count": 41
        }
      ]
    },
    {
      "cell_type": "code",
      "source": [
        "# Convert prediction to classes\n",
        "model_1_preds = tf.argmax(model_1_pred_probs, axis=1)\n",
        "model_1_preds"
      ],
      "metadata": {
        "colab": {
          "base_uri": "https://localhost:8080/"
        },
        "id": "Y3Q8sDcsly8Q",
        "outputId": "78c0c8e6-570c-455f-b113-e4ba30d73cec"
      },
      "execution_count": null,
      "outputs": [
        {
          "output_type": "execute_result",
          "data": {
            "text/plain": [
              "<tf.Tensor: shape=(30212,), dtype=int64, numpy=array([0, 0, 3, ..., 4, 1, 1])>"
            ]
          },
          "metadata": {},
          "execution_count": 42
        }
      ]
    },
    {
      "cell_type": "code",
      "source": [
        "# Calcualte results\n",
        "model_1_results = calculate_results(y_true=val_labels_encoded,\n",
        "                                    y_pred=model_1_preds)\n",
        "model_1_results"
      ],
      "metadata": {
        "colab": {
          "base_uri": "https://localhost:8080/"
        },
        "id": "SvLxc4iqmHOk",
        "outputId": "3a39e6b7-6c28-4317-8080-403b453b076d"
      },
      "execution_count": null,
      "outputs": [
        {
          "output_type": "execute_result",
          "data": {
            "text/plain": [
              "{'accuracy': 78.81967430160202,\n",
              " 'precision': 0.7854629272863128,\n",
              " 'recall': 0.7881967430160202,\n",
              " 'f1': 0.7859161995024855}"
            ]
          },
          "metadata": {},
          "execution_count": 43
        }
      ]
    },
    {
      "cell_type": "markdown",
      "source": [
        "**Model 2: Feature extraction with pretrained embedding**\n",
        "\n",
        "Inputs (string) -> Pretrained embedding -> Layers -> Output (prediction)"
      ],
      "metadata": {
        "id": "PvqZz2JrFe7W"
      }
    },
    {
      "cell_type": "code",
      "source": [
        "# Download pretrained Universal Sentence Encoder (USE) from hub\n",
        "import tensorflow_hub as hub\n",
        "tf_hub_embedding_layer = hub.KerasLayer(\"https://tfhub.dev/google/universal-sentence-encoder/4\",\n",
        "                                        trainable=False,\n",
        "                                        name=\"universal_sentence_encoder\")"
      ],
      "metadata": {
        "id": "iOqKSmHdmkXP"
      },
      "execution_count": null,
      "outputs": []
    },
    {
      "cell_type": "code",
      "source": [
        "# Test USE in random sentence\n",
        "random_training_sentence = random.choice(train_sentences)\n",
        "print(f\"Random sentence: {random_training_sentence}\")\n",
        "random_universal_embeddeding = tf_hub_embedding_layer([random_training_sentence])\n",
        "print(f\"Embedding: {random_universal_embeddeding}\")\n",
        "print(f\"Embedding shape: {random_universal_embeddeding.shape}\")"
      ],
      "metadata": {
        "colab": {
          "base_uri": "https://localhost:8080/"
        },
        "id": "tld3uXP3G7XM",
        "outputId": "9872e71c-2dc1-41fe-91f2-91e4bbdcedff"
      },
      "execution_count": null,
      "outputs": [
        {
          "output_type": "stream",
          "name": "stdout",
          "text": [
            "Random sentence: The two-phase screening trial demonstrated that subgrouping of patients with respect to baseline abstinence status is feasible and clinically useful for exploring cocaine cessation and relapse-prevention effects of candidate medications .\n",
            "Embedding: [[ 0.01555956 -0.03424126 -0.06009043 -0.06476109 -0.01695347 -0.01948143\n",
            "   0.03581709 -0.02242459  0.02792318 -0.02373835  0.08912535  0.03865254\n",
            "   0.06319098  0.05913613  0.07015525 -0.02109385 -0.08938841  0.05799566\n",
            "  -0.0694036   0.01415689  0.04223412 -0.03919633 -0.0698079   0.0346797\n",
            "  -0.01187871 -0.03179803  0.0108641  -0.02451814  0.06859435  0.00965767\n",
            "   0.01512982  0.08939479 -0.03536419  0.0754962   0.03912253 -0.02001488\n",
            "  -0.07885245 -0.03014283 -0.05039001  0.06147718  0.03128149  0.00297079\n",
            "  -0.02093463 -0.05683014  0.04033002  0.05421065  0.04439922  0.06713877\n",
            "   0.05707805  0.00811718 -0.03109504 -0.0155828  -0.06939694  0.07674129\n",
            "  -0.06899306  0.04566975 -0.01114501  0.07331293  0.04657716  0.04034259\n",
            "   0.03734011 -0.05763862 -0.0349456  -0.02405008 -0.06358364 -0.02213141\n",
            "   0.04868996 -0.00898824  0.02006811 -0.04770668 -0.02060409 -0.05659127\n",
            "  -0.02616273 -0.02708613 -0.01558048  0.02298104 -0.03588317 -0.04511958\n",
            "  -0.0628015  -0.01323349 -0.02990001  0.0250486   0.03304639  0.07468516\n",
            "  -0.00636788 -0.0215081   0.00444055 -0.08288033  0.00901529 -0.08600014\n",
            "   0.06548119  0.02952997 -0.0571088  -0.01860244  0.04284804 -0.03425669\n",
            "  -0.00278005 -0.05790228 -0.02875554 -0.05748289 -0.06114637 -0.00198273\n",
            "   0.01724548  0.00419731  0.01577867 -0.0320068  -0.01155012  0.03415949\n",
            "   0.03394372  0.0117112   0.05398089  0.03753545 -0.00828413  0.01475992\n",
            "   0.06847745  0.00264525  0.00174371 -0.00360611  0.01554907  0.03963188\n",
            "   0.03100275  0.01099525 -0.05397487  0.00548216  0.04704345 -0.01965801\n",
            "  -0.0582502  -0.00777126  0.02957782 -0.05411338 -0.03945152  0.08930985\n",
            "   0.02521683  0.00512401  0.01776658 -0.04323538  0.05633477  0.03838217\n",
            "   0.02300644 -0.01702686  0.07843143  0.0513851  -0.00422678 -0.03804564\n",
            "   0.0240099  -0.05208727 -0.01046634  0.01834636  0.05377909 -0.04447255\n",
            "   0.06495734  0.0203195  -0.0130888   0.02611814  0.08659323  0.05739643\n",
            "   0.06089398  0.02344169  0.00615478  0.02086271 -0.00855621 -0.02965274\n",
            "  -0.03820658 -0.02482346 -0.04302079  0.00119247 -0.01164821 -0.03695181\n",
            "  -0.06555741  0.03432626 -0.02532552 -0.0865647  -0.01663384  0.0171352\n",
            "  -0.05650289  0.03807487  0.00939642 -0.01661688 -0.03556794  0.07069598\n",
            "  -0.02071449  0.07517257  0.04259261 -0.02022749  0.00292177  0.06641899\n",
            "   0.08850644 -0.0312989   0.05369703  0.0123974   0.0504186   0.02407669\n",
            "   0.07327882  0.0401972   0.06553642 -0.05756368 -0.06230006  0.00625781\n",
            "   0.0727526  -0.06441712  0.079151    0.03703345 -0.07822407  0.06199849\n",
            "   0.0348402  -0.05288966  0.06323553 -0.03943295  0.01910366 -0.04266715\n",
            "  -0.01473529 -0.05798288 -0.04242917 -0.00975899  0.0061687  -0.00640744\n",
            "   0.01645547  0.01645508  0.06071105 -0.02895933  0.03343967  0.03925888\n",
            "  -0.0236803   0.01767293 -0.03869774 -0.05982691 -0.0743267  -0.04268036\n",
            "   0.00336975  0.07208394  0.0438352   0.05856975 -0.02212996 -0.00442862\n",
            "  -0.01032234  0.0154642  -0.05469258 -0.05171799  0.00637368  0.04501817\n",
            "   0.0415935   0.04753626  0.07271317  0.04569758  0.0043256  -0.03605786\n",
            "  -0.04256543 -0.02024626  0.03333309 -0.08779058  0.05924006 -0.05617049\n",
            "  -0.03230752  0.00495165 -0.03880942  0.0375466  -0.07451043  0.04015877\n",
            "  -0.00524837  0.01731186  0.06781083 -0.020046   -0.04743509  0.02637928\n",
            "  -0.00218219 -0.02432922  0.02090116 -0.03026302  0.03877021 -0.00446592\n",
            "  -0.00892996  0.00640415 -0.05446762 -0.08862603  0.08545928  0.00014421\n",
            "   0.04672106 -0.04609638  0.06381401 -0.05869016 -0.04914318 -0.05294803\n",
            "   0.03564918 -0.01990582  0.03536364 -0.04589934 -0.01769995 -0.03458411\n",
            "  -0.04069221 -0.07376065 -0.07237594 -0.01587847  0.07257038 -0.06110312\n",
            "   0.06205181 -0.00840372 -0.08132259 -0.00284361  0.00758189  0.02534252\n",
            "  -0.00837627 -0.00979483  0.05147645 -0.00334114 -0.08029731 -0.00736353\n",
            "  -0.04692075  0.02304947  0.00537107 -0.03290217 -0.0620555   0.0196873\n",
            "   0.06708053 -0.00104002  0.00320854 -0.0300297   0.03706383 -0.01205837\n",
            "  -0.05515349  0.05579227 -0.04050617  0.00025533  0.04150365  0.06665867\n",
            "  -0.00442874  0.01498839  0.07448797 -0.06490074  0.04709746 -0.01052413\n",
            "  -0.04921875  0.05977013  0.00384108  0.05016673 -0.05454936 -0.0258722\n",
            "  -0.01967215  0.00518743  0.04978998 -0.05223395 -0.01514717 -0.00899679\n",
            "   0.06508572  0.02553068  0.01361576 -0.08734419  0.0012345   0.04722969\n",
            "  -0.05027426 -0.03064289 -0.04309947 -0.04603962  0.04734964  0.07731763\n",
            "   0.07247765  0.06246315  0.00967723  0.06529225  0.079186   -0.04442067\n",
            "  -0.0169281  -0.05788514 -0.04825833 -0.01488411  0.01956192 -0.05896365\n",
            "  -0.00437148  0.05531097 -0.075715   -0.07671154 -0.00435613  0.00987891\n",
            "   0.03214715  0.04613313  0.05354236  0.03643832 -0.03351308 -0.00531329\n",
            "   0.04078522 -0.06883461 -0.00327634  0.03260471  0.07778949  0.02601849\n",
            "  -0.03761525  0.00548947 -0.04091497  0.00060542 -0.04722822  0.06336533\n",
            "  -0.01072538 -0.0144229  -0.06484007 -0.0608767  -0.04609378  0.0494579\n",
            "   0.06819312 -0.08237015  0.03172462 -0.05028429  0.03225537  0.0402622\n",
            "   0.04127682 -0.00454276  0.05305221  0.02004766  0.07684808 -0.02642628\n",
            "   0.04672679  0.06202862 -0.050136    0.01697997  0.0433536  -0.0265477\n",
            "   0.0571726  -0.05240192 -0.01959324  0.00936174  0.00865785  0.01291357\n",
            "  -0.01584044 -0.04932962  0.03806557  0.04071783  0.00877348 -0.06646282\n",
            "   0.06453063  0.02325439  0.04138719 -0.01537522 -0.07963724 -0.00875634\n",
            "   0.06600825 -0.00579641 -0.0020172  -0.06623962 -0.00911221 -0.05144845\n",
            "   0.01718577  0.03210487  0.03105467 -0.03397262 -0.04455861  0.0266359\n",
            "   0.0253354  -0.06493106 -0.02924066  0.00436846  0.03812941 -0.02617164\n",
            "  -0.02845714  0.00358782  0.0225984   0.07264856  0.00138851 -0.02563157\n",
            "   0.05489781 -0.01624858 -0.06696699  0.06025969  0.04561165  0.07939752\n",
            "  -0.06815273 -0.00260539 -0.02255534 -0.03767696 -0.06235781 -0.04915947\n",
            "  -0.01648813 -0.00290186 -0.00711904  0.01522409 -0.00534557  0.02155751\n",
            "   0.00492203  0.04962414 -0.00056975 -0.01744181 -0.01600656  0.07847285\n",
            "  -0.05352581  0.08287377  0.01227407 -0.05028266  0.04854855  0.04942362\n",
            "   0.0083861   0.0318235   0.06078912 -0.04196074 -0.01549044 -0.01510092\n",
            "  -0.05708788 -0.00155415  0.03189037 -0.00663894  0.03464577  0.00203454\n",
            "   0.07509793 -0.03214356 -0.03299972 -0.06160825 -0.06807385 -0.08465794\n",
            "   0.01494945 -0.08941817  0.04532754 -0.00085903  0.00494713 -0.0002845\n",
            "   0.0242933  -0.02209865]]\n",
            "Embedding shape: (1, 512)\n"
          ]
        }
      ]
    },
    {
      "cell_type": "markdown",
      "source": [
        "USE takes care of tokenization of the text and outputs 512 dimensional embedding vector"
      ],
      "metadata": {
        "id": "B-kMWvWfJFTM"
      }
    },
    {
      "cell_type": "code",
      "source": [
        "# Create the model\n",
        "inputs = layers.Input(shape=[], dtype=tf.string)\n",
        "pretrained_embedding = tf_hub_embedding_layer(inputs)\n",
        "x = layers.Dense(128, activation=\"relu\")(pretrained_embedding)\n",
        "outputs = layers.Dense(5, activation=\"softmax\")(x)\n",
        "model_2 = tf.keras.Model(inputs=inputs,\n",
        "                         outputs=outputs)"
      ],
      "metadata": {
        "id": "yjus8_HGIF0P"
      },
      "execution_count": null,
      "outputs": []
    },
    {
      "cell_type": "code",
      "source": [
        "model_2.summary()"
      ],
      "metadata": {
        "colab": {
          "base_uri": "https://localhost:8080/"
        },
        "id": "1ps0HyDMMDX0",
        "outputId": "283ea27f-8dbf-47ee-96ce-ded4e96abae3"
      },
      "execution_count": null,
      "outputs": [
        {
          "output_type": "stream",
          "name": "stdout",
          "text": [
            "Model: \"model_1\"\n",
            "_________________________________________________________________\n",
            " Layer (type)                Output Shape              Param #   \n",
            "=================================================================\n",
            " input_2 (InputLayer)        [(None,)]                 0         \n",
            "                                                                 \n",
            " universal_sentence_encoder   (None, 512)              256797824 \n",
            " (KerasLayer)                                                    \n",
            "                                                                 \n",
            " dense_1 (Dense)             (None, 128)               65664     \n",
            "                                                                 \n",
            " dense_2 (Dense)             (None, 5)                 645       \n",
            "                                                                 \n",
            "=================================================================\n",
            "Total params: 256,864,133\n",
            "Trainable params: 66,309\n",
            "Non-trainable params: 256,797,824\n",
            "_________________________________________________________________\n"
          ]
        }
      ]
    },
    {
      "cell_type": "code",
      "source": [
        "model_2.compile(optimizer=tf.keras.optimizers.Adam(),\n",
        "                loss=\"categorical_crossentropy\",\n",
        "                metrics=[\"accuracy\"])"
      ],
      "metadata": {
        "id": "hMdQt0TcMJ7c"
      },
      "execution_count": null,
      "outputs": []
    },
    {
      "cell_type": "code",
      "source": [
        "model_2.fit(x=train_dataset,\n",
        "            epochs=3,\n",
        "            steps_per_epoch=int(0.1 * len(train_dataset)),\n",
        "            validation_data=valid_dataset,\n",
        "            validation_steps=int(0.1 * len(valid_dataset)))"
      ],
      "metadata": {
        "colab": {
          "base_uri": "https://localhost:8080/"
        },
        "id": "K-5LbTdAMn1h",
        "outputId": "5fadd66e-63f3-4922-9d4d-329c59752142"
      },
      "execution_count": null,
      "outputs": [
        {
          "output_type": "stream",
          "name": "stdout",
          "text": [
            "Epoch 1/3\n",
            "562/562 [==============================] - 15s 19ms/step - loss: 0.9157 - accuracy: 0.6499 - val_loss: 0.7968 - val_accuracy: 0.6895\n",
            "Epoch 2/3\n",
            "562/562 [==============================] - 8s 14ms/step - loss: 0.7702 - accuracy: 0.7023 - val_loss: 0.7557 - val_accuracy: 0.7038\n",
            "Epoch 3/3\n",
            "562/562 [==============================] - 8s 15ms/step - loss: 0.7541 - accuracy: 0.7121 - val_loss: 0.7414 - val_accuracy: 0.7114\n"
          ]
        },
        {
          "output_type": "execute_result",
          "data": {
            "text/plain": [
              "<keras.callbacks.History at 0x7fa4aa875af0>"
            ]
          },
          "metadata": {},
          "execution_count": 49
        }
      ]
    },
    {
      "cell_type": "code",
      "source": [
        "model_2.evaluate(valid_dataset)"
      ],
      "metadata": {
        "colab": {
          "base_uri": "https://localhost:8080/"
        },
        "id": "-GklgKX9Njl6",
        "outputId": "13ca8b2f-fc19-47e0-df59-9d046ef98f39"
      },
      "execution_count": null,
      "outputs": [
        {
          "output_type": "stream",
          "name": "stdout",
          "text": [
            "945/945 [==============================] - 16s 17ms/step - loss: 0.7430 - accuracy: 0.7127\n"
          ]
        },
        {
          "output_type": "execute_result",
          "data": {
            "text/plain": [
              "[0.7429613471031189, 0.7127300500869751]"
            ]
          },
          "metadata": {},
          "execution_count": 50
        }
      ]
    },
    {
      "cell_type": "code",
      "source": [
        "model_2_pred_probs = model_2.predict(valid_dataset)\n",
        "model_2_preds = tf.argmax(model_2_pred_probs, axis=1)\n",
        "model_2_preds"
      ],
      "metadata": {
        "colab": {
          "base_uri": "https://localhost:8080/"
        },
        "id": "owEL30weNvcj",
        "outputId": "25552564-ec90-43f2-9f4e-26f1d38f4c3c"
      },
      "execution_count": null,
      "outputs": [
        {
          "output_type": "stream",
          "name": "stdout",
          "text": [
            "945/945 [==============================] - 16s 16ms/step\n"
          ]
        },
        {
          "output_type": "execute_result",
          "data": {
            "text/plain": [
              "<tf.Tensor: shape=(30212,), dtype=int64, numpy=array([0, 1, 3, ..., 4, 4, 2])>"
            ]
          },
          "metadata": {},
          "execution_count": 51
        }
      ]
    },
    {
      "cell_type": "code",
      "source": [
        "model_2_results = calculate_results(y_true=val_labels_encoded,\n",
        "                                    y_pred=model_2_preds)"
      ],
      "metadata": {
        "id": "7clzyN44OfwB"
      },
      "execution_count": null,
      "outputs": []
    },
    {
      "cell_type": "code",
      "source": [
        "model_2_results"
      ],
      "metadata": {
        "colab": {
          "base_uri": "https://localhost:8080/"
        },
        "id": "i0jEnPxVOwn2",
        "outputId": "bb029451-026e-499a-ed31-ac6a8c05fee9"
      },
      "execution_count": null,
      "outputs": [
        {
          "output_type": "execute_result",
          "data": {
            "text/plain": [
              "{'accuracy': 71.2730041043294,\n",
              " 'precision': 0.7135643467704036,\n",
              " 'recall': 0.7127300410432941,\n",
              " 'f1': 0.7097630338060873}"
            ]
          },
          "metadata": {},
          "execution_count": 53
        }
      ]
    },
    {
      "cell_type": "markdown",
      "source": [
        "**Model 3: Conv1D with character embedding**\n",
        "\n",
        "Differenece between token and character embedding"
      ],
      "metadata": {
        "id": "wNapzEPzO8Ne"
      }
    },
    {
      "cell_type": "markdown",
      "source": [
        "![image.png](data:image/png;base64,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)"
      ],
      "metadata": {
        "id": "nXdeeyv4PUOM"
      }
    },
    {
      "cell_type": "code",
      "source": [
        "# Split sentences into characters for character level vectorization\n",
        "def split_chars(text_input):\n",
        "  return \" \".join(list(text_input))"
      ],
      "metadata": {
        "id": "lOQHsIDvOye1"
      },
      "execution_count": null,
      "outputs": []
    },
    {
      "cell_type": "code",
      "source": [
        "# Test the function\n",
        "random_split_sentence = random.choice(train_sentences)\n",
        "print(f\"Random sentence: {random_split_sentence}\")\n",
        "print(f\"Sentnece split into characters: {split_chars(random_split_sentence)}\")"
      ],
      "metadata": {
        "colab": {
          "base_uri": "https://localhost:8080/"
        },
        "id": "q1WulE97TuV_",
        "outputId": "8e1ae7ce-5e85-40b1-b66a-362ab8aa698b"
      },
      "execution_count": null,
      "outputs": [
        {
          "output_type": "stream",
          "name": "stdout",
          "text": [
            "Random sentence: Ingestion of cold - and room-tempered water led to decreased heart rate ( P < @ ) and double product ( P < @ ) , and increased stroke volume ( P < @ ) ; these effects were not observed with body-tempered water .\n",
            "Sentnece split into characters: I n g e s t i o n   o f   c o l d   -   a n d   r o o m - t e m p e r e d   w a t e r   l e d   t o   d e c r e a s e d   h e a r t   r a t e   (   P   <   @   )   a n d   d o u b l e   p r o d u c t   (   P   <   @   )   ,   a n d   i n c r e a s e d   s t r o k e   v o l u m e   (   P   <   @   )   ;   t h e s e   e f f e c t s   w e r e   n o t   o b s e r v e d   w i t h   b o d y - t e m p e r e d   w a t e r   .\n"
          ]
        }
      ]
    },
    {
      "cell_type": "code",
      "source": [
        "# Split sentences into chars\n",
        "train_chars = [split_chars(sentence) for sentence in train_sentences]\n",
        "val_chars = [split_chars(sentence) for sentence in val_sentences]\n",
        "test_chars = [split_chars(sentence) for sentence in test_sentences]\n",
        "\n",
        "print(f\"Train example: {train_chars[0]}\")\n",
        "print(f\"Validation example: {val_chars[0]}\")\n",
        "print(f\"Test example: {test_chars[0]}\")"
      ],
      "metadata": {
        "colab": {
          "base_uri": "https://localhost:8080/"
        },
        "id": "eSWCS-M0UYdr",
        "outputId": "c8624ba1-633d-4865-cf8f-62a3e9dc1fad"
      },
      "execution_count": null,
      "outputs": [
        {
          "output_type": "stream",
          "name": "stdout",
          "text": [
            "Train example: T o   i n v e s t i g a t e   t h e   e f f i c a c y   o f   @   w e e k s   o f   d a i l y   l o w - d o s e   o r a l   p r e d n i s o l o n e   i n   i m p r o v i n g   p a i n   ,   m o b i l i t y   ,   a n d   s y s t e m i c   l o w - g r a d e   i n f l a m m a t i o n   i n   t h e   s h o r t   t e r m   a n d   w h e t h e r   t h e   e f f e c t   w o u l d   b e   s u s t a i n e d   a t   @   w e e k s   i n   o l d e r   a d u l t s   w i t h   m o d e r a t e   t o   s e v e r e   k n e e   o s t e o a r t h r i t i s   (   O A   )   .\n",
            "Validation example: I g E   s e n s i t i z a t i o n   t o   A s p e r g i l l u s   f u m i g a t u s   a n d   a   p o s i t i v e   s p u t u m   f u n g a l   c u l t u r e   r e s u l t   a r e   c o m m o n   i n   p a t i e n t s   w i t h   r e f r a c t o r y   a s t h m a   .\n",
            "Test example: T h i s   s t u d y   a n a l y z e d   l i v e r   f u n c t i o n   a b n o r m a l i t i e s   i n   h e a r t   f a i l u r e   p a t i e n t s   a d m i t t e d   w i t h   s e v e r e   a c u t e   d e c o m p e n s a t e d   h e a r t   f a i l u r e   (   A D H F   )   .\n"
          ]
        }
      ]
    },
    {
      "cell_type": "code",
      "source": [
        "# What is the average number of characters in a sentence?\n",
        "char_lens = [len(sentence) for sentence in train_sentences]\n",
        "mean_char_lens = np.mean(char_lens)\n",
        "mean_char_lens"
      ],
      "metadata": {
        "colab": {
          "base_uri": "https://localhost:8080/"
        },
        "id": "n_Q0lufFV_rW",
        "outputId": "2dacc91b-f6fa-4151-f79e-e04567b0e24d"
      },
      "execution_count": null,
      "outputs": [
        {
          "output_type": "execute_result",
          "data": {
            "text/plain": [
              "149.3662574983337"
            ]
          },
          "metadata": {},
          "execution_count": 57
        }
      ]
    },
    {
      "cell_type": "code",
      "source": [
        "# Check the character number distribution\n",
        "import matplotlib.pyplot as plt\n",
        "plt.hist(char_lens, bins=7)"
      ],
      "metadata": {
        "colab": {
          "base_uri": "https://localhost:8080/",
          "height": 354
        },
        "id": "M7gbFePQYr1P",
        "outputId": "58bc6bca-859f-4bdf-e247-0f5544b49c3b"
      },
      "execution_count": null,
      "outputs": [
        {
          "output_type": "execute_result",
          "data": {
            "text/plain": [
              "(array([1.41175e+05, 3.71110e+04, 1.60000e+03, 1.27000e+02, 2.10000e+01,\n",
              "        5.00000e+00, 1.00000e+00]),\n",
              " array([1.00000000e+00, 1.98857143e+02, 3.96714286e+02, 5.94571429e+02,\n",
              "        7.92428571e+02, 9.90285714e+02, 1.18814286e+03, 1.38600000e+03]),\n",
              " <a list of 7 Patch objects>)"
            ]
          },
          "metadata": {},
          "execution_count": 58
        },
        {
          "output_type": "display_data",
          "data": {
            "text/plain": [
              "<Figure size 432x288 with 1 Axes>"
            ],
            "image/png": "[encoded data removed]"
          },
          "metadata": {
            "needs_background": "light"
          }
        }
      ]
    },
    {
      "cell_type": "code",
      "source": [
        "# Character length that covers 95% sentences\n",
        "output_seq_char_len = int(np.percentile(char_lens, 95))\n",
        "output_seq_char_len"
      ],
      "metadata": {
        "colab": {
          "base_uri": "https://localhost:8080/"
        },
        "id": "0kycAKBwY-zM",
        "outputId": "6445579d-e3f6-4360-a44d-caf52203c96d"
      },
      "execution_count": null,
      "outputs": [
        {
          "output_type": "execute_result",
          "data": {
            "text/plain": [
              "290"
            ]
          },
          "metadata": {},
          "execution_count": 59
        }
      ]
    },
    {
      "cell_type": "markdown",
      "source": [
        "- We will use output sequence as 290.\n",
        "- We will use max_tokens (total number of different characters) as 28 (26 alphabets + 1 for spaces + 1 for OOV - Out of Vocabulary)"
      ],
      "metadata": {
        "id": "p1WUjR_faN-M"
      }
    },
    {
      "cell_type": "code",
      "source": [
        "# Get all keyboard characters\n",
        "import string\n",
        "alphabet = string.ascii_lowercase + string.digits + string.punctuation\n",
        "alphabet"
      ],
      "metadata": {
        "colab": {
          "base_uri": "https://localhost:8080/",
          "height": 35
        },
        "id": "sARaBwluZZFg",
        "outputId": "2f32a6b2-269f-49fe-ddda-4091d29119c5"
      },
      "execution_count": null,
      "outputs": [
        {
          "output_type": "execute_result",
          "data": {
            "text/plain": [
              "'abcdefghijklmnopqrstuvwxyz0123456789!\"#$%&\\'()*+,-./:;<=>?@[\\\\]^_`{|}~'"
            ],
            "application/vnd.google.colaboratory.intrinsic+json": {
              "type": "string"
            }
          },
          "metadata": {},
          "execution_count": 60
        }
      ]
    },
    {
      "cell_type": "code",
      "source": [
        "# Create vectorizer\n",
        "NUM_CHAR_TOKENS = len(alphabet) + 2 # alphabets + space + OOV\n",
        "char_vectorizer = TextVectorization(max_tokens=NUM_CHAR_TOKENS,\n",
        "                                    standardize=\"lower_and_strip_punctuation\",\n",
        "                                    output_sequence_length=output_seq_char_len,\n",
        "                                    name=\"char_vectorizer\")\n",
        "\n",
        "char_vectorizer.adapt(train_chars)"
      ],
      "metadata": {
        "id": "SVIKL2BUbaFX"
      },
      "execution_count": null,
      "outputs": []
    },
    {
      "cell_type": "code",
      "source": [
        "# Get vocabulary\n",
        "char_vocab = char_vectorizer.get_vocabulary()\n",
        "print(f\"Length of the vocabulary: {len(char_vocab)}\")\n",
        "print(f\"Most common chars: {char_vocab[:5]}\")\n",
        "print(f\"Least common chars: {char_vocab[-5:]}\")"
      ],
      "metadata": {
        "colab": {
          "base_uri": "https://localhost:8080/"
        },
        "id": "6BGCy0QYFKvn",
        "outputId": "f9e5b851-af49-4058-cbf7-e5e00dec2b08"
      },
      "execution_count": null,
      "outputs": [
        {
          "output_type": "stream",
          "name": "stdout",
          "text": [
            "Length of the vocabulary: 28\n",
            "Most common chars: ['', '[UNK]', 'e', 't', 'i']\n",
            "Least common chars: ['k', 'x', 'z', 'q', 'j']\n"
          ]
        }
      ]
    },
    {
      "cell_type": "code",
      "source": [
        "# Test char_vectorizer on random chars\n",
        "random_train_chars = random.choice(train_chars)\n",
        "print(f\"Chars before vectorizing: {random_train_chars}\")\n",
        "print(f\"Length of chars: {len(random_train_chars.split())}\")\n",
        "vectorized_chars = char_vectorizer([random_train_chars])\n",
        "print(f\"Chars after vectorization: {vectorized_chars}\")\n",
        "print(f\"Shape of vectorized chars: {vectorized_chars.shape}\")"
      ],
      "metadata": {
        "colab": {
          "base_uri": "https://localhost:8080/"
        },
        "id": "fmZMQG4UFrSf",
        "outputId": "e3d2d301-3e1c-493f-99e1-e2888b5d9623"
      },
      "execution_count": null,
      "outputs": [
        {
          "output_type": "stream",
          "name": "stdout",
          "text": [
            "Chars before vectorizing: L a c t a t e   i s   a   m a r k e r   o f   h y p o p e r f u s i o n   a n d   m a y   b e   u s e d   f o r   r i s k   a s s e s s m e n t   i n   c r i t i c a l l y   i l l   p a t i e n t s   .\n",
            "Length of chars: 84\n",
            "Chars after vectorization: [[12  5 11  3  5  3  2  4  9  5 15  5  8 23  2  8  7 17 13 19 14  7 14  2\n",
            "   8 17 16  9  4  7  6  5  6 10 15  5 19 22  2 16  9  2 10 17  7  8  8  4\n",
            "   9 23  5  9  9  2  9  9 15  2  6  3  4  6 11  8  4  3  4 11  5 12 12 19\n",
            "   4 12 12 14  5  3  4  2  6  3  9  0  0  0  0  0  0  0  0  0  0  0  0  0\n",
            "   0  0  0  0  0  0  0  0  0  0  0  0  0  0  0  0  0  0  0  0  0  0  0  0\n",
            "   0  0  0  0  0  0  0  0  0  0  0  0  0  0  0  0  0  0  0  0  0  0  0  0\n",
            "   0  0  0  0  0  0  0  0  0  0  0  0  0  0  0  0  0  0  0  0  0  0  0  0\n",
            "   0  0  0  0  0  0  0  0  0  0  0  0  0  0  0  0  0  0  0  0  0  0  0  0\n",
            "   0  0  0  0  0  0  0  0  0  0  0  0  0  0  0  0  0  0  0  0  0  0  0  0\n",
            "   0  0  0  0  0  0  0  0  0  0  0  0  0  0  0  0  0  0  0  0  0  0  0  0\n",
            "   0  0  0  0  0  0  0  0  0  0  0  0  0  0  0  0  0  0  0  0  0  0  0  0\n",
            "   0  0  0  0  0  0  0  0  0  0  0  0  0  0  0  0  0  0  0  0  0  0  0  0\n",
            "   0  0]]\n",
            "Shape of vectorized chars: (1, 290)\n"
          ]
        }
      ]
    },
    {
      "cell_type": "code",
      "source": [
        "# Create embedding\n",
        "char_embed = layers.Embedding(input_dim=NUM_CHAR_TOKENS,\n",
        "                              output_dim=25, #embedding dimension of each character (same as Figure 1 in https://arxiv.org/pdf/1612.05251.pdf)\n",
        "                              mask_zero=False, #if true, it messes up model_5\n",
        "                              name=\"char_embed\")\n",
        "\n",
        "# Test embedding\n",
        "print(f\"Random sentence: {random_train_chars}\")\n",
        "char_embed_example = char_embed(char_vectorizer([random_train_chars]))\n",
        "print(f\"Sentence after embedding: {char_embed_example}\")\n",
        "print(f\"Shape of the embed: {char_embed_example.shape}\")"
      ],
      "metadata": {
        "colab": {
          "base_uri": "https://localhost:8080/"
        },
        "id": "EtZCWOs4H76X",
        "outputId": "99c85316-7fc6-4e03-ac94-2e85bb763c42"
      },
      "execution_count": null,
      "outputs": [
        {
          "output_type": "stream",
          "name": "stdout",
          "text": [
            "Random sentence: L a c t a t e   i s   a   m a r k e r   o f   h y p o p e r f u s i o n   a n d   m a y   b e   u s e d   f o r   r i s k   a s s e s s m e n t   i n   c r i t i c a l l y   i l l   p a t i e n t s   .\n",
            "Sentence after embedding: [[[ 0.00392711  0.02253857 -0.04150482 ...  0.00475938  0.02457154\n",
            "   -0.00121703]\n",
            "  [ 0.01806461 -0.04182393 -0.04648786 ...  0.00754659 -0.03691766\n",
            "   -0.03903711]\n",
            "  [-0.02057824  0.04847981 -0.0251959  ...  0.03905416 -0.00965115\n",
            "    0.03187997]\n",
            "  ...\n",
            "  [-0.00375154  0.01728174 -0.03073191 ... -0.01172395  0.04441113\n",
            "   -0.01540915]\n",
            "  [-0.00375154  0.01728174 -0.03073191 ... -0.01172395  0.04441113\n",
            "   -0.01540915]\n",
            "  [-0.00375154  0.01728174 -0.03073191 ... -0.01172395  0.04441113\n",
            "   -0.01540915]]]\n",
            "Shape of the embed: (1, 290, 25)\n"
          ]
        }
      ]
    },
    {
      "cell_type": "markdown",
      "source": [
        "**Steps:** Input(char of sentences) -> Tokenize -> Embedding -> Layer (Conv1D, GlobalMaxPool1D) -> Output (probability)"
      ],
      "metadata": {
        "id": "tXzONYokJ-BS"
      }
    },
    {
      "cell_type": "code",
      "source": [
        "# Create model\n",
        "inputs = layers.Input(shape=(1,), dtype=\"string\")\n",
        "char_vectors = char_vectorizer(inputs)\n",
        "char_embeddings = char_embed(char_vectors)\n",
        "x = layers.Conv1D(64, kernel_size=5, padding=\"same\", activation=\"relu\")(char_embeddings)\n",
        "x = layers.GlobalMaxPool1D()(x)\n",
        "outputs = layers.Dense(num_classes, activation=\"softmax\")(x)\n",
        "\n",
        "model_3 = tf.keras.Model(inputs=inputs,\n",
        "                         outputs=outputs,\n",
        "                         name=\"model_3_Conv1D_char_embedding\")"
      ],
      "metadata": {
        "id": "QErk5WA2JyhV"
      },
      "execution_count": null,
      "outputs": []
    },
    {
      "cell_type": "code",
      "source": [
        "model_3.compile(optimizer=tf.keras.optimizers.Adam(),\n",
        "                loss=\"categorical_crossentropy\",\n",
        "                metrics=[\"accuracy\"])"
      ],
      "metadata": {
        "id": "cLS3fVZbcIEb"
      },
      "execution_count": null,
      "outputs": []
    },
    {
      "cell_type": "code",
      "source": [
        "model_3.summary()"
      ],
      "metadata": {
        "colab": {
          "base_uri": "https://localhost:8080/"
        },
        "id": "Lff4OofAcSjK",
        "outputId": "0223a66b-4732-473e-bc9f-e4d681bc09f7"
      },
      "execution_count": null,
      "outputs": [
        {
          "output_type": "stream",
          "name": "stdout",
          "text": [
            "Model: \"model_3_Conv1D_char_embedding\"\n",
            "_________________________________________________________________\n",
            " Layer (type)                Output Shape              Param #   \n",
            "=================================================================\n",
            " input_3 (InputLayer)        [(None, 1)]               0         \n",
            "                                                                 \n",
            " char_vectorizer (TextVector  (None, 290)              0         \n",
            " ization)                                                        \n",
            "                                                                 \n",
            " char_embed (Embedding)      (None, 290, 25)           1750      \n",
            "                                                                 \n",
            " conv1d_1 (Conv1D)           (None, 290, 64)           8064      \n",
            "                                                                 \n",
            " global_max_pooling1d (Globa  (None, 64)               0         \n",
            " lMaxPooling1D)                                                  \n",
            "                                                                 \n",
            " dense_3 (Dense)             (None, 5)                 325       \n",
            "                                                                 \n",
            "=================================================================\n",
            "Total params: 10,139\n",
            "Trainable params: 10,139\n",
            "Non-trainable params: 0\n",
            "_________________________________________________________________\n"
          ]
        }
      ]
    },
    {
      "cell_type": "code",
      "source": [
        "# Create char level prefetch dataset\n",
        "train_char_dataset = tf.data.Dataset.from_tensor_slices((train_chars, train_labels_one_hot)).batch(32).prefetch(tf.data.AUTOTUNE)\n",
        "val_char_dataset = tf.data.Dataset.from_tensor_slices((val_chars, val_labels_one_hot)).batch(32).prefetch(tf.data.AUTOTUNE)\n",
        "\n",
        "train_char_dataset"
      ],
      "metadata": {
        "colab": {
          "base_uri": "https://localhost:8080/"
        },
        "id": "myEl-hklcVYO",
        "outputId": "7caf5937-5526-4de5-ea71-0faab94417c3"
      },
      "execution_count": null,
      "outputs": [
        {
          "output_type": "execute_result",
          "data": {
            "text/plain": [
              "<PrefetchDataset element_spec=(TensorSpec(shape=(None,), dtype=tf.string, name=None), TensorSpec(shape=(None, 5), dtype=tf.float64, name=None))>"
            ]
          },
          "metadata": {},
          "execution_count": 68
        }
      ]
    },
    {
      "cell_type": "code",
      "source": [
        "history_model_3 = model_3.fit(x=train_char_dataset,\n",
        "                              epochs=3,\n",
        "                              steps_per_epoch=int(0.1 * len(train_char_dataset)),\n",
        "                              validation_data=val_char_dataset,\n",
        "                              validation_steps=int(0.1 * len(val_char_dataset)))"
      ],
      "metadata": {
        "colab": {
          "base_uri": "https://localhost:8080/"
        },
        "id": "eTcclhVFdn5S",
        "outputId": "7f585608-272a-40ca-91ec-57fd3b90ff80"
      },
      "execution_count": null,
      "outputs": [
        {
          "output_type": "stream",
          "name": "stdout",
          "text": [
            "Epoch 1/3\n",
            "562/562 [==============================] - 4s 6ms/step - loss: 1.2612 - accuracy: 0.4890 - val_loss: 1.0415 - val_accuracy: 0.5881\n",
            "Epoch 2/3\n",
            "562/562 [==============================] - 3s 5ms/step - loss: 1.0015 - accuracy: 0.5984 - val_loss: 0.9427 - val_accuracy: 0.6326\n",
            "Epoch 3/3\n",
            "562/562 [==============================] - 3s 6ms/step - loss: 0.9259 - accuracy: 0.6370 - val_loss: 0.8695 - val_accuracy: 0.6639\n"
          ]
        }
      ]
    },
    {
      "cell_type": "code",
      "source": [
        "model_3.evaluate(val_char_dataset)"
      ],
      "metadata": {
        "colab": {
          "base_uri": "https://localhost:8080/"
        },
        "id": "xqYxHphaeIZ6",
        "outputId": "3ce14471-18ad-4d4c-d557-4c08c93d56e5"
      },
      "execution_count": null,
      "outputs": [
        {
          "output_type": "stream",
          "name": "stdout",
          "text": [
            "945/945 [==============================] - 4s 4ms/step - loss: 0.8864 - accuracy: 0.6555\n"
          ]
        },
        {
          "output_type": "execute_result",
          "data": {
            "text/plain": [
              "[0.8864233493804932, 0.655501127243042]"
            ]
          },
          "metadata": {},
          "execution_count": 70
        }
      ]
    },
    {
      "cell_type": "code",
      "source": [
        "model_3_pred_probs = model_3.predict(val_char_dataset)\n",
        "model_3_pred_probs"
      ],
      "metadata": {
        "colab": {
          "base_uri": "https://localhost:8080/"
        },
        "id": "cqust08heXP2",
        "outputId": "57b41aef-1afc-4791-d1be-992ffa3fda23"
      },
      "execution_count": null,
      "outputs": [
        {
          "output_type": "stream",
          "name": "stdout",
          "text": [
            "945/945 [==============================] - 3s 3ms/step\n"
          ]
        },
        {
          "output_type": "execute_result",
          "data": {
            "text/plain": [
              "array([[0.19073394, 0.31212395, 0.16888037, 0.29404658, 0.03421513],\n",
              "       [0.15484625, 0.5917733 , 0.00655731, 0.19130374, 0.05551943],\n",
              "       [0.17633712, 0.10188666, 0.37478343, 0.2744039 , 0.07258891],\n",
              "       ...,\n",
              "       [0.02773403, 0.0632117 , 0.27672595, 0.02160899, 0.61071926],\n",
              "       [0.0309303 , 0.1018874 , 0.207101  , 0.04321761, 0.6168637 ],\n",
              "       [0.3833823 , 0.41076133, 0.07499465, 0.10069577, 0.0301661 ]],\n",
              "      dtype=float32)"
            ]
          },
          "metadata": {},
          "execution_count": 71
        }
      ]
    },
    {
      "cell_type": "code",
      "source": [
        "model_3_preds = tf.argmax(model_3_pred_probs, axis=1)\n",
        "model_3_preds"
      ],
      "metadata": {
        "colab": {
          "base_uri": "https://localhost:8080/"
        },
        "id": "77haS4ROeo95",
        "outputId": "acff1006-6e94-4577-a1dd-6d110187db9f"
      },
      "execution_count": null,
      "outputs": [
        {
          "output_type": "execute_result",
          "data": {
            "text/plain": [
              "<tf.Tensor: shape=(30212,), dtype=int64, numpy=array([1, 1, 2, ..., 4, 4, 1])>"
            ]
          },
          "metadata": {},
          "execution_count": 72
        }
      ]
    },
    {
      "cell_type": "code",
      "source": [
        "model_3_results = calculate_results(y_true=val_labels_encoded,\n",
        "                                    y_pred=model_3_preds)\n",
        "model_3_results"
      ],
      "metadata": {
        "colab": {
          "base_uri": "https://localhost:8080/"
        },
        "id": "eODnrJTCexw0",
        "outputId": "cb553d3f-a050-46c7-a0ab-f95ef16c24ef"
      },
      "execution_count": null,
      "outputs": [
        {
          "output_type": "execute_result",
          "data": {
            "text/plain": [
              "{'accuracy': 65.55011253806434,\n",
              " 'precision': 0.647686987586961,\n",
              " 'recall': 0.6555011253806434,\n",
              " 'f1': 0.6435294551852216}"
            ]
          },
          "metadata": {},
          "execution_count": 73
        }
      ]
    },
    {
      "cell_type": "markdown",
      "source": [
        "**Model 4:** pretrained token embeddings + pretrained character embeddings (hybrid embedding layer)\n",
        "1. Create a token level embedding (model_1)\n",
        "2. Create a character level embedding (model_3)\n",
        "3. Combine the outputs of model_1 & model_3 using layers.Concatenate\n",
        "4. Create a series of layers on top of concatenated layer https://arxiv.org/pdf/1612.05251.pdf\n",
        "5. Create model with token and character inputs and probabilities as output\n"
      ],
      "metadata": {
        "id": "wYtTCtwMf6eH"
      }
    },
    {
      "cell_type": "code",
      "source": [
        "# Token model\n",
        "token_inputs = layers.Input(shape=[], dtype=tf.string, name=\"token_inputs\")\n",
        "token_embeddings = tf_hub_embedding_layer(token_inputs)\n",
        "token_outputs = layers.Dense(128, activation=\"relu\")(token_embeddings)\n",
        "token_model = tf.keras.Model(inputs=token_inputs,\n",
        "                             outputs=token_outputs)\n",
        "\n",
        "# Char model\n",
        "char_inputs = layers.Input(shape=(1,), dtype=tf.string, name=\"char_inputs\")\n",
        "char_vectors = char_vectorizer(char_inputs)\n",
        "char_embeddings = char_embed(char_vectors)\n",
        "char_bi_lstm = layers.Bidirectional(layers.LSTM(25))(char_embeddings) # bi-LSTM shown in Figure 1 of https://arxiv.org/pdf/1612.05251.pdf\n",
        "char_model = tf.keras.Model(inputs=char_inputs,\n",
        "                            outputs=char_bi_lstm)\n",
        "\n",
        "# Concat\n",
        "token_char_concat = layers.Concatenate(name=\"token_char_hybrid\")([token_model.output,\n",
        "                                                                  char_model.output])\n",
        "\n",
        "# Create output layers - addition of dropout discussed in 4.2 of https://arxiv.org/pdf/1612.05251.pdf\n",
        "combined_dropout = layers.Dropout(0.5)(token_char_concat)\n",
        "combined_dense = layers.Dense(200, activation=\"relu\")(combined_dropout)\n",
        "final_dropout = layers.Dropout(0.5)(combined_dense)\n",
        "output_layer = layers.Dense(num_classes, activation=\"softmax\")(final_dropout)\n",
        "\n",
        "# Create model\n",
        "model_4 = tf.keras.Model(inputs=[token_model.input,\n",
        "                                 char_model.input],\n",
        "                         outputs=output_layer,\n",
        "                         name=\"model_4_token_char_embeddings\")"
      ],
      "metadata": {
        "id": "BKBrOOsMfRoW"
      },
      "execution_count": null,
      "outputs": []
    },
    {
      "cell_type": "code",
      "source": [
        "model_4.summary()"
      ],
      "metadata": {
        "colab": {
          "base_uri": "https://localhost:8080/"
        },
        "id": "SwDkpFTYg7mn",
        "outputId": "e70ccc5c-f3dc-4b60-9a9e-81d6d246946e"
      },
      "execution_count": null,
      "outputs": [
        {
          "output_type": "stream",
          "name": "stdout",
          "text": [
            "Model: \"model_4_token_char_embeddings\"\n",
            "__________________________________________________________________________________________________\n",
            " Layer (type)                   Output Shape         Param #     Connected to                     \n",
            "==================================================================================================\n",
            " char_inputs (InputLayer)       [(None, 1)]          0           []                               \n",
            "                                                                                                  \n",
            " token_inputs (InputLayer)      [(None,)]            0           []                               \n",
            "                                                                                                  \n",
            " char_vectorizer (TextVectoriza  (None, 290)         0           ['char_inputs[0][0]']            \n",
            " tion)                                                                                            \n",
            "                                                                                                  \n",
            " universal_sentence_encoder (Ke  (None, 512)         256797824   ['token_inputs[0][0]']           \n",
            " rasLayer)                                                                                        \n",
            "                                                                                                  \n",
            " char_embed (Embedding)         (None, 290, 25)      1750        ['char_vectorizer[1][0]']        \n",
            "                                                                                                  \n",
            " dense_4 (Dense)                (None, 128)          65664       ['universal_sentence_encoder[1][0\n",
            "                                                                 ]']                              \n",
            "                                                                                                  \n",
            " bidirectional (Bidirectional)  (None, 50)           10200       ['char_embed[1][0]']             \n",
            "                                                                                                  \n",
            " token_char_hybrid (Concatenate  (None, 178)         0           ['dense_4[0][0]',                \n",
            " )                                                                'bidirectional[0][0]']          \n",
            "                                                                                                  \n",
            " dropout (Dropout)              (None, 178)          0           ['token_char_hybrid[0][0]']      \n",
            "                                                                                                  \n",
            " dense_5 (Dense)                (None, 200)          35800       ['dropout[0][0]']                \n",
            "                                                                                                  \n",
            " dropout_1 (Dropout)            (None, 200)          0           ['dense_5[0][0]']                \n",
            "                                                                                                  \n",
            " dense_6 (Dense)                (None, 5)            1005        ['dropout_1[0][0]']              \n",
            "                                                                                                  \n",
            "==================================================================================================\n",
            "Total params: 256,912,243\n",
            "Trainable params: 114,419\n",
            "Non-trainable params: 256,797,824\n",
            "__________________________________________________________________________________________________\n"
          ]
        }
      ]
    },
    {
      "cell_type": "code",
      "source": [
        "# Visualize\n",
        "from tensorflow.keras.utils import plot_model\n",
        "plot_model(model_4)"
      ],
      "metadata": {
        "colab": {
          "base_uri": "https://localhost:8080/",
          "height": 856
        },
        "id": "TeCejVKbg9eX",
        "outputId": "28a2b048-f1f1-4190-8bb4-937d8730ffa8"
      },
      "execution_count": null,
      "outputs": [
        {
          "output_type": "execute_result",
          "data": {
            "image/png": "[encoded data removed]",
            "text/plain": [
              "<IPython.core.display.Image object>"
            ]
          },
          "metadata": {},
          "execution_count": 76
        }
      ]
    },
    {
      "cell_type": "code",
      "source": [
        "# Compile\n",
        "model_4.compile(optimizer=tf.keras.optimizers.Adam(),\n",
        "                loss=\"categorical_crossentropy\",\n",
        "                metrics=[\"accuracy\"])"
      ],
      "metadata": {
        "id": "5E5zSajKhU-L"
      },
      "execution_count": null,
      "outputs": []
    },
    {
      "cell_type": "code",
      "source": [
        "# Combine char and token in a dataset\n",
        "train_char_token_data = tf.data.Dataset.from_tensor_slices((train_sentences, train_chars))\n",
        "train_char_token_labels = tf.data.Dataset.from_tensor_slices(train_labels_one_hot)\n",
        "train_char_token_dataset = tf.data.Dataset.zip((train_char_token_data, train_char_token_labels))"
      ],
      "metadata": {
        "id": "jevroQkmh_gt"
      },
      "execution_count": null,
      "outputs": []
    },
    {
      "cell_type": "code",
      "source": [
        "# Prefetch and batch train data\n",
        "train_char_token_dataset = train_char_token_dataset.batch(32).prefetch(tf.data.AUTOTUNE)"
      ],
      "metadata": {
        "id": "k8iK8XKXj1L8"
      },
      "execution_count": null,
      "outputs": []
    },
    {
      "cell_type": "code",
      "source": [
        "# Batch and prefetch validation data\n",
        "val_char_token_data = tf.data.Dataset.from_tensor_slices((val_sentences, val_chars))\n",
        "val_char_token_labels = tf.data.Dataset.from_tensor_slices(val_labels_one_hot)\n",
        "val_char_token_dataset = tf.data.Dataset.zip((val_char_token_data, val_char_token_labels))\n",
        "val_char_token_dataset = val_char_token_dataset.batch(32).prefetch(tf.data.AUTOTUNE)"
      ],
      "metadata": {
        "id": "ZlKudQKzk8Wt"
      },
      "execution_count": null,
      "outputs": []
    },
    {
      "cell_type": "code",
      "source": [
        "# Fit\n",
        "model_4_history = model_4.fit(train_char_token_dataset,\n",
        "                              steps_per_epoch=int(0.1 * len(train_char_token_dataset)),\n",
        "                              epochs=3,\n",
        "                              validation_data=val_char_token_dataset,\n",
        "                              validation_steps=int(0.1 * len(val_char_token_dataset)))"
      ],
      "metadata": {
        "colab": {
          "base_uri": "https://localhost:8080/"
        },
        "id": "-fM5_iQXl2B2",
        "outputId": "68f002a9-08a2-4059-c8f4-00b19effeb5b"
      },
      "execution_count": null,
      "outputs": [
        {
          "output_type": "stream",
          "name": "stdout",
          "text": [
            "Epoch 1/3\n",
            "562/562 [==============================] - 29s 43ms/step - loss: 0.9642 - accuracy: 0.6145 - val_loss: 0.7776 - val_accuracy: 0.6981\n",
            "Epoch 2/3\n",
            "562/562 [==============================] - 28s 49ms/step - loss: 0.7942 - accuracy: 0.6947 - val_loss: 0.7091 - val_accuracy: 0.7324\n",
            "Epoch 3/3\n",
            "562/562 [==============================] - 26s 45ms/step - loss: 0.7689 - accuracy: 0.7053 - val_loss: 0.6907 - val_accuracy: 0.7380\n"
          ]
        }
      ]
    },
    {
      "cell_type": "code",
      "source": [
        "model_4.evaluate(val_char_token_dataset)"
      ],
      "metadata": {
        "colab": {
          "base_uri": "https://localhost:8080/"
        },
        "id": "EbW-P4Qnmbqj",
        "outputId": "58831332-4789-4e7d-b342-2eecdc6aab76"
      },
      "execution_count": null,
      "outputs": [
        {
          "output_type": "stream",
          "name": "stdout",
          "text": [
            "945/945 [==============================] - 30s 32ms/step - loss: 0.6930 - accuracy: 0.7339\n"
          ]
        },
        {
          "output_type": "execute_result",
          "data": {
            "text/plain": [
              "[0.6929764151573181, 0.7339136600494385]"
            ]
          },
          "metadata": {},
          "execution_count": 82
        }
      ]
    },
    {
      "cell_type": "code",
      "source": [
        "model_4_pred_probs = model_4.predict(val_char_token_dataset)\n",
        "model_4_pred_probs"
      ],
      "metadata": {
        "colab": {
          "base_uri": "https://localhost:8080/"
        },
        "id": "GxHrTtgxmoNI",
        "outputId": "19648a17-6675-46f4-b524-a7c529700825"
      },
      "execution_count": null,
      "outputs": [
        {
          "output_type": "stream",
          "name": "stdout",
          "text": [
            "945/945 [==============================] - 22s 22ms/step\n"
          ]
        },
        {
          "output_type": "execute_result",
          "data": {
            "text/plain": [
              "array([[4.6466997e-01, 2.9067549e-01, 2.5814699e-03, 2.3366107e-01,\n",
              "        8.4119597e-03],\n",
              "       [3.4228364e-01, 4.6081737e-01, 2.4462438e-03, 1.9220866e-01,\n",
              "        2.2441680e-03],\n",
              "       [3.2507840e-01, 9.1329262e-02, 4.1223250e-02, 5.1282269e-01,\n",
              "        2.9546445e-02],\n",
              "       ...,\n",
              "       [8.7544677e-04, 6.3222409e-03, 4.9248297e-02, 2.7351844e-04,\n",
              "        9.4328052e-01],\n",
              "       [5.8404473e-03, 6.3533112e-02, 1.6442190e-01, 2.2370967e-03,\n",
              "        7.6396745e-01],\n",
              "       [2.8309169e-01, 4.0690666e-01, 2.3041908e-01, 3.9594531e-02,\n",
              "        3.9987970e-02]], dtype=float32)"
            ]
          },
          "metadata": {},
          "execution_count": 83
        }
      ]
    },
    {
      "cell_type": "code",
      "source": [
        "model_4_preds = tf.argmax(model_4_pred_probs, axis=1)\n",
        "model_4_preds"
      ],
      "metadata": {
        "colab": {
          "base_uri": "https://localhost:8080/"
        },
        "id": "20jpSuPKmwoP",
        "outputId": "aeedae96-fd42-4cd2-9dce-8dcac4237fe1"
      },
      "execution_count": null,
      "outputs": [
        {
          "output_type": "execute_result",
          "data": {
            "text/plain": [
              "<tf.Tensor: shape=(30212,), dtype=int64, numpy=array([0, 1, 3, ..., 4, 4, 1])>"
            ]
          },
          "metadata": {},
          "execution_count": 84
        }
      ]
    },
    {
      "cell_type": "code",
      "source": [
        "model_4_results = calculate_results(y_true=val_labels_encoded,\n",
        "                                    y_pred=model_4_preds)\n",
        "model_4_results"
      ],
      "metadata": {
        "colab": {
          "base_uri": "https://localhost:8080/"
        },
        "id": "PwiAk9hWm5Qc",
        "outputId": "23883df6-6b3a-4df6-f1c4-5e24d149fda1"
      },
      "execution_count": null,
      "outputs": [
        {
          "output_type": "execute_result",
          "data": {
            "text/plain": [
              "{'accuracy': 73.39136766847611,\n",
              " 'precision': 0.735543378379661,\n",
              " 'recall': 0.733913676684761,\n",
              " 'f1': 0.7318795346401119}"
            ]
          },
          "metadata": {},
          "execution_count": 85
        }
      ]
    },
    {
      "cell_type": "markdown",
      "source": [
        "**Model 5: Transfer learning + token embeddings + character embeddings + positional embeddings**"
      ],
      "metadata": {
        "id": "q_jzqUKinXpO"
      }
    },
    {
      "cell_type": "markdown",
      "source": [
        "We are going to teach the model something that we know. We know in a paragrah, the headings usually come in sequence,\n",
        "\n",
        "- OBJECTIVE ...\n",
        "- METHODS ...\n",
        "- METHODS ...\n",
        "- METHODS ...\n",
        "- RESULTS ...\n",
        "- CONCLUSIONS ...\n",
        "\n",
        "Or\n",
        "\n",
        "- BACKGROUND ...\n",
        "- OBJECTIVE ...\n",
        "- METHODS ...\n",
        "- METHODS ...\n",
        "- RESULTS ...\n",
        "- RESULTS ...\n",
        "- CONCLUSIONS ...\n",
        "- CONCLUSIONS ..."
      ],
      "metadata": {
        "id": "dNX2fCm5xUwC"
      }
    },
    {
      "cell_type": "code",
      "source": [
        "# Inspect training dataframe\n",
        "train_df.head()"
      ],
      "metadata": {
        "colab": {
          "base_uri": "https://localhost:8080/",
          "height": 206
        },
        "id": "cHZiu7pbnJHw",
        "outputId": "8c93661a-69bf-4250-81e5-f19e8c9708aa"
      },
      "execution_count": null,
      "outputs": [
        {
          "output_type": "execute_result",
          "data": {
            "text/plain": [
              "      target                                               text  line_number  \\\n",
              "0  OBJECTIVE  To investigate the efficacy of @ weeks of dail...            0   \n",
              "1    METHODS  A total of @ patients with primary knee OA wer...            1   \n",
              "2    METHODS  Outcome measures included pain reduction and i...            2   \n",
              "3    METHODS  Pain was assessed using the visual analog pain...            3   \n",
              "4    METHODS  Secondary outcome measures included the Wester...            4   \n",
              "\n",
              "   total_lines  \n",
              "0           12  \n",
              "1           12  \n",
              "2           12  \n",
              "3           12  \n",
              "4           12  "
            ],
            "text/html": [
              "\n",
              "  <div id=\"df-092d34df-5895-42dd-b83d-e94721651e4e\">\n",
              "    <div class=\"colab-df-container\">\n",
              "      <div>\n",
              "<style scoped>\n",
              "    .dataframe tbody tr th:only-of-type {\n",
              "        vertical-align: middle;\n",
              "    }\n",
              "\n",
              "    .dataframe tbody tr th {\n",
              "        vertical-align: top;\n",
              "    }\n",
              "\n",
              "    .dataframe thead th {\n",
              "        text-align: right;\n",
              "    }\n",
              "</style>\n",
              "<table border=\"1\" class=\"dataframe\">\n",
              "  <thead>\n",
              "    <tr style=\"text-align: right;\">\n",
              "      <th></th>\n",
              "      <th>target</th>\n",
              "      <th>text</th>\n",
              "      <th>line_number</th>\n",
              "      <th>total_lines</th>\n",
              "    </tr>\n",
              "  </thead>\n",
              "  <tbody>\n",
              "    <tr>\n",
              "      <th>0</th>\n",
              "      <td>OBJECTIVE</td>\n",
              "      <td>To investigate the efficacy of @ weeks of dail...</td>\n",
              "      <td>0</td>\n",
              "      <td>12</td>\n",
              "    </tr>\n",
              "    <tr>\n",
              "      <th>1</th>\n",
              "      <td>METHODS</td>\n",
              "      <td>A total of @ patients with primary knee OA wer...</td>\n",
              "      <td>1</td>\n",
              "      <td>12</td>\n",
              "    </tr>\n",
              "    <tr>\n",
              "      <th>2</th>\n",
              "      <td>METHODS</td>\n",
              "      <td>Outcome measures included pain reduction and i...</td>\n",
              "      <td>2</td>\n",
              "      <td>12</td>\n",
              "    </tr>\n",
              "    <tr>\n",
              "      <th>3</th>\n",
              "      <td>METHODS</td>\n",
              "      <td>Pain was assessed using the visual analog pain...</td>\n",
              "      <td>3</td>\n",
              "      <td>12</td>\n",
              "    </tr>\n",
              "    <tr>\n",
              "      <th>4</th>\n",
              "      <td>METHODS</td>\n",
              "      <td>Secondary outcome measures included the Wester...</td>\n",
              "      <td>4</td>\n",
              "      <td>12</td>\n",
              "    </tr>\n",
              "  </tbody>\n",
              "</table>\n",
              "</div>\n",
              "      <button class=\"colab-df-convert\" onclick=\"convertToInteractive('df-092d34df-5895-42dd-b83d-e94721651e4e')\"\n",
              "              title=\"Convert this dataframe to an interactive table.\"\n",
              "              style=\"display:none;\">\n",
              "        \n",
              "  <svg xmlns=\"http://www.w3.org/2000/svg\" height=\"24px\"viewBox=\"0 0 24 24\"\n",
              "       width=\"24px\">\n",
              "    <path d=\"M0 0h24v24H0V0z\" fill=\"none\"/>\n",
              "    <path d=\"M18.56 5.44l.94 2.06.94-2.06 2.06-.94-2.06-.94-.94-2.06-.94 2.06-2.06.94zm-11 1L8.5 8.5l.94-2.06 2.06-.94-2.06-.94L8.5 2.5l-.94 2.06-2.06.94zm10 10l.94 2.06.94-2.06 2.06-.94-2.06-.94-.94-2.06-.94 2.06-2.06.94z\"/><path d=\"M17.41 7.96l-1.37-1.37c-.4-.4-.92-.59-1.43-.59-.52 0-1.04.2-1.43.59L10.3 9.45l-7.72 7.72c-.78.78-.78 2.05 0 2.83L4 21.41c.39.39.9.59 1.41.59.51 0 1.02-.2 1.41-.59l7.78-7.78 2.81-2.81c.8-.78.8-2.07 0-2.86zM5.41 20L4 18.59l7.72-7.72 1.47 1.35L5.41 20z\"/>\n",
              "  </svg>\n",
              "      </button>\n",
              "      \n",
              "  <style>\n",
              "    .colab-df-container {\n",
              "      display:flex;\n",
              "      flex-wrap:wrap;\n",
              "      gap: 12px;\n",
              "    }\n",
              "\n",
              "    .colab-df-convert {\n",
              "      background-color: #E8F0FE;\n",
              "      border: none;\n",
              "      border-radius: 50%;\n",
              "      cursor: pointer;\n",
              "      display: none;\n",
              "      fill: #1967D2;\n",
              "      height: 32px;\n",
              "      padding: 0 0 0 0;\n",
              "      width: 32px;\n",
              "    }\n",
              "\n",
              "    .colab-df-convert:hover {\n",
              "      background-color: #E2EBFA;\n",
              "      box-shadow: 0px 1px 2px rgba(60, 64, 67, 0.3), 0px 1px 3px 1px rgba(60, 64, 67, 0.15);\n",
              "      fill: #174EA6;\n",
              "    }\n",
              "\n",
              "    [theme=dark] .colab-df-convert {\n",
              "      background-color: #3B4455;\n",
              "      fill: #D2E3FC;\n",
              "    }\n",
              "\n",
              "    [theme=dark] .colab-df-convert:hover {\n",
              "      background-color: #434B5C;\n",
              "      box-shadow: 0px 1px 3px 1px rgba(0, 0, 0, 0.15);\n",
              "      filter: drop-shadow(0px 1px 2px rgba(0, 0, 0, 0.3));\n",
              "      fill: #FFFFFF;\n",
              "    }\n",
              "  </style>\n",
              "\n",
              "      <script>\n",
              "        const buttonEl =\n",
              "          document.querySelector('#df-092d34df-5895-42dd-b83d-e94721651e4e button.colab-df-convert');\n",
              "        buttonEl.style.display =\n",
              "          google.colab.kernel.accessAllowed ? 'block' : 'none';\n",
              "\n",
              "        async function convertToInteractive(key) {\n",
              "          const element = document.querySelector('#df-092d34df-5895-42dd-b83d-e94721651e4e');\n",
              "          const dataTable =\n",
              "            await google.colab.kernel.invokeFunction('convertToInteractive',\n",
              "                                                     [key], {});\n",
              "          if (!dataTable) return;\n",
              "\n",
              "          const docLinkHtml = 'Like what you see? Visit the ' +\n",
              "            '<a target=\"_blank\" href=https://colab.research.google.com/notebooks/data_table.ipynb>data table notebook</a>'\n",
              "            + ' to learn more about interactive tables.';\n",
              "          element.innerHTML = '';\n",
              "          dataTable['output_type'] = 'display_data';\n",
              "          await google.colab.output.renderOutput(dataTable, element);\n",
              "          const docLink = document.createElement('div');\n",
              "          docLink.innerHTML = docLinkHtml;\n",
              "          element.appendChild(docLink);\n",
              "        }\n",
              "      </script>\n",
              "    </div>\n",
              "  </div>\n",
              "  "
            ]
          },
          "metadata": {},
          "execution_count": 86
        }
      ]
    },
    {
      "cell_type": "markdown",
      "source": [
        "We will use \"line_number\" and \"total_lines\" as positional embeddings"
      ],
      "metadata": {
        "id": "XBTRxcgyyHSr"
      }
    },
    {
      "cell_type": "code",
      "source": [
        "# Plot how many lines in a paragraph\n",
        "train_df.line_number.plot.hist()"
      ],
      "metadata": {
        "colab": {
          "base_uri": "https://localhost:8080/",
          "height": 283
        },
        "id": "yI0VtTSZyBoo",
        "outputId": "65c633ca-0fd0-4e2a-ef79-1f9c8263de52"
      },
      "execution_count": null,
      "outputs": [
        {
          "output_type": "execute_result",
          "data": {
            "text/plain": [
              "<matplotlib.axes._subplots.AxesSubplot at 0x7fa4bdeb1730>"
            ]
          },
          "metadata": {},
          "execution_count": 87
        },
        {
          "output_type": "display_data",
          "data": {
            "text/plain": [
              "<Figure size 432x288 with 1 Axes>"
            ],
            "image/png": "[encoded data removed]"
          },
          "metadata": {
            "needs_background": "light"
          }
        }
      ]
    },
    {
      "cell_type": "markdown",
      "source": [
        "Looks like most of the paragraphs are 15 lines or less"
      ],
      "metadata": {
        "id": "l_PbN3sI1N3I"
      }
    },
    {
      "cell_type": "code",
      "source": [
        "# One-hot-encode line numbers\n",
        "train_line_numbers_one_hot = tf.one_hot(train_df[\"line_number\"].to_numpy(), depth=15)\n",
        "val_line_numbers_one_hot = tf.one_hot(val_df[\"line_number\"].to_numpy(), depth=15)\n",
        "test_line_numbers_one_hot = tf.one_hot(test_df[\"line_number\"].to_numpy(), depth=15)"
      ],
      "metadata": {
        "id": "cVkupAdQ077H"
      },
      "execution_count": null,
      "outputs": []
    },
    {
      "cell_type": "code",
      "source": [
        "train_line_numbers_one_hot.shape, train_line_numbers_one_hot[:20]"
      ],
      "metadata": {
        "colab": {
          "base_uri": "https://localhost:8080/"
        },
        "id": "Pos3GaZI2HqT",
        "outputId": "339ea1e1-402d-48a6-c8bb-fe8cdd46cc5b"
      },
      "execution_count": null,
      "outputs": [
        {
          "output_type": "execute_result",
          "data": {
            "text/plain": [
              "(TensorShape([180040, 15]), <tf.Tensor: shape=(20, 15), dtype=float32, numpy=\n",
              " array([[1., 0., 0., 0., 0., 0., 0., 0., 0., 0., 0., 0., 0., 0., 0.],\n",
              "        [0., 1., 0., 0., 0., 0., 0., 0., 0., 0., 0., 0., 0., 0., 0.],\n",
              "        [0., 0., 1., 0., 0., 0., 0., 0., 0., 0., 0., 0., 0., 0., 0.],\n",
              "        [0., 0., 0., 1., 0., 0., 0., 0., 0., 0., 0., 0., 0., 0., 0.],\n",
              "        [0., 0., 0., 0., 1., 0., 0., 0., 0., 0., 0., 0., 0., 0., 0.],\n",
              "        [0., 0., 0., 0., 0., 1., 0., 0., 0., 0., 0., 0., 0., 0., 0.],\n",
              "        [0., 0., 0., 0., 0., 0., 1., 0., 0., 0., 0., 0., 0., 0., 0.],\n",
              "        [0., 0., 0., 0., 0., 0., 0., 1., 0., 0., 0., 0., 0., 0., 0.],\n",
              "        [0., 0., 0., 0., 0., 0., 0., 0., 1., 0., 0., 0., 0., 0., 0.],\n",
              "        [0., 0., 0., 0., 0., 0., 0., 0., 0., 1., 0., 0., 0., 0., 0.],\n",
              "        [0., 0., 0., 0., 0., 0., 0., 0., 0., 0., 1., 0., 0., 0., 0.],\n",
              "        [0., 0., 0., 0., 0., 0., 0., 0., 0., 0., 0., 1., 0., 0., 0.],\n",
              "        [1., 0., 0., 0., 0., 0., 0., 0., 0., 0., 0., 0., 0., 0., 0.],\n",
              "        [0., 1., 0., 0., 0., 0., 0., 0., 0., 0., 0., 0., 0., 0., 0.],\n",
              "        [0., 0., 1., 0., 0., 0., 0., 0., 0., 0., 0., 0., 0., 0., 0.],\n",
              "        [0., 0., 0., 1., 0., 0., 0., 0., 0., 0., 0., 0., 0., 0., 0.],\n",
              "        [0., 0., 0., 0., 1., 0., 0., 0., 0., 0., 0., 0., 0., 0., 0.],\n",
              "        [0., 0., 0., 0., 0., 1., 0., 0., 0., 0., 0., 0., 0., 0., 0.],\n",
              "        [0., 0., 0., 0., 0., 0., 1., 0., 0., 0., 0., 0., 0., 0., 0.],\n",
              "        [0., 0., 0., 0., 0., 0., 0., 1., 0., 0., 0., 0., 0., 0., 0.]],\n",
              "       dtype=float32)>)"
            ]
          },
          "metadata": {},
          "execution_count": 89
        }
      ]
    },
    {
      "cell_type": "markdown",
      "source": [
        "It goes back after 15th column"
      ],
      "metadata": {
        "id": "ArS_6lJ_2uCm"
      }
    },
    {
      "cell_type": "code",
      "source": [
        "# Check the same for total_lines\n",
        "train_df.total_lines.plot.hist()"
      ],
      "metadata": {
        "colab": {
          "base_uri": "https://localhost:8080/",
          "height": 285
        },
        "id": "Fjo0cohZ2k4c",
        "outputId": "f3218b89-a137-4eb5-9e93-635abd2d4e49"
      },
      "execution_count": null,
      "outputs": [
        {
          "output_type": "execute_result",
          "data": {
            "text/plain": [
              "<matplotlib.axes._subplots.AxesSubplot at 0x7fa4bd66b160>"
            ]
          },
          "metadata": {},
          "execution_count": 90
        },
        {
          "output_type": "display_data",
          "data": {
            "text/plain": [
              "<Figure size 432x288 with 1 Axes>"
            ],
            "image/png": "[encoded data removed]"
          },
          "metadata": {
            "needs_background": "light"
          }
        }
      ]
    },
    {
      "cell_type": "markdown",
      "source": [
        "Looks like depth of 20 is most appropriate"
      ],
      "metadata": {
        "id": "iS_n7TDn3KtO"
      }
    },
    {
      "cell_type": "code",
      "source": [
        "# Check the percentile\n",
        "int(np.percentile(train_df.total_lines, 98))"
      ],
      "metadata": {
        "colab": {
          "base_uri": "https://localhost:8080/"
        },
        "id": "Yj3ETevA3JYa",
        "outputId": "9668d1e8-1f68-4f85-f8ac-d2356979b7ef"
      },
      "execution_count": null,
      "outputs": [
        {
          "output_type": "execute_result",
          "data": {
            "text/plain": [
              "21"
            ]
          },
          "metadata": {},
          "execution_count": 91
        }
      ]
    },
    {
      "cell_type": "code",
      "source": [
        "train_total_lines_one_hot = tf.one_hot(train_df[\"total_lines\"].to_numpy(), depth=20)\n",
        "val_total_lines_one_hot = tf.one_hot(val_df[\"total_lines\"].to_numpy(), depth=20)\n",
        "test_total_lines_one_hot = tf.one_hot(test_df[\"total_lines\"].to_numpy(), depth=20)"
      ],
      "metadata": {
        "id": "rs9-e1K93eDt"
      },
      "execution_count": null,
      "outputs": []
    },
    {
      "cell_type": "code",
      "source": [
        "train_total_lines_one_hot.shape, train_total_lines_one_hot[:10]"
      ],
      "metadata": {
        "colab": {
          "base_uri": "https://localhost:8080/"
        },
        "id": "MYen_SP95c28",
        "outputId": "7475ba32-d335-4374-812c-61f5c8222eac"
      },
      "execution_count": null,
      "outputs": [
        {
          "output_type": "execute_result",
          "data": {
            "text/plain": [
              "(TensorShape([180040, 20]), <tf.Tensor: shape=(10, 20), dtype=float32, numpy=\n",
              " array([[0., 0., 0., 0., 0., 0., 0., 0., 0., 0., 0., 0., 1., 0., 0., 0.,\n",
              "         0., 0., 0., 0.],\n",
              "        [0., 0., 0., 0., 0., 0., 0., 0., 0., 0., 0., 0., 1., 0., 0., 0.,\n",
              "         0., 0., 0., 0.],\n",
              "        [0., 0., 0., 0., 0., 0., 0., 0., 0., 0., 0., 0., 1., 0., 0., 0.,\n",
              "         0., 0., 0., 0.],\n",
              "        [0., 0., 0., 0., 0., 0., 0., 0., 0., 0., 0., 0., 1., 0., 0., 0.,\n",
              "         0., 0., 0., 0.],\n",
              "        [0., 0., 0., 0., 0., 0., 0., 0., 0., 0., 0., 0., 1., 0., 0., 0.,\n",
              "         0., 0., 0., 0.],\n",
              "        [0., 0., 0., 0., 0., 0., 0., 0., 0., 0., 0., 0., 1., 0., 0., 0.,\n",
              "         0., 0., 0., 0.],\n",
              "        [0., 0., 0., 0., 0., 0., 0., 0., 0., 0., 0., 0., 1., 0., 0., 0.,\n",
              "         0., 0., 0., 0.],\n",
              "        [0., 0., 0., 0., 0., 0., 0., 0., 0., 0., 0., 0., 1., 0., 0., 0.,\n",
              "         0., 0., 0., 0.],\n",
              "        [0., 0., 0., 0., 0., 0., 0., 0., 0., 0., 0., 0., 1., 0., 0., 0.,\n",
              "         0., 0., 0., 0.],\n",
              "        [0., 0., 0., 0., 0., 0., 0., 0., 0., 0., 0., 0., 1., 0., 0., 0.,\n",
              "         0., 0., 0., 0.]], dtype=float32)>)"
            ]
          },
          "metadata": {},
          "execution_count": 93
        }
      ]
    },
    {
      "cell_type": "markdown",
      "source": [
        "**Steps:**\n",
        "1. Create a token model (model_1)\n",
        "2. Create a character model (model_3)\n",
        "3. Create a line_numbers model\n",
        "4. Create a total_lines model\n",
        "5. Combine output of 1 & 2 (token character hybrid)\n",
        "6. Combine 3, 4 & 5 (token, character, positional hybrid)\n",
        "7. Create output layer that accepts combined embedding\n",
        "8. Create a model with inputs 1, 2, 3, 4 and outputs of 7"
      ],
      "metadata": {
        "id": "sn1othXJ6HhU"
      }
    },
    {
      "cell_type": "code",
      "source": [
        "# Token embedding\n",
        "token_inputs = layers.Input(shape=[], dtype=\"string\", name=\"token_inputs\")\n",
        "token_embeddings = tf_hub_embedding_layer(token_inputs)\n",
        "token_outputs = layers.Dense(128, activation=\"relu\")(token_embeddings)\n",
        "token_model = tf.keras.Model(inputs=token_inputs,\n",
        "                             outputs=token_outputs)\n",
        "\n",
        "# Char embedding\n",
        "char_inputs = layers.Input(shape=(1,), dtype=\"string\", name=\"char_inputs\")\n",
        "char_vector = char_vectorizer(char_inputs)\n",
        "char_embeddings = char_embed(char_vector)\n",
        "char_bi_lstm = layers.Bidirectional(layers.LSTM(32))(char_embeddings)\n",
        "char_model = tf.keras.Model(inputs=char_inputs,\n",
        "                            outputs=char_bi_lstm)"
      ],
      "metadata": {
        "id": "dvyxe0855mx4"
      },
      "execution_count": null,
      "outputs": []
    },
    {
      "cell_type": "code",
      "source": [
        "# Line numbers inputs\n",
        "line_number_inputs = layers.Input(shape=(15,), dtype=tf.int32, name=\"line_number_inputs\")\n",
        "line_number_outputs = layers.Dense(32, activation=\"relu\")(line_number_inputs)\n",
        "line_number_model = tf.keras.Model(inputs=line_number_inputs,\n",
        "                                   outputs=line_number_outputs)\n",
        "\n",
        "# Total line inputs\n",
        "total_lines_inputs = layers.Input(shape=(20,), dtype=tf.int32, name=\"total_lines_inputs\")\n",
        "total_lines_outputs = layers.Dense(32, activation=\"relu\")(total_lines_inputs)\n",
        "total_lines_model = tf.keras.Model(inputs=total_lines_inputs,\n",
        "                                   outputs=total_lines_outputs)"
      ],
      "metadata": {
        "id": "i2231ncTozSD"
      },
      "execution_count": null,
      "outputs": []
    },
    {
      "cell_type": "code",
      "source": [
        "# Hybrid embedding\n",
        "combined_embeddings = layers.Concatenate(name=\"token_char_hybrid_embedding\")([token_model.output,\n",
        "                                                                              char_model.output])"
      ],
      "metadata": {
        "id": "_PXxUDofqXeS"
      },
      "execution_count": null,
      "outputs": []
    },
    {
      "cell_type": "code",
      "source": [
        "x = layers.Dense(256, activation=\"relu\")(combined_embeddings)\n",
        "x = layers.Dropout(0.5)(x)"
      ],
      "metadata": {
        "id": "Rpslz9fZtzdX"
      },
      "execution_count": null,
      "outputs": []
    },
    {
      "cell_type": "code",
      "source": [
        "# Combine token, char & positional embedding\n",
        "x = layers.Concatenate(name=\"token_char_positional_embedding\")([line_number_model.output,\n",
        "                                                                total_lines_model.output,\n",
        "                                                                x])"
      ],
      "metadata": {
        "id": "5IHi8Ji7ucGC"
      },
      "execution_count": null,
      "outputs": []
    },
    {
      "cell_type": "code",
      "source": [
        "# Output layer\n",
        "output_layer = layers.Dense(5, activation=\"softmax\", name=\"output_layer\")(x)"
      ],
      "metadata": {
        "id": "Ae7z-w0su3ek"
      },
      "execution_count": null,
      "outputs": []
    },
    {
      "cell_type": "code",
      "source": [
        "# Create model\n",
        "model_5 = tf.keras.Model(inputs=[line_number_model.input,\n",
        "                                 total_lines_model.input,\n",
        "                                 token_model.input,\n",
        "                                 char_model.input],\n",
        "                         outputs=output_layer)"
      ],
      "metadata": {
        "id": "fOsKKjTnvLxy"
      },
      "execution_count": null,
      "outputs": []
    },
    {
      "cell_type": "code",
      "source": [
        "model_5.summary()"
      ],
      "metadata": {
        "colab": {
          "base_uri": "https://localhost:8080/"
        },
        "id": "BZ2N6blVvokI",
        "outputId": "f23b72ab-27d7-4ef3-dc56-206aec9eaa9d"
      },
      "execution_count": null,
      "outputs": [
        {
          "output_type": "stream",
          "name": "stdout",
          "text": [
            "Model: \"model_8\"\n",
            "__________________________________________________________________________________________________\n",
            " Layer (type)                   Output Shape         Param #     Connected to                     \n",
            "==================================================================================================\n",
            " char_inputs (InputLayer)       [(None, 1)]          0           []                               \n",
            "                                                                                                  \n",
            " token_inputs (InputLayer)      [(None,)]            0           []                               \n",
            "                                                                                                  \n",
            " char_vectorizer (TextVectoriza  (None, 290)         0           ['char_inputs[0][0]']            \n",
            " tion)                                                                                            \n",
            "                                                                                                  \n",
            " universal_sentence_encoder (Ke  (None, 512)         256797824   ['token_inputs[0][0]']           \n",
            " rasLayer)                                                                                        \n",
            "                                                                                                  \n",
            " char_embed (Embedding)         (None, 290, 25)      1750        ['char_vectorizer[2][0]']        \n",
            "                                                                                                  \n",
            " dense_7 (Dense)                (None, 128)          65664       ['universal_sentence_encoder[2][0\n",
            "                                                                 ]']                              \n",
            "                                                                                                  \n",
            " bidirectional_1 (Bidirectional  (None, 64)          14848       ['char_embed[2][0]']             \n",
            " )                                                                                                \n",
            "                                                                                                  \n",
            " token_char_hybrid_embedding (C  (None, 192)         0           ['dense_7[0][0]',                \n",
            " oncatenate)                                                      'bidirectional_1[0][0]']        \n",
            "                                                                                                  \n",
            " line_number_inputs (InputLayer  [(None, 15)]        0           []                               \n",
            " )                                                                                                \n",
            "                                                                                                  \n",
            " total_lines_inputs (InputLayer  [(None, 20)]        0           []                               \n",
            " )                                                                                                \n",
            "                                                                                                  \n",
            " dense_10 (Dense)               (None, 256)          49408       ['token_char_hybrid_embedding[0][\n",
            "                                                                 0]']                             \n",
            "                                                                                                  \n",
            " dense_8 (Dense)                (None, 32)           512         ['line_number_inputs[0][0]']     \n",
            "                                                                                                  \n",
            " dense_9 (Dense)                (None, 32)           672         ['total_lines_inputs[0][0]']     \n",
            "                                                                                                  \n",
            " dropout_2 (Dropout)            (None, 256)          0           ['dense_10[0][0]']               \n",
            "                                                                                                  \n",
            " token_char_positional_embeddin  (None, 320)         0           ['dense_8[0][0]',                \n",
            " g (Concatenate)                                                  'dense_9[0][0]',                \n",
            "                                                                  'dropout_2[0][0]']              \n",
            "                                                                                                  \n",
            " output_layer (Dense)           (None, 5)            1605        ['token_char_positional_embedding\n",
            "                                                                 [0][0]']                         \n",
            "                                                                                                  \n",
            "==================================================================================================\n",
            "Total params: 256,932,283\n",
            "Trainable params: 134,459\n",
            "Non-trainable params: 256,797,824\n",
            "__________________________________________________________________________________________________\n"
          ]
        }
      ]
    },
    {
      "cell_type": "code",
      "source": [
        "# Plot\n",
        "from tensorflow.keras.utils import plot_model\n",
        "plot_model(model_5)"
      ],
      "metadata": {
        "colab": {
          "base_uri": "https://localhost:8080/",
          "height": 848
        },
        "id": "lODH1EI-wnbm",
        "outputId": "f2d9c86a-f6bc-4579-e159-a88f6aba2c96"
      },
      "execution_count": null,
      "outputs": [
        {
          "output_type": "execute_result",
          "data": {
            "image/png": "[encoded data removed]",
            "text/plain": [
              "<IPython.core.display.Image object>"
            ]
          },
          "metadata": {},
          "execution_count": 102
        }
      ]
    },
    {
      "cell_type": "code",
      "source": [
        "# Check if a layer is trainable\n",
        "for layer in model_5.layers:\n",
        "  print(layer, layer.trainable)"
      ],
      "metadata": {
        "colab": {
          "base_uri": "https://localhost:8080/"
        },
        "id": "PeaoN7i4xCK5",
        "outputId": "a89aae88-14d3-47db-f530-3c5209cb2cb6"
      },
      "execution_count": null,
      "outputs": [
        {
          "output_type": "stream",
          "name": "stdout",
          "text": [
            "<keras.engine.input_layer.InputLayer object at 0x7fa4bd5e30d0> True\n",
            "<keras.engine.input_layer.InputLayer object at 0x7fa4bd58deb0> True\n",
            "<keras.layers.preprocessing.text_vectorization.TextVectorization object at 0x7fa3e4b3d880> True\n",
            "<tensorflow_hub.keras_layer.KerasLayer object at 0x7fa510472760> False\n",
            "<keras.layers.core.embedding.Embedding object at 0x7fa3e4a9bc10> True\n",
            "<keras.layers.core.dense.Dense object at 0x7fa3e4ac7910> True\n",
            "<keras.layers.rnn.bidirectional.Bidirectional object at 0x7fa4bd574820> True\n",
            "<keras.layers.merging.concatenate.Concatenate object at 0x7fa4bd5ead00> True\n",
            "<keras.engine.input_layer.InputLayer object at 0x7fa4bd4430d0> True\n",
            "<keras.engine.input_layer.InputLayer object at 0x7fa4bd5411f0> True\n",
            "<keras.layers.core.dense.Dense object at 0x7fa4bd4019d0> True\n",
            "<keras.layers.core.dense.Dense object at 0x7fa4bd443130> True\n",
            "<keras.layers.core.dense.Dense object at 0x7fa4bd4e9a00> True\n",
            "<keras.layers.regularization.dropout.Dropout object at 0x7fa4bd5f4dc0> True\n",
            "<keras.layers.merging.concatenate.Concatenate object at 0x7fa4bd415190> True\n",
            "<keras.layers.core.dense.Dense object at 0x7fa4bd415790> True\n"
          ]
        }
      ]
    },
    {
      "cell_type": "code",
      "source": [
        "# Compile\n",
        "model_5.compile(optimizer=tf.keras.optimizers.Adam(),\n",
        "                loss=tf.keras.losses.CategoricalCrossentropy(label_smoothing=0.2), # label_smoothing helps prevent overfitting, more in https://pyimagesearch.com/2019/12/30/label-smoothing-with-keras-tensorflow-and-deep-learning/\n",
        "                metrics=[\"accuracy\"])"
      ],
      "metadata": {
        "id": "HazWhyopyS1-"
      },
      "execution_count": null,
      "outputs": []
    },
    {
      "cell_type": "code",
      "source": [
        "# Create dataset\n",
        "train_pos_char_token_data = tf.data.Dataset.from_tensor_slices((train_line_numbers_one_hot,\n",
        "                                                               train_total_lines_one_hot,\n",
        "                                                               train_sentences,\n",
        "                                                               train_chars))\n",
        "\n",
        "train_pos_char_token_labels = tf.data.Dataset.from_tensor_slices(train_labels_one_hot)"
      ],
      "metadata": {
        "id": "kSz2hMTOLpYE"
      },
      "execution_count": null,
      "outputs": []
    },
    {
      "cell_type": "code",
      "source": [
        "# Create prefetch dataset\n",
        "train_pos_char_token_dataset = tf.data.Dataset.zip((train_pos_char_token_data, train_pos_char_token_labels))\n",
        "train_pos_char_token_dataset = train_pos_char_token_dataset.batch(32).prefetch(tf.data.AUTOTUNE)"
      ],
      "metadata": {
        "id": "EWM6hxRwMpJZ"
      },
      "execution_count": null,
      "outputs": []
    },
    {
      "cell_type": "code",
      "source": [
        "# Validation dataset\n",
        "val_pos_char_token_data = tf.data.Dataset.from_tensor_slices((val_line_numbers_one_hot,\n",
        "                                                              val_total_lines_one_hot,\n",
        "                                                              val_sentences,\n",
        "                                                              val_chars))\n",
        "\n",
        "val_pos_char_token_labels = tf.data.Dataset.from_tensor_slices(val_labels_one_hot)"
      ],
      "metadata": {
        "id": "5YR5RgStNkzq"
      },
      "execution_count": null,
      "outputs": []
    },
    {
      "cell_type": "code",
      "source": [
        "# Create prefetch dataset\n",
        "val_pos_char_token_dataset = tf.data.Dataset.zip((val_pos_char_token_data, val_pos_char_token_labels))\n",
        "val_pos_char_token_dataset = val_pos_char_token_dataset.batch(32).prefetch(tf.data.AUTOTUNE)"
      ],
      "metadata": {
        "id": "HcxdrMqNOQEq"
      },
      "execution_count": null,
      "outputs": []
    },
    {
      "cell_type": "code",
      "source": [
        "train_pos_char_token_dataset, val_pos_char_token_dataset"
      ],
      "metadata": {
        "colab": {
          "base_uri": "https://localhost:8080/"
        },
        "id": "5Blt92dXOsYb",
        "outputId": "d0bb97fa-886e-4f9c-b551-c73302977250"
      },
      "execution_count": null,
      "outputs": [
        {
          "output_type": "execute_result",
          "data": {
            "text/plain": [
              "(<PrefetchDataset element_spec=((TensorSpec(shape=(None, 15), dtype=tf.float32, name=None), TensorSpec(shape=(None, 20), dtype=tf.float32, name=None), TensorSpec(shape=(None,), dtype=tf.string, name=None), TensorSpec(shape=(None,), dtype=tf.string, name=None)), TensorSpec(shape=(None, 5), dtype=tf.float64, name=None))>,\n",
              " <PrefetchDataset element_spec=((TensorSpec(shape=(None, 15), dtype=tf.float32, name=None), TensorSpec(shape=(None, 20), dtype=tf.float32, name=None), TensorSpec(shape=(None,), dtype=tf.string, name=None), TensorSpec(shape=(None,), dtype=tf.string, name=None)), TensorSpec(shape=(None, 5), dtype=tf.float64, name=None))>)"
            ]
          },
          "metadata": {},
          "execution_count": 109
        }
      ]
    },
    {
      "cell_type": "code",
      "source": [
        "# Fit\n",
        "history_model_5 = model_5.fit(train_pos_char_token_dataset,\n",
        "                              steps_per_epoch=int(0.1 * len(train_pos_char_token_dataset)),\n",
        "                              epochs=3,\n",
        "                              validation_data=val_pos_char_token_dataset,\n",
        "                              validation_steps=int(0.1 * len(val_pos_char_token_dataset)))"
      ],
      "metadata": {
        "colab": {
          "base_uri": "https://localhost:8080/"
        },
        "id": "krXyqSRQO-pg",
        "outputId": "6dfb1568-4bca-4c8c-cbee-f62f6271bb8e"
      },
      "execution_count": null,
      "outputs": [
        {
          "output_type": "stream",
          "name": "stdout",
          "text": [
            "Epoch 1/3\n",
            "562/562 [==============================] - 45s 63ms/step - loss: 1.1018 - accuracy: 0.7161 - val_loss: 0.9849 - val_accuracy: 0.8035\n",
            "Epoch 2/3\n",
            "562/562 [==============================] - 28s 49ms/step - loss: 0.9684 - accuracy: 0.8135 - val_loss: 0.9494 - val_accuracy: 0.8285\n",
            "Epoch 3/3\n",
            "562/562 [==============================] - 28s 50ms/step - loss: 0.9515 - accuracy: 0.8227 - val_loss: 0.9384 - val_accuracy: 0.8295\n"
          ]
        }
      ]
    },
    {
      "cell_type": "code",
      "source": [
        "model_5_pred_probs = model_5.predict(val_pos_char_token_dataset, verbose=1)\n",
        "model_5_pred_probs"
      ],
      "metadata": {
        "colab": {
          "base_uri": "https://localhost:8080/"
        },
        "id": "B7jXL-4sPyGw",
        "outputId": "a77c2333-7305-444b-bd54-1ad9e2d4a04a"
      },
      "execution_count": null,
      "outputs": [
        {
          "output_type": "stream",
          "name": "stdout",
          "text": [
            "945/945 [==============================] - 25s 25ms/step\n"
          ]
        },
        {
          "output_type": "execute_result",
          "data": {
            "text/plain": [
              "array([[0.49413332, 0.10127036, 0.01047949, 0.37713832, 0.01697851],\n",
              "       [0.5417913 , 0.09060247, 0.05408466, 0.3025037 , 0.01101779],\n",
              "       [0.28260714, 0.09906197, 0.11837915, 0.43451664, 0.06543512],\n",
              "       ...,\n",
              "       [0.03938551, 0.118187  , 0.04579992, 0.03106225, 0.7655653 ],\n",
              "       [0.03086356, 0.30725482, 0.07554682, 0.02818147, 0.5581533 ],\n",
              "       [0.22560005, 0.57783824, 0.09733809, 0.04458239, 0.05464124]],\n",
              "      dtype=float32)"
            ]
          },
          "metadata": {},
          "execution_count": 111
        }
      ]
    },
    {
      "cell_type": "code",
      "source": [
        "model_5_preds = tf.argmax(model_5_pred_probs, axis=1)\n",
        "model_5_preds"
      ],
      "metadata": {
        "colab": {
          "base_uri": "https://localhost:8080/"
        },
        "id": "yIWag1RQQDuU",
        "outputId": "b849d424-fc3a-4e32-9dad-3f38d5a28680"
      },
      "execution_count": null,
      "outputs": [
        {
          "output_type": "execute_result",
          "data": {
            "text/plain": [
              "<tf.Tensor: shape=(30212,), dtype=int64, numpy=array([0, 0, 3, ..., 4, 4, 1])>"
            ]
          },
          "metadata": {},
          "execution_count": 112
        }
      ]
    },
    {
      "cell_type": "code",
      "source": [
        "model_5_results = calculate_results(y_true=val_labels_encoded,\n",
        "                                    y_pred=model_5_preds)\n",
        "model_5_results"
      ],
      "metadata": {
        "colab": {
          "base_uri": "https://localhost:8080/"
        },
        "id": "ISXcheqoQOmU",
        "outputId": "7012c7b8-fbb9-4c3c-aba1-c6e7d606d099"
      },
      "execution_count": null,
      "outputs": [
        {
          "output_type": "execute_result",
          "data": {
            "text/plain": [
              "{'accuracy': 83.21196875413743,\n",
              " 'precision': 0.8309215393264519,\n",
              " 'recall': 0.8321196875413743,\n",
              " 'f1': 0.8310160867750374}"
            ]
          },
          "metadata": {},
          "execution_count": 113
        }
      ]
    },
    {
      "cell_type": "code",
      "source": [
        "# Compare\n",
        "all_model_results = pd.DataFrame({\n",
        "    \"baseline\": baseline_results,\n",
        "    \"custom_token_embed_Conv1D\": model_1_results,\n",
        "    \"pretrained_token_embed\": model_2_results,\n",
        "    \"custom_char_embed_Conv1D\": model_3_results,\n",
        "    \"hybrid_char_token_embed\": model_4_results,\n",
        "    \"tribrid_pos_char_token_embed\": model_5_results\n",
        "})\n",
        "\n",
        "all_model_results = all_model_results.transpose()\n",
        "all_model_results"
      ],
      "metadata": {
        "colab": {
          "base_uri": "https://localhost:8080/",
          "height": 238
        },
        "id": "b_yijql2Qhse",
        "outputId": "c4d41b21-5118-4f67-de4d-e946ec188689"
      },
      "execution_count": null,
      "outputs": [
        {
          "output_type": "execute_result",
          "data": {
            "text/plain": [
              "                               accuracy  precision    recall        f1\n",
              "baseline                      72.183238   0.718647  0.721832  0.698925\n",
              "custom_token_embed_Conv1D     78.819674   0.785463  0.788197  0.785916\n",
              "pretrained_token_embed        71.273004   0.713564  0.712730  0.709763\n",
              "custom_char_embed_Conv1D      65.550113   0.647687  0.655501  0.643529\n",
              "hybrid_char_token_embed       73.391368   0.735543  0.733914  0.731880\n",
              "tribrid_pos_char_token_embed  83.211969   0.830922  0.832120  0.831016"
            ],
            "text/html": [
              "\n",
              "  <div id=\"df-dbc594ef-ecd8-4251-bd32-78adc2ea4ce2\">\n",
              "    <div class=\"colab-df-container\">\n",
              "      <div>\n",
              "<style scoped>\n",
              "    .dataframe tbody tr th:only-of-type {\n",
              "        vertical-align: middle;\n",
              "    }\n",
              "\n",
              "    .dataframe tbody tr th {\n",
              "        vertical-align: top;\n",
              "    }\n",
              "\n",
              "    .dataframe thead th {\n",
              "        text-align: right;\n",
              "    }\n",
              "</style>\n",
              "<table border=\"1\" class=\"dataframe\">\n",
              "  <thead>\n",
              "    <tr style=\"text-align: right;\">\n",
              "      <th></th>\n",
              "      <th>accuracy</th>\n",
              "      <th>precision</th>\n",
              "      <th>recall</th>\n",
              "      <th>f1</th>\n",
              "    </tr>\n",
              "  </thead>\n",
              "  <tbody>\n",
              "    <tr>\n",
              "      <th>baseline</th>\n",
              "      <td>72.183238</td>\n",
              "      <td>0.718647</td>\n",
              "      <td>0.721832</td>\n",
              "      <td>0.698925</td>\n",
              "    </tr>\n",
              "    <tr>\n",
              "      <th>custom_token_embed_Conv1D</th>\n",
              "      <td>78.819674</td>\n",
              "      <td>0.785463</td>\n",
              "      <td>0.788197</td>\n",
              "      <td>0.785916</td>\n",
              "    </tr>\n",
              "    <tr>\n",
              "      <th>pretrained_token_embed</th>\n",
              "      <td>71.273004</td>\n",
              "      <td>0.713564</td>\n",
              "      <td>0.712730</td>\n",
              "      <td>0.709763</td>\n",
              "    </tr>\n",
              "    <tr>\n",
              "      <th>custom_char_embed_Conv1D</th>\n",
              "      <td>65.550113</td>\n",
              "      <td>0.647687</td>\n",
              "      <td>0.655501</td>\n",
              "      <td>0.643529</td>\n",
              "    </tr>\n",
              "    <tr>\n",
              "      <th>hybrid_char_token_embed</th>\n",
              "      <td>73.391368</td>\n",
              "      <td>0.735543</td>\n",
              "      <td>0.733914</td>\n",
              "      <td>0.731880</td>\n",
              "    </tr>\n",
              "    <tr>\n",
              "      <th>tribrid_pos_char_token_embed</th>\n",
              "      <td>83.211969</td>\n",
              "      <td>0.830922</td>\n",
              "      <td>0.832120</td>\n",
              "      <td>0.831016</td>\n",
              "    </tr>\n",
              "  </tbody>\n",
              "</table>\n",
              "</div>\n",
              "      <button class=\"colab-df-convert\" onclick=\"convertToInteractive('df-dbc594ef-ecd8-4251-bd32-78adc2ea4ce2')\"\n",
              "              title=\"Convert this dataframe to an interactive table.\"\n",
              "              style=\"display:none;\">\n",
              "        \n",
              "  <svg xmlns=\"http://www.w3.org/2000/svg\" height=\"24px\"viewBox=\"0 0 24 24\"\n",
              "       width=\"24px\">\n",
              "    <path d=\"M0 0h24v24H0V0z\" fill=\"none\"/>\n",
              "    <path d=\"M18.56 5.44l.94 2.06.94-2.06 2.06-.94-2.06-.94-.94-2.06-.94 2.06-2.06.94zm-11 1L8.5 8.5l.94-2.06 2.06-.94-2.06-.94L8.5 2.5l-.94 2.06-2.06.94zm10 10l.94 2.06.94-2.06 2.06-.94-2.06-.94-.94-2.06-.94 2.06-2.06.94z\"/><path d=\"M17.41 7.96l-1.37-1.37c-.4-.4-.92-.59-1.43-.59-.52 0-1.04.2-1.43.59L10.3 9.45l-7.72 7.72c-.78.78-.78 2.05 0 2.83L4 21.41c.39.39.9.59 1.41.59.51 0 1.02-.2 1.41-.59l7.78-7.78 2.81-2.81c.8-.78.8-2.07 0-2.86zM5.41 20L4 18.59l7.72-7.72 1.47 1.35L5.41 20z\"/>\n",
              "  </svg>\n",
              "      </button>\n",
              "      \n",
              "  <style>\n",
              "    .colab-df-container {\n",
              "      display:flex;\n",
              "      flex-wrap:wrap;\n",
              "      gap: 12px;\n",
              "    }\n",
              "\n",
              "    .colab-df-convert {\n",
              "      background-color: #E8F0FE;\n",
              "      border: none;\n",
              "      border-radius: 50%;\n",
              "      cursor: pointer;\n",
              "      display: none;\n",
              "      fill: #1967D2;\n",
              "      height: 32px;\n",
              "      padding: 0 0 0 0;\n",
              "      width: 32px;\n",
              "    }\n",
              "\n",
              "    .colab-df-convert:hover {\n",
              "      background-color: #E2EBFA;\n",
              "      box-shadow: 0px 1px 2px rgba(60, 64, 67, 0.3), 0px 1px 3px 1px rgba(60, 64, 67, 0.15);\n",
              "      fill: #174EA6;\n",
              "    }\n",
              "\n",
              "    [theme=dark] .colab-df-convert {\n",
              "      background-color: #3B4455;\n",
              "      fill: #D2E3FC;\n",
              "    }\n",
              "\n",
              "    [theme=dark] .colab-df-convert:hover {\n",
              "      background-color: #434B5C;\n",
              "      box-shadow: 0px 1px 3px 1px rgba(0, 0, 0, 0.15);\n",
              "      filter: drop-shadow(0px 1px 2px rgba(0, 0, 0, 0.3));\n",
              "      fill: #FFFFFF;\n",
              "    }\n",
              "  </style>\n",
              "\n",
              "      <script>\n",
              "        const buttonEl =\n",
              "          document.querySelector('#df-dbc594ef-ecd8-4251-bd32-78adc2ea4ce2 button.colab-df-convert');\n",
              "        buttonEl.style.display =\n",
              "          google.colab.kernel.accessAllowed ? 'block' : 'none';\n",
              "\n",
              "        async function convertToInteractive(key) {\n",
              "          const element = document.querySelector('#df-dbc594ef-ecd8-4251-bd32-78adc2ea4ce2');\n",
              "          const dataTable =\n",
              "            await google.colab.kernel.invokeFunction('convertToInteractive',\n",
              "                                                     [key], {});\n",
              "          if (!dataTable) return;\n",
              "\n",
              "          const docLinkHtml = 'Like what you see? Visit the ' +\n",
              "            '<a target=\"_blank\" href=https://colab.research.google.com/notebooks/data_table.ipynb>data table notebook</a>'\n",
              "            + ' to learn more about interactive tables.';\n",
              "          element.innerHTML = '';\n",
              "          dataTable['output_type'] = 'display_data';\n",
              "          await google.colab.output.renderOutput(dataTable, element);\n",
              "          const docLink = document.createElement('div');\n",
              "          docLink.innerHTML = docLinkHtml;\n",
              "          element.appendChild(docLink);\n",
              "        }\n",
              "      </script>\n",
              "    </div>\n",
              "  </div>\n",
              "  "
            ]
          },
          "metadata": {},
          "execution_count": 114
        }
      ]
    },
    {
      "cell_type": "code",
      "source": [
        "# Make accuracy same as other metrics\n",
        "all_model_results[\"accuracy\"] = all_model_results[\"accuracy\"]/100\n",
        "all_model_results"
      ],
      "metadata": {
        "colab": {
          "base_uri": "https://localhost:8080/",
          "height": 238
        },
        "id": "jhWX1xUWSFFs",
        "outputId": "33e33455-af4e-4085-fef8-67caf5294ca3"
      },
      "execution_count": null,
      "outputs": [
        {
          "output_type": "execute_result",
          "data": {
            "text/plain": [
              "                              accuracy  precision    recall        f1\n",
              "baseline                      0.721832   0.718647  0.721832  0.698925\n",
              "custom_token_embed_Conv1D     0.788197   0.785463  0.788197  0.785916\n",
              "pretrained_token_embed        0.712730   0.713564  0.712730  0.709763\n",
              "custom_char_embed_Conv1D      0.655501   0.647687  0.655501  0.643529\n",
              "hybrid_char_token_embed       0.733914   0.735543  0.733914  0.731880\n",
              "tribrid_pos_char_token_embed  0.832120   0.830922  0.832120  0.831016"
            ],
            "text/html": [
              "\n",
              "  <div id=\"df-7be35317-4af8-4d46-b4e0-cdb3d0311967\">\n",
              "    <div class=\"colab-df-container\">\n",
              "      <div>\n",
              "<style scoped>\n",
              "    .dataframe tbody tr th:only-of-type {\n",
              "        vertical-align: middle;\n",
              "    }\n",
              "\n",
              "    .dataframe tbody tr th {\n",
              "        vertical-align: top;\n",
              "    }\n",
              "\n",
              "    .dataframe thead th {\n",
              "        text-align: right;\n",
              "    }\n",
              "</style>\n",
              "<table border=\"1\" class=\"dataframe\">\n",
              "  <thead>\n",
              "    <tr style=\"text-align: right;\">\n",
              "      <th></th>\n",
              "      <th>accuracy</th>\n",
              "      <th>precision</th>\n",
              "      <th>recall</th>\n",
              "      <th>f1</th>\n",
              "    </tr>\n",
              "  </thead>\n",
              "  <tbody>\n",
              "    <tr>\n",
              "      <th>baseline</th>\n",
              "      <td>0.721832</td>\n",
              "      <td>0.718647</td>\n",
              "      <td>0.721832</td>\n",
              "      <td>0.698925</td>\n",
              "    </tr>\n",
              "    <tr>\n",
              "      <th>custom_token_embed_Conv1D</th>\n",
              "      <td>0.788197</td>\n",
              "      <td>0.785463</td>\n",
              "      <td>0.788197</td>\n",
              "      <td>0.785916</td>\n",
              "    </tr>\n",
              "    <tr>\n",
              "      <th>pretrained_token_embed</th>\n",
              "      <td>0.712730</td>\n",
              "      <td>0.713564</td>\n",
              "      <td>0.712730</td>\n",
              "      <td>0.709763</td>\n",
              "    </tr>\n",
              "    <tr>\n",
              "      <th>custom_char_embed_Conv1D</th>\n",
              "      <td>0.655501</td>\n",
              "      <td>0.647687</td>\n",
              "      <td>0.655501</td>\n",
              "      <td>0.643529</td>\n",
              "    </tr>\n",
              "    <tr>\n",
              "      <th>hybrid_char_token_embed</th>\n",
              "      <td>0.733914</td>\n",
              "      <td>0.735543</td>\n",
              "      <td>0.733914</td>\n",
              "      <td>0.731880</td>\n",
              "    </tr>\n",
              "    <tr>\n",
              "      <th>tribrid_pos_char_token_embed</th>\n",
              "      <td>0.832120</td>\n",
              "      <td>0.830922</td>\n",
              "      <td>0.832120</td>\n",
              "      <td>0.831016</td>\n",
              "    </tr>\n",
              "  </tbody>\n",
              "</table>\n",
              "</div>\n",
              "      <button class=\"colab-df-convert\" onclick=\"convertToInteractive('df-7be35317-4af8-4d46-b4e0-cdb3d0311967')\"\n",
              "              title=\"Convert this dataframe to an interactive table.\"\n",
              "              style=\"display:none;\">\n",
              "        \n",
              "  <svg xmlns=\"http://www.w3.org/2000/svg\" height=\"24px\"viewBox=\"0 0 24 24\"\n",
              "       width=\"24px\">\n",
              "    <path d=\"M0 0h24v24H0V0z\" fill=\"none\"/>\n",
              "    <path d=\"M18.56 5.44l.94 2.06.94-2.06 2.06-.94-2.06-.94-.94-2.06-.94 2.06-2.06.94zm-11 1L8.5 8.5l.94-2.06 2.06-.94-2.06-.94L8.5 2.5l-.94 2.06-2.06.94zm10 10l.94 2.06.94-2.06 2.06-.94-2.06-.94-.94-2.06-.94 2.06-2.06.94z\"/><path d=\"M17.41 7.96l-1.37-1.37c-.4-.4-.92-.59-1.43-.59-.52 0-1.04.2-1.43.59L10.3 9.45l-7.72 7.72c-.78.78-.78 2.05 0 2.83L4 21.41c.39.39.9.59 1.41.59.51 0 1.02-.2 1.41-.59l7.78-7.78 2.81-2.81c.8-.78.8-2.07 0-2.86zM5.41 20L4 18.59l7.72-7.72 1.47 1.35L5.41 20z\"/>\n",
              "  </svg>\n",
              "      </button>\n",
              "      \n",
              "  <style>\n",
              "    .colab-df-container {\n",
              "      display:flex;\n",
              "      flex-wrap:wrap;\n",
              "      gap: 12px;\n",
              "    }\n",
              "\n",
              "    .colab-df-convert {\n",
              "      background-color: #E8F0FE;\n",
              "      border: none;\n",
              "      border-radius: 50%;\n",
              "      cursor: pointer;\n",
              "      display: none;\n",
              "      fill: #1967D2;\n",
              "      height: 32px;\n",
              "      padding: 0 0 0 0;\n",
              "      width: 32px;\n",
              "    }\n",
              "\n",
              "    .colab-df-convert:hover {\n",
              "      background-color: #E2EBFA;\n",
              "      box-shadow: 0px 1px 2px rgba(60, 64, 67, 0.3), 0px 1px 3px 1px rgba(60, 64, 67, 0.15);\n",
              "      fill: #174EA6;\n",
              "    }\n",
              "\n",
              "    [theme=dark] .colab-df-convert {\n",
              "      background-color: #3B4455;\n",
              "      fill: #D2E3FC;\n",
              "    }\n",
              "\n",
              "    [theme=dark] .colab-df-convert:hover {\n",
              "      background-color: #434B5C;\n",
              "      box-shadow: 0px 1px 3px 1px rgba(0, 0, 0, 0.15);\n",
              "      filter: drop-shadow(0px 1px 2px rgba(0, 0, 0, 0.3));\n",
              "      fill: #FFFFFF;\n",
              "    }\n",
              "  </style>\n",
              "\n",
              "      <script>\n",
              "        const buttonEl =\n",
              "          document.querySelector('#df-7be35317-4af8-4d46-b4e0-cdb3d0311967 button.colab-df-convert');\n",
              "        buttonEl.style.display =\n",
              "          google.colab.kernel.accessAllowed ? 'block' : 'none';\n",
              "\n",
              "        async function convertToInteractive(key) {\n",
              "          const element = document.querySelector('#df-7be35317-4af8-4d46-b4e0-cdb3d0311967');\n",
              "          const dataTable =\n",
              "            await google.colab.kernel.invokeFunction('convertToInteractive',\n",
              "                                                     [key], {});\n",
              "          if (!dataTable) return;\n",
              "\n",
              "          const docLinkHtml = 'Like what you see? Visit the ' +\n",
              "            '<a target=\"_blank\" href=https://colab.research.google.com/notebooks/data_table.ipynb>data table notebook</a>'\n",
              "            + ' to learn more about interactive tables.';\n",
              "          element.innerHTML = '';\n",
              "          dataTable['output_type'] = 'display_data';\n",
              "          await google.colab.output.renderOutput(dataTable, element);\n",
              "          const docLink = document.createElement('div');\n",
              "          docLink.innerHTML = docLinkHtml;\n",
              "          element.appendChild(docLink);\n",
              "        }\n",
              "      </script>\n",
              "    </div>\n",
              "  </div>\n",
              "  "
            ]
          },
          "metadata": {},
          "execution_count": 115
        }
      ]
    },
    {
      "cell_type": "code",
      "source": [
        "# Visualize results\n",
        "all_model_results.plot(kind=\"bar\", figsize=(10, 7)).legend(bbox_to_anchor=(1.0, 1.0))"
      ],
      "metadata": {
        "colab": {
          "base_uri": "https://localhost:8080/",
          "height": 590
        },
        "id": "PiNDcMZhSZbB",
        "outputId": "82018daf-fe94-43f1-c483-60090d3d3e7c"
      },
      "execution_count": null,
      "outputs": [
        {
          "output_type": "execute_result",
          "data": {
            "text/plain": [
              "<matplotlib.legend.Legend at 0x7fa4bb707e20>"
            ]
          },
          "metadata": {},
          "execution_count": 116
        },
        {
          "output_type": "display_data",
          "data": {
            "text/plain": [
              "<Figure size 720x504 with 1 Axes>"
            ],
            "image/png": "[encoded data removed]"
          },
          "metadata": {
            "needs_background": "light"
          }
        }
      ]
    },
    {
      "cell_type": "code",
      "source": [
        "# Sort by f1 score\n",
        "all_model_results.sort_values(\"f1\", ascending=False)[\"f1\"].plot(kind=\"bar\", figsize=(10, 7))"
      ],
      "metadata": {
        "colab": {
          "base_uri": "https://localhost:8080/",
          "height": 590
        },
        "id": "WdwyfToFTEvQ",
        "outputId": "3a7057a5-375d-49d4-8f3c-01b81c59be3b"
      },
      "execution_count": null,
      "outputs": [
        {
          "output_type": "execute_result",
          "data": {
            "text/plain": [
              "<matplotlib.axes._subplots.AxesSubplot at 0x7fa4bb68af70>"
            ]
          },
          "metadata": {},
          "execution_count": 117
        },
        {
          "output_type": "display_data",
          "data": {
            "text/plain": [
              "<Figure size 720x504 with 1 Axes>"
            ],
            "image/png": "[encoded data removed]"
          },
          "metadata": {
            "needs_background": "light"
          }
        }
      ]
    },
    {
      "cell_type": "code",
      "source": [
        "# Save the best performing model\n",
        "#model_5.save(\"skimlit_tribrid_model\")"
      ],
      "metadata": {
        "id": "9hT2E1UlT06X"
      },
      "execution_count": null,
      "outputs": []
    },
    {
      "cell_type": "code",
      "source": [
        "# Mount google drive and save the model there\n",
        "#!cp skimlit_tribrid_model -r /content/drive/MyDrive/dev/ai/models/SkimLit/"
      ],
      "metadata": {
        "id": "NQ0rNIn_UdL7"
      },
      "execution_count": null,
      "outputs": []
    },
    {
      "cell_type": "code",
      "source": [
        "# Load model from google drive\n",
        "model_path = \"/content/drive/MyDrive/dev/ai/models/SkimLit/skimlit_tribrid_model\"\n",
        "\n",
        "loaded_model = tf.keras.models.load_model(model_path)"
      ],
      "metadata": {
        "id": "7Sjp4y5ZV1V8"
      },
      "execution_count": null,
      "outputs": []
    },
    {
      "cell_type": "code",
      "source": [
        "# Predict using loaded model to make sure it's the same\n",
        "loaded_model_pred_probs = loaded_model.predict(val_pos_char_token_dataset)\n",
        "loaded_model_preds = tf.argmax(loaded_model_pred_probs, axis=1)\n",
        "loaded_model_preds"
      ],
      "metadata": {
        "colab": {
          "base_uri": "https://localhost:8080/"
        },
        "id": "GH8ajfBUXC_D",
        "outputId": "b2e429bf-6d64-42c9-cd1f-5ccf130efc63"
      },
      "execution_count": null,
      "outputs": [
        {
          "output_type": "stream",
          "name": "stdout",
          "text": [
            "945/945 [==============================] - 29s 30ms/step\n"
          ]
        },
        {
          "output_type": "execute_result",
          "data": {
            "text/plain": [
              "<tf.Tensor: shape=(30212,), dtype=int64, numpy=array([0, 0, 3, ..., 4, 4, 1])>"
            ]
          },
          "metadata": {},
          "execution_count": 121
        }
      ]
    },
    {
      "cell_type": "code",
      "source": [
        "loaded_model_results = calculate_results(y_true=val_labels_encoded,\n",
        "                                         y_pred=loaded_model_preds)\n",
        "loaded_model_results"
      ],
      "metadata": {
        "colab": {
          "base_uri": "https://localhost:8080/"
        },
        "id": "LGul8nnRYq2W",
        "outputId": "f4ecbb11-55ad-4034-ebec-2ce4e3ecb0d3"
      },
      "execution_count": null,
      "outputs": [
        {
          "output_type": "execute_result",
          "data": {
            "text/plain": [
              "{'accuracy': 83.19210909572355,\n",
              " 'precision': 0.8309827414032934,\n",
              " 'recall': 0.8319210909572355,\n",
              " 'f1': 0.8310536143770747}"
            ]
          },
          "metadata": {},
          "execution_count": 122
        }
      ]
    },
    {
      "cell_type": "markdown",
      "source": [
        "Evaluate model on test dataset"
      ],
      "metadata": {
        "id": "2Tk5LkELZapK"
      }
    },
    {
      "cell_type": "code",
      "source": [
        "# Create test dataset\n",
        "test_pos_char_token_data = tf.data.Dataset.from_tensor_slices((test_line_numbers_one_hot,\n",
        "                                                              test_total_lines_one_hot,\n",
        "                                                              test_sentences,\n",
        "                                                              test_chars))\n",
        "test_pos_char_token_labels = tf.data.Dataset.from_tensor_slices(test_labels_one_hot)"
      ],
      "metadata": {
        "id": "wY-asF92ZC7R"
      },
      "execution_count": null,
      "outputs": []
    },
    {
      "cell_type": "code",
      "source": [
        "# batch and prefetch dataset\n",
        "test_pos_char_token_dataset = tf.data.Dataset.zip((test_pos_char_token_data, test_pos_char_token_labels))\n",
        "test_pos_char_token_dataset = test_pos_char_token_dataset.batch(32).prefetch(tf.data.AUTOTUNE)"
      ],
      "metadata": {
        "id": "A3W1E5WsaHiE"
      },
      "execution_count": null,
      "outputs": []
    },
    {
      "cell_type": "code",
      "source": [
        "# Predict on test dataset\n",
        "test_pred_probs = loaded_model.predict(test_pos_char_token_dataset)\n",
        "test_preds = tf.argmax(test_pred_probs, axis=1)\n",
        "test_preds[:10]"
      ],
      "metadata": {
        "colab": {
          "base_uri": "https://localhost:8080/"
        },
        "id": "5OQhnUH3a2-1",
        "outputId": "09964407-fdb0-49c4-9591-8bd02c0d981b"
      },
      "execution_count": null,
      "outputs": [
        {
          "output_type": "stream",
          "name": "stdout",
          "text": [
            "942/942 [==============================] - 26s 28ms/step\n"
          ]
        },
        {
          "output_type": "execute_result",
          "data": {
            "text/plain": [
              "<tf.Tensor: shape=(10,), dtype=int64, numpy=array([3, 3, 2, 2, 4, 4, 4, 1, 4, 0])>"
            ]
          },
          "metadata": {},
          "execution_count": 125
        }
      ]
    },
    {
      "cell_type": "code",
      "source": [
        "loaded_model_test_results = calculate_results(y_true=test_labels_encoded,\n",
        "                                              y_pred=test_preds)\n",
        "loaded_model_test_results"
      ],
      "metadata": {
        "colab": {
          "base_uri": "https://localhost:8080/"
        },
        "id": "LyCB6x6SbTCo",
        "outputId": "a4e85cbf-5c60-4ef1-a328-f85ec0d2b2c2"
      },
      "execution_count": null,
      "outputs": [
        {
          "output_type": "execute_result",
          "data": {
            "text/plain": [
              "{'accuracy': 82.71113323378133,\n",
              " 'precision': 0.8257567232854857,\n",
              " 'recall': 0.8271113323378132,\n",
              " 'f1': 0.8261326120086616}"
            ]
          },
          "metadata": {},
          "execution_count": 126
        }
      ]
    },
    {
      "cell_type": "markdown",
      "source": [
        "Find most wrong"
      ],
      "metadata": {
        "id": "KKbJipMucDZv"
      }
    },
    {
      "cell_type": "code",
      "source": [
        "# Convert integer into prediction classes\n",
        "test_pred_classes = [label_encoder.classes_[pred] for pred in test_preds]\n",
        "test_pred_classes[:10]"
      ],
      "metadata": {
        "colab": {
          "base_uri": "https://localhost:8080/"
        },
        "id": "Gxk2LjvNbkJe",
        "outputId": "c5238899-216c-4f85-d542-7747d77b1e6c"
      },
      "execution_count": null,
      "outputs": [
        {
          "output_type": "execute_result",
          "data": {
            "text/plain": [
              "['OBJECTIVE',\n",
              " 'OBJECTIVE',\n",
              " 'METHODS',\n",
              " 'METHODS',\n",
              " 'RESULTS',\n",
              " 'RESULTS',\n",
              " 'RESULTS',\n",
              " 'CONCLUSIONS',\n",
              " 'RESULTS',\n",
              " 'BACKGROUND']"
            ]
          },
          "metadata": {},
          "execution_count": 130
        }
      ]
    },
    {
      "cell_type": "code",
      "source": [
        "# Create prediction, probability and correct in the dataframe\n",
        "test_df[\"prediction\"] = test_pred_classes\n",
        "test_df[\"pred_prob\"] = tf.reduce_max(test_pred_probs, axis=1).numpy()\n",
        "test_df[\"correct\"] = test_df[\"prediction\"] == test_df[\"target\"]\n",
        "test_df.head(20)"
      ],
      "metadata": {
        "colab": {
          "base_uri": "https://localhost:8080/",
          "height": 721
        },
        "id": "H0BLQVvAqrPr",
        "outputId": "5070acf5-dd42-4751-fe2f-ddee8885c03c"
      },
      "execution_count": null,
      "outputs": [
        {
          "output_type": "execute_result",
          "data": {
            "text/plain": [
              "         target                                               text  \\\n",
              "0    BACKGROUND  This study analyzed liver function abnormaliti...   \n",
              "1       RESULTS  A post hoc analysis was conducted with the use...   \n",
              "2       RESULTS  Liver function tests ( LFTs ) were measured at...   \n",
              "3       RESULTS  Survival analyses were used to assess the asso...   \n",
              "4       RESULTS  The percentage of patients with abnormal LFTs ...   \n",
              "5       RESULTS  When mean hemodynamic profiles were compared i...   \n",
              "6       RESULTS  Multivariable analyses revealed that patients ...   \n",
              "7   CONCLUSIONS  Abnormal LFTs are common in the ADHF populatio...   \n",
              "8   CONCLUSIONS  Elevated MELD-XI scores are associated with po...   \n",
              "9    BACKGROUND  Minimally invasive endovascular aneurysm repai...   \n",
              "10   BACKGROUND  The aim of this study was to analyse the cost-...   \n",
              "11      METHODS  Resource use was determined from the Amsterdam...   \n",
              "12      METHODS  The analysis was performed from a provider per...   \n",
              "13      METHODS  All costs were calculated as if all patients h...   \n",
              "14      RESULTS            A total of @ patients were randomized .   \n",
              "15      RESULTS  The @-day mortality rate was @ per cent after ...   \n",
              "16      RESULTS  At @months , the total mortality rate for EVAR...   \n",
              "17      RESULTS  The mean cost difference between EVAR and OR w...   \n",
              "18      RESULTS  The incremental cost-effectiveness ratio per p...   \n",
              "19      RESULTS  There was no significant difference in quality...   \n",
              "\n",
              "    line_number  total_lines   prediction  pred_prob  correct  \n",
              "0             0            9    OBJECTIVE   0.529816    False  \n",
              "1             1            9    OBJECTIVE   0.335167    False  \n",
              "2             2            9      METHODS   0.796329    False  \n",
              "3             3            9      METHODS   0.577112    False  \n",
              "4             4            9      RESULTS   0.693875     True  \n",
              "5             5            9      RESULTS   0.878977     True  \n",
              "6             6            9      RESULTS   0.534117     True  \n",
              "7             7            9  CONCLUSIONS   0.499441     True  \n",
              "8             8            9      RESULTS   0.470170    False  \n",
              "9             0           13   BACKGROUND   0.568836     True  \n",
              "10            1           13    OBJECTIVE   0.448320    False  \n",
              "11            2           13      METHODS   0.634612     True  \n",
              "12            3           13      METHODS   0.864799     True  \n",
              "13            4           13      METHODS   0.532539     True  \n",
              "14            5           13      RESULTS   0.742217     True  \n",
              "15            6           13      RESULTS   0.622501     True  \n",
              "16            7           13      RESULTS   0.885030     True  \n",
              "17            8           13      RESULTS   0.853753     True  \n",
              "18            9           13      RESULTS   0.783666     True  \n",
              "19           10           13      RESULTS   0.777219     True  "
            ],
            "text/html": [
              "\n",
              "  <div id=\"df-40281034-c66b-414e-9243-0c9f1bd92f07\">\n",
              "    <div class=\"colab-df-container\">\n",
              "      <div>\n",
              "<style scoped>\n",
              "    .dataframe tbody tr th:only-of-type {\n",
              "        vertical-align: middle;\n",
              "    }\n",
              "\n",
              "    .dataframe tbody tr th {\n",
              "        vertical-align: top;\n",
              "    }\n",
              "\n",
              "    .dataframe thead th {\n",
              "        text-align: right;\n",
              "    }\n",
              "</style>\n",
              "<table border=\"1\" class=\"dataframe\">\n",
              "  <thead>\n",
              "    <tr style=\"text-align: right;\">\n",
              "      <th></th>\n",
              "      <th>target</th>\n",
              "      <th>text</th>\n",
              "      <th>line_number</th>\n",
              "      <th>total_lines</th>\n",
              "      <th>prediction</th>\n",
              "      <th>pred_prob</th>\n",
              "      <th>correct</th>\n",
              "    </tr>\n",
              "  </thead>\n",
              "  <tbody>\n",
              "    <tr>\n",
              "      <th>0</th>\n",
              "      <td>BACKGROUND</td>\n",
              "      <td>This study analyzed liver function abnormaliti...</td>\n",
              "      <td>0</td>\n",
              "      <td>9</td>\n",
              "      <td>OBJECTIVE</td>\n",
              "      <td>0.529816</td>\n",
              "      <td>False</td>\n",
              "    </tr>\n",
              "    <tr>\n",
              "      <th>1</th>\n",
              "      <td>RESULTS</td>\n",
              "      <td>A post hoc analysis was conducted with the use...</td>\n",
              "      <td>1</td>\n",
              "      <td>9</td>\n",
              "      <td>OBJECTIVE</td>\n",
              "      <td>0.335167</td>\n",
              "      <td>False</td>\n",
              "    </tr>\n",
              "    <tr>\n",
              "      <th>2</th>\n",
              "      <td>RESULTS</td>\n",
              "      <td>Liver function tests ( LFTs ) were measured at...</td>\n",
              "      <td>2</td>\n",
              "      <td>9</td>\n",
              "      <td>METHODS</td>\n",
              "      <td>0.796329</td>\n",
              "      <td>False</td>\n",
              "    </tr>\n",
              "    <tr>\n",
              "      <th>3</th>\n",
              "      <td>RESULTS</td>\n",
              "      <td>Survival analyses were used to assess the asso...</td>\n",
              "      <td>3</td>\n",
              "      <td>9</td>\n",
              "      <td>METHODS</td>\n",
              "      <td>0.577112</td>\n",
              "      <td>False</td>\n",
              "    </tr>\n",
              "    <tr>\n",
              "      <th>4</th>\n",
              "      <td>RESULTS</td>\n",
              "      <td>The percentage of patients with abnormal LFTs ...</td>\n",
              "      <td>4</td>\n",
              "      <td>9</td>\n",
              "      <td>RESULTS</td>\n",
              "      <td>0.693875</td>\n",
              "      <td>True</td>\n",
              "    </tr>\n",
              "    <tr>\n",
              "      <th>5</th>\n",
              "      <td>RESULTS</td>\n",
              "      <td>When mean hemodynamic profiles were compared i...</td>\n",
              "      <td>5</td>\n",
              "      <td>9</td>\n",
              "      <td>RESULTS</td>\n",
              "      <td>0.878977</td>\n",
              "      <td>True</td>\n",
              "    </tr>\n",
              "    <tr>\n",
              "      <th>6</th>\n",
              "      <td>RESULTS</td>\n",
              "      <td>Multivariable analyses revealed that patients ...</td>\n",
              "      <td>6</td>\n",
              "      <td>9</td>\n",
              "      <td>RESULTS</td>\n",
              "      <td>0.534117</td>\n",
              "      <td>True</td>\n",
              "    </tr>\n",
              "    <tr>\n",
              "      <th>7</th>\n",
              "      <td>CONCLUSIONS</td>\n",
              "      <td>Abnormal LFTs are common in the ADHF populatio...</td>\n",
              "      <td>7</td>\n",
              "      <td>9</td>\n",
              "      <td>CONCLUSIONS</td>\n",
              "      <td>0.499441</td>\n",
              "      <td>True</td>\n",
              "    </tr>\n",
              "    <tr>\n",
              "      <th>8</th>\n",
              "      <td>CONCLUSIONS</td>\n",
              "      <td>Elevated MELD-XI scores are associated with po...</td>\n",
              "      <td>8</td>\n",
              "      <td>9</td>\n",
              "      <td>RESULTS</td>\n",
              "      <td>0.470170</td>\n",
              "      <td>False</td>\n",
              "    </tr>\n",
              "    <tr>\n",
              "      <th>9</th>\n",
              "      <td>BACKGROUND</td>\n",
              "      <td>Minimally invasive endovascular aneurysm repai...</td>\n",
              "      <td>0</td>\n",
              "      <td>13</td>\n",
              "      <td>BACKGROUND</td>\n",
              "      <td>0.568836</td>\n",
              "      <td>True</td>\n",
              "    </tr>\n",
              "    <tr>\n",
              "      <th>10</th>\n",
              "      <td>BACKGROUND</td>\n",
              "      <td>The aim of this study was to analyse the cost-...</td>\n",
              "      <td>1</td>\n",
              "      <td>13</td>\n",
              "      <td>OBJECTIVE</td>\n",
              "      <td>0.448320</td>\n",
              "      <td>False</td>\n",
              "    </tr>\n",
              "    <tr>\n",
              "      <th>11</th>\n",
              "      <td>METHODS</td>\n",
              "      <td>Resource use was determined from the Amsterdam...</td>\n",
              "      <td>2</td>\n",
              "      <td>13</td>\n",
              "      <td>METHODS</td>\n",
              "      <td>0.634612</td>\n",
              "      <td>True</td>\n",
              "    </tr>\n",
              "    <tr>\n",
              "      <th>12</th>\n",
              "      <td>METHODS</td>\n",
              "      <td>The analysis was performed from a provider per...</td>\n",
              "      <td>3</td>\n",
              "      <td>13</td>\n",
              "      <td>METHODS</td>\n",
              "      <td>0.864799</td>\n",
              "      <td>True</td>\n",
              "    </tr>\n",
              "    <tr>\n",
              "      <th>13</th>\n",
              "      <td>METHODS</td>\n",
              "      <td>All costs were calculated as if all patients h...</td>\n",
              "      <td>4</td>\n",
              "      <td>13</td>\n",
              "      <td>METHODS</td>\n",
              "      <td>0.532539</td>\n",
              "      <td>True</td>\n",
              "    </tr>\n",
              "    <tr>\n",
              "      <th>14</th>\n",
              "      <td>RESULTS</td>\n",
              "      <td>A total of @ patients were randomized .</td>\n",
              "      <td>5</td>\n",
              "      <td>13</td>\n",
              "      <td>RESULTS</td>\n",
              "      <td>0.742217</td>\n",
              "      <td>True</td>\n",
              "    </tr>\n",
              "    <tr>\n",
              "      <th>15</th>\n",
              "      <td>RESULTS</td>\n",
              "      <td>The @-day mortality rate was @ per cent after ...</td>\n",
              "      <td>6</td>\n",
              "      <td>13</td>\n",
              "      <td>RESULTS</td>\n",
              "      <td>0.622501</td>\n",
              "      <td>True</td>\n",
              "    </tr>\n",
              "    <tr>\n",
              "      <th>16</th>\n",
              "      <td>RESULTS</td>\n",
              "      <td>At @months , the total mortality rate for EVAR...</td>\n",
              "      <td>7</td>\n",
              "      <td>13</td>\n",
              "      <td>RESULTS</td>\n",
              "      <td>0.885030</td>\n",
              "      <td>True</td>\n",
              "    </tr>\n",
              "    <tr>\n",
              "      <th>17</th>\n",
              "      <td>RESULTS</td>\n",
              "      <td>The mean cost difference between EVAR and OR w...</td>\n",
              "      <td>8</td>\n",
              "      <td>13</td>\n",
              "      <td>RESULTS</td>\n",
              "      <td>0.853753</td>\n",
              "      <td>True</td>\n",
              "    </tr>\n",
              "    <tr>\n",
              "      <th>18</th>\n",
              "      <td>RESULTS</td>\n",
              "      <td>The incremental cost-effectiveness ratio per p...</td>\n",
              "      <td>9</td>\n",
              "      <td>13</td>\n",
              "      <td>RESULTS</td>\n",
              "      <td>0.783666</td>\n",
              "      <td>True</td>\n",
              "    </tr>\n",
              "    <tr>\n",
              "      <th>19</th>\n",
              "      <td>RESULTS</td>\n",
              "      <td>There was no significant difference in quality...</td>\n",
              "      <td>10</td>\n",
              "      <td>13</td>\n",
              "      <td>RESULTS</td>\n",
              "      <td>0.777219</td>\n",
              "      <td>True</td>\n",
              "    </tr>\n",
              "  </tbody>\n",
              "</table>\n",
              "</div>\n",
              "      <button class=\"colab-df-convert\" onclick=\"convertToInteractive('df-40281034-c66b-414e-9243-0c9f1bd92f07')\"\n",
              "              title=\"Convert this dataframe to an interactive table.\"\n",
              "              style=\"display:none;\">\n",
              "        \n",
              "  <svg xmlns=\"http://www.w3.org/2000/svg\" height=\"24px\"viewBox=\"0 0 24 24\"\n",
              "       width=\"24px\">\n",
              "    <path d=\"M0 0h24v24H0V0z\" fill=\"none\"/>\n",
              "    <path d=\"M18.56 5.44l.94 2.06.94-2.06 2.06-.94-2.06-.94-.94-2.06-.94 2.06-2.06.94zm-11 1L8.5 8.5l.94-2.06 2.06-.94-2.06-.94L8.5 2.5l-.94 2.06-2.06.94zm10 10l.94 2.06.94-2.06 2.06-.94-2.06-.94-.94-2.06-.94 2.06-2.06.94z\"/><path d=\"M17.41 7.96l-1.37-1.37c-.4-.4-.92-.59-1.43-.59-.52 0-1.04.2-1.43.59L10.3 9.45l-7.72 7.72c-.78.78-.78 2.05 0 2.83L4 21.41c.39.39.9.59 1.41.59.51 0 1.02-.2 1.41-.59l7.78-7.78 2.81-2.81c.8-.78.8-2.07 0-2.86zM5.41 20L4 18.59l7.72-7.72 1.47 1.35L5.41 20z\"/>\n",
              "  </svg>\n",
              "      </button>\n",
              "      \n",
              "  <style>\n",
              "    .colab-df-container {\n",
              "      display:flex;\n",
              "      flex-wrap:wrap;\n",
              "      gap: 12px;\n",
              "    }\n",
              "\n",
              "    .colab-df-convert {\n",
              "      background-color: #E8F0FE;\n",
              "      border: none;\n",
              "      border-radius: 50%;\n",
              "      cursor: pointer;\n",
              "      display: none;\n",
              "      fill: #1967D2;\n",
              "      height: 32px;\n",
              "      padding: 0 0 0 0;\n",
              "      width: 32px;\n",
              "    }\n",
              "\n",
              "    .colab-df-convert:hover {\n",
              "      background-color: #E2EBFA;\n",
              "      box-shadow: 0px 1px 2px rgba(60, 64, 67, 0.3), 0px 1px 3px 1px rgba(60, 64, 67, 0.15);\n",
              "      fill: #174EA6;\n",
              "    }\n",
              "\n",
              "    [theme=dark] .colab-df-convert {\n",
              "      background-color: #3B4455;\n",
              "      fill: #D2E3FC;\n",
              "    }\n",
              "\n",
              "    [theme=dark] .colab-df-convert:hover {\n",
              "      background-color: #434B5C;\n",
              "      box-shadow: 0px 1px 3px 1px rgba(0, 0, 0, 0.15);\n",
              "      filter: drop-shadow(0px 1px 2px rgba(0, 0, 0, 0.3));\n",
              "      fill: #FFFFFF;\n",
              "    }\n",
              "  </style>\n",
              "\n",
              "      <script>\n",
              "        const buttonEl =\n",
              "          document.querySelector('#df-40281034-c66b-414e-9243-0c9f1bd92f07 button.colab-df-convert');\n",
              "        buttonEl.style.display =\n",
              "          google.colab.kernel.accessAllowed ? 'block' : 'none';\n",
              "\n",
              "        async function convertToInteractive(key) {\n",
              "          const element = document.querySelector('#df-40281034-c66b-414e-9243-0c9f1bd92f07');\n",
              "          const dataTable =\n",
              "            await google.colab.kernel.invokeFunction('convertToInteractive',\n",
              "                                                     [key], {});\n",
              "          if (!dataTable) return;\n",
              "\n",
              "          const docLinkHtml = 'Like what you see? Visit the ' +\n",
              "            '<a target=\"_blank\" href=https://colab.research.google.com/notebooks/data_table.ipynb>data table notebook</a>'\n",
              "            + ' to learn more about interactive tables.';\n",
              "          element.innerHTML = '';\n",
              "          dataTable['output_type'] = 'display_data';\n",
              "          await google.colab.output.renderOutput(dataTable, element);\n",
              "          const docLink = document.createElement('div');\n",
              "          docLink.innerHTML = docLinkHtml;\n",
              "          element.appendChild(docLink);\n",
              "        }\n",
              "      </script>\n",
              "    </div>\n",
              "  </div>\n",
              "  "
            ]
          },
          "metadata": {},
          "execution_count": 131
        }
      ]
    },
    {
      "cell_type": "code",
      "source": [
        "# Find 20 most wrong predictions\n",
        "top_20_wrong = test_df[test_df[\"correct\"] == False].sort_values(\"pred_prob\", ascending=False)[:20]\n",
        "top_20_wrong"
      ],
      "metadata": {
        "colab": {
          "base_uri": "https://localhost:8080/",
          "height": 721
        },
        "id": "B2Og4xqBrsTN",
        "outputId": "e052f72c-80fb-432c-9cd5-45010318ba15"
      },
      "execution_count": null,
      "outputs": [
        {
          "output_type": "execute_result",
          "data": {
            "text/plain": [
              "            target                                               text  \\\n",
              "1827   CONCLUSIONS                      NCT@ ( ClinicalTrials.gov ) .   \n",
              "8545       METHODS                                 Pretest-posttest .   \n",
              "13874  CONCLUSIONS  Symptom outcomes will be assessed and estimate...   \n",
              "14108  CONCLUSIONS                         Unique identifier : NCT@ .   \n",
              "16633  CONCLUSIONS             CLINICALTRIALS.GOV IDENTIFIER : NCT@ .   \n",
              "18720      RESULTS                       non-diffuse-trickling '' ) .   \n",
              "2388       RESULTS  The primary endpoint is the cumulative three-y...   \n",
              "26912  CONCLUSIONS                    ( ClinicalTrials.gov : NCT@ ) .   \n",
              "13598      METHODS  -@ % vs. Fish : -@ % vs. Fish + S : -@ % ; p <...   \n",
              "17399      METHODS             Clinicaltrials.gov identifier : NCT@ .   \n",
              "835     BACKGROUND  To assess the temporal patterns of late gastro...   \n",
              "697        RESULTS  A screening questionnaire for MOH was sent to ...   \n",
              "15697      RESULTS  Family practices were randomly assigned to rec...   \n",
              "22375      RESULTS  Patients were randomly assigned to receive eit...   \n",
              "23630      RESULTS  The primary outcome was to evaluate changes in...   \n",
              "16347   BACKGROUND  To evaluate the effects of the lactic acid bac...   \n",
              "4391   CONCLUSIONS  -LSB- Netherlands Trial Register ( http://www....   \n",
              "25382      METHODS  At this time , an AS@ response was achieved by...   \n",
              "29294      RESULTS  Baseline measures included sociodemographics ,...   \n",
              "18727  CONCLUSIONS             ( ClinicalTrials.gov number , NCT@ . )   \n",
              "\n",
              "       line_number  total_lines  prediction  pred_prob  correct  \n",
              "1827            18           19  BACKGROUND   0.954230    False  \n",
              "8545             1           12  BACKGROUND   0.934165    False  \n",
              "13874            4            7     METHODS   0.927726    False  \n",
              "14108           15           16  BACKGROUND   0.927270    False  \n",
              "16633           19           20  BACKGROUND   0.922607    False  \n",
              "18720            8           16  BACKGROUND   0.920399    False  \n",
              "2388             4           14     METHODS   0.920212    False  \n",
              "26912           13           14  BACKGROUND   0.919662    False  \n",
              "13598            6           10     RESULTS   0.915192    False  \n",
              "17399            4           10  BACKGROUND   0.912852    False  \n",
              "835              0           12   OBJECTIVE   0.909557    False  \n",
              "697              4           15     METHODS   0.906319    False  \n",
              "15697            3           12     METHODS   0.901859    False  \n",
              "22375            4           13     METHODS   0.901748    False  \n",
              "23630            6           15     METHODS   0.899259    False  \n",
              "16347            0           13   OBJECTIVE   0.897291    False  \n",
              "4391            15           16  BACKGROUND   0.893555    False  \n",
              "25382            5            8     RESULTS   0.893419    False  \n",
              "29294            4           14     METHODS   0.893291    False  \n",
              "18727           15           16  BACKGROUND   0.893284    False  "
            ],
            "text/html": [
              "\n",
              "  <div id=\"df-0fb14f78-9c82-4883-bd8a-e60d0791c47d\">\n",
              "    <div class=\"colab-df-container\">\n",
              "      <div>\n",
              "<style scoped>\n",
              "    .dataframe tbody tr th:only-of-type {\n",
              "        vertical-align: middle;\n",
              "    }\n",
              "\n",
              "    .dataframe tbody tr th {\n",
              "        vertical-align: top;\n",
              "    }\n",
              "\n",
              "    .dataframe thead th {\n",
              "        text-align: right;\n",
              "    }\n",
              "</style>\n",
              "<table border=\"1\" class=\"dataframe\">\n",
              "  <thead>\n",
              "    <tr style=\"text-align: right;\">\n",
              "      <th></th>\n",
              "      <th>target</th>\n",
              "      <th>text</th>\n",
              "      <th>line_number</th>\n",
              "      <th>total_lines</th>\n",
              "      <th>prediction</th>\n",
              "      <th>pred_prob</th>\n",
              "      <th>correct</th>\n",
              "    </tr>\n",
              "  </thead>\n",
              "  <tbody>\n",
              "    <tr>\n",
              "      <th>1827</th>\n",
              "      <td>CONCLUSIONS</td>\n",
              "      <td>NCT@ ( ClinicalTrials.gov ) .</td>\n",
              "      <td>18</td>\n",
              "      <td>19</td>\n",
              "      <td>BACKGROUND</td>\n",
              "      <td>0.954230</td>\n",
              "      <td>False</td>\n",
              "    </tr>\n",
              "    <tr>\n",
              "      <th>8545</th>\n",
              "      <td>METHODS</td>\n",
              "      <td>Pretest-posttest .</td>\n",
              "      <td>1</td>\n",
              "      <td>12</td>\n",
              "      <td>BACKGROUND</td>\n",
              "      <td>0.934165</td>\n",
              "      <td>False</td>\n",
              "    </tr>\n",
              "    <tr>\n",
              "      <th>13874</th>\n",
              "      <td>CONCLUSIONS</td>\n",
              "      <td>Symptom outcomes will be assessed and estimate...</td>\n",
              "      <td>4</td>\n",
              "      <td>7</td>\n",
              "      <td>METHODS</td>\n",
              "      <td>0.927726</td>\n",
              "      <td>False</td>\n",
              "    </tr>\n",
              "    <tr>\n",
              "      <th>14108</th>\n",
              "      <td>CONCLUSIONS</td>\n",
              "      <td>Unique identifier : NCT@ .</td>\n",
              "      <td>15</td>\n",
              "      <td>16</td>\n",
              "      <td>BACKGROUND</td>\n",
              "      <td>0.927270</td>\n",
              "      <td>False</td>\n",
              "    </tr>\n",
              "    <tr>\n",
              "      <th>16633</th>\n",
              "      <td>CONCLUSIONS</td>\n",
              "      <td>CLINICALTRIALS.GOV IDENTIFIER : NCT@ .</td>\n",
              "      <td>19</td>\n",
              "      <td>20</td>\n",
              "      <td>BACKGROUND</td>\n",
              "      <td>0.922607</td>\n",
              "      <td>False</td>\n",
              "    </tr>\n",
              "    <tr>\n",
              "      <th>18720</th>\n",
              "      <td>RESULTS</td>\n",
              "      <td>non-diffuse-trickling '' ) .</td>\n",
              "      <td>8</td>\n",
              "      <td>16</td>\n",
              "      <td>BACKGROUND</td>\n",
              "      <td>0.920399</td>\n",
              "      <td>False</td>\n",
              "    </tr>\n",
              "    <tr>\n",
              "      <th>2388</th>\n",
              "      <td>RESULTS</td>\n",
              "      <td>The primary endpoint is the cumulative three-y...</td>\n",
              "      <td>4</td>\n",
              "      <td>14</td>\n",
              "      <td>METHODS</td>\n",
              "      <td>0.920212</td>\n",
              "      <td>False</td>\n",
              "    </tr>\n",
              "    <tr>\n",
              "      <th>26912</th>\n",
              "      <td>CONCLUSIONS</td>\n",
              "      <td>( ClinicalTrials.gov : NCT@ ) .</td>\n",
              "      <td>13</td>\n",
              "      <td>14</td>\n",
              "      <td>BACKGROUND</td>\n",
              "      <td>0.919662</td>\n",
              "      <td>False</td>\n",
              "    </tr>\n",
              "    <tr>\n",
              "      <th>13598</th>\n",
              "      <td>METHODS</td>\n",
              "      <td>-@ % vs. Fish : -@ % vs. Fish + S : -@ % ; p &lt;...</td>\n",
              "      <td>6</td>\n",
              "      <td>10</td>\n",
              "      <td>RESULTS</td>\n",
              "      <td>0.915192</td>\n",
              "      <td>False</td>\n",
              "    </tr>\n",
              "    <tr>\n",
              "      <th>17399</th>\n",
              "      <td>METHODS</td>\n",
              "      <td>Clinicaltrials.gov identifier : NCT@ .</td>\n",
              "      <td>4</td>\n",
              "      <td>10</td>\n",
              "      <td>BACKGROUND</td>\n",
              "      <td>0.912852</td>\n",
              "      <td>False</td>\n",
              "    </tr>\n",
              "    <tr>\n",
              "      <th>835</th>\n",
              "      <td>BACKGROUND</td>\n",
              "      <td>To assess the temporal patterns of late gastro...</td>\n",
              "      <td>0</td>\n",
              "      <td>12</td>\n",
              "      <td>OBJECTIVE</td>\n",
              "      <td>0.909557</td>\n",
              "      <td>False</td>\n",
              "    </tr>\n",
              "    <tr>\n",
              "      <th>697</th>\n",
              "      <td>RESULTS</td>\n",
              "      <td>A screening questionnaire for MOH was sent to ...</td>\n",
              "      <td>4</td>\n",
              "      <td>15</td>\n",
              "      <td>METHODS</td>\n",
              "      <td>0.906319</td>\n",
              "      <td>False</td>\n",
              "    </tr>\n",
              "    <tr>\n",
              "      <th>15697</th>\n",
              "      <td>RESULTS</td>\n",
              "      <td>Family practices were randomly assigned to rec...</td>\n",
              "      <td>3</td>\n",
              "      <td>12</td>\n",
              "      <td>METHODS</td>\n",
              "      <td>0.901859</td>\n",
              "      <td>False</td>\n",
              "    </tr>\n",
              "    <tr>\n",
              "      <th>22375</th>\n",
              "      <td>RESULTS</td>\n",
              "      <td>Patients were randomly assigned to receive eit...</td>\n",
              "      <td>4</td>\n",
              "      <td>13</td>\n",
              "      <td>METHODS</td>\n",
              "      <td>0.901748</td>\n",
              "      <td>False</td>\n",
              "    </tr>\n",
              "    <tr>\n",
              "      <th>23630</th>\n",
              "      <td>RESULTS</td>\n",
              "      <td>The primary outcome was to evaluate changes in...</td>\n",
              "      <td>6</td>\n",
              "      <td>15</td>\n",
              "      <td>METHODS</td>\n",
              "      <td>0.899259</td>\n",
              "      <td>False</td>\n",
              "    </tr>\n",
              "    <tr>\n",
              "      <th>16347</th>\n",
              "      <td>BACKGROUND</td>\n",
              "      <td>To evaluate the effects of the lactic acid bac...</td>\n",
              "      <td>0</td>\n",
              "      <td>13</td>\n",
              "      <td>OBJECTIVE</td>\n",
              "      <td>0.897291</td>\n",
              "      <td>False</td>\n",
              "    </tr>\n",
              "    <tr>\n",
              "      <th>4391</th>\n",
              "      <td>CONCLUSIONS</td>\n",
              "      <td>-LSB- Netherlands Trial Register ( http://www....</td>\n",
              "      <td>15</td>\n",
              "      <td>16</td>\n",
              "      <td>BACKGROUND</td>\n",
              "      <td>0.893555</td>\n",
              "      <td>False</td>\n",
              "    </tr>\n",
              "    <tr>\n",
              "      <th>25382</th>\n",
              "      <td>METHODS</td>\n",
              "      <td>At this time , an AS@ response was achieved by...</td>\n",
              "      <td>5</td>\n",
              "      <td>8</td>\n",
              "      <td>RESULTS</td>\n",
              "      <td>0.893419</td>\n",
              "      <td>False</td>\n",
              "    </tr>\n",
              "    <tr>\n",
              "      <th>29294</th>\n",
              "      <td>RESULTS</td>\n",
              "      <td>Baseline measures included sociodemographics ,...</td>\n",
              "      <td>4</td>\n",
              "      <td>14</td>\n",
              "      <td>METHODS</td>\n",
              "      <td>0.893291</td>\n",
              "      <td>False</td>\n",
              "    </tr>\n",
              "    <tr>\n",
              "      <th>18727</th>\n",
              "      <td>CONCLUSIONS</td>\n",
              "      <td>( ClinicalTrials.gov number , NCT@ . )</td>\n",
              "      <td>15</td>\n",
              "      <td>16</td>\n",
              "      <td>BACKGROUND</td>\n",
              "      <td>0.893284</td>\n",
              "      <td>False</td>\n",
              "    </tr>\n",
              "  </tbody>\n",
              "</table>\n",
              "</div>\n",
              "      <button class=\"colab-df-convert\" onclick=\"convertToInteractive('df-0fb14f78-9c82-4883-bd8a-e60d0791c47d')\"\n",
              "              title=\"Convert this dataframe to an interactive table.\"\n",
              "              style=\"display:none;\">\n",
              "        \n",
              "  <svg xmlns=\"http://www.w3.org/2000/svg\" height=\"24px\"viewBox=\"0 0 24 24\"\n",
              "       width=\"24px\">\n",
              "    <path d=\"M0 0h24v24H0V0z\" fill=\"none\"/>\n",
              "    <path d=\"M18.56 5.44l.94 2.06.94-2.06 2.06-.94-2.06-.94-.94-2.06-.94 2.06-2.06.94zm-11 1L8.5 8.5l.94-2.06 2.06-.94-2.06-.94L8.5 2.5l-.94 2.06-2.06.94zm10 10l.94 2.06.94-2.06 2.06-.94-2.06-.94-.94-2.06-.94 2.06-2.06.94z\"/><path d=\"M17.41 7.96l-1.37-1.37c-.4-.4-.92-.59-1.43-.59-.52 0-1.04.2-1.43.59L10.3 9.45l-7.72 7.72c-.78.78-.78 2.05 0 2.83L4 21.41c.39.39.9.59 1.41.59.51 0 1.02-.2 1.41-.59l7.78-7.78 2.81-2.81c.8-.78.8-2.07 0-2.86zM5.41 20L4 18.59l7.72-7.72 1.47 1.35L5.41 20z\"/>\n",
              "  </svg>\n",
              "      </button>\n",
              "      \n",
              "  <style>\n",
              "    .colab-df-container {\n",
              "      display:flex;\n",
              "      flex-wrap:wrap;\n",
              "      gap: 12px;\n",
              "    }\n",
              "\n",
              "    .colab-df-convert {\n",
              "      background-color: #E8F0FE;\n",
              "      border: none;\n",
              "      border-radius: 50%;\n",
              "      cursor: pointer;\n",
              "      display: none;\n",
              "      fill: #1967D2;\n",
              "      height: 32px;\n",
              "      padding: 0 0 0 0;\n",
              "      width: 32px;\n",
              "    }\n",
              "\n",
              "    .colab-df-convert:hover {\n",
              "      background-color: #E2EBFA;\n",
              "      box-shadow: 0px 1px 2px rgba(60, 64, 67, 0.3), 0px 1px 3px 1px rgba(60, 64, 67, 0.15);\n",
              "      fill: #174EA6;\n",
              "    }\n",
              "\n",
              "    [theme=dark] .colab-df-convert {\n",
              "      background-color: #3B4455;\n",
              "      fill: #D2E3FC;\n",
              "    }\n",
              "\n",
              "    [theme=dark] .colab-df-convert:hover {\n",
              "      background-color: #434B5C;\n",
              "      box-shadow: 0px 1px 3px 1px rgba(0, 0, 0, 0.15);\n",
              "      filter: drop-shadow(0px 1px 2px rgba(0, 0, 0, 0.3));\n",
              "      fill: #FFFFFF;\n",
              "    }\n",
              "  </style>\n",
              "\n",
              "      <script>\n",
              "        const buttonEl =\n",
              "          document.querySelector('#df-0fb14f78-9c82-4883-bd8a-e60d0791c47d button.colab-df-convert');\n",
              "        buttonEl.style.display =\n",
              "          google.colab.kernel.accessAllowed ? 'block' : 'none';\n",
              "\n",
              "        async function convertToInteractive(key) {\n",
              "          const element = document.querySelector('#df-0fb14f78-9c82-4883-bd8a-e60d0791c47d');\n",
              "          const dataTable =\n",
              "            await google.colab.kernel.invokeFunction('convertToInteractive',\n",
              "                                                     [key], {});\n",
              "          if (!dataTable) return;\n",
              "\n",
              "          const docLinkHtml = 'Like what you see? Visit the ' +\n",
              "            '<a target=\"_blank\" href=https://colab.research.google.com/notebooks/data_table.ipynb>data table notebook</a>'\n",
              "            + ' to learn more about interactive tables.';\n",
              "          element.innerHTML = '';\n",
              "          dataTable['output_type'] = 'display_data';\n",
              "          await google.colab.output.renderOutput(dataTable, element);\n",
              "          const docLink = document.createElement('div');\n",
              "          docLink.innerHTML = docLinkHtml;\n",
              "          element.appendChild(docLink);\n",
              "        }\n",
              "      </script>\n",
              "    </div>\n",
              "  </div>\n",
              "  "
            ]
          },
          "metadata": {},
          "execution_count": 133
        }
      ]
    },
    {
      "cell_type": "markdown",
      "source": [
        "Now predict on real data"
      ],
      "metadata": {
        "id": "ucMQ5dCkt6bo"
      }
    },
    {
      "cell_type": "code",
      "source": [
        "# Get some real paragraph\n",
        "!wget https://raw.githubusercontent.com/mrdbourke/tensorflow-deep-learning/main/extras/skimlit_example_abstracts.json"
      ],
      "metadata": {
        "colab": {
          "base_uri": "https://localhost:8080/"
        },
        "id": "-uuMEyIYswo8",
        "outputId": "3be81d4f-815b-4b92-cc1e-764a09086987"
      },
      "execution_count": null,
      "outputs": [
        {
          "output_type": "stream",
          "name": "stdout",
          "text": [
            "--2023-01-01 05:06:28--  https://raw.githubusercontent.com/mrdbourke/tensorflow-deep-learning/main/extras/skimlit_example_abstracts.json\n",
            "Resolving raw.githubusercontent.com (raw.githubusercontent.com)... 185.199.108.133, 185.199.109.133, 185.199.110.133, ...\n",
            "Connecting to raw.githubusercontent.com (raw.githubusercontent.com)|185.199.108.133|:443... connected.\n",
            "HTTP request sent, awaiting response... 200 OK\n",
            "Length: 6737 (6.6K) [text/plain]\n",
            "Saving to: ‘skimlit_example_abstracts.json’\n",
            "\n",
            "\r          skimlit_e   0%[                    ]       0  --.-KB/s               \rskimlit_example_abs 100%[===================>]   6.58K  --.-KB/s    in 0s      \n",
            "\n",
            "2023-01-01 05:06:28 (64.4 MB/s) - ‘skimlit_example_abstracts.json’ saved [6737/6737]\n",
            "\n"
          ]
        }
      ]
    },
    {
      "cell_type": "code",
      "source": [
        "# Load paragraphs\n",
        "import json\n",
        "\n",
        "with open(\"skimlit_example_abstracts.json\", \"r\") as f:\n",
        "  example_abstracts = json.load(f)\n",
        "\n",
        "example_abstracts"
      ],
      "metadata": {
        "colab": {
          "base_uri": "https://localhost:8080/"
        },
        "id": "jtWIpbyZuVoF",
        "outputId": "efe775c8-b163-4b6c-d83c-a5b4525056e9"
      },
      "execution_count": null,
      "outputs": [
        {
          "output_type": "execute_result",
          "data": {
            "text/plain": [
              "[{'abstract': 'This RCT examined the efficacy of a manualized social intervention for children with HFASDs. Participants were randomly assigned to treatment or wait-list conditions. Treatment included instruction and therapeutic activities targeting social skills, face-emotion recognition, interest expansion, and interpretation of non-literal language. A response-cost program was applied to reduce problem behaviors and foster skills acquisition. Significant treatment effects were found for five of seven primary outcome measures (parent ratings and direct child measures). Secondary measures based on staff ratings (treatment group only) corroborated gains reported by parents. High levels of parent, child and staff satisfaction were reported, along with high levels of treatment fidelity. Standardized effect size estimates were primarily in the medium and large ranges and favored the treatment group.',\n",
              "  'source': 'https://pubmed.ncbi.nlm.nih.gov/20232240/',\n",
              "  'details': 'RCT of a manualized social treatment for high-functioning autism spectrum disorders'},\n",
              " {'abstract': \"Postpartum depression (PPD) is the most prevalent mood disorder associated with childbirth. No single cause of PPD has been identified, however the increased risk of nutritional deficiencies incurred through the high nutritional requirements of pregnancy may play a role in the pathology of depressive symptoms. Three nutritional interventions have drawn particular interest as possible non-invasive and cost-effective prevention and/or treatment strategies for PPD; omega-3 (n-3) long chain polyunsaturated fatty acids (LCPUFA), vitamin D and overall diet. We searched for meta-analyses of randomised controlled trials (RCT's) of nutritional interventions during the perinatal period with PPD as an outcome, and checked for any trials published subsequently to the meta-analyses. Fish oil: Eleven RCT's of prenatal fish oil supplementation RCT's show null and positive effects on PPD symptoms. Vitamin D: no relevant RCT's were identified, however seven observational studies of maternal vitamin D levels with PPD outcomes showed inconsistent associations. Diet: Two Australian RCT's with dietary advice interventions in pregnancy had a positive and null result on PPD. With the exception of fish oil, few RCT's with nutritional interventions during pregnancy assess PPD. Further research is needed to determine whether nutritional intervention strategies during pregnancy can protect against symptoms of PPD. Given the prevalence of PPD and ease of administering PPD measures, we recommend future prenatal nutritional RCT's include PPD as an outcome.\",\n",
              "  'source': 'https://pubmed.ncbi.nlm.nih.gov/28012571/',\n",
              "  'details': 'Formatting removed (can be used to compare model to actual example)'},\n",
              " {'abstract': 'Mental illness, including depression, anxiety and bipolar disorder, accounts for a significant proportion of global disability and poses a substantial social, economic and heath burden. Treatment is presently dominated by pharmacotherapy, such as antidepressants, and psychotherapy, such as cognitive behavioural therapy; however, such treatments avert less than half of the disease burden, suggesting that additional strategies are needed to prevent and treat mental disorders. There are now consistent mechanistic, observational and interventional data to suggest diet quality may be a modifiable risk factor for mental illness. This review provides an overview of the nutritional psychiatry field. It includes a discussion of the neurobiological mechanisms likely modulated by diet, the use of dietary and nutraceutical interventions in mental disorders, and recommendations for further research. Potential biological pathways related to mental disorders include inflammation, oxidative stress, the gut microbiome, epigenetic modifications and neuroplasticity. Consistent epidemiological evidence, particularly for depression, suggests an association between measures of diet quality and mental health, across multiple populations and age groups; these do not appear to be explained by other demographic, lifestyle factors or reverse causality. Our recently published intervention trial provides preliminary clinical evidence that dietary interventions in clinically diagnosed populations are feasible and can provide significant clinical benefit. Furthermore, nutraceuticals including n-3 fatty acids, folate, S-adenosylmethionine, N-acetyl cysteine and probiotics, among others, are promising avenues for future research. Continued research is now required to investigate the efficacy of intervention studies in large cohorts and within clinically relevant populations, particularly in patients with schizophrenia, bipolar and anxiety disorders.',\n",
              "  'source': 'https://pubmed.ncbi.nlm.nih.gov/28942748/',\n",
              "  'details': 'Effect of nutrition on mental health'},\n",
              " {'abstract': \"Hepatitis C virus (HCV) and alcoholic liver disease (ALD), either alone or in combination, count for more than two thirds of all liver diseases in the Western world. There is no safe level of drinking in HCV-infected patients and the most effective goal for these patients is total abstinence. Baclofen, a GABA(B) receptor agonist, represents a promising pharmacotherapy for alcohol dependence (AD). Previously, we performed a randomized clinical trial (RCT), which demonstrated the safety and efficacy of baclofen in patients affected by AD and cirrhosis. The goal of this post-hoc analysis was to explore baclofen's effect in a subgroup of alcohol-dependent HCV-infected cirrhotic patients. Any patient with HCV infection was selected for this analysis. Among the 84 subjects randomized in the main trial, 24 alcohol-dependent cirrhotic patients had a HCV infection; 12 received baclofen 10mg t.i.d. and 12 received placebo for 12-weeks. With respect to the placebo group (3/12, 25.0%), a significantly higher number of patients who achieved and maintained total alcohol abstinence was found in the baclofen group (10/12, 83.3%; p=0.0123). Furthermore, in the baclofen group, compared to placebo, there was a significantly higher increase in albumin values from baseline (p=0.0132) and a trend toward a significant reduction in INR levels from baseline (p=0.0716). In conclusion, baclofen was safe and significantly more effective than placebo in promoting alcohol abstinence, and improving some Liver Function Tests (LFTs) (i.e. albumin, INR) in alcohol-dependent HCV-infected cirrhotic patients. Baclofen may represent a clinically relevant alcohol pharmacotherapy for these patients.\",\n",
              "  'source': 'https://pubmed.ncbi.nlm.nih.gov/22244707/',\n",
              "  'details': 'Baclofen promotes alcohol abstinence in alcohol dependent cirrhotic patients with hepatitis C virus (HCV) infection'}]"
            ]
          },
          "metadata": {},
          "execution_count": 135
        }
      ]
    },
    {
      "cell_type": "code",
      "source": [
        "abstracts = pd.DataFrame(example_abstracts)\n",
        "abstracts"
      ],
      "metadata": {
        "colab": {
          "base_uri": "https://localhost:8080/",
          "height": 1201
        },
        "id": "cj_6Orgqu9Za",
        "outputId": "135e5f75-7608-4884-f6d8-c66ef16b0f35"
      },
      "execution_count": null,
      "outputs": [
        {
          "output_type": "execute_result",
          "data": {
            "text/plain": [
              "                                            abstract  \\\n",
              "0  This RCT examined the efficacy of a manualized...   \n",
              "1  Postpartum depression (PPD) is the most preval...   \n",
              "2  Mental illness, including depression, anxiety ...   \n",
              "3  Hepatitis C virus (HCV) and alcoholic liver di...   \n",
              "\n",
              "                                      source  \\\n",
              "0  https://pubmed.ncbi.nlm.nih.gov/20232240/   \n",
              "1  https://pubmed.ncbi.nlm.nih.gov/28012571/   \n",
              "2  https://pubmed.ncbi.nlm.nih.gov/28942748/   \n",
              "3  https://pubmed.ncbi.nlm.nih.gov/22244707/   \n",
              "\n",
              "                                             details  \n",
              "0  RCT of a manualized social treatment for high-...  \n",
              "1  Formatting removed (can be used to compare mod...  \n",
              "2               Effect of nutrition on mental health  \n",
              "3  Baclofen promotes alcohol abstinence in alcoho...  "
            ],
            "text/html": [
              "\n",
              "  <div id=\"df-7a943484-7ce7-46ec-a156-10e5703d576a\">\n",
              "    <div class=\"colab-df-container\">\n",
              "      <div>\n",
              "<style scoped>\n",
              "    .dataframe tbody tr th:only-of-type {\n",
              "        vertical-align: middle;\n",
              "    }\n",
              "\n",
              "    .dataframe tbody tr th {\n",
              "        vertical-align: top;\n",
              "    }\n",
              "\n",
              "    .dataframe thead th {\n",
              "        text-align: right;\n",
              "    }\n",
              "</style>\n",
              "<table border=\"1\" class=\"dataframe\">\n",
              "  <thead>\n",
              "    <tr style=\"text-align: right;\">\n",
              "      <th></th>\n",
              "      <th>abstract</th>\n",
              "      <th>source</th>\n",
              "      <th>details</th>\n",
              "    </tr>\n",
              "  </thead>\n",
              "  <tbody>\n",
              "    <tr>\n",
              "      <th>0</th>\n",
              "      <td>This RCT examined the efficacy of a manualized...</td>\n",
              "      <td>https://pubmed.ncbi.nlm.nih.gov/20232240/</td>\n",
              "      <td>RCT of a manualized social treatment for high-...</td>\n",
              "    </tr>\n",
              "    <tr>\n",
              "      <th>1</th>\n",
              "      <td>Postpartum depression (PPD) is the most preval...</td>\n",
              "      <td>https://pubmed.ncbi.nlm.nih.gov/28012571/</td>\n",
              "      <td>Formatting removed (can be used to compare mod...</td>\n",
              "    </tr>\n",
              "    <tr>\n",
              "      <th>2</th>\n",
              "      <td>Mental illness, including depression, anxiety ...</td>\n",
              "      <td>https://pubmed.ncbi.nlm.nih.gov/28942748/</td>\n",
              "      <td>Effect of nutrition on mental health</td>\n",
              "    </tr>\n",
              "    <tr>\n",
              "      <th>3</th>\n",
              "      <td>Hepatitis C virus (HCV) and alcoholic liver di...</td>\n",
              "      <td>https://pubmed.ncbi.nlm.nih.gov/22244707/</td>\n",
              "      <td>Baclofen promotes alcohol abstinence in alcoho...</td>\n",
              "    </tr>\n",
              "  </tbody>\n",
              "</table>\n",
              "</div>\n",
              "      <button class=\"colab-df-convert\" onclick=\"convertToInteractive('df-7a943484-7ce7-46ec-a156-10e5703d576a')\"\n",
              "              title=\"Convert this dataframe to an interactive table.\"\n",
              "              style=\"display:none;\">\n",
              "        \n",
              "  <svg xmlns=\"http://www.w3.org/2000/svg\" height=\"24px\"viewBox=\"0 0 24 24\"\n",
              "       width=\"24px\">\n",
              "    <path d=\"M0 0h24v24H0V0z\" fill=\"none\"/>\n",
              "    <path d=\"M18.56 5.44l.94 2.06.94-2.06 2.06-.94-2.06-.94-.94-2.06-.94 2.06-2.06.94zm-11 1L8.5 8.5l.94-2.06 2.06-.94-2.06-.94L8.5 2.5l-.94 2.06-2.06.94zm10 10l.94 2.06.94-2.06 2.06-.94-2.06-.94-.94-2.06-.94 2.06-2.06.94z\"/><path d=\"M17.41 7.96l-1.37-1.37c-.4-.4-.92-.59-1.43-.59-.52 0-1.04.2-1.43.59L10.3 9.45l-7.72 7.72c-.78.78-.78 2.05 0 2.83L4 21.41c.39.39.9.59 1.41.59.51 0 1.02-.2 1.41-.59l7.78-7.78 2.81-2.81c.8-.78.8-2.07 0-2.86zM5.41 20L4 18.59l7.72-7.72 1.47 1.35L5.41 20z\"/>\n",
              "  </svg>\n",
              "      </button>\n",
              "      \n",
              "  <style>\n",
              "    .colab-df-container {\n",
              "      display:flex;\n",
              "      flex-wrap:wrap;\n",
              "      gap: 12px;\n",
              "    }\n",
              "\n",
              "    .colab-df-convert {\n",
              "      background-color: #E8F0FE;\n",
              "      border: none;\n",
              "      border-radius: 50%;\n",
              "      cursor: pointer;\n",
              "      display: none;\n",
              "      fill: #1967D2;\n",
              "      height: 32px;\n",
              "      padding: 0 0 0 0;\n",
              "      width: 32px;\n",
              "    }\n",
              "\n",
              "    .colab-df-convert:hover {\n",
              "      background-color: #E2EBFA;\n",
              "      box-shadow: 0px 1px 2px rgba(60, 64, 67, 0.3), 0px 1px 3px 1px rgba(60, 64, 67, 0.15);\n",
              "      fill: #174EA6;\n",
              "    }\n",
              "\n",
              "    [theme=dark] .colab-df-convert {\n",
              "      background-color: #3B4455;\n",
              "      fill: #D2E3FC;\n",
              "    }\n",
              "\n",
              "    [theme=dark] .colab-df-convert:hover {\n",
              "      background-color: #434B5C;\n",
              "      box-shadow: 0px 1px 3px 1px rgba(0, 0, 0, 0.15);\n",
              "      filter: drop-shadow(0px 1px 2px rgba(0, 0, 0, 0.3));\n",
              "      fill: #FFFFFF;\n",
              "    }\n",
              "  </style>\n",
              "\n",
              "      <script>\n",
              "        const buttonEl =\n",
              "          document.querySelector('#df-7a943484-7ce7-46ec-a156-10e5703d576a button.colab-df-convert');\n",
              "        buttonEl.style.display =\n",
              "          google.colab.kernel.accessAllowed ? 'block' : 'none';\n",
              "\n",
              "        async function convertToInteractive(key) {\n",
              "          const element = document.querySelector('#df-7a943484-7ce7-46ec-a156-10e5703d576a');\n",
              "          const dataTable =\n",
              "            await google.colab.kernel.invokeFunction('convertToInteractive',\n",
              "                                                     [key], {});\n",
              "          if (!dataTable) return;\n",
              "\n",
              "          const docLinkHtml = 'Like what you see? Visit the ' +\n",
              "            '<a target=\"_blank\" href=https://colab.research.google.com/notebooks/data_table.ipynb>data table notebook</a>'\n",
              "            + ' to learn more about interactive tables.';\n",
              "          element.innerHTML = '';\n",
              "          dataTable['output_type'] = 'display_data';\n",
              "          await google.colab.output.renderOutput(dataTable, element);\n",
              "          const docLink = document.createElement('div');\n",
              "          docLink.innerHTML = docLinkHtml;\n",
              "          element.appendChild(docLink);\n",
              "        }\n",
              "      </script>\n",
              "    </div>\n",
              "  </div>\n",
              "  "
            ]
          },
          "metadata": {},
          "execution_count": 137
        }
      ]
    },
    {
      "cell_type": "code",
      "source": [
        "# Convert paragraph into sentences using spaCy\n",
        "from spacy.lang.en import English\n",
        "nlp = English() # setup english language parser\n",
        "nlp.add_pipe(\"sentencizer\")\n",
        "doc = nlp(example_abstracts[0][\"abstract\"]) # get the first abstract\n",
        "abstract_lines = [str(sent) for sent in list(doc.sents)]\n",
        "abstract_lines"
      ],
      "metadata": {
        "colab": {
          "base_uri": "https://localhost:8080/"
        },
        "id": "yAG2bUEtvKte",
        "outputId": "6eb2ef26-9b80-4873-fa25-bcdc299ae802"
      },
      "execution_count": null,
      "outputs": [
        {
          "output_type": "execute_result",
          "data": {
            "text/plain": [
              "['This RCT examined the efficacy of a manualized social intervention for children with HFASDs.',\n",
              " 'Participants were randomly assigned to treatment or wait-list conditions.',\n",
              " 'Treatment included instruction and therapeutic activities targeting social skills, face-emotion recognition, interest expansion, and interpretation of non-literal language.',\n",
              " 'A response-cost program was applied to reduce problem behaviors and foster skills acquisition.',\n",
              " 'Significant treatment effects were found for five of seven primary outcome measures (parent ratings and direct child measures).',\n",
              " 'Secondary measures based on staff ratings (treatment group only) corroborated gains reported by parents.',\n",
              " 'High levels of parent, child and staff satisfaction were reported, along with high levels of treatment fidelity.',\n",
              " 'Standardized effect size estimates were primarily in the medium and large ranges and favored the treatment group.']"
            ]
          },
          "metadata": {},
          "execution_count": 140
        }
      ]
    },
    {
      "cell_type": "markdown",
      "source": [
        "Preprocess data"
      ],
      "metadata": {
        "id": "qNBRgCL3x2rM"
      }
    },
    {
      "cell_type": "code",
      "source": [
        "# Total line numbers\n",
        "total_lines_in_sample = len(abstract_lines)\n",
        "\n",
        "sample_lines = []\n",
        "for i, line in enumerate(abstract_lines):\n",
        "  sample_dict = {}\n",
        "  sample_dict[\"text\"] = str(line)\n",
        "  sample_dict[\"line_number\"] = i\n",
        "  sample_dict[\"total_lines\"] = total_lines_in_sample - 1\n",
        "  sample_lines.append(sample_dict)\n",
        "\n",
        "sample_lines"
      ],
      "metadata": {
        "colab": {
          "base_uri": "https://localhost:8080/"
        },
        "id": "CRbmjkEexE17",
        "outputId": "cc0e20e9-378b-4013-c15c-4b3a5c8287c0"
      },
      "execution_count": null,
      "outputs": [
        {
          "output_type": "execute_result",
          "data": {
            "text/plain": [
              "[{'text': 'This RCT examined the efficacy of a manualized social intervention for children with HFASDs.',\n",
              "  'line_number': 0,\n",
              "  'total_lines': 7},\n",
              " {'text': 'Participants were randomly assigned to treatment or wait-list conditions.',\n",
              "  'line_number': 1,\n",
              "  'total_lines': 7},\n",
              " {'text': 'Treatment included instruction and therapeutic activities targeting social skills, face-emotion recognition, interest expansion, and interpretation of non-literal language.',\n",
              "  'line_number': 2,\n",
              "  'total_lines': 7},\n",
              " {'text': 'A response-cost program was applied to reduce problem behaviors and foster skills acquisition.',\n",
              "  'line_number': 3,\n",
              "  'total_lines': 7},\n",
              " {'text': 'Significant treatment effects were found for five of seven primary outcome measures (parent ratings and direct child measures).',\n",
              "  'line_number': 4,\n",
              "  'total_lines': 7},\n",
              " {'text': 'Secondary measures based on staff ratings (treatment group only) corroborated gains reported by parents.',\n",
              "  'line_number': 5,\n",
              "  'total_lines': 7},\n",
              " {'text': 'High levels of parent, child and staff satisfaction were reported, along with high levels of treatment fidelity.',\n",
              "  'line_number': 6,\n",
              "  'total_lines': 7},\n",
              " {'text': 'Standardized effect size estimates were primarily in the medium and large ranges and favored the treatment group.',\n",
              "  'line_number': 7,\n",
              "  'total_lines': 7}]"
            ]
          },
          "metadata": {},
          "execution_count": 141
        }
      ]
    },
    {
      "cell_type": "code",
      "source": [
        "# Get all line numbers\n",
        "test_abstract_line_numbers = [line[\"line_number\"] for line in sample_lines]\n",
        "# one-hot-encode to same depth as training data so input shape remains the same\n",
        "test_abstract_line_numbers_one_hot = tf.one_hot(test_abstract_line_numbers, depth=15)\n",
        "test_abstract_line_numbers_one_hot"
      ],
      "metadata": {
        "colab": {
          "base_uri": "https://localhost:8080/"
        },
        "id": "Fzibkh9IzAKk",
        "outputId": "c83c4923-c9d8-4a9f-aacc-74d53c7352b9"
      },
      "execution_count": null,
      "outputs": [
        {
          "output_type": "execute_result",
          "data": {
            "text/plain": [
              "<tf.Tensor: shape=(8, 15), dtype=float32, numpy=\n",
              "array([[1., 0., 0., 0., 0., 0., 0., 0., 0., 0., 0., 0., 0., 0., 0.],\n",
              "       [0., 1., 0., 0., 0., 0., 0., 0., 0., 0., 0., 0., 0., 0., 0.],\n",
              "       [0., 0., 1., 0., 0., 0., 0., 0., 0., 0., 0., 0., 0., 0., 0.],\n",
              "       [0., 0., 0., 1., 0., 0., 0., 0., 0., 0., 0., 0., 0., 0., 0.],\n",
              "       [0., 0., 0., 0., 1., 0., 0., 0., 0., 0., 0., 0., 0., 0., 0.],\n",
              "       [0., 0., 0., 0., 0., 1., 0., 0., 0., 0., 0., 0., 0., 0., 0.],\n",
              "       [0., 0., 0., 0., 0., 0., 1., 0., 0., 0., 0., 0., 0., 0., 0.],\n",
              "       [0., 0., 0., 0., 0., 0., 0., 1., 0., 0., 0., 0., 0., 0., 0.]],\n",
              "      dtype=float32)>"
            ]
          },
          "metadata": {},
          "execution_count": 142
        }
      ]
    },
    {
      "cell_type": "code",
      "source": [
        "# Do the same for total lines\n",
        "test_abstract_total_lines = [line[\"total_lines\"] for line in sample_lines]\n",
        "test_abstract_total_lines_one_hot = tf.one_hot(test_abstract_total_lines, depth=20)\n",
        "test_abstract_total_lines_one_hot"
      ],
      "metadata": {
        "colab": {
          "base_uri": "https://localhost:8080/"
        },
        "id": "3wetoVlu0qRv",
        "outputId": "ecf395a8-2ee0-420d-8d9a-589665031c24"
      },
      "execution_count": null,
      "outputs": [
        {
          "output_type": "execute_result",
          "data": {
            "text/plain": [
              "<tf.Tensor: shape=(8, 20), dtype=float32, numpy=\n",
              "array([[0., 0., 0., 0., 0., 0., 0., 1., 0., 0., 0., 0., 0., 0., 0., 0.,\n",
              "        0., 0., 0., 0.],\n",
              "       [0., 0., 0., 0., 0., 0., 0., 1., 0., 0., 0., 0., 0., 0., 0., 0.,\n",
              "        0., 0., 0., 0.],\n",
              "       [0., 0., 0., 0., 0., 0., 0., 1., 0., 0., 0., 0., 0., 0., 0., 0.,\n",
              "        0., 0., 0., 0.],\n",
              "       [0., 0., 0., 0., 0., 0., 0., 1., 0., 0., 0., 0., 0., 0., 0., 0.,\n",
              "        0., 0., 0., 0.],\n",
              "       [0., 0., 0., 0., 0., 0., 0., 1., 0., 0., 0., 0., 0., 0., 0., 0.,\n",
              "        0., 0., 0., 0.],\n",
              "       [0., 0., 0., 0., 0., 0., 0., 1., 0., 0., 0., 0., 0., 0., 0., 0.,\n",
              "        0., 0., 0., 0.],\n",
              "       [0., 0., 0., 0., 0., 0., 0., 1., 0., 0., 0., 0., 0., 0., 0., 0.,\n",
              "        0., 0., 0., 0.],\n",
              "       [0., 0., 0., 0., 0., 0., 0., 1., 0., 0., 0., 0., 0., 0., 0., 0.,\n",
              "        0., 0., 0., 0.]], dtype=float32)>"
            ]
          },
          "metadata": {},
          "execution_count": 143
        }
      ]
    },
    {
      "cell_type": "code",
      "source": [
        "# Split sentences into chars\n",
        "abstract_chars = [split_chars(sentence) for sentence in abstract_lines]\n",
        "abstract_chars"
      ],
      "metadata": {
        "colab": {
          "base_uri": "https://localhost:8080/"
        },
        "id": "bXAhR92R1X9A",
        "outputId": "54394b3f-4e93-41b9-8da1-7d79e12a5e70"
      },
      "execution_count": null,
      "outputs": [
        {
          "output_type": "execute_result",
          "data": {
            "text/plain": [
              "['T h i s   R C T   e x a m i n e d   t h e   e f f i c a c y   o f   a   m a n u a l i z e d   s o c i a l   i n t e r v e n t i o n   f o r   c h i l d r e n   w i t h   H F A S D s .',\n",
              " 'P a r t i c i p a n t s   w e r e   r a n d o m l y   a s s i g n e d   t o   t r e a t m e n t   o r   w a i t - l i s t   c o n d i t i o n s .',\n",
              " 'T r e a t m e n t   i n c l u d e d   i n s t r u c t i o n   a n d   t h e r a p e u t i c   a c t i v i t i e s   t a r g e t i n g   s o c i a l   s k i l l s ,   f a c e - e m o t i o n   r e c o g n i t i o n ,   i n t e r e s t   e x p a n s i o n ,   a n d   i n t e r p r e t a t i o n   o f   n o n - l i t e r a l   l a n g u a g e .',\n",
              " 'A   r e s p o n s e - c o s t   p r o g r a m   w a s   a p p l i e d   t o   r e d u c e   p r o b l e m   b e h a v i o r s   a n d   f o s t e r   s k i l l s   a c q u i s i t i o n .',\n",
              " 'S i g n i f i c a n t   t r e a t m e n t   e f f e c t s   w e r e   f o u n d   f o r   f i v e   o f   s e v e n   p r i m a r y   o u t c o m e   m e a s u r e s   ( p a r e n t   r a t i n g s   a n d   d i r e c t   c h i l d   m e a s u r e s ) .',\n",
              " 'S e c o n d a r y   m e a s u r e s   b a s e d   o n   s t a f f   r a t i n g s   ( t r e a t m e n t   g r o u p   o n l y )   c o r r o b o r a t e d   g a i n s   r e p o r t e d   b y   p a r e n t s .',\n",
              " 'H i g h   l e v e l s   o f   p a r e n t ,   c h i l d   a n d   s t a f f   s a t i s f a c t i o n   w e r e   r e p o r t e d ,   a l o n g   w i t h   h i g h   l e v e l s   o f   t r e a t m e n t   f i d e l i t y .',\n",
              " 'S t a n d a r d i z e d   e f f e c t   s i z e   e s t i m a t e s   w e r e   p r i m a r i l y   i n   t h e   m e d i u m   a n d   l a r g e   r a n g e s   a n d   f a v o r e d   t h e   t r e a t m e n t   g r o u p .']"
            ]
          },
          "metadata": {},
          "execution_count": 144
        }
      ]
    },
    {
      "cell_type": "code",
      "source": [
        "# Predict\n",
        "test_abstract_pred_probs = loaded_model.predict(x=(test_abstract_line_numbers_one_hot,\n",
        "                                                   test_abstract_total_lines_one_hot,\n",
        "                                                   tf.constant(abstract_lines),\n",
        "                                                   tf.constant(abstract_chars)))\n",
        "test_abstract_pred_probs"
      ],
      "metadata": {
        "colab": {
          "base_uri": "https://localhost:8080/"
        },
        "id": "hqjwumJE18an",
        "outputId": "4a2165cc-a013-41b0-c9e8-29aab9a42244"
      },
      "execution_count": null,
      "outputs": [
        {
          "output_type": "stream",
          "name": "stdout",
          "text": [
            "1/1 [==============================] - 2s 2s/step\n"
          ]
        },
        {
          "output_type": "execute_result",
          "data": {
            "text/plain": [
              "array([[0.28259182, 0.14917214, 0.0172959 , 0.5294553 , 0.0214848 ],\n",
              "       [0.08393656, 0.0359957 , 0.7279035 , 0.08965264, 0.06251159],\n",
              "       [0.13937096, 0.07206133, 0.50658345, 0.18892379, 0.09306046],\n",
              "       [0.09460465, 0.1906193 , 0.51156586, 0.0764259 , 0.1267843 ],\n",
              "       [0.05120696, 0.12492478, 0.43507734, 0.04458541, 0.34420547],\n",
              "       [0.03302595, 0.12631787, 0.60855776, 0.03626276, 0.1958356 ],\n",
              "       [0.03218795, 0.19121997, 0.10112908, 0.02749811, 0.6479649 ],\n",
              "       [0.01934974, 0.1431755 , 0.23345046, 0.03369519, 0.5703291 ]],\n",
              "      dtype=float32)"
            ]
          },
          "metadata": {},
          "execution_count": 145
        }
      ]
    },
    {
      "cell_type": "code",
      "source": [
        "test_abstract_preds = tf.argmax(test_abstract_pred_probs, axis=1)\n",
        "test_abstract_preds"
      ],
      "metadata": {
        "colab": {
          "base_uri": "https://localhost:8080/"
        },
        "id": "7XYYWkbi2zLM",
        "outputId": "263b543d-7f2f-4603-f41d-bd3d73a5baba"
      },
      "execution_count": null,
      "outputs": [
        {
          "output_type": "execute_result",
          "data": {
            "text/plain": [
              "<tf.Tensor: shape=(8,), dtype=int64, numpy=array([3, 2, 2, 2, 2, 2, 4, 4])>"
            ]
          },
          "metadata": {},
          "execution_count": 147
        }
      ]
    },
    {
      "cell_type": "code",
      "source": [
        "test_abstract_pred_classes = [label_encoder.classes_[i] for i in test_abstract_preds]\n",
        "test_abstract_pred_classes"
      ],
      "metadata": {
        "colab": {
          "base_uri": "https://localhost:8080/"
        },
        "id": "pmQpnRl_27yQ",
        "outputId": "74806685-9df7-4794-a9d5-896c5e8a61b8"
      },
      "execution_count": null,
      "outputs": [
        {
          "output_type": "execute_result",
          "data": {
            "text/plain": [
              "['OBJECTIVE',\n",
              " 'METHODS',\n",
              " 'METHODS',\n",
              " 'METHODS',\n",
              " 'METHODS',\n",
              " 'METHODS',\n",
              " 'RESULTS',\n",
              " 'RESULTS']"
            ]
          },
          "metadata": {},
          "execution_count": 148
        }
      ]
    },
    {
      "cell_type": "code",
      "source": [
        "# Visualize\n",
        "for i, line in enumerate(abstract_lines):\n",
        "  print(f\"{test_abstract_pred_classes[i]}: {line}\")"
      ],
      "metadata": {
        "colab": {
          "base_uri": "https://localhost:8080/"
        },
        "id": "steoxEoJ3bGs",
        "outputId": "f6255f2c-cab6-4c94-a9bc-77068e94329a"
      },
      "execution_count": null,
      "outputs": [
        {
          "output_type": "stream",
          "name": "stdout",
          "text": [
            "OBJECTIVE: This RCT examined the efficacy of a manualized social intervention for children with HFASDs.\n",
            "METHODS: Participants were randomly assigned to treatment or wait-list conditions.\n",
            "METHODS: Treatment included instruction and therapeutic activities targeting social skills, face-emotion recognition, interest expansion, and interpretation of non-literal language.\n",
            "METHODS: A response-cost program was applied to reduce problem behaviors and foster skills acquisition.\n",
            "METHODS: Significant treatment effects were found for five of seven primary outcome measures (parent ratings and direct child measures).\n",
            "METHODS: Secondary measures based on staff ratings (treatment group only) corroborated gains reported by parents.\n",
            "RESULTS: High levels of parent, child and staff satisfaction were reported, along with high levels of treatment fidelity.\n",
            "RESULTS: Standardized effect size estimates were primarily in the medium and large ranges and favored the treatment group.\n"
          ]
        }
      ]
    }
  ]
}