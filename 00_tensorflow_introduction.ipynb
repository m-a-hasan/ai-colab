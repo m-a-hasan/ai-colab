{
  "nbformat": 4,
  "nbformat_minor": 0,
  "metadata": {
    "colab": {
      "provenance": [],
      "authorship_tag": "ABX9TyNRRw6rfJFD1MdA+uDVnmrc"
    },
    "kernelspec": {
      "name": "python3",
      "display_name": "Python 3"
    },
    "language_info": {
      "name": "python"
    }
  },
  "cells": [
    {
      "cell_type": "markdown",
      "source": [
        "Introduction to Tensors"
      ],
      "metadata": {
        "id": "Ivxfhr26sMqv"
      }
    },
    {
      "cell_type": "code",
      "source": [
        "import tensorflow as tf\n",
        "\n",
        "print(tf.__version__)"
      ],
      "metadata": {
        "colab": {
          "base_uri": "https://localhost:8080/"
        },
        "id": "y9tsQaC6snaG",
        "outputId": "e59c39c7-71c5-4c4d-faae-eb014400508c"
      },
      "execution_count": null,
      "outputs": [
        {
          "output_type": "stream",
          "name": "stdout",
          "text": [
            "2.8.2\n"
          ]
        }
      ]
    },
    {
      "cell_type": "code",
      "source": [
        "# Create tensors with tf.constant()\n",
        "scalar = tf.constant(7)\n",
        "scalar"
      ],
      "metadata": {
        "colab": {
          "base_uri": "https://localhost:8080/"
        },
        "id": "vLfMjMRItIA4",
        "outputId": "99a88a8d-d02d-49c5-cc8b-f099a1b4265e"
      },
      "execution_count": null,
      "outputs": [
        {
          "output_type": "execute_result",
          "data": {
            "text/plain": [
              "<tf.Tensor: shape=(), dtype=int32, numpy=7>"
            ]
          },
          "metadata": {},
          "execution_count": 2
        }
      ]
    },
    {
      "cell_type": "code",
      "source": [
        "scalar.ndim"
      ],
      "metadata": {
        "colab": {
          "base_uri": "https://localhost:8080/"
        },
        "id": "FujPYp_Et5ey",
        "outputId": "8791a890-cc3b-4ca0-d85f-1639e47946cf"
      },
      "execution_count": null,
      "outputs": [
        {
          "output_type": "execute_result",
          "data": {
            "text/plain": [
              "0"
            ]
          },
          "metadata": {},
          "execution_count": 3
        }
      ]
    },
    {
      "cell_type": "code",
      "source": [
        "# Create a vector\n",
        "vector = tf.constant([10, 10])\n",
        "vector"
      ],
      "metadata": {
        "colab": {
          "base_uri": "https://localhost:8080/"
        },
        "id": "csQWiPc9Cwck",
        "outputId": "4afaa44d-94bc-45bf-cc1b-09d15c928e57"
      },
      "execution_count": null,
      "outputs": [
        {
          "output_type": "execute_result",
          "data": {
            "text/plain": [
              "<tf.Tensor: shape=(2,), dtype=int32, numpy=array([10, 10], dtype=int32)>"
            ]
          },
          "metadata": {},
          "execution_count": 4
        }
      ]
    },
    {
      "cell_type": "code",
      "source": [
        "vector.ndim"
      ],
      "metadata": {
        "colab": {
          "base_uri": "https://localhost:8080/"
        },
        "id": "kQspGm78DXUp",
        "outputId": "f693d380-c6a6-40fc-ceaf-101d86960d4f"
      },
      "execution_count": null,
      "outputs": [
        {
          "output_type": "execute_result",
          "data": {
            "text/plain": [
              "1"
            ]
          },
          "metadata": {},
          "execution_count": 5
        }
      ]
    },
    {
      "cell_type": "code",
      "source": [
        "matrix = tf.constant([[7, 10],\n",
        "                     [10, 7]])\n",
        "matrix"
      ],
      "metadata": {
        "colab": {
          "base_uri": "https://localhost:8080/"
        },
        "id": "bb2LkexWDfl0",
        "outputId": "e70aa0c8-00e8-48c7-a997-80a734f8f4af"
      },
      "execution_count": null,
      "outputs": [
        {
          "output_type": "execute_result",
          "data": {
            "text/plain": [
              "<tf.Tensor: shape=(2, 2), dtype=int32, numpy=\n",
              "array([[ 7, 10],\n",
              "       [10,  7]], dtype=int32)>"
            ]
          },
          "metadata": {},
          "execution_count": 6
        }
      ]
    },
    {
      "cell_type": "code",
      "source": [
        "matrix.ndim"
      ],
      "metadata": {
        "colab": {
          "base_uri": "https://localhost:8080/"
        },
        "id": "XhpMcnQ2EK4K",
        "outputId": "eeaf317a-9fab-449f-bdb7-e16091e68865"
      },
      "execution_count": null,
      "outputs": [
        {
          "output_type": "execute_result",
          "data": {
            "text/plain": [
              "2"
            ]
          },
          "metadata": {},
          "execution_count": 7
        }
      ]
    },
    {
      "cell_type": "code",
      "source": [
        "# Creating another matrix with different shape and data type\n",
        "another_matrix = tf.constant([[1.0, 2.0],\n",
        "                              [3.0, 4.0],\n",
        "                              [5.0, 6.0]], dtype = tf.float16)\n",
        "another_matrix"
      ],
      "metadata": {
        "colab": {
          "base_uri": "https://localhost:8080/"
        },
        "id": "qwc5aQAoFGGz",
        "outputId": "f3bef32d-d421-4033-810a-f140682c2618"
      },
      "execution_count": null,
      "outputs": [
        {
          "output_type": "execute_result",
          "data": {
            "text/plain": [
              "<tf.Tensor: shape=(3, 2), dtype=float16, numpy=\n",
              "array([[1., 2.],\n",
              "       [3., 4.],\n",
              "       [5., 6.]], dtype=float16)>"
            ]
          },
          "metadata": {},
          "execution_count": 8
        }
      ]
    },
    {
      "cell_type": "code",
      "source": [
        "another_matrix.ndim"
      ],
      "metadata": {
        "colab": {
          "base_uri": "https://localhost:8080/"
        },
        "id": "bI4qmUyXF-i0",
        "outputId": "96c6d234-c0c4-4c52-928f-ed4f0425f022"
      },
      "execution_count": null,
      "outputs": [
        {
          "output_type": "execute_result",
          "data": {
            "text/plain": [
              "2"
            ]
          },
          "metadata": {},
          "execution_count": 9
        }
      ]
    },
    {
      "cell_type": "code",
      "source": [
        "# Create a tensor\n",
        "my_tensor = tf.constant([\n",
        "                         [\n",
        "                          [1, 2, 3, 4],\n",
        "                          [3, 4, 5, 6],\n",
        "                          [5, 6, 7, 8]\n",
        "                         ],\n",
        "                         [\n",
        "                          [7, 8, 9, 10],\n",
        "                          [9, 10, 11, 12],\n",
        "                          [11, 12, 13, 14]\n",
        "                         ],\n",
        "                        ])\n",
        "my_tensor"
      ],
      "metadata": {
        "colab": {
          "base_uri": "https://localhost:8080/"
        },
        "id": "12mtYGmGGMqA",
        "outputId": "703c3d18-adbb-445a-b017-7bff051ac8f6"
      },
      "execution_count": null,
      "outputs": [
        {
          "output_type": "execute_result",
          "data": {
            "text/plain": [
              "<tf.Tensor: shape=(2, 3, 4), dtype=int32, numpy=\n",
              "array([[[ 1,  2,  3,  4],\n",
              "        [ 3,  4,  5,  6],\n",
              "        [ 5,  6,  7,  8]],\n",
              "\n",
              "       [[ 7,  8,  9, 10],\n",
              "        [ 9, 10, 11, 12],\n",
              "        [11, 12, 13, 14]]], dtype=int32)>"
            ]
          },
          "metadata": {},
          "execution_count": 10
        }
      ]
    },
    {
      "cell_type": "code",
      "source": [
        "my_tensor.ndim"
      ],
      "metadata": {
        "colab": {
          "base_uri": "https://localhost:8080/"
        },
        "id": "qqiPv56pIvWW",
        "outputId": "2ee74ff5-47cd-493b-cb9a-a4f52539bd14"
      },
      "execution_count": null,
      "outputs": [
        {
          "output_type": "execute_result",
          "data": {
            "text/plain": [
              "3"
            ]
          },
          "metadata": {},
          "execution_count": 11
        }
      ]
    },
    {
      "cell_type": "code",
      "source": [
        "# 4 dimensional tensor\n",
        "big_tensor = tf.constant([\n",
        "                          [\n",
        "                           [\n",
        "                            [1, 2, 3, 4, 5],\n",
        "                            [6, 7, 8, 9, 10],\n",
        "                            [11, 12, 13, 14, 15],\n",
        "                            [16, 17, 18, 19, 20]\n",
        "                           ],\n",
        "                           [\n",
        "                            [1, 2, 3, 4, 5],\n",
        "                            [6, 7, 8, 9, 10],\n",
        "                            [11, 12, 13, 14, 15],\n",
        "                            [16, 17, 18, 19, 20]\n",
        "                           ],\n",
        "                           [\n",
        "                            [1, 2, 3, 4, 5],\n",
        "                            [6, 7, 8, 9, 10],\n",
        "                            [11, 12, 13, 14, 15],\n",
        "                            [16, 17, 18, 19, 20]\n",
        "                           ]\n",
        "                          ],\n",
        "                          [\n",
        "                           [\n",
        "                            [1, 2, 3, 4, 5],\n",
        "                            [6, 7, 8, 9, 10],\n",
        "                            [11, 12, 13, 14, 15],\n",
        "                            [16, 17, 18, 19, 20]\n",
        "                           ],\n",
        "                           [\n",
        "                            [1, 2, 3, 4, 5],\n",
        "                            [6, 7, 8, 9, 10],\n",
        "                            [11, 12, 13, 14, 15],\n",
        "                            [16, 17, 18, 19, 20]\n",
        "                           ],\n",
        "                           [\n",
        "                            [1, 2, 3, 4, 5],\n",
        "                            [6, 7, 8, 9, 10],\n",
        "                            [11, 12, 13, 14, 15],\n",
        "                            [16, 17, 18, 19, 20]\n",
        "                           ]\n",
        "                          ]\n",
        "                        ])\n",
        "\n",
        "big_tensor"
      ],
      "metadata": {
        "colab": {
          "base_uri": "https://localhost:8080/"
        },
        "id": "PFr-LR7oJWmU",
        "outputId": "0f491f57-68ed-48da-f4c4-318768c17ffd"
      },
      "execution_count": null,
      "outputs": [
        {
          "output_type": "execute_result",
          "data": {
            "text/plain": [
              "<tf.Tensor: shape=(2, 3, 4, 5), dtype=int32, numpy=\n",
              "array([[[[ 1,  2,  3,  4,  5],\n",
              "         [ 6,  7,  8,  9, 10],\n",
              "         [11, 12, 13, 14, 15],\n",
              "         [16, 17, 18, 19, 20]],\n",
              "\n",
              "        [[ 1,  2,  3,  4,  5],\n",
              "         [ 6,  7,  8,  9, 10],\n",
              "         [11, 12, 13, 14, 15],\n",
              "         [16, 17, 18, 19, 20]],\n",
              "\n",
              "        [[ 1,  2,  3,  4,  5],\n",
              "         [ 6,  7,  8,  9, 10],\n",
              "         [11, 12, 13, 14, 15],\n",
              "         [16, 17, 18, 19, 20]]],\n",
              "\n",
              "\n",
              "       [[[ 1,  2,  3,  4,  5],\n",
              "         [ 6,  7,  8,  9, 10],\n",
              "         [11, 12, 13, 14, 15],\n",
              "         [16, 17, 18, 19, 20]],\n",
              "\n",
              "        [[ 1,  2,  3,  4,  5],\n",
              "         [ 6,  7,  8,  9, 10],\n",
              "         [11, 12, 13, 14, 15],\n",
              "         [16, 17, 18, 19, 20]],\n",
              "\n",
              "        [[ 1,  2,  3,  4,  5],\n",
              "         [ 6,  7,  8,  9, 10],\n",
              "         [11, 12, 13, 14, 15],\n",
              "         [16, 17, 18, 19, 20]]]], dtype=int32)>"
            ]
          },
          "metadata": {},
          "execution_count": 12
        }
      ]
    },
    {
      "cell_type": "code",
      "source": [
        "big_tensor.ndim"
      ],
      "metadata": {
        "colab": {
          "base_uri": "https://localhost:8080/"
        },
        "id": "57xss05UdsqM",
        "outputId": "30656b59-83d1-46e7-9c53-f438f94535e5"
      },
      "execution_count": null,
      "outputs": [
        {
          "output_type": "execute_result",
          "data": {
            "text/plain": [
              "4"
            ]
          },
          "metadata": {},
          "execution_count": 13
        }
      ]
    },
    {
      "cell_type": "code",
      "source": [
        "# simple 5 dimensional tensor\n",
        "simple_tensor = tf.constant([[[[[5]]]]])\n",
        "simple_tensor"
      ],
      "metadata": {
        "colab": {
          "base_uri": "https://localhost:8080/"
        },
        "id": "XAvig4nIdxIS",
        "outputId": "d24cf605-0eeb-42fc-b2cd-c48cc8dea6d7"
      },
      "execution_count": null,
      "outputs": [
        {
          "output_type": "execute_result",
          "data": {
            "text/plain": [
              "<tf.Tensor: shape=(1, 1, 1, 1, 1), dtype=int32, numpy=array([[[[[5]]]]], dtype=int32)>"
            ]
          },
          "metadata": {},
          "execution_count": 14
        }
      ]
    },
    {
      "cell_type": "code",
      "source": [
        "simple_tensor.ndim"
      ],
      "metadata": {
        "colab": {
          "base_uri": "https://localhost:8080/"
        },
        "id": "WfxiZyEpeQ5f",
        "outputId": "0bb8b7b1-4d48-4cb7-d7c7-6e8bd1facd01"
      },
      "execution_count": null,
      "outputs": [
        {
          "output_type": "execute_result",
          "data": {
            "text/plain": [
              "5"
            ]
          },
          "metadata": {},
          "execution_count": 15
        }
      ]
    },
    {
      "cell_type": "code",
      "source": [
        "# Changable tensor\n",
        "changable_tensor = tf.Variable([2, 3])\n",
        "unchangable_tensor = tf.constant([3, 4])\n",
        "changable_tensor, unchangable_tensor"
      ],
      "metadata": {
        "colab": {
          "base_uri": "https://localhost:8080/"
        },
        "id": "UMsw9tTEehYa",
        "outputId": "15a4ca90-458b-4c6a-cef9-cd7491783414"
      },
      "execution_count": null,
      "outputs": [
        {
          "output_type": "execute_result",
          "data": {
            "text/plain": [
              "(<tf.Variable 'Variable:0' shape=(2,) dtype=int32, numpy=array([2, 3], dtype=int32)>,\n",
              " <tf.Tensor: shape=(2,), dtype=int32, numpy=array([3, 4], dtype=int32)>)"
            ]
          },
          "metadata": {},
          "execution_count": 16
        }
      ]
    },
    {
      "cell_type": "code",
      "source": [
        "# Assign different value to variable\n",
        "changable_tensor[0].assign(7)\n",
        "changable_tensor[1].assign(10)"
      ],
      "metadata": {
        "colab": {
          "base_uri": "https://localhost:8080/"
        },
        "id": "LqgrX0XP6Ok7",
        "outputId": "90eb1b73-36b6-4960-907d-3f48cab60c9c"
      },
      "execution_count": null,
      "outputs": [
        {
          "output_type": "execute_result",
          "data": {
            "text/plain": [
              "<tf.Variable 'UnreadVariable' shape=(2,) dtype=int32, numpy=array([ 7, 10], dtype=int32)>"
            ]
          },
          "metadata": {},
          "execution_count": 17
        }
      ]
    },
    {
      "cell_type": "code",
      "source": [
        "# Create random uniform tensor\n",
        "random_tensor1 = tf.random.uniform(shape=[2,3,4], minval = 0, maxval = 10, dtype = tf.float16)\n",
        "random_tensor1"
      ],
      "metadata": {
        "colab": {
          "base_uri": "https://localhost:8080/"
        },
        "id": "4DLE248UA_ts",
        "outputId": "77bd1e85-95de-4884-ed69-9264028810ab"
      },
      "execution_count": null,
      "outputs": [
        {
          "output_type": "execute_result",
          "data": {
            "text/plain": [
              "<tf.Tensor: shape=(2, 3, 4), dtype=float16, numpy=\n",
              "array([[[7.99 , 4.836, 4.902, 7.312],\n",
              "        [1.533, 7.793, 2.695, 9.68 ],\n",
              "        [9.21 , 2.12 , 9.29 , 8.78 ]],\n",
              "\n",
              "       [[5.254, 9.39 , 3.564, 6.4  ],\n",
              "        [1.826, 9.26 , 9.23 , 9.54 ],\n",
              "        [1.387, 7.453, 3.78 , 5.684]]], dtype=float16)>"
            ]
          },
          "metadata": {},
          "execution_count": 18
        }
      ]
    },
    {
      "cell_type": "code",
      "source": [
        "from tensorflow._api.v2 import random\n",
        "# Create random normal tensor\n",
        "random_tensor2 = tf.random.Generator.from_seed(42)\n",
        "random_tensor2 = random_tensor2.normal(shape=(2,3,4), dtype = tf.float16)\n",
        "random_tensor3 = tf.random.Generator.from_seed(42)\n",
        "random_tensor3 = random_tensor3.normal(shape=(2,3,4), dtype = tf.float16)\n",
        "\n",
        "random_tensor2, random_tensor3, random_tensor2 == random_tensor3"
      ],
      "metadata": {
        "colab": {
          "base_uri": "https://localhost:8080/"
        },
        "id": "eByGO-245tWY",
        "outputId": "8993525c-996c-4c63-f1d7-455d8b523297"
      },
      "execution_count": null,
      "outputs": [
        {
          "output_type": "execute_result",
          "data": {
            "text/plain": [
              "(<tf.Tensor: shape=(2, 3, 4), dtype=float16, numpy=\n",
              " array([[[-0.7563 , -0.06854,  0.0759 , -1.258  ],\n",
              "         [-0.2319 , -1.811  ,  0.0999 , -0.51   ],\n",
              "         [-0.7534 , -0.572  ,  0.1481 , -0.2336 ]],\n",
              " \n",
              "        [[-0.3523 ,  0.4062 , -1.053  ,  1.205  ],\n",
              "         [ 1.6875 , -0.4463 , -2.342  ,  0.99   ],\n",
              "         [-0.08765, -0.6357 , -0.616  , -1.944  ]]], dtype=float16)>,\n",
              " <tf.Tensor: shape=(2, 3, 4), dtype=float16, numpy=\n",
              " array([[[-0.7563 , -0.06854,  0.0759 , -1.258  ],\n",
              "         [-0.2319 , -1.811  ,  0.0999 , -0.51   ],\n",
              "         [-0.7534 , -0.572  ,  0.1481 , -0.2336 ]],\n",
              " \n",
              "        [[-0.3523 ,  0.4062 , -1.053  ,  1.205  ],\n",
              "         [ 1.6875 , -0.4463 , -2.342  ,  0.99   ],\n",
              "         [-0.08765, -0.6357 , -0.616  , -1.944  ]]], dtype=float16)>,\n",
              " <tf.Tensor: shape=(2, 3, 4), dtype=bool, numpy=\n",
              " array([[[ True,  True,  True,  True],\n",
              "         [ True,  True,  True,  True],\n",
              "         [ True,  True,  True,  True]],\n",
              " \n",
              "        [[ True,  True,  True,  True],\n",
              "         [ True,  True,  True,  True],\n",
              "         [ True,  True,  True,  True]]])>)"
            ]
          },
          "metadata": {},
          "execution_count": 19
        }
      ]
    },
    {
      "cell_type": "code",
      "source": [
        "# Shuffle a tensor\n",
        "not_shuffled = tf.constant([\n",
        "                            [1, 2],\n",
        "                            [3, 4],\n",
        "                            [5, 6]\n",
        "                           ])\n",
        "shuffled = tf.random.shuffle(not_shuffled)\n",
        "shuffled"
      ],
      "metadata": {
        "id": "j_3w-V3r852N",
        "colab": {
          "base_uri": "https://localhost:8080/"
        },
        "outputId": "f93b7940-cf4d-456a-a980-ec4abc6bf02b"
      },
      "execution_count": null,
      "outputs": [
        {
          "output_type": "execute_result",
          "data": {
            "text/plain": [
              "<tf.Tensor: shape=(3, 2), dtype=int32, numpy=\n",
              "array([[1, 2],\n",
              "       [3, 4],\n",
              "       [5, 6]], dtype=int32)>"
            ]
          },
          "metadata": {},
          "execution_count": 20
        }
      ]
    },
    {
      "cell_type": "code",
      "source": [
        "# Create tensor of all 1\n",
        "tf.ones([3, 4], tf.int8)"
      ],
      "metadata": {
        "colab": {
          "base_uri": "https://localhost:8080/"
        },
        "id": "AP8L8n2g-N5F",
        "outputId": "d4186d39-827d-4dd2-ca76-127f2fa5ee03"
      },
      "execution_count": null,
      "outputs": [
        {
          "output_type": "execute_result",
          "data": {
            "text/plain": [
              "<tf.Tensor: shape=(3, 4), dtype=int8, numpy=\n",
              "array([[1, 1, 1, 1],\n",
              "       [1, 1, 1, 1],\n",
              "       [1, 1, 1, 1]], dtype=int8)>"
            ]
          },
          "metadata": {},
          "execution_count": 21
        }
      ]
    },
    {
      "cell_type": "code",
      "source": [
        "# Create tensor of all 0\n",
        "tf.zeros([3, 4], tf.int8)"
      ],
      "metadata": {
        "colab": {
          "base_uri": "https://localhost:8080/"
        },
        "id": "ZOh3J5In_WP4",
        "outputId": "a7e94416-cb9d-4a41-c596-326451dba574"
      },
      "execution_count": null,
      "outputs": [
        {
          "output_type": "execute_result",
          "data": {
            "text/plain": [
              "<tf.Tensor: shape=(3, 4), dtype=int8, numpy=\n",
              "array([[0, 0, 0, 0],\n",
              "       [0, 0, 0, 0],\n",
              "       [0, 0, 0, 0]], dtype=int8)>"
            ]
          },
          "metadata": {},
          "execution_count": 22
        }
      ]
    },
    {
      "cell_type": "code",
      "source": [
        "# Create a NumPy array\n",
        "import numpy as np\n",
        "change_numpy = np.array([1, 2, 3], dtype=np.int8)\n",
        "change_numpy"
      ],
      "metadata": {
        "colab": {
          "base_uri": "https://localhost:8080/"
        },
        "id": "v-EqIX42_kIz",
        "outputId": "e475a826-0ca3-439d-98dd-49a17ae196ab"
      },
      "execution_count": null,
      "outputs": [
        {
          "output_type": "execute_result",
          "data": {
            "text/plain": [
              "array([1, 2, 3], dtype=int8)"
            ]
          },
          "metadata": {},
          "execution_count": 23
        }
      ]
    },
    {
      "cell_type": "code",
      "source": [
        "# Changing NumPy arrays into tensors (tensors are faster as it runs on GPU)\n",
        "# Below will not work because it has 3 elements, but shape(2, 3, 4) has 24 elements\n",
        "# changed_numpy = tf.constant(change_numpy, dtype = tf.int8, shape = (2, 3, 4))\n",
        "# Lets create new numpy array with 24 elements\n",
        "change_numpy = np.arange(1, 25, dtype=int)\n",
        "change_numpy"
      ],
      "metadata": {
        "colab": {
          "base_uri": "https://localhost:8080/"
        },
        "id": "rc-1VgPoAMkz",
        "outputId": "5e235c32-82f4-4011-9d05-4b83d63e1ee5"
      },
      "execution_count": null,
      "outputs": [
        {
          "output_type": "execute_result",
          "data": {
            "text/plain": [
              "array([ 1,  2,  3,  4,  5,  6,  7,  8,  9, 10, 11, 12, 13, 14, 15, 16, 17,\n",
              "       18, 19, 20, 21, 22, 23, 24])"
            ]
          },
          "metadata": {},
          "execution_count": 24
        }
      ]
    },
    {
      "cell_type": "code",
      "source": [
        "# Changing NumPy arrays into tensors (tensors are faster as it runs on GPU)\n",
        "changed_numpy = tf.constant(change_numpy, dtype = tf.int8, shape = (2, 3, 4))\n",
        "changed_numpy"
      ],
      "metadata": {
        "colab": {
          "base_uri": "https://localhost:8080/"
        },
        "id": "NXuxK29KCAie",
        "outputId": "febee6ac-268d-4f2f-c64c-4a96fc7a8cbf"
      },
      "execution_count": null,
      "outputs": [
        {
          "output_type": "execute_result",
          "data": {
            "text/plain": [
              "<tf.Tensor: shape=(2, 3, 4), dtype=int8, numpy=\n",
              "array([[[ 1,  2,  3,  4],\n",
              "        [ 5,  6,  7,  8],\n",
              "        [ 9, 10, 11, 12]],\n",
              "\n",
              "       [[13, 14, 15, 16],\n",
              "        [17, 18, 19, 20],\n",
              "        [21, 22, 23, 24]]], dtype=int8)>"
            ]
          },
          "metadata": {},
          "execution_count": 25
        }
      ]
    },
    {
      "cell_type": "code",
      "source": [
        "# Create a \"rank 4\" tensor (rank = ndim)\n",
        "#rank_4_tensor = tf.zeros(dtype = tf.int8, shape = (2, 3, 4, 5))\n",
        "rank_4_tensor = tf.random.Generator.from_seed(42)\n",
        "rank_4_tensor = rank_4_tensor.normal(shape=(2,3,4,5), dtype = tf.float16)\n",
        "rank_4_tensor"
      ],
      "metadata": {
        "colab": {
          "base_uri": "https://localhost:8080/"
        },
        "id": "vJNIpBakEeCx",
        "outputId": "6c1138ad-4716-4a91-8a6f-713d57f88ad1"
      },
      "execution_count": null,
      "outputs": [
        {
          "output_type": "execute_result",
          "data": {
            "text/plain": [
              "<tf.Tensor: shape=(2, 3, 4, 5), dtype=float16, numpy=\n",
              "array([[[[-0.7563 , -0.06854,  0.0759 , -1.258  , -0.2319 ],\n",
              "         [-1.811  ,  0.0999 , -0.51   , -0.7534 , -0.572  ],\n",
              "         [ 0.1481 , -0.2336 , -0.3523 ,  0.4062 , -1.053  ],\n",
              "         [ 1.205  ,  1.6875 , -0.4463 , -2.342  ,  0.99   ]],\n",
              "\n",
              "        [[-0.08765, -0.6357 , -0.616  , -1.944  , -0.483  ],\n",
              "         [-0.5244 , -1.034  ,  1.307  , -1.519  , -0.4585 ],\n",
              "         [ 0.5713 , -1.533  ,  0.4534 ,  1.148  , -1.266  ],\n",
              "         [-0.4746 ,  2.006  ,  0.283  , -0.303  , -1.443  ]],\n",
              "\n",
              "        [[ 1.004  ,  0.2086 ,  0.357  ,  1.064  ,  1.243  ],\n",
              "         [-2.217  ,  0.187  ,  0.6616 ,  0.0138 , -0.2483 ],\n",
              "         [ 1.211  , -0.7197 , -0.04083,  2.68   ,  1.092  ],\n",
              "         [ 0.3315 , -0.6797 ,  0.4473 , -0.1781 ,  0.2488 ]]],\n",
              "\n",
              "\n",
              "       [[[ 0.4968 ,  0.826  ,  1.034  , -0.2491 , -1.578  ],\n",
              "         [-0.9214 ,  0.2686 ,  0.942  , -0.947  , -0.711  ],\n",
              "         [ 1.3    , -0.6147 , -1.472  , -0.1009 ,  0.9604 ],\n",
              "         [-1.637  ,  0.1766 , -0.6704 , -0.5034 , -1.204  ]],\n",
              "\n",
              "        [[-2.525  ,  0.0508 ,  1.722  , -0.6577 ,  0.794  ],\n",
              "         [ 1.321  ,  0.346  , -0.67   ,  0.4604 ,  0.515  ],\n",
              "         [-0.0652 , -1.442  , -0.4849 , -1.836  ,  0.9146 ],\n",
              "         [ 0.5146 ,  0.552  , -0.374  , -0.287  ,  1.509  ]],\n",
              "\n",
              "        [[-0.1483 , -1.284  ,  0.5483 ,  0.10596,  0.2179 ],\n",
              "         [ 0.7065 , -0.1921 ,  1.139  ,  0.2917 ,  1.453  ],\n",
              "         [-0.8223 , -1.345  , -0.7183 , -0.2037 ,  0.6294 ],\n",
              "         [-0.8765 , -0.5923 ,  0.05643, -0.1698 , -1.097  ]]]],\n",
              "      dtype=float16)>"
            ]
          },
          "metadata": {},
          "execution_count": 26
        }
      ]
    },
    {
      "cell_type": "code",
      "source": [
        "rank_4_tensor[0]"
      ],
      "metadata": {
        "colab": {
          "base_uri": "https://localhost:8080/"
        },
        "id": "DpVZnkntHBZP",
        "outputId": "d80c27df-c85c-4e59-d359-14c2b49cc5ce"
      },
      "execution_count": null,
      "outputs": [
        {
          "output_type": "execute_result",
          "data": {
            "text/plain": [
              "<tf.Tensor: shape=(3, 4, 5), dtype=float16, numpy=\n",
              "array([[[-0.7563 , -0.06854,  0.0759 , -1.258  , -0.2319 ],\n",
              "        [-1.811  ,  0.0999 , -0.51   , -0.7534 , -0.572  ],\n",
              "        [ 0.1481 , -0.2336 , -0.3523 ,  0.4062 , -1.053  ],\n",
              "        [ 1.205  ,  1.6875 , -0.4463 , -2.342  ,  0.99   ]],\n",
              "\n",
              "       [[-0.08765, -0.6357 , -0.616  , -1.944  , -0.483  ],\n",
              "        [-0.5244 , -1.034  ,  1.307  , -1.519  , -0.4585 ],\n",
              "        [ 0.5713 , -1.533  ,  0.4534 ,  1.148  , -1.266  ],\n",
              "        [-0.4746 ,  2.006  ,  0.283  , -0.303  , -1.443  ]],\n",
              "\n",
              "       [[ 1.004  ,  0.2086 ,  0.357  ,  1.064  ,  1.243  ],\n",
              "        [-2.217  ,  0.187  ,  0.6616 ,  0.0138 , -0.2483 ],\n",
              "        [ 1.211  , -0.7197 , -0.04083,  2.68   ,  1.092  ],\n",
              "        [ 0.3315 , -0.6797 ,  0.4473 , -0.1781 ,  0.2488 ]]],\n",
              "      dtype=float16)>"
            ]
          },
          "metadata": {},
          "execution_count": 27
        }
      ]
    },
    {
      "cell_type": "code",
      "source": [
        "# Get shape, dimension and size of the tensor\n",
        "rank_4_tensor.shape, rank_4_tensor.ndim, tf.size(rank_4_tensor)"
      ],
      "metadata": {
        "colab": {
          "base_uri": "https://localhost:8080/"
        },
        "id": "SzEgcUVWH8na",
        "outputId": "3a1aacfd-26c9-4da1-e2df-75cd203f6911"
      },
      "execution_count": null,
      "outputs": [
        {
          "output_type": "execute_result",
          "data": {
            "text/plain": [
              "(TensorShape([2, 3, 4, 5]), 4, <tf.Tensor: shape=(), dtype=int32, numpy=120>)"
            ]
          },
          "metadata": {},
          "execution_count": 28
        }
      ]
    },
    {
      "cell_type": "code",
      "source": [
        "# Get all attributes of a tensor\n",
        "print(\"Datatype:\", rank_4_tensor.dtype)\n",
        "print(\"Number of dimensions/rank:\", rank_4_tensor.ndim)\n",
        "print(\"Shape:\", rank_4_tensor.shape)\n",
        "print(\"Number of elements on 0 axis:\", rank_4_tensor.shape[0])\n",
        "print(\"Number of elements on last axis:\", rank_4_tensor.shape[-1])\n",
        "print(\"Total number of elements:\", tf.size(rank_4_tensor).numpy())"
      ],
      "metadata": {
        "id": "N5sB5RC7IbQt",
        "colab": {
          "base_uri": "https://localhost:8080/"
        },
        "outputId": "3f886737-e2a9-470b-d48b-f04254634dac"
      },
      "execution_count": null,
      "outputs": [
        {
          "output_type": "stream",
          "name": "stdout",
          "text": [
            "Datatype: <dtype: 'float16'>\n",
            "Number of dimensions/rank: 4\n",
            "Shape: (2, 3, 4, 5)\n",
            "Number of elements on 0 axis: 2\n",
            "Number of elements on last axis: 5\n",
            "Total number of elements: 120\n"
          ]
        }
      ]
    },
    {
      "cell_type": "code",
      "source": [
        "# Get first 2 elements of some list\n",
        "list_sample = [1, 2, 3, 4]\n",
        "list_sample[:2]"
      ],
      "metadata": {
        "id": "bw6V95rNkdbP",
        "colab": {
          "base_uri": "https://localhost:8080/"
        },
        "outputId": "cf565dfa-ec3f-419b-d785-482a0401078b"
      },
      "execution_count": null,
      "outputs": [
        {
          "output_type": "execute_result",
          "data": {
            "text/plain": [
              "[1, 2]"
            ]
          },
          "metadata": {},
          "execution_count": 30
        }
      ]
    },
    {
      "cell_type": "code",
      "source": [
        "# Get first 2 elements of all dimension of the tensor\n",
        "rank_4_tensor[:2, :2, :2, :2]"
      ],
      "metadata": {
        "colab": {
          "base_uri": "https://localhost:8080/"
        },
        "id": "w4HNOap8reYw",
        "outputId": "a1f3ae0e-b93f-49b5-e12b-fd7ccdeca5f6"
      },
      "execution_count": null,
      "outputs": [
        {
          "output_type": "execute_result",
          "data": {
            "text/plain": [
              "<tf.Tensor: shape=(2, 2, 2, 2), dtype=float16, numpy=\n",
              "array([[[[-0.7563 , -0.06854],\n",
              "         [-1.811  ,  0.0999 ]],\n",
              "\n",
              "        [[-0.08765, -0.6357 ],\n",
              "         [-0.5244 , -1.034  ]]],\n",
              "\n",
              "\n",
              "       [[[ 0.4968 ,  0.826  ],\n",
              "         [-0.9214 ,  0.2686 ]],\n",
              "\n",
              "        [[-2.525  ,  0.0508 ],\n",
              "         [ 1.321  ,  0.346  ]]]], dtype=float16)>"
            ]
          },
          "metadata": {},
          "execution_count": 31
        }
      ]
    },
    {
      "cell_type": "code",
      "source": [
        "# New rank 2 tensor\n",
        "rank_2_tensor = tf.random.Generator.from_seed(2)\n",
        "rank_2_tensor = rank_2_tensor.normal(shape=(2,3), dtype = tf.float16)\n",
        "rank_2_tensor"
      ],
      "metadata": {
        "colab": {
          "base_uri": "https://localhost:8080/"
        },
        "id": "qvBBvgOgrtAG",
        "outputId": "41564200-0208-439a-a815-c430bd57121c"
      },
      "execution_count": null,
      "outputs": [
        {
          "output_type": "execute_result",
          "data": {
            "text/plain": [
              "<tf.Tensor: shape=(2, 3), dtype=float16, numpy=\n",
              "array([[-0.10126, -0.2744 ,  1.421  ],\n",
              "       [ 1.261  , -0.4365 , -1.964  ]], dtype=float16)>"
            ]
          },
          "metadata": {},
          "execution_count": 32
        }
      ]
    },
    {
      "cell_type": "code",
      "source": [
        "# Add 1 extra dimension to rank_2_tensor\n",
        "# ... means all the dimensions before\n",
        "rank_2_tensor[..., tf.newaxis]"
      ],
      "metadata": {
        "colab": {
          "base_uri": "https://localhost:8080/"
        },
        "id": "DhKChkitDAzG",
        "outputId": "c22cd0aa-5a36-46c6-af27-b0eec4da5d03"
      },
      "execution_count": null,
      "outputs": [
        {
          "output_type": "execute_result",
          "data": {
            "text/plain": [
              "<tf.Tensor: shape=(2, 3, 1), dtype=float16, numpy=\n",
              "array([[[-0.10126],\n",
              "        [-0.2744 ],\n",
              "        [ 1.421  ]],\n",
              "\n",
              "       [[ 1.261  ],\n",
              "        [-0.4365 ],\n",
              "        [-1.964  ]]], dtype=float16)>"
            ]
          },
          "metadata": {},
          "execution_count": 33
        }
      ]
    },
    {
      "cell_type": "code",
      "source": [
        "# Another way to add a new axis\n",
        "tf.expand_dims(rank_2_tensor, axis = -1)"
      ],
      "metadata": {
        "colab": {
          "base_uri": "https://localhost:8080/"
        },
        "id": "Bj-HaM0cDcgS",
        "outputId": "db885470-b3b4-4379-faf3-16cd0b97b558"
      },
      "execution_count": null,
      "outputs": [
        {
          "output_type": "execute_result",
          "data": {
            "text/plain": [
              "<tf.Tensor: shape=(2, 3, 1), dtype=float16, numpy=\n",
              "array([[[-0.10126],\n",
              "        [-0.2744 ],\n",
              "        [ 1.421  ]],\n",
              "\n",
              "       [[ 1.261  ],\n",
              "        [-0.4365 ],\n",
              "        [-1.964  ]]], dtype=float16)>"
            ]
          },
          "metadata": {},
          "execution_count": 34
        }
      ]
    },
    {
      "cell_type": "code",
      "source": [
        "# Expand 0-axis\n",
        "tf.expand_dims(rank_2_tensor, axis = 0)"
      ],
      "metadata": {
        "colab": {
          "base_uri": "https://localhost:8080/"
        },
        "id": "deqZcVQlFBOa",
        "outputId": "5722b617-f1d1-42dc-9575-043ad4da6b81"
      },
      "execution_count": null,
      "outputs": [
        {
          "output_type": "execute_result",
          "data": {
            "text/plain": [
              "<tf.Tensor: shape=(1, 2, 3), dtype=float16, numpy=\n",
              "array([[[-0.10126, -0.2744 ,  1.421  ],\n",
              "        [ 1.261  , -0.4365 , -1.964  ]]], dtype=float16)>"
            ]
          },
          "metadata": {},
          "execution_count": 35
        }
      ]
    },
    {
      "cell_type": "markdown",
      "source": [
        "Tensor Manipulation (operations)"
      ],
      "metadata": {
        "id": "zsaQerDhGg2X"
      }
    },
    {
      "cell_type": "code",
      "source": [
        "# Addition\n",
        "tensor_manipulation = tf.constant([[1, 2],\n",
        "                                   [3, 4]])\n",
        "tensor_manipulation + 5"
      ],
      "metadata": {
        "colab": {
          "base_uri": "https://localhost:8080/"
        },
        "id": "uoOJTqoIF9Lt",
        "outputId": "6fd7cb0e-9159-444d-d41b-1cf50c7c44db"
      },
      "execution_count": null,
      "outputs": [
        {
          "output_type": "execute_result",
          "data": {
            "text/plain": [
              "<tf.Tensor: shape=(2, 2), dtype=int32, numpy=\n",
              "array([[6, 7],\n",
              "       [8, 9]], dtype=int32)>"
            ]
          },
          "metadata": {},
          "execution_count": 36
        }
      ]
    },
    {
      "cell_type": "code",
      "source": [
        "# Multiplication\n",
        "tensor_manipulation * 10"
      ],
      "metadata": {
        "colab": {
          "base_uri": "https://localhost:8080/"
        },
        "id": "-MS0flnhHKQY",
        "outputId": "646f45fc-00ac-4bf1-9e0e-b093e7cacd71"
      },
      "execution_count": null,
      "outputs": [
        {
          "output_type": "execute_result",
          "data": {
            "text/plain": [
              "<tf.Tensor: shape=(2, 2), dtype=int32, numpy=\n",
              "array([[10, 20],\n",
              "       [30, 40]], dtype=int32)>"
            ]
          },
          "metadata": {},
          "execution_count": 37
        }
      ]
    },
    {
      "cell_type": "code",
      "source": [
        "# Subtraction\n",
        "tensor_manipulation - 1"
      ],
      "metadata": {
        "colab": {
          "base_uri": "https://localhost:8080/"
        },
        "id": "DxYAGS8fHrtG",
        "outputId": "6c64bd84-516b-4027-becc-b0c11274c2b8"
      },
      "execution_count": null,
      "outputs": [
        {
          "output_type": "execute_result",
          "data": {
            "text/plain": [
              "<tf.Tensor: shape=(2, 2), dtype=int32, numpy=\n",
              "array([[0, 1],\n",
              "       [2, 3]], dtype=int32)>"
            ]
          },
          "metadata": {},
          "execution_count": 38
        }
      ]
    },
    {
      "cell_type": "code",
      "source": [
        "# Same multiplication but with a function\n",
        "# This way it'll use the GPU and will be faster\n",
        "tf.multiply(tensor_manipulation, 10)"
      ],
      "metadata": {
        "colab": {
          "base_uri": "https://localhost:8080/"
        },
        "id": "bgEXw5OCH0_K",
        "outputId": "31215de5-70e8-49dc-8471-defe646a1aa3"
      },
      "execution_count": null,
      "outputs": [
        {
          "output_type": "execute_result",
          "data": {
            "text/plain": [
              "<tf.Tensor: shape=(2, 2), dtype=int32, numpy=\n",
              "array([[10, 20],\n",
              "       [30, 40]], dtype=int32)>"
            ]
          },
          "metadata": {},
          "execution_count": 39
        }
      ]
    },
    {
      "cell_type": "markdown",
      "source": [
        "Matrix multiplication"
      ],
      "metadata": {
        "id": "95dSw6bmLbL-"
      }
    },
    {
      "cell_type": "code",
      "source": [
        "# Create 2 tensors to multiply\n",
        "matmul_tensor_1 = tf.constant([[1, 2, 5],\n",
        "                               [7, 2, 1],\n",
        "                               [3, 3, 3]])\n",
        "\n",
        "matmul_tensor_2 = tf.constant([[3, 5],\n",
        "                               [6, 7],\n",
        "                               [1, 8]])\n",
        "\n",
        "tf.matmul(matmul_tensor_1, matmul_tensor_2)"
      ],
      "metadata": {
        "colab": {
          "base_uri": "https://localhost:8080/"
        },
        "id": "8gayLCIkJMjh",
        "outputId": "c420b4a3-565a-45b0-ee37-c8ffde4d9b0d"
      },
      "execution_count": null,
      "outputs": [
        {
          "output_type": "execute_result",
          "data": {
            "text/plain": [
              "<tf.Tensor: shape=(3, 2), dtype=int32, numpy=\n",
              "array([[20, 59],\n",
              "       [34, 57],\n",
              "       [30, 60]], dtype=int32)>"
            ]
          },
          "metadata": {},
          "execution_count": 40
        }
      ]
    },
    {
      "cell_type": "code",
      "source": [
        "# Another way of matrix multiply\n",
        "matmul_tensor_1 @ matmul_tensor_2"
      ],
      "metadata": {
        "colab": {
          "base_uri": "https://localhost:8080/"
        },
        "id": "Wth0Uw0aORzp",
        "outputId": "eeebac34-2ec7-4c2e-fef4-66aeb395cf85"
      },
      "execution_count": null,
      "outputs": [
        {
          "output_type": "execute_result",
          "data": {
            "text/plain": [
              "<tf.Tensor: shape=(3, 2), dtype=int32, numpy=\n",
              "array([[20, 59],\n",
              "       [34, 57],\n",
              "       [30, 60]], dtype=int32)>"
            ]
          },
          "metadata": {},
          "execution_count": 41
        }
      ]
    },
    {
      "cell_type": "code",
      "source": [
        "# Another way of matrix multiply\n",
        "tf.tensordot(matmul_tensor_1, matmul_tensor_2, axes = 1)"
      ],
      "metadata": {
        "colab": {
          "base_uri": "https://localhost:8080/"
        },
        "id": "UrbfihezOd6X",
        "outputId": "621795e2-1785-40f4-f5ed-794e6d01f1fe"
      },
      "execution_count": null,
      "outputs": [
        {
          "output_type": "execute_result",
          "data": {
            "text/plain": [
              "<tf.Tensor: shape=(3, 2), dtype=int32, numpy=\n",
              "array([[20, 59],\n",
              "       [34, 57],\n",
              "       [30, 60]], dtype=int32)>"
            ]
          },
          "metadata": {},
          "execution_count": 42
        }
      ]
    },
    {
      "cell_type": "code",
      "source": [
        "# Create tensor to test Reshape\n",
        "shape_tester = tf.constant([[1, 2],\n",
        "                            [4, 5],\n",
        "                            [7, 8]])\n",
        "shape_tester"
      ],
      "metadata": {
        "id": "jbCH3NJDM4-s",
        "colab": {
          "base_uri": "https://localhost:8080/"
        },
        "outputId": "a7826b78-eada-4c0f-d424-92fe61f35a44"
      },
      "execution_count": null,
      "outputs": [
        {
          "output_type": "execute_result",
          "data": {
            "text/plain": [
              "<tf.Tensor: shape=(3, 2), dtype=int32, numpy=\n",
              "array([[1, 2],\n",
              "       [4, 5],\n",
              "       [7, 8]], dtype=int32)>"
            ]
          },
          "metadata": {},
          "execution_count": 43
        }
      ]
    },
    {
      "cell_type": "code",
      "source": [
        "# Reshape tensor\n",
        "tf.reshape(shape_tester, shape=(2, 3))"
      ],
      "metadata": {
        "colab": {
          "base_uri": "https://localhost:8080/"
        },
        "id": "wh2k8k9VKiPr",
        "outputId": "f45c040d-a998-4b0d-918a-581db2342391"
      },
      "execution_count": null,
      "outputs": [
        {
          "output_type": "execute_result",
          "data": {
            "text/plain": [
              "<tf.Tensor: shape=(2, 3), dtype=int32, numpy=\n",
              "array([[1, 2, 4],\n",
              "       [5, 7, 8]], dtype=int32)>"
            ]
          },
          "metadata": {},
          "execution_count": 44
        }
      ]
    },
    {
      "cell_type": "code",
      "source": [
        "# We can do the same with transpose but it will yeild different result\n",
        "tf.transpose(shape_tester)"
      ],
      "metadata": {
        "colab": {
          "base_uri": "https://localhost:8080/"
        },
        "id": "-5r8Izj_K_xl",
        "outputId": "dc70d397-bf37-4de4-8f78-31625b534a7e"
      },
      "execution_count": null,
      "outputs": [
        {
          "output_type": "execute_result",
          "data": {
            "text/plain": [
              "<tf.Tensor: shape=(2, 3), dtype=int32, numpy=\n",
              "array([[1, 4, 7],\n",
              "       [2, 5, 8]], dtype=int32)>"
            ]
          },
          "metadata": {},
          "execution_count": 45
        }
      ]
    },
    {
      "cell_type": "code",
      "source": [
        "# Here's the difference\n",
        "shape_tester, tf.reshape(shape_tester, shape=(2, 3)), tf.transpose(shape_tester)"
      ],
      "metadata": {
        "colab": {
          "base_uri": "https://localhost:8080/"
        },
        "id": "O_qym3jLMQc9",
        "outputId": "065bc375-8e2c-406f-ef68-6ecf05f14dfe"
      },
      "execution_count": null,
      "outputs": [
        {
          "output_type": "execute_result",
          "data": {
            "text/plain": [
              "(<tf.Tensor: shape=(3, 2), dtype=int32, numpy=\n",
              " array([[1, 2],\n",
              "        [4, 5],\n",
              "        [7, 8]], dtype=int32)>, <tf.Tensor: shape=(2, 3), dtype=int32, numpy=\n",
              " array([[1, 2, 4],\n",
              "        [5, 7, 8]], dtype=int32)>, <tf.Tensor: shape=(2, 3), dtype=int32, numpy=\n",
              " array([[1, 4, 7],\n",
              "        [2, 5, 8]], dtype=int32)>)"
            ]
          },
          "metadata": {},
          "execution_count": 46
        }
      ]
    },
    {
      "cell_type": "code",
      "source": [
        "# Changing datatype\n",
        "# First create a tensor with default datatype (float32)\n",
        "datatype_tester = tf.constant([[1., 2., 3.],\n",
        "                               [4., 5., 6.],\n",
        "                               [7., 8., 9.]])\n",
        "datatype_tester"
      ],
      "metadata": {
        "colab": {
          "base_uri": "https://localhost:8080/"
        },
        "id": "cnpgWIt5Mfur",
        "outputId": "75b27e40-123c-4af8-a3c3-0a99b728965b"
      },
      "execution_count": null,
      "outputs": [
        {
          "output_type": "execute_result",
          "data": {
            "text/plain": [
              "<tf.Tensor: shape=(3, 3), dtype=float32, numpy=\n",
              "array([[1., 2., 3.],\n",
              "       [4., 5., 6.],\n",
              "       [7., 8., 9.]], dtype=float32)>"
            ]
          },
          "metadata": {},
          "execution_count": 47
        }
      ]
    },
    {
      "cell_type": "code",
      "source": [
        "# Change float32 to float16 (reducing precision)\n",
        "datatype_tester = tf.cast(datatype_tester, dtype = tf.float16)\n",
        "datatype_tester"
      ],
      "metadata": {
        "colab": {
          "base_uri": "https://localhost:8080/"
        },
        "id": "qOlQkHx7SyA1",
        "outputId": "27560a41-b28f-4b0f-cb31-84d8d26cf721"
      },
      "execution_count": null,
      "outputs": [
        {
          "output_type": "execute_result",
          "data": {
            "text/plain": [
              "<tf.Tensor: shape=(3, 3), dtype=float16, numpy=\n",
              "array([[1., 2., 3.],\n",
              "       [4., 5., 6.],\n",
              "       [7., 8., 9.]], dtype=float16)>"
            ]
          },
          "metadata": {},
          "execution_count": 48
        }
      ]
    },
    {
      "cell_type": "code",
      "source": [
        "# Change float32 to int16\n",
        "datatype_tester = tf.cast(datatype_tester, dtype = tf.int16)\n",
        "datatype_tester"
      ],
      "metadata": {
        "colab": {
          "base_uri": "https://localhost:8080/"
        },
        "id": "FtbevXIyT1I0",
        "outputId": "a3341e4b-2299-4502-e28e-3044ea87d46f"
      },
      "execution_count": null,
      "outputs": [
        {
          "output_type": "execute_result",
          "data": {
            "text/plain": [
              "<tf.Tensor: shape=(3, 3), dtype=int16, numpy=\n",
              "array([[1, 2, 3],\n",
              "       [4, 5, 6],\n",
              "       [7, 8, 9]], dtype=int16)>"
            ]
          },
          "metadata": {},
          "execution_count": 49
        }
      ]
    },
    {
      "cell_type": "markdown",
      "source": [
        "Tensor aggregation"
      ],
      "metadata": {
        "id": "DSKOk9QD_foN"
      }
    },
    {
      "cell_type": "code",
      "source": [
        "# Get absolute values\n",
        "abs_tester = tf.constant([-7, 7, 11, -11])\n",
        "abs_tester, tf.abs(abs_tester)"
      ],
      "metadata": {
        "id": "bSfaH2LwUIis",
        "colab": {
          "base_uri": "https://localhost:8080/"
        },
        "outputId": "f731d93d-6468-4005-8266-45badb2b1df3"
      },
      "execution_count": null,
      "outputs": [
        {
          "output_type": "execute_result",
          "data": {
            "text/plain": [
              "(<tf.Tensor: shape=(4,), dtype=int32, numpy=array([ -7,   7,  11, -11], dtype=int32)>,\n",
              " <tf.Tensor: shape=(4,), dtype=int32, numpy=array([ 7,  7, 11, 11], dtype=int32)>)"
            ]
          },
          "metadata": {},
          "execution_count": 50
        }
      ]
    },
    {
      "cell_type": "code",
      "source": [
        "# Create aggreate tester\n",
        "aggregate_tester = [3., 4., 5.]"
      ],
      "metadata": {
        "id": "Ta_x9EDEDWM7"
      },
      "execution_count": null,
      "outputs": []
    },
    {
      "cell_type": "code",
      "source": [
        "# Get maximum\n",
        "tf.reduce_max(aggregate_tester)"
      ],
      "metadata": {
        "colab": {
          "base_uri": "https://localhost:8080/"
        },
        "id": "G-yypK_BAAQp",
        "outputId": "408f6e08-b321-4994-bb45-389c4c691f0f"
      },
      "execution_count": null,
      "outputs": [
        {
          "output_type": "execute_result",
          "data": {
            "text/plain": [
              "<tf.Tensor: shape=(), dtype=float32, numpy=5.0>"
            ]
          },
          "metadata": {},
          "execution_count": 52
        }
      ]
    },
    {
      "cell_type": "code",
      "source": [
        "# Get minimum\n",
        "tf.reduce_min(aggregate_tester)"
      ],
      "metadata": {
        "colab": {
          "base_uri": "https://localhost:8080/"
        },
        "id": "2KAU4nCeBqKG",
        "outputId": "15bc5118-69db-449c-c8b9-1dd382abf29f"
      },
      "execution_count": null,
      "outputs": [
        {
          "output_type": "execute_result",
          "data": {
            "text/plain": [
              "<tf.Tensor: shape=(), dtype=float32, numpy=3.0>"
            ]
          },
          "metadata": {},
          "execution_count": 53
        }
      ]
    },
    {
      "cell_type": "code",
      "source": [
        "# Get mean\n",
        "tf.reduce_mean(aggregate_tester)"
      ],
      "metadata": {
        "colab": {
          "base_uri": "https://localhost:8080/"
        },
        "id": "wFMSV5_aCeU7",
        "outputId": "a314d5fa-88bf-4164-defc-767332dba321"
      },
      "execution_count": null,
      "outputs": [
        {
          "output_type": "execute_result",
          "data": {
            "text/plain": [
              "<tf.Tensor: shape=(), dtype=float32, numpy=4.0>"
            ]
          },
          "metadata": {},
          "execution_count": 54
        }
      ]
    },
    {
      "cell_type": "code",
      "source": [
        "# Get sum\n",
        "tf.reduce_sum(aggregate_tester)"
      ],
      "metadata": {
        "colab": {
          "base_uri": "https://localhost:8080/"
        },
        "id": "o_18uwgaCj5K",
        "outputId": "26465518-e847-4541-e211-f6c6d4e95ca5"
      },
      "execution_count": null,
      "outputs": [
        {
          "output_type": "execute_result",
          "data": {
            "text/plain": [
              "<tf.Tensor: shape=(), dtype=float32, numpy=12.0>"
            ]
          },
          "metadata": {},
          "execution_count": 55
        }
      ]
    },
    {
      "cell_type": "code",
      "source": [
        "# Get variance\n",
        "tf.math.reduce_variance(aggregate_tester)"
      ],
      "metadata": {
        "colab": {
          "base_uri": "https://localhost:8080/"
        },
        "id": "dZxzZ3UiE52c",
        "outputId": "c68262d0-05a2-4362-e89a-baa5172fe0bc"
      },
      "execution_count": null,
      "outputs": [
        {
          "output_type": "execute_result",
          "data": {
            "text/plain": [
              "<tf.Tensor: shape=(), dtype=float32, numpy=0.6666667>"
            ]
          },
          "metadata": {},
          "execution_count": 56
        }
      ]
    },
    {
      "cell_type": "code",
      "source": [
        "# Get STD\n",
        "tf.math.reduce_std(aggregate_tester)"
      ],
      "metadata": {
        "colab": {
          "base_uri": "https://localhost:8080/"
        },
        "id": "S8E1cu6AFu-2",
        "outputId": "021c3d46-9b3d-4f03-be7b-11cdd54ef21b"
      },
      "execution_count": null,
      "outputs": [
        {
          "output_type": "execute_result",
          "data": {
            "text/plain": [
              "<tf.Tensor: shape=(), dtype=float32, numpy=0.8164966>"
            ]
          },
          "metadata": {},
          "execution_count": 57
        }
      ]
    },
    {
      "cell_type": "code",
      "source": [
        "# Get the index of maximum value\n",
        "tf.math.argmax(aggregate_tester)"
      ],
      "metadata": {
        "colab": {
          "base_uri": "https://localhost:8080/"
        },
        "id": "BW36NOKuGdug",
        "outputId": "4bfacc84-f7ad-4b29-c43a-097276add735"
      },
      "execution_count": null,
      "outputs": [
        {
          "output_type": "execute_result",
          "data": {
            "text/plain": [
              "<tf.Tensor: shape=(), dtype=int64, numpy=2>"
            ]
          },
          "metadata": {},
          "execution_count": 58
        }
      ]
    },
    {
      "cell_type": "code",
      "source": [
        "# Get the index of minimum value\n",
        "tf.math.argmin(aggregate_tester)"
      ],
      "metadata": {
        "colab": {
          "base_uri": "https://localhost:8080/"
        },
        "id": "6vM7F208KO_z",
        "outputId": "01cf4d1f-c68d-4487-9319-f9929ebeb420"
      },
      "execution_count": null,
      "outputs": [
        {
          "output_type": "execute_result",
          "data": {
            "text/plain": [
              "<tf.Tensor: shape=(), dtype=int64, numpy=0>"
            ]
          },
          "metadata": {},
          "execution_count": 59
        }
      ]
    },
    {
      "cell_type": "code",
      "source": [
        "# Squeezing tensor - deleting dimensions that doesn't have any elements\n",
        "tf.random.set_seed(42)\n",
        "squeeze_tester = tf.constant(tf.random.uniform(shape = [50]), shape = [1, 1, 1, 1, 50])\n",
        "squeeze_tester, squeeze_tester.shape"
      ],
      "metadata": {
        "id": "RBK_xNTGKrn2",
        "colab": {
          "base_uri": "https://localhost:8080/"
        },
        "outputId": "93548927-4288-4458-e742-3666a120dd1d"
      },
      "execution_count": null,
      "outputs": [
        {
          "output_type": "execute_result",
          "data": {
            "text/plain": [
              "(<tf.Tensor: shape=(1, 1, 1, 1, 50), dtype=float32, numpy=\n",
              " array([[[[[0.6645621 , 0.44100678, 0.3528825 , 0.46448255, 0.03366041,\n",
              "            0.68467236, 0.74011743, 0.8724445 , 0.22632635, 0.22319686,\n",
              "            0.3103881 , 0.7223358 , 0.13318717, 0.5480639 , 0.5746088 ,\n",
              "            0.8996835 , 0.00946367, 0.5212307 , 0.6345445 , 0.1993283 ,\n",
              "            0.72942245, 0.54583454, 0.10756552, 0.6767061 , 0.6602763 ,\n",
              "            0.33695042, 0.60141766, 0.21062577, 0.8527372 , 0.44062173,\n",
              "            0.9485276 , 0.23752594, 0.81179297, 0.5263394 , 0.494308  ,\n",
              "            0.21612847, 0.8457197 , 0.8718841 , 0.3083862 , 0.6868038 ,\n",
              "            0.23764038, 0.7817228 , 0.9671384 , 0.06870162, 0.79873943,\n",
              "            0.66028714, 0.5871513 , 0.16461694, 0.7381023 , 0.32054043]]]]],\n",
              "       dtype=float32)>, TensorShape([1, 1, 1, 1, 50]))"
            ]
          },
          "metadata": {},
          "execution_count": 60
        }
      ]
    },
    {
      "cell_type": "code",
      "source": [
        "tensor_squeezed = tf.squeeze(squeeze_tester)\n",
        "tensor_squeezed, tensor_squeezed.shape"
      ],
      "metadata": {
        "colab": {
          "base_uri": "https://localhost:8080/"
        },
        "id": "Gm23R3MUdCu6",
        "outputId": "42144f76-d8bc-4298-9fef-56e4c47598f0"
      },
      "execution_count": null,
      "outputs": [
        {
          "output_type": "execute_result",
          "data": {
            "text/plain": [
              "(<tf.Tensor: shape=(50,), dtype=float32, numpy=\n",
              " array([0.6645621 , 0.44100678, 0.3528825 , 0.46448255, 0.03366041,\n",
              "        0.68467236, 0.74011743, 0.8724445 , 0.22632635, 0.22319686,\n",
              "        0.3103881 , 0.7223358 , 0.13318717, 0.5480639 , 0.5746088 ,\n",
              "        0.8996835 , 0.00946367, 0.5212307 , 0.6345445 , 0.1993283 ,\n",
              "        0.72942245, 0.54583454, 0.10756552, 0.6767061 , 0.6602763 ,\n",
              "        0.33695042, 0.60141766, 0.21062577, 0.8527372 , 0.44062173,\n",
              "        0.9485276 , 0.23752594, 0.81179297, 0.5263394 , 0.494308  ,\n",
              "        0.21612847, 0.8457197 , 0.8718841 , 0.3083862 , 0.6868038 ,\n",
              "        0.23764038, 0.7817228 , 0.9671384 , 0.06870162, 0.79873943,\n",
              "        0.66028714, 0.5871513 , 0.16461694, 0.7381023 , 0.32054043],\n",
              "       dtype=float32)>, TensorShape([50]))"
            ]
          },
          "metadata": {},
          "execution_count": 61
        }
      ]
    },
    {
      "cell_type": "markdown",
      "source": [
        "One-hot encoding tensors"
      ],
      "metadata": {
        "id": "yfuxOIvofEta"
      }
    },
    {
      "cell_type": "code",
      "source": [
        "# Create list of indicies\n",
        "some_list = [0, 1, 2, 3] # red, green, blue, purple\n",
        "tf.one_hot(some_list, depth = 4)"
      ],
      "metadata": {
        "colab": {
          "base_uri": "https://localhost:8080/"
        },
        "id": "WHD3EVeEeUF6",
        "outputId": "3f54c0cb-fdcb-4906-ff06-fe1383578612"
      },
      "execution_count": null,
      "outputs": [
        {
          "output_type": "execute_result",
          "data": {
            "text/plain": [
              "<tf.Tensor: shape=(4, 4), dtype=float32, numpy=\n",
              "array([[1., 0., 0., 0.],\n",
              "       [0., 1., 0., 0.],\n",
              "       [0., 0., 1., 0.],\n",
              "       [0., 0., 0., 1.]], dtype=float32)>"
            ]
          },
          "metadata": {},
          "execution_count": 62
        }
      ]
    },
    {
      "cell_type": "code",
      "source": [
        "# Create custom values for one-hot encoding\n",
        "tf.one_hot(some_list, depth = 4, on_value = \"yey\", off_value=\"ney\")"
      ],
      "metadata": {
        "colab": {
          "base_uri": "https://localhost:8080/"
        },
        "id": "aDAljPbZfq6K",
        "outputId": "208d7cd6-44f5-4d49-a687-7c06ceb31282"
      },
      "execution_count": null,
      "outputs": [
        {
          "output_type": "execute_result",
          "data": {
            "text/plain": [
              "<tf.Tensor: shape=(4, 4), dtype=string, numpy=\n",
              "array([[b'yey', b'ney', b'ney', b'ney'],\n",
              "       [b'ney', b'yey', b'ney', b'ney'],\n",
              "       [b'ney', b'ney', b'yey', b'ney'],\n",
              "       [b'ney', b'ney', b'ney', b'yey']], dtype=object)>"
            ]
          },
          "metadata": {},
          "execution_count": 63
        }
      ]
    },
    {
      "cell_type": "markdown",
      "source": [
        "Math Operations"
      ],
      "metadata": {
        "id": "t954TTHfhNV_"
      }
    },
    {
      "cell_type": "code",
      "source": [
        "# Create tensor\n",
        "math_tester = tf.range(1, 10)\n",
        "math_tester"
      ],
      "metadata": {
        "colab": {
          "base_uri": "https://localhost:8080/"
        },
        "id": "KGRn_H6UgiFo",
        "outputId": "a93fc951-c9f1-4371-9c72-bcfeea21fb25"
      },
      "execution_count": null,
      "outputs": [
        {
          "output_type": "execute_result",
          "data": {
            "text/plain": [
              "<tf.Tensor: shape=(9,), dtype=int32, numpy=array([1, 2, 3, 4, 5, 6, 7, 8, 9], dtype=int32)>"
            ]
          },
          "metadata": {},
          "execution_count": 64
        }
      ]
    },
    {
      "cell_type": "code",
      "source": [
        "# Square tensor\n",
        "tf.square(math_tester)"
      ],
      "metadata": {
        "colab": {
          "base_uri": "https://localhost:8080/"
        },
        "id": "q3SRYIlNhXru",
        "outputId": "e9840d80-3ea9-4242-d26b-df0262a2f8f2"
      },
      "execution_count": null,
      "outputs": [
        {
          "output_type": "execute_result",
          "data": {
            "text/plain": [
              "<tf.Tensor: shape=(9,), dtype=int32, numpy=array([ 1,  4,  9, 16, 25, 36, 49, 64, 81], dtype=int32)>"
            ]
          },
          "metadata": {},
          "execution_count": 65
        }
      ]
    },
    {
      "cell_type": "code",
      "source": [
        "# Log tensor\n",
        "tf.math.log(tf.cast(math_tester, dtype=tf.float16))"
      ],
      "metadata": {
        "colab": {
          "base_uri": "https://localhost:8080/"
        },
        "id": "SVO30ah8hj-j",
        "outputId": "dc58d589-2a21-47dc-9024-4290653a61ea"
      },
      "execution_count": null,
      "outputs": [
        {
          "output_type": "execute_result",
          "data": {
            "text/plain": [
              "<tf.Tensor: shape=(9,), dtype=float16, numpy=\n",
              "array([0.    , 0.6934, 1.099 , 1.387 , 1.609 , 1.792 , 1.946 , 2.08  ,\n",
              "       2.197 ], dtype=float16)>"
            ]
          },
          "metadata": {},
          "execution_count": 66
        }
      ]
    },
    {
      "cell_type": "code",
      "source": [
        "# SQRT tensor\n",
        "tf.sqrt(tf.cast(math_tester, dtype=tf.float16))"
      ],
      "metadata": {
        "colab": {
          "base_uri": "https://localhost:8080/"
        },
        "id": "Cyt4pQqPh3gc",
        "outputId": "bf675f6c-6220-46ef-825d-89e1310d5480"
      },
      "execution_count": null,
      "outputs": [
        {
          "output_type": "execute_result",
          "data": {
            "text/plain": [
              "<tf.Tensor: shape=(9,), dtype=float16, numpy=\n",
              "array([1.   , 1.414, 1.732, 2.   , 2.236, 2.45 , 2.646, 2.828, 3.   ],\n",
              "      dtype=float16)>"
            ]
          },
          "metadata": {},
          "execution_count": 67
        }
      ]
    },
    {
      "cell_type": "markdown",
      "source": [
        "Tensor and NumPy"
      ],
      "metadata": {
        "id": "Z-puLolxmjvH"
      }
    },
    {
      "cell_type": "code",
      "source": [
        "# Create tensor from a NumPy\n",
        "numpy_tensor = tf.constant(np.array([1., 2., 3.]))\n",
        "numpy_tensor"
      ],
      "metadata": {
        "colab": {
          "base_uri": "https://localhost:8080/"
        },
        "id": "d3gBppHZihC0",
        "outputId": "39734ea4-a188-4fe0-b6ca-c074c6ce42d6"
      },
      "execution_count": null,
      "outputs": [
        {
          "output_type": "execute_result",
          "data": {
            "text/plain": [
              "<tf.Tensor: shape=(3,), dtype=float64, numpy=array([1., 2., 3.])>"
            ]
          },
          "metadata": {},
          "execution_count": 68
        }
      ]
    },
    {
      "cell_type": "code",
      "source": [
        "# Create NumPy from tensor\n",
        "np.array(numpy_tensor), type(np.array(numpy_tensor))"
      ],
      "metadata": {
        "colab": {
          "base_uri": "https://localhost:8080/"
        },
        "id": "oHAWJt-Wm4Oj",
        "outputId": "f3791ecc-b9c6-4a6e-c811-a97cbad1a449"
      },
      "execution_count": null,
      "outputs": [
        {
          "output_type": "execute_result",
          "data": {
            "text/plain": [
              "(array([1., 2., 3.]), numpy.ndarray)"
            ]
          },
          "metadata": {},
          "execution_count": 69
        }
      ]
    },
    {
      "cell_type": "code",
      "source": [
        "# Another way of converting tensor to NumPy\n",
        "numpy_tensor.numpy(), type(numpy_tensor.numpy())"
      ],
      "metadata": {
        "colab": {
          "base_uri": "https://localhost:8080/"
        },
        "id": "Cx3EZVapnfrY",
        "outputId": "30944c2b-89a1-4e42-99b8-4e8b2f532b4e"
      },
      "execution_count": null,
      "outputs": [
        {
          "output_type": "execute_result",
          "data": {
            "text/plain": [
              "(array([1., 2., 3.]), numpy.ndarray)"
            ]
          },
          "metadata": {},
          "execution_count": 70
        }
      ]
    },
    {
      "cell_type": "code",
      "source": [
        "# Default type of a tensor created directly and a tensor created from numpy will be slightly different\n",
        "tensor_type_orig = tf.constant([1., 2., 3.])\n",
        "tensor_type_numpy = tf.constant(np.array([1., 2., 3.]))\n",
        "tensor_type_orig.dtype, tensor_type_numpy.dtype"
      ],
      "metadata": {
        "colab": {
          "base_uri": "https://localhost:8080/"
        },
        "id": "qX2JAIYLn96p",
        "outputId": "263c88e7-f0c8-4715-fd86-f32cd0564afa"
      },
      "execution_count": null,
      "outputs": [
        {
          "output_type": "execute_result",
          "data": {
            "text/plain": [
              "(tf.float32, tf.float64)"
            ]
          },
          "metadata": {},
          "execution_count": 71
        }
      ]
    },
    {
      "cell_type": "code",
      "source": [],
      "metadata": {
        "id": "1BDVyNJ0plOL"
      },
      "execution_count": null,
      "outputs": []
    }
  ]
}