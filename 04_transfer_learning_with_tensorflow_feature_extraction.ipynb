{
  "nbformat": 4,
  "nbformat_minor": 0,
  "metadata": {
    "colab": {
      "provenance": [],
      "authorship_tag": "ABX9TyMsZkT/TD/auPbYRTGl3Q9j",
      "include_colab_link": true
    },
    "kernelspec": {
      "name": "python3",
      "display_name": "Python 3"
    },
    "language_info": {
      "name": "python"
    },
    "accelerator": "GPU",
    "gpuClass": "standard"
  },
  "cells": [
    {
      "cell_type": "markdown",
      "metadata": {
        "id": "view-in-github",
        "colab_type": "text"
      },
      "source": [
        "<a href=\"https://colab.research.google.com/github/m-a-hasan/ai-colab/blob/main/04_transfer_learning_with_tensorflow_feature_extraction.ipynb\" target=\"_parent\"><img src=\"https://colab.research.google.com/assets/colab-badge.svg\" alt=\"Open In Colab\"/></a>"
      ]
    },
    {
      "cell_type": "code",
      "execution_count": null,
      "metadata": {
        "id": "180x9okmJ0BL",
        "colab": {
          "base_uri": "https://localhost:8080/"
        },
        "outputId": "fbda96c5-b9a0-4efa-d6fc-f5dda4703cfb"
      },
      "outputs": [
        {
          "output_type": "stream",
          "name": "stdout",
          "text": [
            "Thu Sep  1 06:11:41 2022       \n",
            "+-----------------------------------------------------------------------------+\n",
            "| NVIDIA-SMI 460.32.03    Driver Version: 460.32.03    CUDA Version: 11.2     |\n",
            "|-------------------------------+----------------------+----------------------+\n",
            "| GPU  Name        Persistence-M| Bus-Id        Disp.A | Volatile Uncorr. ECC |\n",
            "| Fan  Temp  Perf  Pwr:Usage/Cap|         Memory-Usage | GPU-Util  Compute M. |\n",
            "|                               |                      |               MIG M. |\n",
            "|===============================+======================+======================|\n",
            "|   0  Tesla T4            Off  | 00000000:00:04.0 Off |                    0 |\n",
            "| N/A   54C    P8    10W /  70W |      0MiB / 15109MiB |      0%      Default |\n",
            "|                               |                      |                  N/A |\n",
            "+-------------------------------+----------------------+----------------------+\n",
            "                                                                               \n",
            "+-----------------------------------------------------------------------------+\n",
            "| Processes:                                                                  |\n",
            "|  GPU   GI   CI        PID   Type   Process name                  GPU Memory |\n",
            "|        ID   ID                                                   Usage      |\n",
            "|=============================================================================|\n",
            "|  No running processes found                                                 |\n",
            "+-----------------------------------------------------------------------------+\n"
          ]
        }
      ],
      "source": [
        "# Check if we are using GPU for faster runtime\n",
        "!nvidia-smi"
      ]
    },
    {
      "cell_type": "code",
      "source": [
        "# Get 10% of data\n",
        "import zipfile\n",
        "\n",
        "!wget https://storage.googleapis.com/ztm_tf_course/food_vision/10_food_classes_10_percent.zip\n",
        "\n",
        "# Unzip\n",
        "zip_ref = zipfile.ZipFile(\"10_food_classes_10_percent.zip\", \"r\")\n",
        "zip_ref.extractall()\n",
        "zip_ref.close()"
      ],
      "metadata": {
        "id": "tFwHOEurLJuM",
        "colab": {
          "base_uri": "https://localhost:8080/"
        },
        "outputId": "14bcb006-c4f6-41c9-b6df-2800b66c4b38"
      },
      "execution_count": null,
      "outputs": [
        {
          "output_type": "stream",
          "name": "stdout",
          "text": [
            "--2022-09-01 06:11:41--  https://storage.googleapis.com/ztm_tf_course/food_vision/10_food_classes_10_percent.zip\n",
            "Resolving storage.googleapis.com (storage.googleapis.com)... 74.125.20.128, 108.177.98.128, 74.125.197.128, ...\n",
            "Connecting to storage.googleapis.com (storage.googleapis.com)|74.125.20.128|:443... connected.\n",
            "HTTP request sent, awaiting response... 200 OK\n",
            "Length: 168546183 (161M) [application/zip]\n",
            "Saving to: ‘10_food_classes_10_percent.zip’\n",
            "\n",
            "10_food_classes_10_ 100%[===================>] 160.74M   104MB/s    in 1.5s    \n",
            "\n",
            "2022-09-01 06:11:43 (104 MB/s) - ‘10_food_classes_10_percent.zip’ saved [168546183/168546183]\n",
            "\n"
          ]
        }
      ]
    },
    {
      "cell_type": "code",
      "source": [
        "# Check file numbers and folders\n",
        "import os\n",
        "for dirpath, dirnames, filenames in os.walk(\"10_food_classes_10_percent\"):\n",
        "  print(f\"there are {len(dirnames)} directories and {len(filenames)} images in '{dirpath}'.\")"
      ],
      "metadata": {
        "colab": {
          "base_uri": "https://localhost:8080/"
        },
        "id": "SMM_47IbA2JF",
        "outputId": "6d08cf47-74e8-43e0-97e0-3d528ce23b2c"
      },
      "execution_count": null,
      "outputs": [
        {
          "output_type": "stream",
          "name": "stdout",
          "text": [
            "there are 2 directories and 0 images in '10_food_classes_10_percent'.\n",
            "there are 10 directories and 0 images in '10_food_classes_10_percent/train'.\n",
            "there are 0 directories and 75 images in '10_food_classes_10_percent/train/chicken_curry'.\n",
            "there are 0 directories and 75 images in '10_food_classes_10_percent/train/steak'.\n",
            "there are 0 directories and 75 images in '10_food_classes_10_percent/train/chicken_wings'.\n",
            "there are 0 directories and 75 images in '10_food_classes_10_percent/train/ice_cream'.\n",
            "there are 0 directories and 75 images in '10_food_classes_10_percent/train/grilled_salmon'.\n",
            "there are 0 directories and 75 images in '10_food_classes_10_percent/train/hamburger'.\n",
            "there are 0 directories and 75 images in '10_food_classes_10_percent/train/ramen'.\n",
            "there are 0 directories and 75 images in '10_food_classes_10_percent/train/pizza'.\n",
            "there are 0 directories and 75 images in '10_food_classes_10_percent/train/fried_rice'.\n",
            "there are 0 directories and 75 images in '10_food_classes_10_percent/train/sushi'.\n",
            "there are 10 directories and 0 images in '10_food_classes_10_percent/test'.\n",
            "there are 0 directories and 250 images in '10_food_classes_10_percent/test/chicken_curry'.\n",
            "there are 0 directories and 250 images in '10_food_classes_10_percent/test/steak'.\n",
            "there are 0 directories and 250 images in '10_food_classes_10_percent/test/chicken_wings'.\n",
            "there are 0 directories and 250 images in '10_food_classes_10_percent/test/ice_cream'.\n",
            "there are 0 directories and 250 images in '10_food_classes_10_percent/test/grilled_salmon'.\n",
            "there are 0 directories and 250 images in '10_food_classes_10_percent/test/hamburger'.\n",
            "there are 0 directories and 250 images in '10_food_classes_10_percent/test/ramen'.\n",
            "there are 0 directories and 250 images in '10_food_classes_10_percent/test/pizza'.\n",
            "there are 0 directories and 250 images in '10_food_classes_10_percent/test/fried_rice'.\n",
            "there are 0 directories and 250 images in '10_food_classes_10_percent/test/sushi'.\n"
          ]
        }
      ]
    },
    {
      "cell_type": "code",
      "source": [
        "# Setup image\n",
        "from tensorflow.keras.preprocessing.image import ImageDataGenerator\n",
        "\n",
        "IMAGE_SHAPE = (224, 224)\n",
        "BATCH_SIZE = 32\n",
        "\n",
        "train_dir = \"10_food_classes_10_percent/train/\"\n",
        "test_dir = \"10_food_classes_10_percent/test/\"\n",
        "\n",
        "train_datagen = ImageDataGenerator(rescale=1/255.)\n",
        "test_datagen = ImageDataGenerator(rescale=1/255.)"
      ],
      "metadata": {
        "id": "qU8AmMHPB8gk"
      },
      "execution_count": null,
      "outputs": []
    },
    {
      "cell_type": "code",
      "source": [
        "print(\"Training images:\")\n",
        "train_data_10_percent = train_datagen.flow_from_directory(train_dir,\n",
        "                                                          target_size=IMAGE_SHAPE,\n",
        "                                                          class_mode=\"categorical\",\n",
        "                                                          batch_size=BATCH_SIZE)\n",
        "\n",
        "print(\"Testing images:\")\n",
        "test_data_10_percent = test_datagen.flow_from_directory(test_dir,\n",
        "                                                        target_size=IMAGE_SHAPE,\n",
        "                                                        class_mode=\"categorical\",\n",
        "                                                        batch_size = BATCH_SIZE)"
      ],
      "metadata": {
        "colab": {
          "base_uri": "https://localhost:8080/"
        },
        "id": "JhXYN5x9QXCT",
        "outputId": "f8848a18-4ab1-43fe-92f6-6da2397f1b70"
      },
      "execution_count": null,
      "outputs": [
        {
          "output_type": "stream",
          "name": "stdout",
          "text": [
            "Training images:\n",
            "Found 750 images belonging to 10 classes.\n",
            "Testing images:\n",
            "Found 2500 images belonging to 10 classes.\n"
          ]
        }
      ]
    },
    {
      "cell_type": "markdown",
      "source": [
        "We have more testing than training, because we would like to train in a smaller dataset but want to test as much as we can"
      ],
      "metadata": {
        "id": "SRB5hH1BRstr"
      }
    },
    {
      "cell_type": "markdown",
      "source": [
        "**Callbacks - things to run while to model is training**\n",
        "* Tracking with tensorboard\n",
        "* Checkpointing\n",
        "* Stop when ceases to improve"
      ],
      "metadata": {
        "id": "XkTYBNfwVswe"
      }
    },
    {
      "cell_type": "code",
      "source": [
        "import tensorflow as tf"
      ],
      "metadata": {
        "id": "3nn0k3t7iiLo"
      },
      "execution_count": null,
      "outputs": []
    },
    {
      "cell_type": "code",
      "source": [
        "# Create tensorboard callback\n",
        "import datetime\n",
        "\n",
        "def create_tensorboard_callback(dir_name, experiment_name):\n",
        "  log_dir = dir_name + \"/\" + experiment_name + \"/\" + datetime.datetime.now().strftime(\"%Y%m%d-%H%M%S\")\n",
        "  tensorboard_callback = tf.keras.callbacks.TensorBoard(log_dir=log_dir)\n",
        "  print(f\"Saving tensorboard logfiles to {log_dir}\")\n",
        "  return tensorboard_callback"
      ],
      "metadata": {
        "id": "y9kUV0nMSBQn"
      },
      "execution_count": null,
      "outputs": []
    },
    {
      "cell_type": "markdown",
      "source": [
        "**Classification** - take model as is (same input-output)\n",
        "\n",
        "**Feature vecotor** - take a model; freeze its weight and change its input and output to fit our purpose\n",
        "\n",
        "**Fine tuning** - most layers are frozen, top 2/3 layers are trained with different input and output"
      ],
      "metadata": {
        "id": "bTi6gnppBLKI"
      }
    },
    {
      "cell_type": "code",
      "source": [
        "import tensorflow as tf\n",
        "import tensorflow_hub as hub\n",
        "from tensorflow.keras import layers"
      ],
      "metadata": {
        "id": "jDfwTSUID4P-"
      },
      "execution_count": null,
      "outputs": []
    },
    {
      "cell_type": "code",
      "source": [
        "# Resnet 50 V2 feature vector\n",
        "resnet_url = \"https://tfhub.dev/google/imagenet/resnet_v2_50/feature_vector/4\"\n",
        "\n",
        "#EfficientNetB0 feature vector (version 1)\n",
        "efficientnet_v1_url = \"https://tfhub.dev/tensorflow/efficientnet/b0/feature-vector/1\"\n",
        "\n",
        "# EfficientNetB0 feature vector (version 2)\n",
        "efficientnet_v2_url = \"https://tfhub.dev/google/imagenet/efficientnet_v2_imagenet1k_b0/feature_vector/2\""
      ],
      "metadata": {
        "id": "l9IGvRV3EKqH"
      },
      "execution_count": null,
      "outputs": []
    },
    {
      "cell_type": "code",
      "source": [
        "def create_model(model_url, num_classes=10):\n",
        "  \"\"\"\n",
        "  Takes a tensorflow hub URL, creates a Sequential model using it and returns that model\n",
        "  \"\"\"\n",
        "\n",
        "  # Download a pretrained model and save it as a keras layer\n",
        "  feature_extractor_layer = hub.KerasLayer(model_url,\n",
        "                                           trainable=False, # freeze all the underlying layer\n",
        "                                           name=\"feature_extraction_layer\",\n",
        "                                           input_shape=IMAGE_SHAPE+(3,))\n",
        "\n",
        "  # Create model\n",
        "  model = tf.keras.Sequential([\n",
        "      feature_extractor_layer, # Use this as the base\n",
        "      layers.Dense(num_classes, activation=\"softmax\", name=\"output_layer\") # Create our own output layer\n",
        "  ])\n",
        "\n",
        "  return model"
      ],
      "metadata": {
        "id": "w3GxRM_FFWUv"
      },
      "execution_count": null,
      "outputs": []
    },
    {
      "cell_type": "code",
      "source": [
        "# Create model\n",
        "resnet_model = create_model(model_url= resnet_url,\n",
        "                            num_classes=train_data_10_percent.num_classes)\n",
        "\n",
        "# Compile\n",
        "resnet_model.compile(optimizer=tf.keras.optimizers.Adam(),\n",
        "                     loss=\"categorical_crossentropy\",\n",
        "                     metrics=[\"accuracy\"])"
      ],
      "metadata": {
        "id": "IpX44CKmJTl9"
      },
      "execution_count": null,
      "outputs": []
    },
    {
      "cell_type": "code",
      "source": [
        "# Fit\n",
        "resnet_history = resnet_model.fit(train_data_10_percent,\n",
        "                                  epochs=5,\n",
        "                                  steps_per_epoch=len(train_data_10_percent),\n",
        "                                  validation_data=test_data_10_percent,\n",
        "                                  validation_steps=len(test_data_10_percent),\n",
        "                                  # Add tensorboard callback\n",
        "                                  callbacks=[create_tensorboard_callback(\n",
        "                                      dir_name=\"tensorflow_hub\", # save experiment logs here\n",
        "                                      experiment_name=\"resnet50V2\" # name of the log files\n",
        "                                  )])"
      ],
      "metadata": {
        "colab": {
          "base_uri": "https://localhost:8080/"
        },
        "id": "vQ2kJWOWKddm",
        "outputId": "21ecbded-2b6a-4f28-a304-f5a371077221"
      },
      "execution_count": null,
      "outputs": [
        {
          "output_type": "stream",
          "name": "stdout",
          "text": [
            "Saving tensorboard logfiles to tensorflow_hub/resnet50V2/20220901-061158\n",
            "Epoch 1/5\n",
            "24/24 [==============================] - 32s 759ms/step - loss: 1.8487 - accuracy: 0.3947 - val_loss: 1.2078 - val_accuracy: 0.6032\n",
            "Epoch 2/5\n",
            "24/24 [==============================] - 17s 747ms/step - loss: 0.8836 - accuracy: 0.7467 - val_loss: 0.8812 - val_accuracy: 0.7120\n",
            "Epoch 3/5\n",
            "24/24 [==============================] - 20s 865ms/step - loss: 0.6112 - accuracy: 0.8227 - val_loss: 0.7424 - val_accuracy: 0.7660\n",
            "Epoch 4/5\n",
            "24/24 [==============================] - 26s 1s/step - loss: 0.4610 - accuracy: 0.8800 - val_loss: 0.7143 - val_accuracy: 0.7644\n",
            "Epoch 5/5\n",
            "24/24 [==============================] - 17s 744ms/step - loss: 0.3742 - accuracy: 0.9253 - val_loss: 0.6728 - val_accuracy: 0.7812\n"
          ]
        }
      ]
    },
    {
      "cell_type": "code",
      "source": [
        "# Plot\n",
        "from pandas import DataFrame as df\n",
        "import matplotlib.pyplot as plt\n",
        "df(resnet_history.history).plot(figsize=(10,7))\n",
        "plt.show()"
      ],
      "metadata": {
        "colab": {
          "base_uri": "https://localhost:8080/",
          "height": 428
        },
        "id": "ZxyQdzocOLzm",
        "outputId": "45a74d3f-bed5-4d87-f002-4b53c7d72f45"
      },
      "execution_count": null,
      "outputs": [
        {
          "output_type": "display_data",
          "data": {
            "text/plain": [
              "<Figure size 720x504 with 1 Axes>"
            ],
            "image/png": "[encoded data removed]"
          },
          "metadata": {
            "needs_background": "light"
          }
        }
      ]
    },
    {
      "cell_type": "code",
      "source": [
        "# Summary\n",
        "resnet_model.summary()"
      ],
      "metadata": {
        "colab": {
          "base_uri": "https://localhost:8080/"
        },
        "id": "4hgw8MORPthq",
        "outputId": "57985cb9-ce57-4a64-8268-264dd07c9628"
      },
      "execution_count": null,
      "outputs": [
        {
          "output_type": "stream",
          "name": "stdout",
          "text": [
            "Model: \"sequential\"\n",
            "_________________________________________________________________\n",
            " Layer (type)                Output Shape              Param #   \n",
            "=================================================================\n",
            " feature_extraction_layer (K  (None, 2048)             23564800  \n",
            " erasLayer)                                                      \n",
            "                                                                 \n",
            " output_layer (Dense)        (None, 10)                20490     \n",
            "                                                                 \n",
            "=================================================================\n",
            "Total params: 23,585,290\n",
            "Trainable params: 20,490\n",
            "Non-trainable params: 23,564,800\n",
            "_________________________________________________________________\n"
          ]
        }
      ]
    },
    {
      "cell_type": "code",
      "source": [
        "# Create model\n",
        "efficientnet_v1_model = create_model(model_url=efficientnet_v1_url,\n",
        "                                     num_classes=train_data_10_percent.num_classes)\n",
        "\n",
        "# Compile model\n",
        "efficientnet_v1_model.compile(optimizer=tf.keras.optimizers.Adam(),\n",
        "                              loss=\"categorical_crossentropy\",\n",
        "                              metrics=[\"accuracy\"])\n",
        "\n",
        "# Fit\n",
        "efficientnet_v1_history = efficientnet_v1_model.fit(train_data_10_percent,\n",
        "                                                    epochs=5,\n",
        "                                                    steps_per_epoch=len(train_data_10_percent),\n",
        "                                                    validation_data=test_data_10_percent,\n",
        "                                                    validation_steps=len(test_data_10_percent),\n",
        "                                                    callbacks=[create_tensorboard_callback(dir_name=\"tensorflow_hub\",\n",
        "                                                                                           experiment_name=\"efficientnetB0\")])"
      ],
      "metadata": {
        "id": "p9ocACXmPxXQ",
        "colab": {
          "base_uri": "https://localhost:8080/"
        },
        "outputId": "e48c5b4e-2793-4646-f837-3eeec20a35c7"
      },
      "execution_count": null,
      "outputs": [
        {
          "output_type": "stream",
          "name": "stdout",
          "text": [
            "Saving tensorboard logfiles to tensorflow_hub/efficientnetB0/20220901-062035\n",
            "Epoch 1/5\n",
            "24/24 [==============================] - 28s 816ms/step - loss: 1.8819 - accuracy: 0.4067 - val_loss: 1.3520 - val_accuracy: 0.7204\n",
            "Epoch 2/5\n",
            "24/24 [==============================] - 15s 650ms/step - loss: 1.0657 - accuracy: 0.7653 - val_loss: 0.8805 - val_accuracy: 0.8104\n",
            "Epoch 3/5\n",
            "24/24 [==============================] - 18s 755ms/step - loss: 0.7547 - accuracy: 0.8440 - val_loss: 0.7040 - val_accuracy: 0.8364\n",
            "Epoch 4/5\n",
            "24/24 [==============================] - 16s 704ms/step - loss: 0.6044 - accuracy: 0.8720 - val_loss: 0.6132 - val_accuracy: 0.8488\n",
            "Epoch 5/5\n",
            "24/24 [==============================] - 24s 1s/step - loss: 0.5104 - accuracy: 0.8880 - val_loss: 0.5584 - val_accuracy: 0.8596\n"
          ]
        }
      ]
    },
    {
      "cell_type": "code",
      "source": [
        "df(efficientnet_v1_history.history).plot(figsize=(10, 7))"
      ],
      "metadata": {
        "colab": {
          "base_uri": "https://localhost:8080/",
          "height": 445
        },
        "id": "bOUT5bsavhW5",
        "outputId": "192f8a42-d420-4c70-bdfd-51b4e4771b3f"
      },
      "execution_count": null,
      "outputs": [
        {
          "output_type": "execute_result",
          "data": {
            "text/plain": [
              "<matplotlib.axes._subplots.AxesSubplot at 0x7effa8ea5c10>"
            ]
          },
          "metadata": {},
          "execution_count": 17
        },
        {
          "output_type": "display_data",
          "data": {
            "text/plain": [
              "<Figure size 720x504 with 1 Axes>"
            ],
            "image/png": "[encoded data removed]"
          },
          "metadata": {
            "needs_background": "light"
          }
        }
      ]
    },
    {
      "cell_type": "code",
      "source": [
        "efficientnet_v1_model.summary()"
      ],
      "metadata": {
        "colab": {
          "base_uri": "https://localhost:8080/"
        },
        "id": "8tvCcmNiv0Or",
        "outputId": "a98ca4f8-d8c0-45b2-ef79-affe49e0f527"
      },
      "execution_count": null,
      "outputs": [
        {
          "output_type": "stream",
          "name": "stdout",
          "text": [
            "Model: \"sequential_1\"\n",
            "_________________________________________________________________\n",
            " Layer (type)                Output Shape              Param #   \n",
            "=================================================================\n",
            " feature_extraction_layer (K  (None, 1280)             4049564   \n",
            " erasLayer)                                                      \n",
            "                                                                 \n",
            " output_layer (Dense)        (None, 10)                12810     \n",
            "                                                                 \n",
            "=================================================================\n",
            "Total params: 4,062,374\n",
            "Trainable params: 12,810\n",
            "Non-trainable params: 4,049,564\n",
            "_________________________________________________________________\n"
          ]
        }
      ]
    },
    {
      "cell_type": "code",
      "source": [
        "# Create model with efficientnet v2\n",
        "efficientnet_v2_model = create_model(model_url=efficientnet_v2_url,\n",
        "                                     num_classes=train_data_10_percent.num_classes)\n",
        "\n",
        "# Compile model\n",
        "efficientnet_v2_model.compile(optimizer=tf.keras.optimizers.Adam(),\n",
        "                              loss=\"categorical_crossentropy\",\n",
        "                              metrics=[\"accuracy\"])\n",
        "\n",
        "# Fit model\n",
        "efficientnet_v2_history = efficientnet_v2_model.fit(train_data_10_percent,\n",
        "                                                    epochs=5,\n",
        "                                                    steps_per_epoch=len(train_data_10_percent),\n",
        "                                                    validation_data=test_data_10_percent,\n",
        "                                                    validation_steps=len(test_data_10_percent),\n",
        "                                                    callbacks=[create_tensorboard_callback(dir_name=\"tensorflow_hub\",\n",
        "                                                                                           experiment_name=\"efficientnetB2\")])"
      ],
      "metadata": {
        "colab": {
          "base_uri": "https://localhost:8080/"
        },
        "id": "eHcmSnTEtfk6",
        "outputId": "d10b79c1-6111-4552-8707-d848594e1cae"
      },
      "execution_count": null,
      "outputs": [
        {
          "output_type": "stream",
          "name": "stdout",
          "text": [
            "Saving tensorboard logfiles to tensorflow_hub/efficientnetB2/20220901-062747\n",
            "Epoch 1/5\n",
            "24/24 [==============================] - 23s 695ms/step - loss: 1.8578 - accuracy: 0.4267 - val_loss: 1.4266 - val_accuracy: 0.6508\n",
            "Epoch 2/5\n",
            "24/24 [==============================] - 26s 1s/step - loss: 1.2493 - accuracy: 0.6840 - val_loss: 1.0863 - val_accuracy: 0.7072\n",
            "Epoch 3/5\n",
            "24/24 [==============================] - 17s 735ms/step - loss: 0.9806 - accuracy: 0.7560 - val_loss: 0.9317 - val_accuracy: 0.7332\n",
            "Epoch 4/5\n",
            "24/24 [==============================] - 18s 776ms/step - loss: 0.8246 - accuracy: 0.7987 - val_loss: 0.8432 - val_accuracy: 0.7568\n",
            "Epoch 5/5\n",
            "24/24 [==============================] - 16s 700ms/step - loss: 0.7214 - accuracy: 0.8320 - val_loss: 0.7880 - val_accuracy: 0.7644\n"
          ]
        }
      ]
    },
    {
      "cell_type": "code",
      "source": [
        "df(efficientnet_v2_history.history).plot(figsize=(10, 7))"
      ],
      "metadata": {
        "colab": {
          "base_uri": "https://localhost:8080/",
          "height": 445
        },
        "id": "wXzyyJIVvC0I",
        "outputId": "ade3f49e-8600-446f-9b01-e242b58066f2"
      },
      "execution_count": null,
      "outputs": [
        {
          "output_type": "execute_result",
          "data": {
            "text/plain": [
              "<matplotlib.axes._subplots.AxesSubplot at 0x7effa8df4990>"
            ]
          },
          "metadata": {},
          "execution_count": 19
        },
        {
          "output_type": "display_data",
          "data": {
            "text/plain": [
              "<Figure size 720x504 with 1 Axes>"
            ],
            "image/png": "[encoded data removed]"
          },
          "metadata": {
            "needs_background": "light"
          }
        }
      ]
    },
    {
      "cell_type": "code",
      "source": [
        "efficientnet_v2_model.summary()"
      ],
      "metadata": {
        "colab": {
          "base_uri": "https://localhost:8080/"
        },
        "id": "hvd6EYI1vT3R",
        "outputId": "add95e6c-6b95-46df-d25f-c0e92eb5f12b"
      },
      "execution_count": null,
      "outputs": [
        {
          "output_type": "stream",
          "name": "stdout",
          "text": [
            "Model: \"sequential_2\"\n",
            "_________________________________________________________________\n",
            " Layer (type)                Output Shape              Param #   \n",
            "=================================================================\n",
            " feature_extraction_layer (K  (None, 1280)             5919312   \n",
            " erasLayer)                                                      \n",
            "                                                                 \n",
            " output_layer (Dense)        (None, 10)                12810     \n",
            "                                                                 \n",
            "=================================================================\n",
            "Total params: 5,932,122\n",
            "Trainable params: 12,810\n",
            "Non-trainable params: 5,919,312\n",
            "_________________________________________________________________\n"
          ]
        }
      ]
    },
    {
      "cell_type": "code",
      "source": [
        "# Upload data to tensorboard\n",
        "!tensorboard dev upload --logdir ./tensorflow_hub/ \\\n",
        "  --name \"EfficientNet V1 VS V2 VS ResNet50V2\" \\\n",
        "  --description \"Comparing 3 different TensorFlow Hub feature extraction models using 10% training images\" \\\n",
        "  --one_shot # one_shot makes sure the command exits as soon as the logs are uploaded"
      ],
      "metadata": {
        "colab": {
          "base_uri": "https://localhost:8080/"
        },
        "id": "NuncC1vaw_9b",
        "outputId": "9680e1c7-14c6-4531-b47b-b4b1ed5c05f3"
      },
      "execution_count": null,
      "outputs": [
        {
          "output_type": "stream",
          "name": "stdout",
          "text": [
            "\n",
            "***** TensorBoard Uploader *****\n",
            "\n",
            "This will upload your TensorBoard logs to https://tensorboard.dev/ from\n",
            "the following directory:\n",
            "\n",
            "./tensorflow_hub/\n",
            "\n",
            "This TensorBoard will be visible to everyone. Do not upload sensitive\n",
            "data.\n",
            "\n",
            "Your use of this service is subject to Google's Terms of Service\n",
            "<https://policies.google.com/terms> and Privacy Policy\n",
            "<https://policies.google.com/privacy>, and TensorBoard.dev's Terms of Service\n",
            "<https://tensorboard.dev/policy/terms/>.\n",
            "\n",
            "This notice will not be shown again while you are logged into the uploader.\n",
            "To log out, run `tensorboard dev auth revoke`.\n",
            "\n",
            "Continue? (yes/NO) yes\n",
            "\n",
            "Please visit this URL to authorize this application: https://accounts.google.com/o/oauth2/auth?response_type=code&client_id=373649185512-8v619h5kft38l4456nm2dj4ubeqsrvh6.apps.googleusercontent.com&redirect_uri=urn%3Aietf%3Awg%3Aoauth%3A2.0%3Aoob&scope=openid+https%3A%2F%2Fwww.googleapis.com%2Fauth%2Fuserinfo.email&state=Puley8ouf2RxSQaAA1aQkqC8F9vXUN&prompt=consent&access_type=offline\n",
            "Enter the authorization code: 4/1AdQt8qhVd9dn_RHjCgW9I1SrWhuVFft6gyBUZsTJSVTVGbIhRYNZsmAjbg0\n",
            "\n",
            "\n",
            "New experiment created. View your TensorBoard at: https://tensorboard.dev/experiment/wlDi5ytRRwatw8cv8B245A/\n",
            "\n",
            "\u001b[1m[2022-09-01T06:41:15]\u001b[0m Started scanning logdir.\n",
            "\u001b[1m[2022-09-01T06:41:19]\u001b[0m Total uploaded: 90 scalars, 0 tensors, 3 binary objects (8.2 MB)\n",
            "\u001b[1m[2022-09-01T06:41:19]\u001b[0m Done scanning logdir.\n",
            "\n",
            "\n",
            "Done. View your TensorBoard at https://tensorboard.dev/experiment/wlDi5ytRRwatw8cv8B245A/\n"
          ]
        }
      ]
    },
    {
      "cell_type": "code",
      "source": [
        "# Check experiments saved on the tensorboard\n",
        "!tensorboard dev list"
      ],
      "metadata": {
        "colab": {
          "base_uri": "https://localhost:8080/"
        },
        "id": "kvlK0KYny9y5",
        "outputId": "9ea1aa99-660f-4eaf-95f9-8b4b5a41e37b"
      },
      "execution_count": null,
      "outputs": [
        {
          "output_type": "stream",
          "name": "stdout",
          "text": [
            "https://tensorboard.dev/experiment/wlDi5ytRRwatw8cv8B245A/\n",
            "\tName                 EfficientNet V1 VS V2 VS ResNet50V2\n",
            "\tDescription          Comparing 3 different TensorFlow Hub feature extraction models using 10% training images\n",
            "\tId                   wlDi5ytRRwatw8cv8B245A\n",
            "\tCreated              2022-09-01 06:41:15 (4 minutes ago)\n",
            "\tUpdated              2022-09-01 06:41:19 (4 minutes ago)\n",
            "\tRuns                 6\n",
            "\tTags                 5\n",
            "\tScalars              90\n",
            "\tTensor bytes         0\n",
            "\tBinary object bytes  8573290\n",
            "Total: 1 experiment(s)\n"
          ]
        }
      ]
    },
    {
      "cell_type": "code",
      "source": [
        "# Delete experiment (because TensorBoard.dev is public)\n",
        "!tensorboard dev delete --experiment_id wlDi5ytRRwatw8cv8B245A"
      ],
      "metadata": {
        "colab": {
          "base_uri": "https://localhost:8080/"
        },
        "id": "flRB9BSAzCkJ",
        "outputId": "5d6273ad-b740-4a5d-fefa-74ff5f256f03"
      },
      "execution_count": null,
      "outputs": [
        {
          "output_type": "stream",
          "name": "stdout",
          "text": [
            "Deleted experiment wlDi5ytRRwatw8cv8B245A.\n"
          ]
        }
      ]
    },
    {
      "cell_type": "code",
      "source": [
        "# Check if experiment exists\n",
        "!tensorboard dev list"
      ],
      "metadata": {
        "colab": {
          "base_uri": "https://localhost:8080/"
        },
        "id": "bAA4vpFAzolA",
        "outputId": "47aa20d6-ebbb-4a9a-f63d-d1083221d168"
      },
      "execution_count": null,
      "outputs": [
        {
          "output_type": "stream",
          "name": "stdout",
          "text": [
            "No experiments. Use `tensorboard dev upload` to get started.\n"
          ]
        }
      ]
    },
    {
      "cell_type": "code",
      "source": [],
      "metadata": {
        "id": "_pkaYzIDzwue"
      },
      "execution_count": null,
      "outputs": []
    }
  ]
}